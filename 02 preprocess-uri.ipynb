{
 "cells": [
  {
   "cell_type": "code",
   "execution_count": 17,
   "metadata": {},
   "outputs": [],
   "source": [
    "import pandas as pd\n",
    "import numpy as np\n",
    "from urllib.parse import urlparse, unquote\n",
    "from preprocessor import classify_features"
   ]
  },
  {
   "cell_type": "code",
   "execution_count": 18,
   "metadata": {},
   "outputs": [],
   "source": [
    "data = pd.read_csv(\"Full-Dataset/method_na_removed.csv\")"
   ]
  },
  {
   "cell_type": "code",
   "execution_count": 19,
   "metadata": {},
   "outputs": [],
   "source": [
    "urlData = pd.Series(\n",
    "    map(urlparse, data[\"http.request.full_uri\"])\n",
    ")\n"
   ]
  },
  {
   "cell_type": "code",
   "execution_count": 20,
   "metadata": {},
   "outputs": [],
   "source": [
    "def query_params_to_dict(series:pd.Series, to_json=False):\n",
    "    import json\n",
    "    return pd.Series([\n",
    "        (\n",
    "            json.dumps(dict((ob.split(\"=\")[0], unquote(\"=\".join(ob.split(\"=\")[1:])))for ob in _.split(\"&\")), indent=2, ensure_ascii=True) \n",
    "            if to_json else\n",
    "            dict((ob.split(\"=\")[0], unquote(\"=\".join(ob.split(\"=\")[1:])))for ob in _.split(\"&\")) \n",
    "        )\n",
    "            for _ in series\n",
    "    ])"
   ]
  },
  {
   "cell_type": "code",
   "execution_count": 21,
   "metadata": {},
   "outputs": [],
   "source": [
    "urlDatas = pd.DataFrame({\n",
    "    key: [getattr(row,key) for row in urlData]\n",
    "    for key in [\"scheme\", \"netloc\", \"path\", \"params\", \"query\", \"fragment\",]\n",
    "})"
   ]
  },
  {
   "cell_type": "code",
   "execution_count": 22,
   "metadata": {},
   "outputs": [],
   "source": [
    "data = pd.DataFrame({\n",
    "    **{col: data[col] for col in data.columns if col},\n",
    "    **{col: urlDatas[col] for col in urlDatas.columns},\n",
    "})"
   ]
  },
  {
   "cell_type": "code",
   "execution_count": 23,
   "metadata": {},
   "outputs": [
    {
     "name": "stdout",
     "output_type": "stream",
     "text": [
      "scheme : unique value column\n",
      "netloc : unique value column\n",
      "params : unique value column\n",
      "fragment : unique value column\n"
     ]
    }
   ],
   "source": [
    "used_col, unused_col = classify_features(data, [\"Attack_type\"], debug=True)"
   ]
  },
  {
   "cell_type": "code",
   "execution_count": 24,
   "metadata": {},
   "outputs": [
    {
     "name": "stdout",
     "output_type": "stream",
     "text": [
      "scheme = 1\n",
      "fragment = 1\n",
      "netloc = 1\n",
      "params = 1\n"
     ]
    }
   ],
   "source": [
    "for c in unused_col:\n",
    "    print(f\"{c} = {data[c].unique().shape[0]}\")"
   ]
  },
  {
   "cell_type": "code",
   "execution_count": 25,
   "metadata": {},
   "outputs": [],
   "source": [
    "data = data.drop(unused_col, axis=\"columns\")"
   ]
  },
  {
   "cell_type": "code",
   "execution_count": 26,
   "metadata": {},
   "outputs": [],
   "source": [
    "data[\"query\"] = query_params_to_dict(data[\"query\"])"
   ]
  },
  {
   "cell_type": "code",
   "execution_count": 27,
   "metadata": {},
   "outputs": [
    {
     "data": {
      "text/html": [
       "<div>\n",
       "<style scoped>\n",
       "    .dataframe tbody tr th:only-of-type {\n",
       "        vertical-align: middle;\n",
       "    }\n",
       "\n",
       "    .dataframe tbody tr th {\n",
       "        vertical-align: top;\n",
       "    }\n",
       "\n",
       "    .dataframe thead th {\n",
       "        text-align: right;\n",
       "    }\n",
       "</style>\n",
       "<table border=\"1\" class=\"dataframe\">\n",
       "  <thead>\n",
       "    <tr style=\"text-align: right;\">\n",
       "      <th></th>\n",
       "      <th>frame.time</th>\n",
       "      <th>http.request.full_uri</th>\n",
       "      <th>tcp.checksum</th>\n",
       "      <th>tcp.options</th>\n",
       "      <th>tcp.payload</th>\n",
       "      <th>Attack_type</th>\n",
       "      <th>GET</th>\n",
       "      <th>POST</th>\n",
       "      <th>TRACE</th>\n",
       "      <th>HTTP/1.0</th>\n",
       "      <th>HTTP/1.1</th>\n",
       "      <th>path</th>\n",
       "      <th>query</th>\n",
       "    </tr>\n",
       "  </thead>\n",
       "  <tbody>\n",
       "    <tr>\n",
       "      <th>0</th>\n",
       "      <td>2021 21:35:18.571627000</td>\n",
       "      <td>http://192.168.0.128/DVWA/vulnerabilities/sqli...</td>\n",
       "      <td>0x000023bd</td>\n",
       "      <td>0101080a9b1e676b9eabb8af</td>\n",
       "      <td>474554202f445657412f76756c6e65726162696c697469...</td>\n",
       "      <td>SQL_injection</td>\n",
       "      <td>True</td>\n",
       "      <td>False</td>\n",
       "      <td>False</td>\n",
       "      <td>False</td>\n",
       "      <td>True</td>\n",
       "      <td>/DVWA/vulnerabilities/sqli_blind/</td>\n",
       "      <td>{\\n  \"id\": \"2\",\\n  \"Submit\": \"Submitid=53\"\\n}</td>\n",
       "    </tr>\n",
       "    <tr>\n",
       "      <th>1</th>\n",
       "      <td>2021 21:35:18.642567000</td>\n",
       "      <td>http://192.168.0.128/DVWA/vulnerabilities/sqli...</td>\n",
       "      <td>0x0000d49b</td>\n",
       "      <td>0101080a9b1e67b49eabfa17</td>\n",
       "      <td>474554202f445657412f76756c6e65726162696c697469...</td>\n",
       "      <td>SQL_injection</td>\n",
       "      <td>True</td>\n",
       "      <td>False</td>\n",
       "      <td>False</td>\n",
       "      <td>False</td>\n",
       "      <td>True</td>\n",
       "      <td>/DVWA/vulnerabilities/sqli_blind/</td>\n",
       "      <td>{\\n  \"id\": \"2'.\\\")(,.(.(\",\\n  \"Submit\": \"Submi...</td>\n",
       "    </tr>\n",
       "    <tr>\n",
       "      <th>2</th>\n",
       "      <td>2021 21:35:18.691481000</td>\n",
       "      <td>http://192.168.0.128/DVWA/vulnerabilities/sqli...</td>\n",
       "      <td>0x00004a68</td>\n",
       "      <td>0101080a9b1e67e59eabfa5c</td>\n",
       "      <td>474554202f445657412f76756c6e65726162696c697469...</td>\n",
       "      <td>SQL_injection</td>\n",
       "      <td>True</td>\n",
       "      <td>False</td>\n",
       "      <td>False</td>\n",
       "      <td>False</td>\n",
       "      <td>True</td>\n",
       "      <td>/DVWA/vulnerabilities/sqli_blind/</td>\n",
       "      <td>{\\n  \"id\": \"2'FHBrxG&lt;'\\\"&gt;BjxRQk\",\\n  \"Submit\":...</td>\n",
       "    </tr>\n",
       "    <tr>\n",
       "      <th>3</th>\n",
       "      <td>2021 21:35:18.816771000</td>\n",
       "      <td>http://192.168.0.128/DVWA/vulnerabilities/sqli...</td>\n",
       "      <td>0x00002fad</td>\n",
       "      <td>0101080a9b1e68629eabfaac</td>\n",
       "      <td>474554202f445657412f76756c6e65726162696c697469...</td>\n",
       "      <td>SQL_injection</td>\n",
       "      <td>True</td>\n",
       "      <td>False</td>\n",
       "      <td>False</td>\n",
       "      <td>False</td>\n",
       "      <td>True</td>\n",
       "      <td>/DVWA/vulnerabilities/sqli_blind/</td>\n",
       "      <td>{\\n  \"id\": \"2) AND 9522=9017 AND (5824=5824\",\\...</td>\n",
       "    </tr>\n",
       "    <tr>\n",
       "      <th>4</th>\n",
       "      <td>2021 21:35:18.868654000</td>\n",
       "      <td>http://192.168.0.128/DVWA/vulnerabilities/sqli...</td>\n",
       "      <td>0x000045cd</td>\n",
       "      <td>0101080a9b1e68969eabfb0f</td>\n",
       "      <td>474554202f445657412f76756c6e65726162696c697469...</td>\n",
       "      <td>SQL_injection</td>\n",
       "      <td>True</td>\n",
       "      <td>False</td>\n",
       "      <td>False</td>\n",
       "      <td>False</td>\n",
       "      <td>True</td>\n",
       "      <td>/DVWA/vulnerabilities/sqli_blind/</td>\n",
       "      <td>{\\n  \"id\": \"2 AND 5107=2126\",\\n  \"Submit\": \"Su...</td>\n",
       "    </tr>\n",
       "  </tbody>\n",
       "</table>\n",
       "</div>"
      ],
      "text/plain": [
       "                  frame.time   \n",
       "0   2021 21:35:18.571627000   \\\n",
       "1   2021 21:35:18.642567000    \n",
       "2   2021 21:35:18.691481000    \n",
       "3   2021 21:35:18.816771000    \n",
       "4   2021 21:35:18.868654000    \n",
       "\n",
       "                               http.request.full_uri tcp.checksum   \n",
       "0  http://192.168.0.128/DVWA/vulnerabilities/sqli...   0x000023bd  \\\n",
       "1  http://192.168.0.128/DVWA/vulnerabilities/sqli...   0x0000d49b   \n",
       "2  http://192.168.0.128/DVWA/vulnerabilities/sqli...   0x00004a68   \n",
       "3  http://192.168.0.128/DVWA/vulnerabilities/sqli...   0x00002fad   \n",
       "4  http://192.168.0.128/DVWA/vulnerabilities/sqli...   0x000045cd   \n",
       "\n",
       "                tcp.options   \n",
       "0  0101080a9b1e676b9eabb8af  \\\n",
       "1  0101080a9b1e67b49eabfa17   \n",
       "2  0101080a9b1e67e59eabfa5c   \n",
       "3  0101080a9b1e68629eabfaac   \n",
       "4  0101080a9b1e68969eabfb0f   \n",
       "\n",
       "                                         tcp.payload    Attack_type   GET   \n",
       "0  474554202f445657412f76756c6e65726162696c697469...  SQL_injection  True  \\\n",
       "1  474554202f445657412f76756c6e65726162696c697469...  SQL_injection  True   \n",
       "2  474554202f445657412f76756c6e65726162696c697469...  SQL_injection  True   \n",
       "3  474554202f445657412f76756c6e65726162696c697469...  SQL_injection  True   \n",
       "4  474554202f445657412f76756c6e65726162696c697469...  SQL_injection  True   \n",
       "\n",
       "    POST  TRACE  HTTP/1.0  HTTP/1.1                               path   \n",
       "0  False  False     False      True  /DVWA/vulnerabilities/sqli_blind/  \\\n",
       "1  False  False     False      True  /DVWA/vulnerabilities/sqli_blind/   \n",
       "2  False  False     False      True  /DVWA/vulnerabilities/sqli_blind/   \n",
       "3  False  False     False      True  /DVWA/vulnerabilities/sqli_blind/   \n",
       "4  False  False     False      True  /DVWA/vulnerabilities/sqli_blind/   \n",
       "\n",
       "                                               query  \n",
       "0      {\\n  \"id\": \"2\",\\n  \"Submit\": \"Submitid=53\"\\n}  \n",
       "1  {\\n  \"id\": \"2'.\\\")(,.(.(\",\\n  \"Submit\": \"Submi...  \n",
       "2  {\\n  \"id\": \"2'FHBrxG<'\\\">BjxRQk\",\\n  \"Submit\":...  \n",
       "3  {\\n  \"id\": \"2) AND 9522=9017 AND (5824=5824\",\\...  \n",
       "4  {\\n  \"id\": \"2 AND 5107=2126\",\\n  \"Submit\": \"Su...  "
      ]
     },
     "execution_count": 27,
     "metadata": {},
     "output_type": "execute_result"
    }
   ],
   "source": [
    "data.head()\n",
    "# Needing RNN or CNN to process the \"query\" of the dataset.\n",
    "# path must be deleted in training, because this dataset's uri.path has the data of \"which attack has been used\"."
   ]
  },
  {
   "cell_type": "code",
   "execution_count": 28,
   "metadata": {},
   "outputs": [],
   "source": [
    "data.to_csv(\"Full-Dataset/processed/url_encoded_dataset.csv\", sep=\",\")"
   ]
  },
  {
   "cell_type": "code",
   "execution_count": null,
   "metadata": {},
   "outputs": [],
   "source": []
  }
 ],
 "metadata": {
  "kernelspec": {
   "display_name": "myvenv",
   "language": "python",
   "name": "python3"
  },
  "language_info": {
   "codemirror_mode": {
    "name": "ipython",
    "version": 3
   },
   "file_extension": ".py",
   "mimetype": "text/x-python",
   "name": "python",
   "nbconvert_exporter": "python",
   "pygments_lexer": "ipython3",
   "version": "3.11.0"
  },
  "orig_nbformat": 4
 },
 "nbformat": 4,
 "nbformat_minor": 2
}
