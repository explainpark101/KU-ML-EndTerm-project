{
 "cells": [
  {
   "cell_type": "code",
   "execution_count": 27,
   "metadata": {},
   "outputs": [],
   "source": [
    "import pandas as pd\n",
    "import numpy as np\n",
    "from preprocessor import classify_features"
   ]
  },
  {
   "cell_type": "code",
   "execution_count": 28,
   "metadata": {},
   "outputs": [],
   "source": [
    "# Variables\n",
    "USED_COLUMNS = []\n",
    "UNUSED_COLUMNS = []"
   ]
  },
  {
   "cell_type": "code",
   "execution_count": 29,
   "metadata": {},
   "outputs": [
    {
     "name": "stderr",
     "output_type": "stream",
     "text": [
      "C:\\Users\\ParkJaehyung\\AppData\\Local\\Temp\\ipykernel_13124\\3507781778.py:2: DtypeWarning: Columns (3,6) have mixed types. Specify dtype option on import or set low_memory=False.\n",
      "  Password_Attack = pd.read_csv(\"Full-Dataset/Password_attack.csv\")\n"
     ]
    },
    {
     "name": "stdout",
     "output_type": "stream",
     "text": [
      "Password_Attack loaded!\n",
      "SQL_injection loaded!\n",
      "XSS_attack loaded!\n",
      "Uploading_attack loaded!\n"
     ]
    }
   ],
   "source": [
    "# \n",
    "Password_Attack = pd.read_csv(\"Full-Dataset/Password_attack.csv\")\n",
    "print(\"Password_Attack loaded!\")\n",
    "SQL_injection = pd.read_csv(\"Full-Dataset/SQL_injection_attack.csv\")\n",
    "print(\"SQL_injection loaded!\")\n",
    "XSS_attack = pd.read_csv(\"Full-Dataset/XSS_attack.csv\")\n",
    "print(\"XSS_attack loaded!\")\n",
    "Uploading_attack = pd.read_csv(\"Full-Dataset/Uploading_attack.csv\")\n",
    "print(\"Uploading_attack loaded!\")"
   ]
  },
  {
   "cell_type": "code",
   "execution_count": 30,
   "metadata": {},
   "outputs": [],
   "source": [
    "common_columns = []\n",
    "uncommon_columns = []\n",
    "for col in set([*SQL_injection.columns, *XSS_attack.columns, *Uploading_attack.columns, *Password_Attack.columns]):\n",
    "    if col in SQL_injection.columns and col in XSS_attack.columns and col in Uploading_attack.columns and col in Password_Attack.columns:\n",
    "        common_columns.append(col)\n",
    "    else: \n",
    "        uncommon_columns.append(col)"
   ]
  },
  {
   "cell_type": "code",
   "execution_count": 31,
   "metadata": {},
   "outputs": [
    {
     "data": {
      "text/plain": [
       "[]"
      ]
     },
     "execution_count": 31,
     "metadata": {},
     "output_type": "execute_result"
    }
   ],
   "source": [
    "uncommon_columns"
   ]
  },
  {
   "cell_type": "code",
   "execution_count": 32,
   "metadata": {},
   "outputs": [
    {
     "data": {
      "text/plain": [
       "['tcp.flags',\n",
       " 'udp.port',\n",
       " 'ip.src_host',\n",
       " 'http.file_data',\n",
       " 'mqtt.protoname',\n",
       " 'dns.retransmission',\n",
       " 'tcp.connection.fin',\n",
       " 'arp.opcode',\n",
       " 'dns.retransmit_request_in',\n",
       " 'mbtcp.trans_id',\n",
       " 'http.request.method',\n",
       " 'tcp.seq',\n",
       " 'mqtt.msgtype',\n",
       " 'tcp.dstport',\n",
       " 'http.response',\n",
       " 'http.referer',\n",
       " 'dns.qry.name',\n",
       " 'dns.qry.name.len',\n",
       " 'mbtcp.len',\n",
       " 'mqtt.proto_len',\n",
       " 'Attack_type',\n",
       " 'mqtt.conflag.cleansess',\n",
       " 'mqtt.topic',\n",
       " 'dns.qry.qu',\n",
       " 'tcp.ack_raw',\n",
       " 'tcp.connection.syn',\n",
       " 'tcp.connection.rst',\n",
       " 'dns.retransmit_request',\n",
       " 'http.request.uri.query',\n",
       " 'http.request.version',\n",
       " 'tcp.srcport',\n",
       " 'icmp.transmit_timestamp',\n",
       " 'tcp.options',\n",
       " 'dns.qry.type',\n",
       " 'ip.dst_host',\n",
       " 'Attack_label',\n",
       " 'udp.time_delta',\n",
       " 'mqtt.conack.flags',\n",
       " 'tcp.connection.synack',\n",
       " 'tcp.checksum',\n",
       " 'arp.src.proto_ipv4',\n",
       " 'mqtt.hdrflags',\n",
       " 'mqtt.topic_len',\n",
       " 'arp.dst.proto_ipv4',\n",
       " 'tcp.payload',\n",
       " 'arp.hw.size',\n",
       " 'icmp.unused',\n",
       " 'http.request.full_uri',\n",
       " 'icmp.checksum',\n",
       " 'mqtt.conflags',\n",
       " 'http.tls_port',\n",
       " 'udp.stream',\n",
       " 'mqtt.len',\n",
       " 'mqtt.msg_decoded_as',\n",
       " 'mqtt.msg',\n",
       " 'mbtcp.unit_id',\n",
       " 'tcp.len',\n",
       " 'frame.time',\n",
       " 'mqtt.ver',\n",
       " 'tcp.flags.ack',\n",
       " 'http.content_length',\n",
       " 'icmp.seq_le',\n",
       " 'tcp.ack']"
      ]
     },
     "execution_count": 32,
     "metadata": {},
     "output_type": "execute_result"
    }
   ],
   "source": [
    "common_columns"
   ]
  },
  {
   "cell_type": "code",
   "execution_count": 33,
   "metadata": {},
   "outputs": [
    {
     "data": {
      "text/plain": [
       "True"
      ]
     },
     "execution_count": 33,
     "metadata": {},
     "output_type": "execute_result"
    }
   ],
   "source": [
    "pd.concat([SQL_injection[\"tcp.connection.syn\"], XSS_attack[\"tcp.connection.syn\"]]).unique().shape[0] > 1"
   ]
  },
  {
   "cell_type": "code",
   "execution_count": 34,
   "metadata": {},
   "outputs": [
    {
     "ename": "TypeError",
     "evalue": "set expected at most 1 argument, got 31",
     "output_type": "error",
     "traceback": [
      "\u001b[1;31m---------------------------------------------------------------------------\u001b[0m",
      "\u001b[1;31mTypeError\u001b[0m                                 Traceback (most recent call last)",
      "Cell \u001b[1;32mIn[34], line 10\u001b[0m\n\u001b[0;32m      1\u001b[0m \u001b[39m# cols = list(Password_Attack.columns)\u001b[39;00m\n\u001b[0;32m      2\u001b[0m \u001b[39m# unused = []\u001b[39;00m\n\u001b[0;32m      3\u001b[0m \u001b[39m# for col in common_columns:\u001b[39;00m\n\u001b[1;32m   (...)\u001b[0m\n\u001b[0;32m      7\u001b[0m \u001b[39m#         cols.remove(col)\u001b[39;00m\n\u001b[0;32m      8\u001b[0m \u001b[39m#         unused.append(col)\u001b[39;00m\n\u001b[1;32m---> 10\u001b[0m cols, unused \u001b[39m=\u001b[39m classify_features(pd\u001b[39m.\u001b[39;49mconcat([SQL_injection, XSS_attack, Uploading_attack, Password_Attack]), [\u001b[39m\"\u001b[39;49m\u001b[39mAttack_type\u001b[39;49m\u001b[39m\"\u001b[39;49m])\n",
      "File \u001b[1;32mc:\\Users\\ParkJaehyung\\OneDrive\\바탕 화면\\고려대학교\\2학년 1학기\\기계학습개론\\endterm\\preprocessor\\__init__.py:18\u001b[0m, in \u001b[0;36mclassify_features\u001b[1;34m(dataFrame, no_remove, exception, debug)\u001b[0m\n\u001b[0;32m     16\u001b[0m             used\u001b[39m.\u001b[39mremove(col)\n\u001b[0;32m     17\u001b[0m             unused\u001b[39m.\u001b[39mappend(col)\n\u001b[1;32m---> 18\u001b[0m \u001b[39mreturn\u001b[39;00m \u001b[39mlist\u001b[39m(\u001b[39mset\u001b[39;49m(\u001b[39m*\u001b[39;49mused)), \u001b[39mlist\u001b[39m(\u001b[39mset\u001b[39m(\u001b[39m*\u001b[39munused))\n",
      "\u001b[1;31mTypeError\u001b[0m: set expected at most 1 argument, got 31"
     ]
    }
   ],
   "source": [
    "# cols = list(Password_Attack.columns)\n",
    "# unused = []\n",
    "# for col in common_columns:\n",
    "#     series = pd.concat([SQL_injection[col], XSS_attack[col], Uploading_attack[col], Password_Attack[col]])\n",
    "#     unique_datas = series.unique()\n",
    "#     if unique_datas.shape[0] <= 1:\n",
    "#         cols.remove(col)\n",
    "#         unused.append(col)\n",
    "\n",
    "cols, unused = classify_features(pd.concat([SQL_injection, XSS_attack, Uploading_attack, Password_Attack]), [\"Attack_type\"])"
   ]
  },
  {
   "cell_type": "code",
   "execution_count": null,
   "metadata": {},
   "outputs": [
    {
     "data": {
      "text/plain": [
       "(['frame.time',\n",
       "  'ip.src_host',\n",
       "  'ip.dst_host',\n",
       "  'http.request.method',\n",
       "  'http.request.full_uri',\n",
       "  'http.request.version',\n",
       "  'tcp.checksum',\n",
       "  'tcp.flags',\n",
       "  'tcp.options',\n",
       "  'tcp.payload',\n",
       "  'Attack_type'],\n",
       " ['arp.dst.proto_ipv4',\n",
       "  'arp.opcode',\n",
       "  'arp.hw.size',\n",
       "  'arp.src.proto_ipv4',\n",
       "  'icmp.checksum',\n",
       "  'icmp.seq_le',\n",
       "  'icmp.transmit_timestamp',\n",
       "  'icmp.unused',\n",
       "  'http.file_data',\n",
       "  'http.content_length',\n",
       "  'http.request.uri.query',\n",
       "  'http.referer',\n",
       "  'http.response',\n",
       "  'http.tls_port',\n",
       "  'tcp.ack',\n",
       "  'tcp.ack_raw',\n",
       "  'tcp.connection.fin',\n",
       "  'tcp.connection.rst',\n",
       "  'tcp.connection.syn',\n",
       "  'tcp.connection.synack',\n",
       "  'tcp.dstport',\n",
       "  'tcp.flags.ack',\n",
       "  'tcp.len',\n",
       "  'tcp.seq',\n",
       "  'tcp.srcport',\n",
       "  'udp.port',\n",
       "  'udp.stream',\n",
       "  'udp.time_delta',\n",
       "  'dns.qry.name',\n",
       "  'dns.qry.name.len',\n",
       "  'dns.qry.qu',\n",
       "  'dns.qry.type',\n",
       "  'dns.retransmission',\n",
       "  'dns.retransmit_request',\n",
       "  'dns.retransmit_request_in',\n",
       "  'mqtt.conack.flags',\n",
       "  'mqtt.conflag.cleansess',\n",
       "  'mqtt.conflags',\n",
       "  'mqtt.hdrflags',\n",
       "  'mqtt.len',\n",
       "  'mqtt.msg_decoded_as',\n",
       "  'mqtt.msg',\n",
       "  'mqtt.msgtype',\n",
       "  'mqtt.proto_len',\n",
       "  'mqtt.protoname',\n",
       "  'mqtt.topic',\n",
       "  'mqtt.topic_len',\n",
       "  'mqtt.ver',\n",
       "  'mbtcp.len',\n",
       "  'mbtcp.trans_id',\n",
       "  'mbtcp.unit_id',\n",
       "  'Attack_label'])"
      ]
     },
     "execution_count": 51,
     "metadata": {},
     "output_type": "execute_result"
    }
   ],
   "source": [
    "cols, unused"
   ]
  },
  {
   "cell_type": "code",
   "execution_count": null,
   "metadata": {},
   "outputs": [
    {
     "data": {
      "text/plain": [
       "(['frame.time',\n",
       "  'ip.src_host',\n",
       "  'ip.dst_host',\n",
       "  'http.request.method',\n",
       "  'http.request.full_uri',\n",
       "  'http.request.version',\n",
       "  'tcp.checksum',\n",
       "  'tcp.flags',\n",
       "  'tcp.options',\n",
       "  'tcp.payload',\n",
       "  'Attack_type'],\n",
       " ['arp.dst.proto_ipv4',\n",
       "  'arp.opcode',\n",
       "  'arp.hw.size',\n",
       "  'arp.src.proto_ipv4',\n",
       "  'icmp.checksum',\n",
       "  'icmp.seq_le',\n",
       "  'icmp.transmit_timestamp',\n",
       "  'icmp.unused',\n",
       "  'http.file_data',\n",
       "  'http.content_length',\n",
       "  'http.request.uri.query',\n",
       "  'http.referer',\n",
       "  'http.response',\n",
       "  'http.tls_port',\n",
       "  'tcp.ack',\n",
       "  'tcp.ack_raw',\n",
       "  'tcp.connection.fin',\n",
       "  'tcp.connection.rst',\n",
       "  'tcp.connection.syn',\n",
       "  'tcp.connection.synack',\n",
       "  'tcp.dstport',\n",
       "  'tcp.flags.ack',\n",
       "  'tcp.len',\n",
       "  'tcp.seq',\n",
       "  'tcp.srcport',\n",
       "  'udp.port',\n",
       "  'udp.stream',\n",
       "  'udp.time_delta',\n",
       "  'dns.qry.name',\n",
       "  'dns.qry.name.len',\n",
       "  'dns.qry.qu',\n",
       "  'dns.qry.type',\n",
       "  'dns.retransmission',\n",
       "  'dns.retransmit_request',\n",
       "  'dns.retransmit_request_in',\n",
       "  'mqtt.conack.flags',\n",
       "  'mqtt.conflag.cleansess',\n",
       "  'mqtt.conflags',\n",
       "  'mqtt.hdrflags',\n",
       "  'mqtt.len',\n",
       "  'mqtt.msg_decoded_as',\n",
       "  'mqtt.msg',\n",
       "  'mqtt.msgtype',\n",
       "  'mqtt.proto_len',\n",
       "  'mqtt.protoname',\n",
       "  'mqtt.topic',\n",
       "  'mqtt.topic_len',\n",
       "  'mqtt.ver',\n",
       "  'mbtcp.len',\n",
       "  'mbtcp.trans_id',\n",
       "  'mbtcp.unit_id',\n",
       "  'Attack_label'])"
      ]
     },
     "execution_count": 52,
     "metadata": {},
     "output_type": "execute_result"
    }
   ],
   "source": [
    "USED_COLUMNS = cols\n",
    "UNUSED_COLUMNS = [*UNUSED_COLUMNS, *unused]\n",
    "cols, unused\n"
   ]
  },
  {
   "cell_type": "code",
   "execution_count": null,
   "metadata": {},
   "outputs": [],
   "source": [
    "import json\n",
    "with open(\"column_data.txt\", \"w\") as f:\n",
    "    f.write(json.dumps({\"Used_Columns\":cols, \"Unused_Columns\":unused}, indent=2))"
   ]
  },
  {
   "cell_type": "code",
   "execution_count": null,
   "metadata": {},
   "outputs": [],
   "source": [
    "concat_datas = pd.DataFrame({col:pd.concat([SQL_injection[col], XSS_attack[col], Uploading_attack[col], Password_Attack[col]]) for col in cols})"
   ]
  },
  {
   "cell_type": "code",
   "execution_count": null,
   "metadata": {},
   "outputs": [],
   "source": [
    "processed_data = concat_datas"
   ]
  },
  {
   "cell_type": "code",
   "execution_count": null,
   "metadata": {},
   "outputs": [],
   "source": [
    "import json\n",
    "with open(\"unique_values.txt\", \"w\") as f:\n",
    "    data = {}\n",
    "    for col in cols:\n",
    "        count = processed_data[col].unique().shape[0]\n",
    "        unique_cols = list(processed_data[col].unique()) if count < 10 else list(processed_data[col].unique()[:10])\n",
    "        data[col] = {\n",
    "            \"count\": count,\n",
    "            \"unique_columns\": unique_cols\n",
    "        }\n",
    "    f.write(json.dumps(data, indent=2, ensure_ascii=True))"
   ]
  },
  {
   "cell_type": "code",
   "execution_count": null,
   "metadata": {},
   "outputs": [],
   "source": [
    "temp = processed_data.loc[(processed_data[\"http.request.method\"] != '0')]"
   ]
  },
  {
   "cell_type": "code",
   "execution_count": null,
   "metadata": {},
   "outputs": [],
   "source": [
    "temp_cols = temp.columns\n",
    "used = list(temp_cols[:])\n",
    "unused = []\n",
    "for col in temp.columns:\n",
    "    if not all(temp[col]) or temp[col].unique().shape[0] <= 1 and col != 'Attack_type':\n",
    "        used.remove(col)\n",
    "        unused.append(col)"
   ]
  },
  {
   "cell_type": "code",
   "execution_count": null,
   "metadata": {},
   "outputs": [
    {
     "data": {
      "text/plain": [
       "(['frame.time',\n",
       "  'http.request.method',\n",
       "  'http.request.full_uri',\n",
       "  'http.request.version',\n",
       "  'tcp.checksum',\n",
       "  'tcp.options',\n",
       "  'tcp.payload',\n",
       "  'Attack_type'],\n",
       " ['ip.src_host', 'ip.dst_host', 'tcp.flags'])"
      ]
     },
     "execution_count": 59,
     "metadata": {},
     "output_type": "execute_result"
    }
   ],
   "source": [
    "USED_COLUMNS = used\n",
    "UNUSED_COLUMNS = set([*UNUSED_COLUMNS, *unused])\n",
    "used, unused"
   ]
  },
  {
   "cell_type": "code",
   "execution_count": null,
   "metadata": {},
   "outputs": [],
   "source": [
    "import json\n",
    "with open(\"column_data.txt\", \"w\") as f:\n",
    "    f.write(json.dumps({\"USED_COLUMNS\":USED_COLUMNS, \"UNUSED_COLUMNS\":list(UNUSED_COLUMNS)}, indent=2, ensure_ascii=True))    "
   ]
  },
  {
   "cell_type": "code",
   "execution_count": null,
   "metadata": {},
   "outputs": [],
   "source": [
    "temp = temp.drop(unused, axis=\"columns\")"
   ]
  },
  {
   "cell_type": "code",
   "execution_count": null,
   "metadata": {},
   "outputs": [
    {
     "data": {
      "text/html": [
       "<div>\n",
       "<style scoped>\n",
       "    .dataframe tbody tr th:only-of-type {\n",
       "        vertical-align: middle;\n",
       "    }\n",
       "\n",
       "    .dataframe tbody tr th {\n",
       "        vertical-align: top;\n",
       "    }\n",
       "\n",
       "    .dataframe thead th {\n",
       "        text-align: right;\n",
       "    }\n",
       "</style>\n",
       "<table border=\"1\" class=\"dataframe\">\n",
       "  <thead>\n",
       "    <tr style=\"text-align: right;\">\n",
       "      <th></th>\n",
       "      <th>frame.time</th>\n",
       "      <th>http.request.method</th>\n",
       "      <th>http.request.full_uri</th>\n",
       "      <th>http.request.version</th>\n",
       "      <th>tcp.checksum</th>\n",
       "      <th>tcp.options</th>\n",
       "      <th>tcp.payload</th>\n",
       "      <th>Attack_type</th>\n",
       "    </tr>\n",
       "  </thead>\n",
       "  <tbody>\n",
       "    <tr>\n",
       "      <th>2</th>\n",
       "      <td>2021 21:35:18.571627000</td>\n",
       "      <td>GET</td>\n",
       "      <td>http://192.168.0.128/DVWA/vulnerabilities/sqli...</td>\n",
       "      <td>HTTP/1.1</td>\n",
       "      <td>0x000023bd</td>\n",
       "      <td>0101080a9b1e676b9eabb8af</td>\n",
       "      <td>474554202f445657412f76756c6e65726162696c697469...</td>\n",
       "      <td>SQL_injection</td>\n",
       "    </tr>\n",
       "    <tr>\n",
       "      <th>15</th>\n",
       "      <td>2021 21:35:18.642567000</td>\n",
       "      <td>GET</td>\n",
       "      <td>http://192.168.0.128/DVWA/vulnerabilities/sqli...</td>\n",
       "      <td>HTTP/1.1</td>\n",
       "      <td>0x0000d49b</td>\n",
       "      <td>0101080a9b1e67b49eabfa17</td>\n",
       "      <td>474554202f445657412f76756c6e65726162696c697469...</td>\n",
       "      <td>SQL_injection</td>\n",
       "    </tr>\n",
       "    <tr>\n",
       "      <th>24</th>\n",
       "      <td>2021 21:35:18.691481000</td>\n",
       "      <td>GET</td>\n",
       "      <td>http://192.168.0.128/DVWA/vulnerabilities/sqli...</td>\n",
       "      <td>HTTP/1.1</td>\n",
       "      <td>0x00004a68</td>\n",
       "      <td>0101080a9b1e67e59eabfa5c</td>\n",
       "      <td>474554202f445657412f76756c6e65726162696c697469...</td>\n",
       "      <td>SQL_injection</td>\n",
       "    </tr>\n",
       "    <tr>\n",
       "      <th>35</th>\n",
       "      <td>2021 21:35:18.816771000</td>\n",
       "      <td>GET</td>\n",
       "      <td>http://192.168.0.128/DVWA/vulnerabilities/sqli...</td>\n",
       "      <td>HTTP/1.1</td>\n",
       "      <td>0x00002fad</td>\n",
       "      <td>0101080a9b1e68629eabfaac</td>\n",
       "      <td>474554202f445657412f76756c6e65726162696c697469...</td>\n",
       "      <td>SQL_injection</td>\n",
       "    </tr>\n",
       "    <tr>\n",
       "      <th>46</th>\n",
       "      <td>2021 21:35:18.868654000</td>\n",
       "      <td>GET</td>\n",
       "      <td>http://192.168.0.128/DVWA/vulnerabilities/sqli...</td>\n",
       "      <td>HTTP/1.1</td>\n",
       "      <td>0x000045cd</td>\n",
       "      <td>0101080a9b1e68969eabfb0f</td>\n",
       "      <td>474554202f445657412f76756c6e65726162696c697469...</td>\n",
       "      <td>SQL_injection</td>\n",
       "    </tr>\n",
       "    <tr>\n",
       "      <th>57</th>\n",
       "      <td>2021 21:35:18.928287000</td>\n",
       "      <td>GET</td>\n",
       "      <td>http://192.168.0.128/DVWA/vulnerabilities/sqli...</td>\n",
       "      <td>HTTP/1.1</td>\n",
       "      <td>0x0000cb97</td>\n",
       "      <td>0101080a9b1e68d29eabfb47</td>\n",
       "      <td>474554202f445657412f76756c6e65726162696c697469...</td>\n",
       "      <td>SQL_injection</td>\n",
       "    </tr>\n",
       "    <tr>\n",
       "      <th>68</th>\n",
       "      <td>2021 21:35:18.980536000</td>\n",
       "      <td>GET</td>\n",
       "      <td>http://192.168.0.128/DVWA/vulnerabilities/sqli...</td>\n",
       "      <td>HTTP/1.1</td>\n",
       "      <td>0x0000725d</td>\n",
       "      <td>0101080a9b1e69069eabfb99</td>\n",
       "      <td>474554202f445657412f76756c6e65726162696c697469...</td>\n",
       "      <td>SQL_injection</td>\n",
       "    </tr>\n",
       "    <tr>\n",
       "      <th>79</th>\n",
       "      <td>2021 21:35:19.029708000</td>\n",
       "      <td>GET</td>\n",
       "      <td>http://192.168.0.128/DVWA/vulnerabilities/sqli...</td>\n",
       "      <td>HTTP/1.1</td>\n",
       "      <td>0x00002a4e</td>\n",
       "      <td>0101080a9b1e69389eabfbca</td>\n",
       "      <td>474554202f445657412f76756c6e65726162696c697469...</td>\n",
       "      <td>SQL_injection</td>\n",
       "    </tr>\n",
       "    <tr>\n",
       "      <th>90</th>\n",
       "      <td>2021 21:35:19.083980000</td>\n",
       "      <td>GET</td>\n",
       "      <td>http://192.168.0.128/DVWA/vulnerabilities/sqli...</td>\n",
       "      <td>HTTP/1.1</td>\n",
       "      <td>0x000076b2</td>\n",
       "      <td>0101080a9b1e696e9eabfbfd</td>\n",
       "      <td>474554202f445657412f76756c6e65726162696c697469...</td>\n",
       "      <td>SQL_injection</td>\n",
       "    </tr>\n",
       "    <tr>\n",
       "      <th>100</th>\n",
       "      <td>2021 21:35:19.130055000</td>\n",
       "      <td>GET</td>\n",
       "      <td>http://192.168.0.128/DVWA/vulnerabilities/sqli...</td>\n",
       "      <td>HTTP/1.1</td>\n",
       "      <td>0x0000c7ca</td>\n",
       "      <td>0101080a9b1e699c9eabfc35</td>\n",
       "      <td>474554202f445657412f76756c6e65726162696c697469...</td>\n",
       "      <td>SQL_injection</td>\n",
       "    </tr>\n",
       "    <tr>\n",
       "      <th>114</th>\n",
       "      <td>2021 21:35:19.175060000</td>\n",
       "      <td>GET</td>\n",
       "      <td>http://192.168.0.128/DVWA/vulnerabilities/sqli...</td>\n",
       "      <td>HTTP/1.1</td>\n",
       "      <td>0x00002321</td>\n",
       "      <td>0101080a9b1e69c99eabfc49</td>\n",
       "      <td>474554202f445657412f76756c6e65726162696c697469...</td>\n",
       "      <td>SQL_injection</td>\n",
       "    </tr>\n",
       "    <tr>\n",
       "      <th>124</th>\n",
       "      <td>2021 21:35:19.225709000</td>\n",
       "      <td>GET</td>\n",
       "      <td>http://192.168.0.128/DVWA/vulnerabilities/sqli...</td>\n",
       "      <td>HTTP/1.1</td>\n",
       "      <td>0x0000ebf5</td>\n",
       "      <td>0101080a9b1e69fc9eabfc96</td>\n",
       "      <td>474554202f445657412f76756c6e65726162696c697469...</td>\n",
       "      <td>SQL_injection</td>\n",
       "    </tr>\n",
       "    <tr>\n",
       "      <th>137</th>\n",
       "      <td>2021 21:35:19.283532000</td>\n",
       "      <td>GET</td>\n",
       "      <td>http://192.168.0.128/DVWA/vulnerabilities/sqli...</td>\n",
       "      <td>HTTP/1.1</td>\n",
       "      <td>0x0000de58</td>\n",
       "      <td>0101080a9b1e6a359eabfca8</td>\n",
       "      <td>474554202f445657412f76756c6e65726162696c697469...</td>\n",
       "      <td>SQL_injection</td>\n",
       "    </tr>\n",
       "    <tr>\n",
       "      <th>147</th>\n",
       "      <td>2021 21:35:19.326205000</td>\n",
       "      <td>GET</td>\n",
       "      <td>http://192.168.0.128/DVWA/vulnerabilities/sqli...</td>\n",
       "      <td>HTTP/1.1</td>\n",
       "      <td>0x0000db5b</td>\n",
       "      <td>0101080a9b1e6a5f9eabfcfa</td>\n",
       "      <td>474554202f445657412f76756c6e65726162696c697469...</td>\n",
       "      <td>SQL_injection</td>\n",
       "    </tr>\n",
       "    <tr>\n",
       "      <th>160</th>\n",
       "      <td>2021 21:35:19.370498000</td>\n",
       "      <td>GET</td>\n",
       "      <td>http://192.168.0.128/DVWA/vulnerabilities/sqli...</td>\n",
       "      <td>HTTP/1.1</td>\n",
       "      <td>0x0000fde8</td>\n",
       "      <td>0101080a9b1e6a8c9eabfd0a</td>\n",
       "      <td>474554202f445657412f76756c6e65726162696c697469...</td>\n",
       "      <td>SQL_injection</td>\n",
       "    </tr>\n",
       "  </tbody>\n",
       "</table>\n",
       "</div>"
      ],
      "text/plain": [
       "                    frame.time http.request.method   \n",
       "2     2021 21:35:18.571627000                  GET  \\\n",
       "15    2021 21:35:18.642567000                  GET   \n",
       "24    2021 21:35:18.691481000                  GET   \n",
       "35    2021 21:35:18.816771000                  GET   \n",
       "46    2021 21:35:18.868654000                  GET   \n",
       "57    2021 21:35:18.928287000                  GET   \n",
       "68    2021 21:35:18.980536000                  GET   \n",
       "79    2021 21:35:19.029708000                  GET   \n",
       "90    2021 21:35:19.083980000                  GET   \n",
       "100   2021 21:35:19.130055000                  GET   \n",
       "114   2021 21:35:19.175060000                  GET   \n",
       "124   2021 21:35:19.225709000                  GET   \n",
       "137   2021 21:35:19.283532000                  GET   \n",
       "147   2021 21:35:19.326205000                  GET   \n",
       "160   2021 21:35:19.370498000                  GET   \n",
       "\n",
       "                                 http.request.full_uri http.request.version   \n",
       "2    http://192.168.0.128/DVWA/vulnerabilities/sqli...             HTTP/1.1  \\\n",
       "15   http://192.168.0.128/DVWA/vulnerabilities/sqli...             HTTP/1.1   \n",
       "24   http://192.168.0.128/DVWA/vulnerabilities/sqli...             HTTP/1.1   \n",
       "35   http://192.168.0.128/DVWA/vulnerabilities/sqli...             HTTP/1.1   \n",
       "46   http://192.168.0.128/DVWA/vulnerabilities/sqli...             HTTP/1.1   \n",
       "57   http://192.168.0.128/DVWA/vulnerabilities/sqli...             HTTP/1.1   \n",
       "68   http://192.168.0.128/DVWA/vulnerabilities/sqli...             HTTP/1.1   \n",
       "79   http://192.168.0.128/DVWA/vulnerabilities/sqli...             HTTP/1.1   \n",
       "90   http://192.168.0.128/DVWA/vulnerabilities/sqli...             HTTP/1.1   \n",
       "100  http://192.168.0.128/DVWA/vulnerabilities/sqli...             HTTP/1.1   \n",
       "114  http://192.168.0.128/DVWA/vulnerabilities/sqli...             HTTP/1.1   \n",
       "124  http://192.168.0.128/DVWA/vulnerabilities/sqli...             HTTP/1.1   \n",
       "137  http://192.168.0.128/DVWA/vulnerabilities/sqli...             HTTP/1.1   \n",
       "147  http://192.168.0.128/DVWA/vulnerabilities/sqli...             HTTP/1.1   \n",
       "160  http://192.168.0.128/DVWA/vulnerabilities/sqli...             HTTP/1.1   \n",
       "\n",
       "    tcp.checksum               tcp.options   \n",
       "2     0x000023bd  0101080a9b1e676b9eabb8af  \\\n",
       "15    0x0000d49b  0101080a9b1e67b49eabfa17   \n",
       "24    0x00004a68  0101080a9b1e67e59eabfa5c   \n",
       "35    0x00002fad  0101080a9b1e68629eabfaac   \n",
       "46    0x000045cd  0101080a9b1e68969eabfb0f   \n",
       "57    0x0000cb97  0101080a9b1e68d29eabfb47   \n",
       "68    0x0000725d  0101080a9b1e69069eabfb99   \n",
       "79    0x00002a4e  0101080a9b1e69389eabfbca   \n",
       "90    0x000076b2  0101080a9b1e696e9eabfbfd   \n",
       "100   0x0000c7ca  0101080a9b1e699c9eabfc35   \n",
       "114   0x00002321  0101080a9b1e69c99eabfc49   \n",
       "124   0x0000ebf5  0101080a9b1e69fc9eabfc96   \n",
       "137   0x0000de58  0101080a9b1e6a359eabfca8   \n",
       "147   0x0000db5b  0101080a9b1e6a5f9eabfcfa   \n",
       "160   0x0000fde8  0101080a9b1e6a8c9eabfd0a   \n",
       "\n",
       "                                           tcp.payload    Attack_type  \n",
       "2    474554202f445657412f76756c6e65726162696c697469...  SQL_injection  \n",
       "15   474554202f445657412f76756c6e65726162696c697469...  SQL_injection  \n",
       "24   474554202f445657412f76756c6e65726162696c697469...  SQL_injection  \n",
       "35   474554202f445657412f76756c6e65726162696c697469...  SQL_injection  \n",
       "46   474554202f445657412f76756c6e65726162696c697469...  SQL_injection  \n",
       "57   474554202f445657412f76756c6e65726162696c697469...  SQL_injection  \n",
       "68   474554202f445657412f76756c6e65726162696c697469...  SQL_injection  \n",
       "79   474554202f445657412f76756c6e65726162696c697469...  SQL_injection  \n",
       "90   474554202f445657412f76756c6e65726162696c697469...  SQL_injection  \n",
       "100  474554202f445657412f76756c6e65726162696c697469...  SQL_injection  \n",
       "114  474554202f445657412f76756c6e65726162696c697469...  SQL_injection  \n",
       "124  474554202f445657412f76756c6e65726162696c697469...  SQL_injection  \n",
       "137  474554202f445657412f76756c6e65726162696c697469...  SQL_injection  \n",
       "147  474554202f445657412f76756c6e65726162696c697469...  SQL_injection  \n",
       "160  474554202f445657412f76756c6e65726162696c697469...  SQL_injection  "
      ]
     },
     "execution_count": 62,
     "metadata": {},
     "output_type": "execute_result"
    }
   ],
   "source": [
    "temp[:15]"
   ]
  },
  {
   "cell_type": "code",
   "execution_count": null,
   "metadata": {},
   "outputs": [],
   "source": [
    "Encodings = {\n",
    "    key: pd.get_dummies(temp[key])\n",
    "        for key in [\"http.request.method\", \"http.request.version\"]\n",
    "}"
   ]
  },
  {
   "cell_type": "code",
   "execution_count": null,
   "metadata": {},
   "outputs": [
    {
     "data": {
      "text/plain": [
       "['http.request.method', 'http.request.version']"
      ]
     },
     "execution_count": 64,
     "metadata": {},
     "output_type": "execute_result"
    }
   ],
   "source": [
    "list(Encodings.keys())"
   ]
  },
  {
   "cell_type": "code",
   "execution_count": null,
   "metadata": {},
   "outputs": [],
   "source": [
    "temp = pd.DataFrame({\n",
    "    **{col: temp[col]\n",
    "        for col in (_ for _ in temp.columns if _ not in Encodings.keys())},\n",
    "    **{col: Encodings[key][col]\n",
    "                for key in Encodings.keys()\n",
    "                    for col in Encodings[key].columns \n",
    "    }, \n",
    "})"
   ]
  },
  {
   "cell_type": "code",
   "execution_count": null,
   "metadata": {},
   "outputs": [
    {
     "data": {
      "text/html": [
       "<div>\n",
       "<style scoped>\n",
       "    .dataframe tbody tr th:only-of-type {\n",
       "        vertical-align: middle;\n",
       "    }\n",
       "\n",
       "    .dataframe tbody tr th {\n",
       "        vertical-align: top;\n",
       "    }\n",
       "\n",
       "    .dataframe thead th {\n",
       "        text-align: right;\n",
       "    }\n",
       "</style>\n",
       "<table border=\"1\" class=\"dataframe\">\n",
       "  <thead>\n",
       "    <tr style=\"text-align: right;\">\n",
       "      <th></th>\n",
       "      <th>frame.time</th>\n",
       "      <th>http.request.full_uri</th>\n",
       "      <th>tcp.checksum</th>\n",
       "      <th>tcp.options</th>\n",
       "      <th>tcp.payload</th>\n",
       "      <th>Attack_type</th>\n",
       "      <th>GET</th>\n",
       "      <th>POST</th>\n",
       "      <th>TRACE</th>\n",
       "      <th>HTTP/1.0</th>\n",
       "      <th>HTTP/1.1</th>\n",
       "    </tr>\n",
       "  </thead>\n",
       "  <tbody>\n",
       "    <tr>\n",
       "      <th>2</th>\n",
       "      <td>2021 21:35:18.571627000</td>\n",
       "      <td>http://192.168.0.128/DVWA/vulnerabilities/sqli...</td>\n",
       "      <td>0x000023bd</td>\n",
       "      <td>0101080a9b1e676b9eabb8af</td>\n",
       "      <td>474554202f445657412f76756c6e65726162696c697469...</td>\n",
       "      <td>SQL_injection</td>\n",
       "      <td>True</td>\n",
       "      <td>False</td>\n",
       "      <td>False</td>\n",
       "      <td>False</td>\n",
       "      <td>True</td>\n",
       "    </tr>\n",
       "    <tr>\n",
       "      <th>15</th>\n",
       "      <td>2021 21:35:18.642567000</td>\n",
       "      <td>http://192.168.0.128/DVWA/vulnerabilities/sqli...</td>\n",
       "      <td>0x0000d49b</td>\n",
       "      <td>0101080a9b1e67b49eabfa17</td>\n",
       "      <td>474554202f445657412f76756c6e65726162696c697469...</td>\n",
       "      <td>SQL_injection</td>\n",
       "      <td>True</td>\n",
       "      <td>False</td>\n",
       "      <td>False</td>\n",
       "      <td>False</td>\n",
       "      <td>True</td>\n",
       "    </tr>\n",
       "    <tr>\n",
       "      <th>24</th>\n",
       "      <td>2021 21:35:18.691481000</td>\n",
       "      <td>http://192.168.0.128/DVWA/vulnerabilities/sqli...</td>\n",
       "      <td>0x00004a68</td>\n",
       "      <td>0101080a9b1e67e59eabfa5c</td>\n",
       "      <td>474554202f445657412f76756c6e65726162696c697469...</td>\n",
       "      <td>SQL_injection</td>\n",
       "      <td>True</td>\n",
       "      <td>False</td>\n",
       "      <td>False</td>\n",
       "      <td>False</td>\n",
       "      <td>True</td>\n",
       "    </tr>\n",
       "    <tr>\n",
       "      <th>35</th>\n",
       "      <td>2021 21:35:18.816771000</td>\n",
       "      <td>http://192.168.0.128/DVWA/vulnerabilities/sqli...</td>\n",
       "      <td>0x00002fad</td>\n",
       "      <td>0101080a9b1e68629eabfaac</td>\n",
       "      <td>474554202f445657412f76756c6e65726162696c697469...</td>\n",
       "      <td>SQL_injection</td>\n",
       "      <td>True</td>\n",
       "      <td>False</td>\n",
       "      <td>False</td>\n",
       "      <td>False</td>\n",
       "      <td>True</td>\n",
       "    </tr>\n",
       "    <tr>\n",
       "      <th>46</th>\n",
       "      <td>2021 21:35:18.868654000</td>\n",
       "      <td>http://192.168.0.128/DVWA/vulnerabilities/sqli...</td>\n",
       "      <td>0x000045cd</td>\n",
       "      <td>0101080a9b1e68969eabfb0f</td>\n",
       "      <td>474554202f445657412f76756c6e65726162696c697469...</td>\n",
       "      <td>SQL_injection</td>\n",
       "      <td>True</td>\n",
       "      <td>False</td>\n",
       "      <td>False</td>\n",
       "      <td>False</td>\n",
       "      <td>True</td>\n",
       "    </tr>\n",
       "  </tbody>\n",
       "</table>\n",
       "</div>"
      ],
      "text/plain": [
       "                   frame.time   \n",
       "2    2021 21:35:18.571627000   \\\n",
       "15   2021 21:35:18.642567000    \n",
       "24   2021 21:35:18.691481000    \n",
       "35   2021 21:35:18.816771000    \n",
       "46   2021 21:35:18.868654000    \n",
       "\n",
       "                                http.request.full_uri tcp.checksum   \n",
       "2   http://192.168.0.128/DVWA/vulnerabilities/sqli...   0x000023bd  \\\n",
       "15  http://192.168.0.128/DVWA/vulnerabilities/sqli...   0x0000d49b   \n",
       "24  http://192.168.0.128/DVWA/vulnerabilities/sqli...   0x00004a68   \n",
       "35  http://192.168.0.128/DVWA/vulnerabilities/sqli...   0x00002fad   \n",
       "46  http://192.168.0.128/DVWA/vulnerabilities/sqli...   0x000045cd   \n",
       "\n",
       "                 tcp.options   \n",
       "2   0101080a9b1e676b9eabb8af  \\\n",
       "15  0101080a9b1e67b49eabfa17   \n",
       "24  0101080a9b1e67e59eabfa5c   \n",
       "35  0101080a9b1e68629eabfaac   \n",
       "46  0101080a9b1e68969eabfb0f   \n",
       "\n",
       "                                          tcp.payload    Attack_type   GET   \n",
       "2   474554202f445657412f76756c6e65726162696c697469...  SQL_injection  True  \\\n",
       "15  474554202f445657412f76756c6e65726162696c697469...  SQL_injection  True   \n",
       "24  474554202f445657412f76756c6e65726162696c697469...  SQL_injection  True   \n",
       "35  474554202f445657412f76756c6e65726162696c697469...  SQL_injection  True   \n",
       "46  474554202f445657412f76756c6e65726162696c697469...  SQL_injection  True   \n",
       "\n",
       "     POST  TRACE  HTTP/1.0  HTTP/1.1  \n",
       "2   False  False     False      True  \n",
       "15  False  False     False      True  \n",
       "24  False  False     False      True  \n",
       "35  False  False     False      True  \n",
       "46  False  False     False      True  "
      ]
     },
     "execution_count": 66,
     "metadata": {},
     "output_type": "execute_result"
    }
   ],
   "source": [
    "temp.head()"
   ]
  },
  {
   "cell_type": "code",
   "execution_count": null,
   "metadata": {},
   "outputs": [],
   "source": [
    "temp.to_csv(\"Full-Dataset/method_na_removed.csv\", sep=\",\", index=False)"
   ]
  },
  {
   "cell_type": "code",
   "execution_count": null,
   "metadata": {},
   "outputs": [
    {
     "data": {
      "text/plain": [
       "frame.time               78697\n",
       "http.request.full_uri    78697\n",
       "tcp.checksum             78697\n",
       "tcp.options              78697\n",
       "tcp.payload              78697\n",
       "Attack_type              78697\n",
       "GET                      78697\n",
       "POST                     78697\n",
       "TRACE                    78697\n",
       "HTTP/1.0                 78697\n",
       "HTTP/1.1                 78697\n",
       "dtype: int64"
      ]
     },
     "execution_count": 68,
     "metadata": {},
     "output_type": "execute_result"
    }
   ],
   "source": [
    "temp.count()"
   ]
  },
  {
   "cell_type": "code",
   "execution_count": null,
   "metadata": {},
   "outputs": [
    {
     "data": {
      "text/plain": [
       "Attack_type\n",
       "Password         71035\n",
       "SQL_injection     4379\n",
       "Uploading         1907\n",
       "XSS               1376\n",
       "Name: Attack_type, dtype: int64"
      ]
     },
     "execution_count": 69,
     "metadata": {},
     "output_type": "execute_result"
    }
   ],
   "source": [
    "temp.groupby([\"Attack_type\"])[\"Attack_type\"].count()"
   ]
  },
  {
   "cell_type": "code",
   "execution_count": null,
   "metadata": {},
   "outputs": [
    {
     "data": {
      "text/plain": [
       "Index(['frame.time', 'http.request.full_uri', 'tcp.checksum', 'tcp.options',\n",
       "       'tcp.payload', 'Attack_type', 'GET', 'POST', 'TRACE', 'HTTP/1.0',\n",
       "       'HTTP/1.1'],\n",
       "      dtype='object')"
      ]
     },
     "execution_count": 70,
     "metadata": {},
     "output_type": "execute_result"
    }
   ],
   "source": [
    "temp.columns"
   ]
  },
  {
   "cell_type": "code",
   "execution_count": null,
   "metadata": {},
   "outputs": [],
   "source": [
    "processed_data.to_csv(\"Full-Dataset/Concat_Processed_Data.csv\", sep=\",\")"
   ]
  }
 ],
 "metadata": {
  "kernelspec": {
   "display_name": "Python 3 (ipykernel)",
   "language": "python",
   "name": "python3"
  },
  "language_info": {
   "codemirror_mode": {
    "name": "ipython",
    "version": 3
   },
   "file_extension": ".py",
   "mimetype": "text/x-python",
   "name": "python",
   "nbconvert_exporter": "python",
   "pygments_lexer": "ipython3",
   "version": "3.11.0"
  }
 },
 "nbformat": 4,
 "nbformat_minor": 2
}
