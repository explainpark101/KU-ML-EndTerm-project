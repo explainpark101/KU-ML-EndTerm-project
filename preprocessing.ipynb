{
 "cells": [
  {
   "cell_type": "code",
   "execution_count": 1,
   "metadata": {},
   "outputs": [],
   "source": [
    "import pandas as pd\n",
    "import numpy as np"
   ]
  },
  {
   "cell_type": "code",
   "execution_count": 75,
   "metadata": {},
   "outputs": [],
   "source": [
    "# Variables\n",
    "USED_COLUMNS = []\n",
    "UNUSED_COLUMNS = []"
   ]
  },
  {
   "cell_type": "code",
   "execution_count": 2,
   "metadata": {},
   "outputs": [
    {
     "name": "stderr",
     "output_type": "stream",
     "text": [
      "C:\\Users\\ParkJaehyung\\AppData\\Local\\Temp\\ipykernel_12332\\1384700295.py:2: DtypeWarning: Columns (3,6) have mixed types. Specify dtype option on import or set low_memory=False.\n",
      "  Password_Attack = pd.read_csv(\"Password_attack.csv\")\n"
     ]
    },
    {
     "name": "stdout",
     "output_type": "stream",
     "text": [
      "Password_Attack loaded!\n",
      "SQL_injection loaded!\n",
      "XSS_attack loaded!\n",
      "Uploading_attack loaded!\n"
     ]
    }
   ],
   "source": [
    "# \n",
    "Password_Attack = pd.read_csv(\"Password_attack.csv\")\n",
    "print(\"Password_Attack loaded!\")\n",
    "SQL_injection = pd.read_csv(\"SQL_injection_attack.csv\")\n",
    "print(\"SQL_injection loaded!\")\n",
    "XSS_attack = pd.read_csv(\"XSS_attack.csv\")\n",
    "print(\"XSS_attack loaded!\")\n",
    "Uploading_attack = pd.read_csv(\"Uploading_attack.csv\")\n",
    "print(\"Uploading_attack loaded!\")"
   ]
  },
  {
   "cell_type": "code",
   "execution_count": 3,
   "metadata": {},
   "outputs": [],
   "source": [
    "common_columns = []\n",
    "uncommon_columns = []\n",
    "for col in set([*SQL_injection.columns, *XSS_attack.columns, *Uploading_attack.columns, *Password_Attack.columns]):\n",
    "    if col in SQL_injection.columns and col in XSS_attack.columns and col in Uploading_attack.columns and col in Password_Attack.columns:\n",
    "        common_columns.append(col)\n",
    "    else: \n",
    "        uncommon_columns.append(col)"
   ]
  },
  {
   "cell_type": "code",
   "execution_count": 4,
   "metadata": {},
   "outputs": [
    {
     "data": {
      "text/plain": [
       "[]"
      ]
     },
     "execution_count": 4,
     "metadata": {},
     "output_type": "execute_result"
    }
   ],
   "source": [
    "uncommon_columns"
   ]
  },
  {
   "cell_type": "code",
   "execution_count": 27,
   "metadata": {},
   "outputs": [
    {
     "data": {
      "text/plain": [
       "['tcp.connection.syn',\n",
       " 'dns.qry.name.len',\n",
       " 'http.request.uri.query',\n",
       " 'ip.src_host',\n",
       " 'dns.retransmit_request',\n",
       " 'mqtt.msgtype',\n",
       " 'frame.time',\n",
       " 'tcp.flags.ack',\n",
       " 'mqtt.topic_len',\n",
       " 'icmp.seq_le',\n",
       " 'arp.hw.size',\n",
       " 'mqtt.msg',\n",
       " 'dns.qry.qu',\n",
       " 'icmp.unused',\n",
       " 'http.tls_port',\n",
       " 'dns.retransmit_request_in',\n",
       " 'tcp.srcport',\n",
       " 'mqtt.len',\n",
       " 'tcp.checksum',\n",
       " 'Attack_label',\n",
       " 'mqtt.proto_len',\n",
       " 'http.response',\n",
       " 'Attack_type',\n",
       " 'tcp.flags',\n",
       " 'dns.qry.name',\n",
       " 'dns.retransmission',\n",
       " 'arp.dst.proto_ipv4',\n",
       " 'arp.src.proto_ipv4',\n",
       " 'tcp.connection.rst',\n",
       " 'mbtcp.len',\n",
       " 'mqtt.ver',\n",
       " 'tcp.len',\n",
       " 'ip.dst_host',\n",
       " 'udp.port',\n",
       " 'mqtt.conack.flags',\n",
       " 'http.file_data',\n",
       " 'mqtt.msg_decoded_as',\n",
       " 'mbtcp.unit_id',\n",
       " 'tcp.ack_raw',\n",
       " 'icmp.transmit_timestamp',\n",
       " 'tcp.options',\n",
       " 'mqtt.protoname',\n",
       " 'mqtt.conflags',\n",
       " 'mqtt.topic',\n",
       " 'tcp.payload',\n",
       " 'arp.opcode',\n",
       " 'icmp.checksum',\n",
       " 'dns.qry.type',\n",
       " 'tcp.connection.synack',\n",
       " 'http.request.version',\n",
       " 'mqtt.conflag.cleansess',\n",
       " 'udp.time_delta',\n",
       " 'tcp.ack',\n",
       " 'tcp.dstport',\n",
       " 'http.request.method',\n",
       " 'udp.stream',\n",
       " 'mbtcp.trans_id',\n",
       " 'tcp.seq',\n",
       " 'http.request.full_uri',\n",
       " 'http.content_length',\n",
       " 'http.referer',\n",
       " 'mqtt.hdrflags',\n",
       " 'tcp.connection.fin']"
      ]
     },
     "execution_count": 27,
     "metadata": {},
     "output_type": "execute_result"
    }
   ],
   "source": [
    "common_columns"
   ]
  },
  {
   "cell_type": "code",
   "execution_count": 5,
   "metadata": {},
   "outputs": [
    {
     "data": {
      "text/plain": [
       "True"
      ]
     },
     "execution_count": 5,
     "metadata": {},
     "output_type": "execute_result"
    }
   ],
   "source": [
    "pd.concat([SQL_injection[\"tcp.connection.syn\"], XSS_attack[\"tcp.connection.syn\"]]).unique().shape[0] > 1"
   ]
  },
  {
   "cell_type": "code",
   "execution_count": 72,
   "metadata": {},
   "outputs": [],
   "source": [
    "cols = list(Password_Attack.columns)\n",
    "unused = []\n",
    "for col in common_columns:\n",
    "    series = pd.concat([SQL_injection[col], XSS_attack[col], Uploading_attack[col], Password_Attack[col]])\n",
    "    unique_datas = series.unique()\n",
    "    if unique_datas.shape[0] <= 1:\n",
    "        cols.remove(col)\n",
    "        unused.append(col)"
   ]
  },
  {
   "cell_type": "code",
   "execution_count": 76,
   "metadata": {},
   "outputs": [
    {
     "data": {
      "text/plain": [
       "(['frame.time',\n",
       "  'ip.src_host',\n",
       "  'ip.dst_host',\n",
       "  'arp.dst.proto_ipv4',\n",
       "  'arp.opcode',\n",
       "  'arp.hw.size',\n",
       "  'arp.src.proto_ipv4',\n",
       "  'http.file_data',\n",
       "  'http.content_length',\n",
       "  'http.request.uri.query',\n",
       "  'http.request.method',\n",
       "  'http.referer',\n",
       "  'http.request.full_uri',\n",
       "  'http.request.version',\n",
       "  'http.response',\n",
       "  'tcp.ack',\n",
       "  'tcp.ack_raw',\n",
       "  'tcp.checksum',\n",
       "  'tcp.connection.fin',\n",
       "  'tcp.connection.rst',\n",
       "  'tcp.connection.syn',\n",
       "  'tcp.connection.synack',\n",
       "  'tcp.dstport',\n",
       "  'tcp.flags',\n",
       "  'tcp.flags.ack',\n",
       "  'tcp.len',\n",
       "  'tcp.options',\n",
       "  'tcp.payload',\n",
       "  'tcp.seq',\n",
       "  'tcp.srcport',\n",
       "  'Attack_type'],\n",
       " ['dns.qry.type',\n",
       "  'mqtt.conack.flags',\n",
       "  'mqtt.proto_len',\n",
       "  'mqtt.topic_len',\n",
       "  'udp.stream',\n",
       "  'mqtt.hdrflags',\n",
       "  'mqtt.conflags',\n",
       "  'icmp.transmit_timestamp',\n",
       "  'mbtcp.len',\n",
       "  'dns.retransmit_request',\n",
       "  'mqtt.msgtype',\n",
       "  'dns.qry.name',\n",
       "  'mqtt.msg_decoded_as',\n",
       "  'dns.retransmission',\n",
       "  'mqtt.len',\n",
       "  'mqtt.conflag.cleansess',\n",
       "  'udp.port',\n",
       "  'mqtt.protoname',\n",
       "  'mqtt.topic',\n",
       "  'Attack_label',\n",
       "  'icmp.seq_le',\n",
       "  'dns.qry.name.len',\n",
       "  'dns.retransmit_request_in',\n",
       "  'icmp.checksum',\n",
       "  'dns.qry.qu',\n",
       "  'mbtcp.trans_id',\n",
       "  'icmp.unused',\n",
       "  'mbtcp.unit_id',\n",
       "  'mqtt.msg',\n",
       "  'mqtt.ver',\n",
       "  'udp.time_delta',\n",
       "  'http.tls_port'])"
      ]
     },
     "execution_count": 76,
     "metadata": {},
     "output_type": "execute_result"
    }
   ],
   "source": [
    "USED_COLUMNS = cols\n",
    "UNUSED_COLUMNS = [*UNUSED_COLUMNS, *unused]\n",
    "cols, unused\n"
   ]
  },
  {
   "cell_type": "code",
   "execution_count": 9,
   "metadata": {},
   "outputs": [],
   "source": [
    "import json\n",
    "with open(\"column_data.txt\", \"w\") as f:\n",
    "    f.write(json.dumps({\"Used_Columns\":cols, \"Unused_Columns\":unused}, indent=2))"
   ]
  },
  {
   "cell_type": "code",
   "execution_count": 10,
   "metadata": {},
   "outputs": [],
   "source": [
    "concat_datas = pd.DataFrame({col:pd.concat([SQL_injection[col], XSS_attack[col], Uploading_attack[col], Password_Attack[col]]) for col in cols})"
   ]
  },
  {
   "cell_type": "code",
   "execution_count": 11,
   "metadata": {},
   "outputs": [],
   "source": [
    "processed_data = concat_datas"
   ]
  },
  {
   "cell_type": "code",
   "execution_count": 16,
   "metadata": {},
   "outputs": [],
   "source": [
    "import json\n",
    "with open(\"unique_values.txt\", \"w\") as f:\n",
    "    data = {}\n",
    "    for col in cols:\n",
    "        count = processed_data[col].unique().shape[0]\n",
    "        unique_cols = list(processed_data[col].unique()) if count < 10 else list(processed_data[col].unique()[:10])\n",
    "        data[col] = {\n",
    "            \"count\": count,\n",
    "            \"unique_columns\": unique_cols\n",
    "        }\n",
    "    f.write(json.dumps(data, indent=2, ensure_ascii=True))"
   ]
  },
  {
   "cell_type": "code",
   "execution_count": 63,
   "metadata": {},
   "outputs": [],
   "source": [
    "temp = processed_data.loc[(processed_data[\"http.request.method\"] != '0')]"
   ]
  },
  {
   "cell_type": "code",
   "execution_count": 77,
   "metadata": {},
   "outputs": [],
   "source": [
    "temp_cols = temp.columns\n",
    "used = list(temp_cols[:])\n",
    "unused = []\n",
    "for col in temp.columns:\n",
    "    if not all(temp[col]) or temp[col].unique().shape[0] <= 1 and col != 'Attack_type':\n",
    "        used.remove(col)\n",
    "        unused.append(col)"
   ]
  },
  {
   "cell_type": "code",
   "execution_count": 78,
   "metadata": {},
   "outputs": [
    {
     "data": {
      "text/plain": [
       "(['frame.time',\n",
       "  'http.request.method',\n",
       "  'http.request.full_uri',\n",
       "  'http.request.version',\n",
       "  'tcp.ack',\n",
       "  'tcp.ack_raw',\n",
       "  'tcp.checksum',\n",
       "  'tcp.len',\n",
       "  'tcp.options',\n",
       "  'tcp.payload',\n",
       "  'tcp.seq',\n",
       "  'tcp.srcport',\n",
       "  'Attack_type'],\n",
       " [])"
      ]
     },
     "execution_count": 78,
     "metadata": {},
     "output_type": "execute_result"
    }
   ],
   "source": [
    "USED_COLUMNS = used\n",
    "UNUSED_COLUMNS = set([*UNUSED_COLUMNS, *unused])\n",
    "used, unused"
   ]
  },
  {
   "cell_type": "code",
   "execution_count": 82,
   "metadata": {},
   "outputs": [],
   "source": [
    "import json\n",
    "with open(\"column_data.txt\", \"w\") as f:\n",
    "    f.write(json.dumps({\"USED_COLUMNS\":USED_COLUMNS, \"UNUSED_COLUMNS\":list(UNUSED_COLUMNS)}, indent=2, ensure_ascii=True))    "
   ]
  },
  {
   "cell_type": "code",
   "execution_count": 66,
   "metadata": {},
   "outputs": [],
   "source": [
    "temp = temp.drop(unused, axis=\"columns\")"
   ]
  },
  {
   "cell_type": "code",
   "execution_count": 67,
   "metadata": {},
   "outputs": [
    {
     "data": {
      "text/html": [
       "<div>\n",
       "<style scoped>\n",
       "    .dataframe tbody tr th:only-of-type {\n",
       "        vertical-align: middle;\n",
       "    }\n",
       "\n",
       "    .dataframe tbody tr th {\n",
       "        vertical-align: top;\n",
       "    }\n",
       "\n",
       "    .dataframe thead th {\n",
       "        text-align: right;\n",
       "    }\n",
       "</style>\n",
       "<table border=\"1\" class=\"dataframe\">\n",
       "  <thead>\n",
       "    <tr style=\"text-align: right;\">\n",
       "      <th></th>\n",
       "      <th>frame.time</th>\n",
       "      <th>http.request.method</th>\n",
       "      <th>http.request.full_uri</th>\n",
       "      <th>http.request.version</th>\n",
       "      <th>tcp.ack</th>\n",
       "      <th>tcp.ack_raw</th>\n",
       "      <th>tcp.checksum</th>\n",
       "      <th>tcp.len</th>\n",
       "      <th>tcp.options</th>\n",
       "      <th>tcp.payload</th>\n",
       "      <th>tcp.seq</th>\n",
       "      <th>tcp.srcport</th>\n",
       "      <th>Attack_type</th>\n",
       "    </tr>\n",
       "  </thead>\n",
       "  <tbody>\n",
       "    <tr>\n",
       "      <th>2</th>\n",
       "      <td>2021 21:35:18.571627000</td>\n",
       "      <td>GET</td>\n",
       "      <td>http://192.168.0.128/DVWA/vulnerabilities/sqli...</td>\n",
       "      <td>HTTP/1.1</td>\n",
       "      <td>1.0</td>\n",
       "      <td>1.221191e+09</td>\n",
       "      <td>0x000023bd</td>\n",
       "      <td>306.0</td>\n",
       "      <td>0101080a9b1e676b9eabb8af</td>\n",
       "      <td>474554202f445657412f76756c6e65726162696c697469...</td>\n",
       "      <td>1.0</td>\n",
       "      <td>37046.0</td>\n",
       "      <td>SQL_injection</td>\n",
       "    </tr>\n",
       "    <tr>\n",
       "      <th>15</th>\n",
       "      <td>2021 21:35:18.642567000</td>\n",
       "      <td>GET</td>\n",
       "      <td>http://192.168.0.128/DVWA/vulnerabilities/sqli...</td>\n",
       "      <td>HTTP/1.1</td>\n",
       "      <td>1.0</td>\n",
       "      <td>2.497556e+09</td>\n",
       "      <td>0x0000d49b</td>\n",
       "      <td>330.0</td>\n",
       "      <td>0101080a9b1e67b49eabfa17</td>\n",
       "      <td>474554202f445657412f76756c6e65726162696c697469...</td>\n",
       "      <td>1.0</td>\n",
       "      <td>37048.0</td>\n",
       "      <td>SQL_injection</td>\n",
       "    </tr>\n",
       "    <tr>\n",
       "      <th>24</th>\n",
       "      <td>2021 21:35:18.691481000</td>\n",
       "      <td>GET</td>\n",
       "      <td>http://192.168.0.128/DVWA/vulnerabilities/sqli...</td>\n",
       "      <td>HTTP/1.1</td>\n",
       "      <td>1.0</td>\n",
       "      <td>1.526554e+09</td>\n",
       "      <td>0x00004a68</td>\n",
       "      <td>333.0</td>\n",
       "      <td>0101080a9b1e67e59eabfa5c</td>\n",
       "      <td>474554202f445657412f76756c6e65726162696c697469...</td>\n",
       "      <td>1.0</td>\n",
       "      <td>37050.0</td>\n",
       "      <td>SQL_injection</td>\n",
       "    </tr>\n",
       "    <tr>\n",
       "      <th>35</th>\n",
       "      <td>2021 21:35:18.816771000</td>\n",
       "      <td>GET</td>\n",
       "      <td>http://192.168.0.128/DVWA/vulnerabilities/sqli...</td>\n",
       "      <td>HTTP/1.1</td>\n",
       "      <td>1.0</td>\n",
       "      <td>2.083381e+08</td>\n",
       "      <td>0x00002fad</td>\n",
       "      <td>331.0</td>\n",
       "      <td>0101080a9b1e68629eabfaac</td>\n",
       "      <td>474554202f445657412f76756c6e65726162696c697469...</td>\n",
       "      <td>1.0</td>\n",
       "      <td>37052.0</td>\n",
       "      <td>SQL_injection</td>\n",
       "    </tr>\n",
       "    <tr>\n",
       "      <th>46</th>\n",
       "      <td>2021 21:35:18.868654000</td>\n",
       "      <td>GET</td>\n",
       "      <td>http://192.168.0.128/DVWA/vulnerabilities/sqli...</td>\n",
       "      <td>HTTP/1.1</td>\n",
       "      <td>1.0</td>\n",
       "      <td>4.582203e+08</td>\n",
       "      <td>0x000045cd</td>\n",
       "      <td>305.0</td>\n",
       "      <td>0101080a9b1e68969eabfb0f</td>\n",
       "      <td>474554202f445657412f76756c6e65726162696c697469...</td>\n",
       "      <td>1.0</td>\n",
       "      <td>37054.0</td>\n",
       "      <td>SQL_injection</td>\n",
       "    </tr>\n",
       "    <tr>\n",
       "      <th>57</th>\n",
       "      <td>2021 21:35:18.928287000</td>\n",
       "      <td>GET</td>\n",
       "      <td>http://192.168.0.128/DVWA/vulnerabilities/sqli...</td>\n",
       "      <td>HTTP/1.1</td>\n",
       "      <td>1.0</td>\n",
       "      <td>3.881938e+09</td>\n",
       "      <td>0x0000cb97</td>\n",
       "      <td>314.0</td>\n",
       "      <td>0101080a9b1e68d29eabfb47</td>\n",
       "      <td>474554202f445657412f76756c6e65726162696c697469...</td>\n",
       "      <td>1.0</td>\n",
       "      <td>37056.0</td>\n",
       "      <td>SQL_injection</td>\n",
       "    </tr>\n",
       "    <tr>\n",
       "      <th>68</th>\n",
       "      <td>2021 21:35:18.980536000</td>\n",
       "      <td>GET</td>\n",
       "      <td>http://192.168.0.128/DVWA/vulnerabilities/sqli...</td>\n",
       "      <td>HTTP/1.1</td>\n",
       "      <td>1.0</td>\n",
       "      <td>3.203403e+09</td>\n",
       "      <td>0x0000725d</td>\n",
       "      <td>343.0</td>\n",
       "      <td>0101080a9b1e69069eabfb99</td>\n",
       "      <td>474554202f445657412f76756c6e65726162696c697469...</td>\n",
       "      <td>1.0</td>\n",
       "      <td>37058.0</td>\n",
       "      <td>SQL_injection</td>\n",
       "    </tr>\n",
       "    <tr>\n",
       "      <th>79</th>\n",
       "      <td>2021 21:35:19.029708000</td>\n",
       "      <td>GET</td>\n",
       "      <td>http://192.168.0.128/DVWA/vulnerabilities/sqli...</td>\n",
       "      <td>HTTP/1.1</td>\n",
       "      <td>1.0</td>\n",
       "      <td>1.272756e+08</td>\n",
       "      <td>0x00002a4e</td>\n",
       "      <td>337.0</td>\n",
       "      <td>0101080a9b1e69389eabfbca</td>\n",
       "      <td>474554202f445657412f76756c6e65726162696c697469...</td>\n",
       "      <td>1.0</td>\n",
       "      <td>37060.0</td>\n",
       "      <td>SQL_injection</td>\n",
       "    </tr>\n",
       "    <tr>\n",
       "      <th>90</th>\n",
       "      <td>2021 21:35:19.083980000</td>\n",
       "      <td>GET</td>\n",
       "      <td>http://192.168.0.128/DVWA/vulnerabilities/sqli...</td>\n",
       "      <td>HTTP/1.1</td>\n",
       "      <td>1.0</td>\n",
       "      <td>3.589361e+09</td>\n",
       "      <td>0x000076b2</td>\n",
       "      <td>406.0</td>\n",
       "      <td>0101080a9b1e696e9eabfbfd</td>\n",
       "      <td>474554202f445657412f76756c6e65726162696c697469...</td>\n",
       "      <td>1.0</td>\n",
       "      <td>37062.0</td>\n",
       "      <td>SQL_injection</td>\n",
       "    </tr>\n",
       "    <tr>\n",
       "      <th>100</th>\n",
       "      <td>2021 21:35:19.130055000</td>\n",
       "      <td>GET</td>\n",
       "      <td>http://192.168.0.128/DVWA/vulnerabilities/sqli...</td>\n",
       "      <td>HTTP/1.1</td>\n",
       "      <td>1.0</td>\n",
       "      <td>1.710834e+09</td>\n",
       "      <td>0x0000c7ca</td>\n",
       "      <td>439.0</td>\n",
       "      <td>0101080a9b1e699c9eabfc35</td>\n",
       "      <td>474554202f445657412f76756c6e65726162696c697469...</td>\n",
       "      <td>1.0</td>\n",
       "      <td>37064.0</td>\n",
       "      <td>SQL_injection</td>\n",
       "    </tr>\n",
       "    <tr>\n",
       "      <th>114</th>\n",
       "      <td>2021 21:35:19.175060000</td>\n",
       "      <td>GET</td>\n",
       "      <td>http://192.168.0.128/DVWA/vulnerabilities/sqli...</td>\n",
       "      <td>HTTP/1.1</td>\n",
       "      <td>1.0</td>\n",
       "      <td>4.204711e+09</td>\n",
       "      <td>0x00002321</td>\n",
       "      <td>413.0</td>\n",
       "      <td>0101080a9b1e69c99eabfc49</td>\n",
       "      <td>474554202f445657412f76756c6e65726162696c697469...</td>\n",
       "      <td>1.0</td>\n",
       "      <td>37066.0</td>\n",
       "      <td>SQL_injection</td>\n",
       "    </tr>\n",
       "    <tr>\n",
       "      <th>124</th>\n",
       "      <td>2021 21:35:19.225709000</td>\n",
       "      <td>GET</td>\n",
       "      <td>http://192.168.0.128/DVWA/vulnerabilities/sqli...</td>\n",
       "      <td>HTTP/1.1</td>\n",
       "      <td>1.0</td>\n",
       "      <td>3.958504e+09</td>\n",
       "      <td>0x0000ebf5</td>\n",
       "      <td>422.0</td>\n",
       "      <td>0101080a9b1e69fc9eabfc96</td>\n",
       "      <td>474554202f445657412f76756c6e65726162696c697469...</td>\n",
       "      <td>1.0</td>\n",
       "      <td>37068.0</td>\n",
       "      <td>SQL_injection</td>\n",
       "    </tr>\n",
       "    <tr>\n",
       "      <th>137</th>\n",
       "      <td>2021 21:35:19.283532000</td>\n",
       "      <td>GET</td>\n",
       "      <td>http://192.168.0.128/DVWA/vulnerabilities/sqli...</td>\n",
       "      <td>HTTP/1.1</td>\n",
       "      <td>1.0</td>\n",
       "      <td>8.617688e+08</td>\n",
       "      <td>0x0000de58</td>\n",
       "      <td>451.0</td>\n",
       "      <td>0101080a9b1e6a359eabfca8</td>\n",
       "      <td>474554202f445657412f76756c6e65726162696c697469...</td>\n",
       "      <td>1.0</td>\n",
       "      <td>37070.0</td>\n",
       "      <td>SQL_injection</td>\n",
       "    </tr>\n",
       "    <tr>\n",
       "      <th>147</th>\n",
       "      <td>2021 21:35:19.326205000</td>\n",
       "      <td>GET</td>\n",
       "      <td>http://192.168.0.128/DVWA/vulnerabilities/sqli...</td>\n",
       "      <td>HTTP/1.1</td>\n",
       "      <td>1.0</td>\n",
       "      <td>1.669668e+09</td>\n",
       "      <td>0x0000db5b</td>\n",
       "      <td>445.0</td>\n",
       "      <td>0101080a9b1e6a5f9eabfcfa</td>\n",
       "      <td>474554202f445657412f76756c6e65726162696c697469...</td>\n",
       "      <td>1.0</td>\n",
       "      <td>37072.0</td>\n",
       "      <td>SQL_injection</td>\n",
       "    </tr>\n",
       "    <tr>\n",
       "      <th>160</th>\n",
       "      <td>2021 21:35:19.370498000</td>\n",
       "      <td>GET</td>\n",
       "      <td>http://192.168.0.128/DVWA/vulnerabilities/sqli...</td>\n",
       "      <td>HTTP/1.1</td>\n",
       "      <td>1.0</td>\n",
       "      <td>3.839570e+09</td>\n",
       "      <td>0x0000fde8</td>\n",
       "      <td>633.0</td>\n",
       "      <td>0101080a9b1e6a8c9eabfd0a</td>\n",
       "      <td>474554202f445657412f76756c6e65726162696c697469...</td>\n",
       "      <td>1.0</td>\n",
       "      <td>37074.0</td>\n",
       "      <td>SQL_injection</td>\n",
       "    </tr>\n",
       "  </tbody>\n",
       "</table>\n",
       "</div>"
      ],
      "text/plain": [
       "                    frame.time http.request.method   \n",
       "2     2021 21:35:18.571627000                  GET  \\\n",
       "15    2021 21:35:18.642567000                  GET   \n",
       "24    2021 21:35:18.691481000                  GET   \n",
       "35    2021 21:35:18.816771000                  GET   \n",
       "46    2021 21:35:18.868654000                  GET   \n",
       "57    2021 21:35:18.928287000                  GET   \n",
       "68    2021 21:35:18.980536000                  GET   \n",
       "79    2021 21:35:19.029708000                  GET   \n",
       "90    2021 21:35:19.083980000                  GET   \n",
       "100   2021 21:35:19.130055000                  GET   \n",
       "114   2021 21:35:19.175060000                  GET   \n",
       "124   2021 21:35:19.225709000                  GET   \n",
       "137   2021 21:35:19.283532000                  GET   \n",
       "147   2021 21:35:19.326205000                  GET   \n",
       "160   2021 21:35:19.370498000                  GET   \n",
       "\n",
       "                                 http.request.full_uri http.request.version   \n",
       "2    http://192.168.0.128/DVWA/vulnerabilities/sqli...             HTTP/1.1  \\\n",
       "15   http://192.168.0.128/DVWA/vulnerabilities/sqli...             HTTP/1.1   \n",
       "24   http://192.168.0.128/DVWA/vulnerabilities/sqli...             HTTP/1.1   \n",
       "35   http://192.168.0.128/DVWA/vulnerabilities/sqli...             HTTP/1.1   \n",
       "46   http://192.168.0.128/DVWA/vulnerabilities/sqli...             HTTP/1.1   \n",
       "57   http://192.168.0.128/DVWA/vulnerabilities/sqli...             HTTP/1.1   \n",
       "68   http://192.168.0.128/DVWA/vulnerabilities/sqli...             HTTP/1.1   \n",
       "79   http://192.168.0.128/DVWA/vulnerabilities/sqli...             HTTP/1.1   \n",
       "90   http://192.168.0.128/DVWA/vulnerabilities/sqli...             HTTP/1.1   \n",
       "100  http://192.168.0.128/DVWA/vulnerabilities/sqli...             HTTP/1.1   \n",
       "114  http://192.168.0.128/DVWA/vulnerabilities/sqli...             HTTP/1.1   \n",
       "124  http://192.168.0.128/DVWA/vulnerabilities/sqli...             HTTP/1.1   \n",
       "137  http://192.168.0.128/DVWA/vulnerabilities/sqli...             HTTP/1.1   \n",
       "147  http://192.168.0.128/DVWA/vulnerabilities/sqli...             HTTP/1.1   \n",
       "160  http://192.168.0.128/DVWA/vulnerabilities/sqli...             HTTP/1.1   \n",
       "\n",
       "     tcp.ack   tcp.ack_raw tcp.checksum  tcp.len               tcp.options   \n",
       "2        1.0  1.221191e+09   0x000023bd    306.0  0101080a9b1e676b9eabb8af  \\\n",
       "15       1.0  2.497556e+09   0x0000d49b    330.0  0101080a9b1e67b49eabfa17   \n",
       "24       1.0  1.526554e+09   0x00004a68    333.0  0101080a9b1e67e59eabfa5c   \n",
       "35       1.0  2.083381e+08   0x00002fad    331.0  0101080a9b1e68629eabfaac   \n",
       "46       1.0  4.582203e+08   0x000045cd    305.0  0101080a9b1e68969eabfb0f   \n",
       "57       1.0  3.881938e+09   0x0000cb97    314.0  0101080a9b1e68d29eabfb47   \n",
       "68       1.0  3.203403e+09   0x0000725d    343.0  0101080a9b1e69069eabfb99   \n",
       "79       1.0  1.272756e+08   0x00002a4e    337.0  0101080a9b1e69389eabfbca   \n",
       "90       1.0  3.589361e+09   0x000076b2    406.0  0101080a9b1e696e9eabfbfd   \n",
       "100      1.0  1.710834e+09   0x0000c7ca    439.0  0101080a9b1e699c9eabfc35   \n",
       "114      1.0  4.204711e+09   0x00002321    413.0  0101080a9b1e69c99eabfc49   \n",
       "124      1.0  3.958504e+09   0x0000ebf5    422.0  0101080a9b1e69fc9eabfc96   \n",
       "137      1.0  8.617688e+08   0x0000de58    451.0  0101080a9b1e6a359eabfca8   \n",
       "147      1.0  1.669668e+09   0x0000db5b    445.0  0101080a9b1e6a5f9eabfcfa   \n",
       "160      1.0  3.839570e+09   0x0000fde8    633.0  0101080a9b1e6a8c9eabfd0a   \n",
       "\n",
       "                                           tcp.payload  tcp.seq  tcp.srcport   \n",
       "2    474554202f445657412f76756c6e65726162696c697469...      1.0      37046.0  \\\n",
       "15   474554202f445657412f76756c6e65726162696c697469...      1.0      37048.0   \n",
       "24   474554202f445657412f76756c6e65726162696c697469...      1.0      37050.0   \n",
       "35   474554202f445657412f76756c6e65726162696c697469...      1.0      37052.0   \n",
       "46   474554202f445657412f76756c6e65726162696c697469...      1.0      37054.0   \n",
       "57   474554202f445657412f76756c6e65726162696c697469...      1.0      37056.0   \n",
       "68   474554202f445657412f76756c6e65726162696c697469...      1.0      37058.0   \n",
       "79   474554202f445657412f76756c6e65726162696c697469...      1.0      37060.0   \n",
       "90   474554202f445657412f76756c6e65726162696c697469...      1.0      37062.0   \n",
       "100  474554202f445657412f76756c6e65726162696c697469...      1.0      37064.0   \n",
       "114  474554202f445657412f76756c6e65726162696c697469...      1.0      37066.0   \n",
       "124  474554202f445657412f76756c6e65726162696c697469...      1.0      37068.0   \n",
       "137  474554202f445657412f76756c6e65726162696c697469...      1.0      37070.0   \n",
       "147  474554202f445657412f76756c6e65726162696c697469...      1.0      37072.0   \n",
       "160  474554202f445657412f76756c6e65726162696c697469...      1.0      37074.0   \n",
       "\n",
       "       Attack_type  \n",
       "2    SQL_injection  \n",
       "15   SQL_injection  \n",
       "24   SQL_injection  \n",
       "35   SQL_injection  \n",
       "46   SQL_injection  \n",
       "57   SQL_injection  \n",
       "68   SQL_injection  \n",
       "79   SQL_injection  \n",
       "90   SQL_injection  \n",
       "100  SQL_injection  \n",
       "114  SQL_injection  \n",
       "124  SQL_injection  \n",
       "137  SQL_injection  \n",
       "147  SQL_injection  \n",
       "160  SQL_injection  "
      ]
     },
     "execution_count": 67,
     "metadata": {},
     "output_type": "execute_result"
    }
   ],
   "source": [
    "temp[:15]"
   ]
  },
  {
   "cell_type": "code",
   "execution_count": 68,
   "metadata": {},
   "outputs": [],
   "source": [
    "temp.to_csv(\"full_uri,content_length,method_na_removed.csv\", sep=\",\")"
   ]
  },
  {
   "cell_type": "code",
   "execution_count": 69,
   "metadata": {},
   "outputs": [
    {
     "data": {
      "text/plain": [
       "frame.time               78697\n",
       "http.request.method      78697\n",
       "http.request.full_uri    78697\n",
       "http.request.version     78697\n",
       "tcp.ack                  78697\n",
       "tcp.ack_raw              78697\n",
       "tcp.checksum             78697\n",
       "tcp.len                  78697\n",
       "tcp.options              78697\n",
       "tcp.payload              78697\n",
       "tcp.seq                  78697\n",
       "tcp.srcport              78697\n",
       "Attack_type              78697\n",
       "dtype: int64"
      ]
     },
     "execution_count": 69,
     "metadata": {},
     "output_type": "execute_result"
    }
   ],
   "source": [
    "temp.count()"
   ]
  },
  {
   "cell_type": "code",
   "execution_count": 70,
   "metadata": {},
   "outputs": [
    {
     "data": {
      "text/plain": [
       "Attack_type\n",
       "Password         71035\n",
       "SQL_injection     4379\n",
       "Uploading         1907\n",
       "XSS               1376\n",
       "Name: Attack_type, dtype: int64"
      ]
     },
     "execution_count": 70,
     "metadata": {},
     "output_type": "execute_result"
    }
   ],
   "source": [
    "temp.groupby([\"Attack_type\"])[\"Attack_type\"].count()"
   ]
  },
  {
   "cell_type": "code",
   "execution_count": 71,
   "metadata": {},
   "outputs": [
    {
     "data": {
      "text/plain": [
       "Index(['frame.time', 'http.request.method', 'http.request.full_uri',\n",
       "       'http.request.version', 'tcp.ack', 'tcp.ack_raw', 'tcp.checksum',\n",
       "       'tcp.len', 'tcp.options', 'tcp.payload', 'tcp.seq', 'tcp.srcport',\n",
       "       'Attack_type'],\n",
       "      dtype='object')"
      ]
     },
     "execution_count": 71,
     "metadata": {},
     "output_type": "execute_result"
    }
   ],
   "source": [
    "temp.columns"
   ]
  },
  {
   "cell_type": "code",
   "execution_count": 87,
   "metadata": {},
   "outputs": [],
   "source": [
    "processed_data.to_csv(\"Concat_Processed_Data.csv\", sep=\",\")"
   ]
  },
  {
   "cell_type": "code",
   "execution_count": null,
   "metadata": {},
   "outputs": [],
   "source": []
  }
 ],
 "metadata": {
  "kernelspec": {
   "display_name": "Python 3 (ipykernel)",
   "language": "python",
   "name": "python3"
  },
  "language_info": {
   "codemirror_mode": {
    "name": "ipython",
    "version": 3
   },
   "file_extension": ".py",
   "mimetype": "text/x-python",
   "name": "python",
   "nbconvert_exporter": "python",
   "pygments_lexer": "ipython3",
   "version": "3.11.0"
  }
 },
 "nbformat": 4,
 "nbformat_minor": 2
}
