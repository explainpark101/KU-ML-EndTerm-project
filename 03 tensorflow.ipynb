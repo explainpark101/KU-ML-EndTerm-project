{
  "cells": [
    {
      "cell_type": "code",
      "execution_count": 150,
      "metadata": {
        "id": "PXriOQ4i6Ayh"
      },
      "outputs": [],
      "source": [
        "import tensorflow as tf\n",
        "from tensorflow import keras\n",
        "from keras.preprocessing.text import Tokenizer\n",
        "from tensorflow.keras.preprocessing.sequence import pad_sequences\n",
        "import pandas as pd\n",
        "import numpy as np\n",
        "import re\n",
        "pd.set_option(\"display.max_columns\", None)"
      ]
    },
    {
      "cell_type": "code",
      "execution_count": 151,
      "metadata": {
        "id": "V-DMaaoL6Ayp"
      },
      "outputs": [],
      "source": [
        "def unzip(path_to_zip_file, directory_to_extract_to):\n",
        "    \"\"\"\n",
        "    Args:\n",
        "        path_to_zip_file (str): 압축파일 경로\n",
        "        directory_to_extract_to (str): 압축 풀고 저장할 경로\n",
        "    \"\"\"\n",
        "    import zipfile\n",
        "    with zipfile.ZipFile(path_to_zip_file, 'r') as zip_ref:\n",
        "        zip_ref.extractall(directory_to_extract_to)\n"
      ]
    },
    {
      "cell_type": "code",
      "execution_count": 152,
      "metadata": {
        "colab": {
          "base_uri": "https://localhost:8080/"
        },
        "id": "t2dLnPdz6atF",
        "outputId": "0cfcb581-fe3c-4b16-82a1-820188da5fba"
      },
      "outputs": [
        {
          "output_type": "stream",
          "name": "stdout",
          "text": [
            "Drive already mounted at /content/drive; to attempt to forcibly remount, call drive.mount(\"/content/drive\", force_remount=True).\n"
          ]
        }
      ],
      "source": [
        "from google.colab import drive\n",
        "drive.mount(\"/content/drive\")\n",
        "\n"
      ]
    },
    {
      "cell_type": "code",
      "execution_count": 153,
      "metadata": {
        "colab": {
          "base_uri": "https://localhost:8080/",
          "height": 35
        },
        "id": "yjtqJiph61DL",
        "outputId": "8e461a48-e1d5-497e-fcfb-3f9832f664f0"
      },
      "outputs": [
        {
          "output_type": "execute_result",
          "data": {
            "text/plain": [
              "'/content/http_data_RNN.model.zip'"
            ],
            "application/vnd.google.colaboratory.intrinsic+json": {
              "type": "string"
            }
          },
          "metadata": {},
          "execution_count": 153
        }
      ],
      "source": [
        "import shutil\n",
        "shutil.copyfile(\"/content/drive/MyDrive/고려대학교/기계학습개론/url_encoded_dataset.csv\", \"/content/url_encoded_dataset.csv\")\n",
        "shutil.copyfile(\"/content/drive/MyDrive/고려대학교/기계학습개론/tcp_payload_RNN.model.zip\", \"/content/tcp_payload_RNN.model.zip\")\n",
        "shutil.copyfile(\"/content/drive/MyDrive/고려대학교/기계학습개론/http_data_RNN.model.zip\", \"/content/http_data_RNN.model.zip\")"
      ]
    },
    {
      "cell_type": "code",
      "execution_count": 154,
      "metadata": {
        "colab": {
          "base_uri": "https://localhost:8080/"
        },
        "id": "sPdCY_486Ayr",
        "outputId": "f39a2f99-e55e-4406-d5f7-d3c07e8ce7cf"
      },
      "outputs": [
        {
          "output_type": "stream",
          "name": "stderr",
          "text": [
            "<ipython-input-154-776e6cc6f1c7>:1: DtypeWarning: Columns (3,6,10,17) have mixed types. Specify dtype option on import or set low_memory=False.\n",
            "  data = pd.read_csv(\"/content/url_encoded_dataset.csv\").sample(frac=1)\n"
          ]
        }
      ],
      "source": [
        "data = pd.read_csv(\"/content/url_encoded_dataset.csv\").sample(frac=1)\n",
        "data = data.drop([\"Unnamed: 0\", \"http.request.uri.query\", \"http.file_data\", \"http.request.full_uri\", \n",
        "                  \"tcp.options\", \"http.request.uri.path\", \"http.request.uri.query.dict\", \"http.file_data.dict\", \"http.request.uri.scheme\"], axis=\"columns\")\n",
        "data[\"http.data\"] = data[\"http.data\"].fillna(\"\")\n",
        "original_data = data.copy()\n",
        "\n",
        "# RNN학습시, URL정보를 바탕으로 분류를 진행할 수 있으므로 URL 정보를 삭제해야함.\n",
        "data[\"tcp.payload\"] = original_data[\"tcp.payload\"].astype(\"str\").apply(lambda x: \" \".join([_ for _ in x.split(\" \") if not (_.startswith(\"/DVWA\") and _.endswith(\".php\"))]))"
      ]
    },
    {
      "cell_type": "markdown",
      "source": [
        "## RNN을 위한 전처리"
      ],
      "metadata": {
        "id": "jk5UyNUYLD-z"
      }
    },
    {
      "cell_type": "code",
      "execution_count": 255,
      "metadata": {
        "id": "6ia9qTug6Ayu"
      },
      "outputs": [],
      "source": [
        "# Tokenize values\n",
        "tokenizer = Tokenizer(oov_token=\"<NUMBER>\", filters='!\"#$%&()*+,-./:?@[\\\\]^_`{|}~\\t\\n=',)\n",
        "tokenizer.fit_on_texts(original_data[\"http.data\"])\n",
        "padded = pad_sequences(tokenizer.texts_to_sequences(original_data[\"http.data\"]), padding=\"post\", value=0)\n",
        "data[\"http.data\"] = padded.tolist()"
      ]
    },
    {
      "cell_type": "code",
      "source": [
        "word_index_dict = {val: key for key, val in tokenizer.word_index.items()}\n",
        "pd.Series(tokenizer.texts_to_sequences(original_data[\"http.data\"])).apply(lambda x: \", \".join([(word_index_dict)[_] for _ in x])).unique()"
      ],
      "metadata": {
        "colab": {
          "base_uri": "https://localhost:8080/"
        },
        "id": "m1V5R1-DVwBc",
        "outputId": "b575c3de-2a36-42a5-f7a1-e4370242cd90"
      },
      "execution_count": 256,
      "outputs": [
        {
          "output_type": "execute_result",
          "data": {
            "text/plain": [
              "array(['', 'username, admin, password, 00, login, login',\n",
              "       '0, 0, id, 4, 20and, 201970, 20in, 20, 28select, 20, 28char, 28113, 29, 2bchar, 2898, 29, 2bchar, 28107, 29, 2bchar, 28107, 29, 2bchar, 28113, 29, 2b, 28select, 20, 28case, 20when, 20, 281970, 3d1970, 29, 20then, 20char, 2849, 29, 20else, 20char, 2848, 29, 20end, 29, 29, 2bchar, 28113, 29, 2bchar, 28107, 29, 2bchar, 28107, 29, 2bchar, 28107, 29, 2bchar, 28113, 29, 29, 29, 20zvuw, submit, submitid, 55',\n",
              "       ...,\n",
              "       '0, 0, id, 7, submit, submitid, 3d57, 20and, 201412, 20in, 20, 28select, 20, 28char, 28113, 29, 2bchar, 28107, 29, 2bchar, 28122, 29, 2bchar, 28107, 29, 2bchar, 28113, 29, 2b, 28select, 20, 28case, 20when, 20, 281412, 3d1412, 29, 20then, 20char, 2849, 29, 20else, 20char, 2848, 29, 20end, 29, 29, 2bchar, 28113, 29, 2bchar, 28112, 29, 2bchar, 28106, 29, 2bchar, 28120, 29, 2bchar, 28113, 29, 29, 29, 20djzl',\n",
              "       '0, 0, id, 2, 29, 20and, 203708, 3ddbms, pipe, receive, message, 28chr, 28105, 29, 7c, 7cchr, 2878, 29, 7c, 7cchr, 28101, 29, 7c, 7cchr, 2879, 29, 2c5, 29, 20and, 20, 287950, 3d7950, submit, submitid, 53',\n",
              "       '0, 0, id, 9, submit, submitid, 3d59, 27, 29, 20and, 206283, 3d, 28select, 206283, 20from, 20pg, sleep, 285, 29, 29, 20and, 20, 28, 27hzbu, 27, 3d, 27hzbu'],\n",
              "      dtype=object)"
            ]
          },
          "metadata": {},
          "execution_count": 256
        }
      ]
    },
    {
      "cell_type": "code",
      "execution_count": 156,
      "metadata": {
        "id": "Ydbd9Ytd6Ayw"
      },
      "outputs": [],
      "source": [
        "# Tokenize tcp.payload\n",
        "tokenizer_payload = Tokenizer(oov_token=\"<PAD>\")\n",
        "tokenizer_payload.fit_on_texts(original_data[\"tcp.payload\"].astype(\"str\"))\n",
        "padded = pad_sequences(tokenizer_payload.texts_to_sequences(original_data[\"tcp.payload\"].astype(\"str\")), padding=\"post\", value=0)\n",
        "data[\"tcp.payload\"] = padded.tolist()"
      ]
    },
    {
      "cell_type": "code",
      "execution_count": 157,
      "metadata": {
        "colab": {
          "base_uri": "https://localhost:8080/",
          "height": 531
        },
        "id": "hZiAeyVg6Ayx",
        "outputId": "60462adf-3638-4b3a-e349-b4407d6a2df5"
      },
      "outputs": [
        {
          "output_type": "execute_result",
          "data": {
            "text/plain": [
              "         ip.src_host                 frame.time tcp.checksum  http.response  \\\n",
              "18879  192.168.0.170   2021 17:42:20.919856000    0x00004a16            0.0   \n",
              "35241  192.168.0.170   2021 18:47:06.547787000    0x00009bff            0.0   \n",
              "28744  192.168.0.170   2021 18:25:19.844375000    0x0000b8e5            0.0   \n",
              "64730  192.168.0.170   2021 20:26:01.618398000    0x00004f26            0.0   \n",
              "55548  192.168.0.170   2021 19:55:37.495345000    0x000006b2            0.0   \n",
              "\n",
              "      arp.src.proto_ipv4  http.content_length Attack_type arp.dst.proto_ipv4  \\\n",
              "18879                  0                  0.0    Password                  0   \n",
              "35241                  0                  0.0    Password                  0   \n",
              "28744                  0                 38.0    Password                  0   \n",
              "64730                  0                  0.0    Password                  0   \n",
              "55548                  0                  0.0    Password                  0   \n",
              "\n",
              "       tcp.connection.rst  arp.hw.size  tcp.len  tcp.seq  tcp.connection.syn  \\\n",
              "18879                 0.0          0.0     86.0      1.0                 0.0   \n",
              "35241                 0.0          0.0     86.0      1.0                 0.0   \n",
              "28744                 0.0          0.0    261.0      1.0                 0.0   \n",
              "64730                 0.0          0.0    221.0      1.0                 0.0   \n",
              "55548                 0.0          0.0    221.0      1.0                 0.0   \n",
              "\n",
              "      http.referer    ip.dst_host  tcp.flags.ack   tcp.ack_raw  \\\n",
              "18879          0.0  192.168.0.128            1.0  6.752434e+08   \n",
              "35241          0.0  192.168.0.128            1.0  1.438164e+07   \n",
              "28744          0.0  192.168.0.128            1.0  2.248116e+08   \n",
              "64730          0.0  192.168.0.128            1.0  3.593927e+09   \n",
              "55548          0.0  192.168.0.128            1.0  1.187137e+09   \n",
              "\n",
              "       tcp.connection.fin  tcp.dstport   tcp.flags  tcp.ack  \\\n",
              "18879                 0.0         80.0  0x00000018      1.0   \n",
              "35241                 0.0         80.0  0x00000018      1.0   \n",
              "28744                 0.0         80.0  0x00000018      1.0   \n",
              "64730                 0.0         80.0  0x00000018      1.0   \n",
              "55548                 0.0         80.0  0x00000018      1.0   \n",
              "\n",
              "       tcp.connection.synack  \\\n",
              "18879                    0.0   \n",
              "35241                    0.0   \n",
              "28744                    0.0   \n",
              "64730                    0.0   \n",
              "55548                    0.0   \n",
              "\n",
              "                                             tcp.payload  tcp.srcport  \\\n",
              "18879  [18, 10, 3, 15, 6, 5, 2, 11, 7, 8, 2, 9, 12, 1...      50896.0   \n",
              "35241  [18, 10, 3, 15, 6, 5, 2, 11, 7, 8, 2, 9, 12, 1...      40796.0   \n",
              "28744  [31, 10, 3, 15, 6, 5, 2, 11, 7, 8, 2, 9, 12, 1...      50604.0   \n",
              "64730  [18, 10, 3, 15, 6, 5, 2, 11, 7, 8, 2, 9, 12, 1...      39724.0   \n",
              "55548  [18, 10, 3, 15, 6, 5, 2, 11, 7, 8, 2, 9, 12, 1...      41942.0   \n",
              "\n",
              "       arp.opcode      0    GET   POST  TRACE  HTTP/1.0  HTTP/1.1  \\\n",
              "18879         0.0  False   True  False  False      True     False   \n",
              "35241         0.0  False   True  False  False      True     False   \n",
              "28744         0.0  False  False   True  False      True     False   \n",
              "64730         0.0  False   True  False  False      True     False   \n",
              "55548         0.0  False   True  False  False      True     False   \n",
              "\n",
              "      http.request.uri.netloc  \\\n",
              "18879           192.168.0.128   \n",
              "35241           192.168.0.128   \n",
              "28744           192.168.0.128   \n",
              "64730           192.168.0.128   \n",
              "55548           192.168.0.128   \n",
              "\n",
              "                                               http.data  \n",
              "18879  [0, 0, 0, 0, 0, 0, 0, 0, 0, 0, 0, 0, 0, 0, 0, ...  \n",
              "35241  [0, 0, 0, 0, 0, 0, 0, 0, 0, 0, 0, 0, 0, 0, 0, ...  \n",
              "28744  [5, 6, 7, 8, 2, 2, 0, 0, 0, 0, 0, 0, 0, 0, 0, ...  \n",
              "64730  [0, 0, 0, 0, 0, 0, 0, 0, 0, 0, 0, 0, 0, 0, 0, ...  \n",
              "55548  [0, 0, 0, 0, 0, 0, 0, 0, 0, 0, 0, 0, 0, 0, 0, ...  "
            ],
            "text/html": [
              "\n",
              "  <div id=\"df-4a072fb1-318d-4c6e-a68f-18d078f3b920\">\n",
              "    <div class=\"colab-df-container\">\n",
              "      <div>\n",
              "<style scoped>\n",
              "    .dataframe tbody tr th:only-of-type {\n",
              "        vertical-align: middle;\n",
              "    }\n",
              "\n",
              "    .dataframe tbody tr th {\n",
              "        vertical-align: top;\n",
              "    }\n",
              "\n",
              "    .dataframe thead th {\n",
              "        text-align: right;\n",
              "    }\n",
              "</style>\n",
              "<table border=\"1\" class=\"dataframe\">\n",
              "  <thead>\n",
              "    <tr style=\"text-align: right;\">\n",
              "      <th></th>\n",
              "      <th>ip.src_host</th>\n",
              "      <th>frame.time</th>\n",
              "      <th>tcp.checksum</th>\n",
              "      <th>http.response</th>\n",
              "      <th>arp.src.proto_ipv4</th>\n",
              "      <th>http.content_length</th>\n",
              "      <th>Attack_type</th>\n",
              "      <th>arp.dst.proto_ipv4</th>\n",
              "      <th>tcp.connection.rst</th>\n",
              "      <th>arp.hw.size</th>\n",
              "      <th>tcp.len</th>\n",
              "      <th>tcp.seq</th>\n",
              "      <th>tcp.connection.syn</th>\n",
              "      <th>http.referer</th>\n",
              "      <th>ip.dst_host</th>\n",
              "      <th>tcp.flags.ack</th>\n",
              "      <th>tcp.ack_raw</th>\n",
              "      <th>tcp.connection.fin</th>\n",
              "      <th>tcp.dstport</th>\n",
              "      <th>tcp.flags</th>\n",
              "      <th>tcp.ack</th>\n",
              "      <th>tcp.connection.synack</th>\n",
              "      <th>tcp.payload</th>\n",
              "      <th>tcp.srcport</th>\n",
              "      <th>arp.opcode</th>\n",
              "      <th>0</th>\n",
              "      <th>GET</th>\n",
              "      <th>POST</th>\n",
              "      <th>TRACE</th>\n",
              "      <th>HTTP/1.0</th>\n",
              "      <th>HTTP/1.1</th>\n",
              "      <th>http.request.uri.netloc</th>\n",
              "      <th>http.data</th>\n",
              "    </tr>\n",
              "  </thead>\n",
              "  <tbody>\n",
              "    <tr>\n",
              "      <th>18879</th>\n",
              "      <td>192.168.0.170</td>\n",
              "      <td>2021 17:42:20.919856000</td>\n",
              "      <td>0x00004a16</td>\n",
              "      <td>0.0</td>\n",
              "      <td>0</td>\n",
              "      <td>0.0</td>\n",
              "      <td>Password</td>\n",
              "      <td>0</td>\n",
              "      <td>0.0</td>\n",
              "      <td>0.0</td>\n",
              "      <td>86.0</td>\n",
              "      <td>1.0</td>\n",
              "      <td>0.0</td>\n",
              "      <td>0.0</td>\n",
              "      <td>192.168.0.128</td>\n",
              "      <td>1.0</td>\n",
              "      <td>6.752434e+08</td>\n",
              "      <td>0.0</td>\n",
              "      <td>80.0</td>\n",
              "      <td>0x00000018</td>\n",
              "      <td>1.0</td>\n",
              "      <td>0.0</td>\n",
              "      <td>[18, 10, 3, 15, 6, 5, 2, 11, 7, 8, 2, 9, 12, 1...</td>\n",
              "      <td>50896.0</td>\n",
              "      <td>0.0</td>\n",
              "      <td>False</td>\n",
              "      <td>True</td>\n",
              "      <td>False</td>\n",
              "      <td>False</td>\n",
              "      <td>True</td>\n",
              "      <td>False</td>\n",
              "      <td>192.168.0.128</td>\n",
              "      <td>[0, 0, 0, 0, 0, 0, 0, 0, 0, 0, 0, 0, 0, 0, 0, ...</td>\n",
              "    </tr>\n",
              "    <tr>\n",
              "      <th>35241</th>\n",
              "      <td>192.168.0.170</td>\n",
              "      <td>2021 18:47:06.547787000</td>\n",
              "      <td>0x00009bff</td>\n",
              "      <td>0.0</td>\n",
              "      <td>0</td>\n",
              "      <td>0.0</td>\n",
              "      <td>Password</td>\n",
              "      <td>0</td>\n",
              "      <td>0.0</td>\n",
              "      <td>0.0</td>\n",
              "      <td>86.0</td>\n",
              "      <td>1.0</td>\n",
              "      <td>0.0</td>\n",
              "      <td>0.0</td>\n",
              "      <td>192.168.0.128</td>\n",
              "      <td>1.0</td>\n",
              "      <td>1.438164e+07</td>\n",
              "      <td>0.0</td>\n",
              "      <td>80.0</td>\n",
              "      <td>0x00000018</td>\n",
              "      <td>1.0</td>\n",
              "      <td>0.0</td>\n",
              "      <td>[18, 10, 3, 15, 6, 5, 2, 11, 7, 8, 2, 9, 12, 1...</td>\n",
              "      <td>40796.0</td>\n",
              "      <td>0.0</td>\n",
              "      <td>False</td>\n",
              "      <td>True</td>\n",
              "      <td>False</td>\n",
              "      <td>False</td>\n",
              "      <td>True</td>\n",
              "      <td>False</td>\n",
              "      <td>192.168.0.128</td>\n",
              "      <td>[0, 0, 0, 0, 0, 0, 0, 0, 0, 0, 0, 0, 0, 0, 0, ...</td>\n",
              "    </tr>\n",
              "    <tr>\n",
              "      <th>28744</th>\n",
              "      <td>192.168.0.170</td>\n",
              "      <td>2021 18:25:19.844375000</td>\n",
              "      <td>0x0000b8e5</td>\n",
              "      <td>0.0</td>\n",
              "      <td>0</td>\n",
              "      <td>38.0</td>\n",
              "      <td>Password</td>\n",
              "      <td>0</td>\n",
              "      <td>0.0</td>\n",
              "      <td>0.0</td>\n",
              "      <td>261.0</td>\n",
              "      <td>1.0</td>\n",
              "      <td>0.0</td>\n",
              "      <td>0.0</td>\n",
              "      <td>192.168.0.128</td>\n",
              "      <td>1.0</td>\n",
              "      <td>2.248116e+08</td>\n",
              "      <td>0.0</td>\n",
              "      <td>80.0</td>\n",
              "      <td>0x00000018</td>\n",
              "      <td>1.0</td>\n",
              "      <td>0.0</td>\n",
              "      <td>[31, 10, 3, 15, 6, 5, 2, 11, 7, 8, 2, 9, 12, 1...</td>\n",
              "      <td>50604.0</td>\n",
              "      <td>0.0</td>\n",
              "      <td>False</td>\n",
              "      <td>False</td>\n",
              "      <td>True</td>\n",
              "      <td>False</td>\n",
              "      <td>True</td>\n",
              "      <td>False</td>\n",
              "      <td>192.168.0.128</td>\n",
              "      <td>[5, 6, 7, 8, 2, 2, 0, 0, 0, 0, 0, 0, 0, 0, 0, ...</td>\n",
              "    </tr>\n",
              "    <tr>\n",
              "      <th>64730</th>\n",
              "      <td>192.168.0.170</td>\n",
              "      <td>2021 20:26:01.618398000</td>\n",
              "      <td>0x00004f26</td>\n",
              "      <td>0.0</td>\n",
              "      <td>0</td>\n",
              "      <td>0.0</td>\n",
              "      <td>Password</td>\n",
              "      <td>0</td>\n",
              "      <td>0.0</td>\n",
              "      <td>0.0</td>\n",
              "      <td>221.0</td>\n",
              "      <td>1.0</td>\n",
              "      <td>0.0</td>\n",
              "      <td>0.0</td>\n",
              "      <td>192.168.0.128</td>\n",
              "      <td>1.0</td>\n",
              "      <td>3.593927e+09</td>\n",
              "      <td>0.0</td>\n",
              "      <td>80.0</td>\n",
              "      <td>0x00000018</td>\n",
              "      <td>1.0</td>\n",
              "      <td>0.0</td>\n",
              "      <td>[18, 10, 3, 15, 6, 5, 2, 11, 7, 8, 2, 9, 12, 1...</td>\n",
              "      <td>39724.0</td>\n",
              "      <td>0.0</td>\n",
              "      <td>False</td>\n",
              "      <td>True</td>\n",
              "      <td>False</td>\n",
              "      <td>False</td>\n",
              "      <td>True</td>\n",
              "      <td>False</td>\n",
              "      <td>192.168.0.128</td>\n",
              "      <td>[0, 0, 0, 0, 0, 0, 0, 0, 0, 0, 0, 0, 0, 0, 0, ...</td>\n",
              "    </tr>\n",
              "    <tr>\n",
              "      <th>55548</th>\n",
              "      <td>192.168.0.170</td>\n",
              "      <td>2021 19:55:37.495345000</td>\n",
              "      <td>0x000006b2</td>\n",
              "      <td>0.0</td>\n",
              "      <td>0</td>\n",
              "      <td>0.0</td>\n",
              "      <td>Password</td>\n",
              "      <td>0</td>\n",
              "      <td>0.0</td>\n",
              "      <td>0.0</td>\n",
              "      <td>221.0</td>\n",
              "      <td>1.0</td>\n",
              "      <td>0.0</td>\n",
              "      <td>0.0</td>\n",
              "      <td>192.168.0.128</td>\n",
              "      <td>1.0</td>\n",
              "      <td>1.187137e+09</td>\n",
              "      <td>0.0</td>\n",
              "      <td>80.0</td>\n",
              "      <td>0x00000018</td>\n",
              "      <td>1.0</td>\n",
              "      <td>0.0</td>\n",
              "      <td>[18, 10, 3, 15, 6, 5, 2, 11, 7, 8, 2, 9, 12, 1...</td>\n",
              "      <td>41942.0</td>\n",
              "      <td>0.0</td>\n",
              "      <td>False</td>\n",
              "      <td>True</td>\n",
              "      <td>False</td>\n",
              "      <td>False</td>\n",
              "      <td>True</td>\n",
              "      <td>False</td>\n",
              "      <td>192.168.0.128</td>\n",
              "      <td>[0, 0, 0, 0, 0, 0, 0, 0, 0, 0, 0, 0, 0, 0, 0, ...</td>\n",
              "    </tr>\n",
              "  </tbody>\n",
              "</table>\n",
              "</div>\n",
              "      <button class=\"colab-df-convert\" onclick=\"convertToInteractive('df-4a072fb1-318d-4c6e-a68f-18d078f3b920')\"\n",
              "              title=\"Convert this dataframe to an interactive table.\"\n",
              "              style=\"display:none;\">\n",
              "        \n",
              "  <svg xmlns=\"http://www.w3.org/2000/svg\" height=\"24px\"viewBox=\"0 0 24 24\"\n",
              "       width=\"24px\">\n",
              "    <path d=\"M0 0h24v24H0V0z\" fill=\"none\"/>\n",
              "    <path d=\"M18.56 5.44l.94 2.06.94-2.06 2.06-.94-2.06-.94-.94-2.06-.94 2.06-2.06.94zm-11 1L8.5 8.5l.94-2.06 2.06-.94-2.06-.94L8.5 2.5l-.94 2.06-2.06.94zm10 10l.94 2.06.94-2.06 2.06-.94-2.06-.94-.94-2.06-.94 2.06-2.06.94z\"/><path d=\"M17.41 7.96l-1.37-1.37c-.4-.4-.92-.59-1.43-.59-.52 0-1.04.2-1.43.59L10.3 9.45l-7.72 7.72c-.78.78-.78 2.05 0 2.83L4 21.41c.39.39.9.59 1.41.59.51 0 1.02-.2 1.41-.59l7.78-7.78 2.81-2.81c.8-.78.8-2.07 0-2.86zM5.41 20L4 18.59l7.72-7.72 1.47 1.35L5.41 20z\"/>\n",
              "  </svg>\n",
              "      </button>\n",
              "      \n",
              "  <style>\n",
              "    .colab-df-container {\n",
              "      display:flex;\n",
              "      flex-wrap:wrap;\n",
              "      gap: 12px;\n",
              "    }\n",
              "\n",
              "    .colab-df-convert {\n",
              "      background-color: #E8F0FE;\n",
              "      border: none;\n",
              "      border-radius: 50%;\n",
              "      cursor: pointer;\n",
              "      display: none;\n",
              "      fill: #1967D2;\n",
              "      height: 32px;\n",
              "      padding: 0 0 0 0;\n",
              "      width: 32px;\n",
              "    }\n",
              "\n",
              "    .colab-df-convert:hover {\n",
              "      background-color: #E2EBFA;\n",
              "      box-shadow: 0px 1px 2px rgba(60, 64, 67, 0.3), 0px 1px 3px 1px rgba(60, 64, 67, 0.15);\n",
              "      fill: #174EA6;\n",
              "    }\n",
              "\n",
              "    [theme=dark] .colab-df-convert {\n",
              "      background-color: #3B4455;\n",
              "      fill: #D2E3FC;\n",
              "    }\n",
              "\n",
              "    [theme=dark] .colab-df-convert:hover {\n",
              "      background-color: #434B5C;\n",
              "      box-shadow: 0px 1px 3px 1px rgba(0, 0, 0, 0.15);\n",
              "      filter: drop-shadow(0px 1px 2px rgba(0, 0, 0, 0.3));\n",
              "      fill: #FFFFFF;\n",
              "    }\n",
              "  </style>\n",
              "\n",
              "      <script>\n",
              "        const buttonEl =\n",
              "          document.querySelector('#df-4a072fb1-318d-4c6e-a68f-18d078f3b920 button.colab-df-convert');\n",
              "        buttonEl.style.display =\n",
              "          google.colab.kernel.accessAllowed ? 'block' : 'none';\n",
              "\n",
              "        async function convertToInteractive(key) {\n",
              "          const element = document.querySelector('#df-4a072fb1-318d-4c6e-a68f-18d078f3b920');\n",
              "          const dataTable =\n",
              "            await google.colab.kernel.invokeFunction('convertToInteractive',\n",
              "                                                     [key], {});\n",
              "          if (!dataTable) return;\n",
              "\n",
              "          const docLinkHtml = 'Like what you see? Visit the ' +\n",
              "            '<a target=\"_blank\" href=https://colab.research.google.com/notebooks/data_table.ipynb>data table notebook</a>'\n",
              "            + ' to learn more about interactive tables.';\n",
              "          element.innerHTML = '';\n",
              "          dataTable['output_type'] = 'display_data';\n",
              "          await google.colab.output.renderOutput(dataTable, element);\n",
              "          const docLink = document.createElement('div');\n",
              "          docLink.innerHTML = docLinkHtml;\n",
              "          element.appendChild(docLink);\n",
              "        }\n",
              "      </script>\n",
              "    </div>\n",
              "  </div>\n",
              "  "
            ]
          },
          "metadata": {},
          "execution_count": 157
        }
      ],
      "source": [
        "data.head()"
      ]
    },
    {
      "cell_type": "code",
      "execution_count": 158,
      "metadata": {
        "colab": {
          "base_uri": "https://localhost:8080/",
          "height": 531
        },
        "id": "0ejwDIIW6Ayz",
        "outputId": "8e14ae06-dff8-42a0-a542-5e828417b1bc"
      },
      "outputs": [
        {
          "output_type": "execute_result",
          "data": {
            "text/plain": [
              "         ip.src_host                 frame.time tcp.checksum  http.response  \\\n",
              "18879  192.168.0.170   2021 17:42:20.919856000    0x00004a16            0.0   \n",
              "35241  192.168.0.170   2021 18:47:06.547787000    0x00009bff            0.0   \n",
              "28744  192.168.0.170   2021 18:25:19.844375000    0x0000b8e5            0.0   \n",
              "64730  192.168.0.170   2021 20:26:01.618398000    0x00004f26            0.0   \n",
              "55548  192.168.0.170   2021 19:55:37.495345000    0x000006b2            0.0   \n",
              "\n",
              "      arp.src.proto_ipv4  http.content_length Attack_type arp.dst.proto_ipv4  \\\n",
              "18879                  0                  0.0    Password                  0   \n",
              "35241                  0                  0.0    Password                  0   \n",
              "28744                  0                 38.0    Password                  0   \n",
              "64730                  0                  0.0    Password                  0   \n",
              "55548                  0                  0.0    Password                  0   \n",
              "\n",
              "       tcp.connection.rst  arp.hw.size  tcp.len  tcp.seq  tcp.connection.syn  \\\n",
              "18879                 0.0          0.0     86.0      1.0                 0.0   \n",
              "35241                 0.0          0.0     86.0      1.0                 0.0   \n",
              "28744                 0.0          0.0    261.0      1.0                 0.0   \n",
              "64730                 0.0          0.0    221.0      1.0                 0.0   \n",
              "55548                 0.0          0.0    221.0      1.0                 0.0   \n",
              "\n",
              "      http.referer    ip.dst_host  tcp.flags.ack   tcp.ack_raw  \\\n",
              "18879          0.0  192.168.0.128            1.0  6.752434e+08   \n",
              "35241          0.0  192.168.0.128            1.0  1.438164e+07   \n",
              "28744          0.0  192.168.0.128            1.0  2.248116e+08   \n",
              "64730          0.0  192.168.0.128            1.0  3.593927e+09   \n",
              "55548          0.0  192.168.0.128            1.0  1.187137e+09   \n",
              "\n",
              "       tcp.connection.fin  tcp.dstport   tcp.flags  tcp.ack  \\\n",
              "18879                 0.0         80.0  0x00000018      1.0   \n",
              "35241                 0.0         80.0  0x00000018      1.0   \n",
              "28744                 0.0         80.0  0x00000018      1.0   \n",
              "64730                 0.0         80.0  0x00000018      1.0   \n",
              "55548                 0.0         80.0  0x00000018      1.0   \n",
              "\n",
              "       tcp.connection.synack  \\\n",
              "18879                    0.0   \n",
              "35241                    0.0   \n",
              "28744                    0.0   \n",
              "64730                    0.0   \n",
              "55548                    0.0   \n",
              "\n",
              "                                             tcp.payload  tcp.srcport  \\\n",
              "18879  GET /DVWA/login.php HTTP/1.0\\nHost: 192.168.0....      50896.0   \n",
              "35241  GET /DVWA/login.php HTTP/1.0\\nHost: 192.168.0....      40796.0   \n",
              "28744  POST /DVWA/login.php HTTP/1.0\\nHost: 192.168.0...      50604.0   \n",
              "64730  GET /DVWA/login.php HTTP/1.0\\nHost: 192.168.0....      39724.0   \n",
              "55548  GET /DVWA/login.php HTTP/1.0\\nHost: 192.168.0....      41942.0   \n",
              "\n",
              "       arp.opcode      0    GET   POST  TRACE  HTTP/1.0  HTTP/1.1  \\\n",
              "18879         0.0  False   True  False  False      True     False   \n",
              "35241         0.0  False   True  False  False      True     False   \n",
              "28744         0.0  False  False   True  False      True     False   \n",
              "64730         0.0  False   True  False  False      True     False   \n",
              "55548         0.0  False   True  False  False      True     False   \n",
              "\n",
              "      http.request.uri.netloc                               http.data  \n",
              "18879           192.168.0.128                                          \n",
              "35241           192.168.0.128                                          \n",
              "28744           192.168.0.128  username=admin&password=00&Login=Login  \n",
              "64730           192.168.0.128                                          \n",
              "55548           192.168.0.128                                          "
            ],
            "text/html": [
              "\n",
              "  <div id=\"df-3d0bec68-d7ca-4dae-974b-26add73fc6a0\">\n",
              "    <div class=\"colab-df-container\">\n",
              "      <div>\n",
              "<style scoped>\n",
              "    .dataframe tbody tr th:only-of-type {\n",
              "        vertical-align: middle;\n",
              "    }\n",
              "\n",
              "    .dataframe tbody tr th {\n",
              "        vertical-align: top;\n",
              "    }\n",
              "\n",
              "    .dataframe thead th {\n",
              "        text-align: right;\n",
              "    }\n",
              "</style>\n",
              "<table border=\"1\" class=\"dataframe\">\n",
              "  <thead>\n",
              "    <tr style=\"text-align: right;\">\n",
              "      <th></th>\n",
              "      <th>ip.src_host</th>\n",
              "      <th>frame.time</th>\n",
              "      <th>tcp.checksum</th>\n",
              "      <th>http.response</th>\n",
              "      <th>arp.src.proto_ipv4</th>\n",
              "      <th>http.content_length</th>\n",
              "      <th>Attack_type</th>\n",
              "      <th>arp.dst.proto_ipv4</th>\n",
              "      <th>tcp.connection.rst</th>\n",
              "      <th>arp.hw.size</th>\n",
              "      <th>tcp.len</th>\n",
              "      <th>tcp.seq</th>\n",
              "      <th>tcp.connection.syn</th>\n",
              "      <th>http.referer</th>\n",
              "      <th>ip.dst_host</th>\n",
              "      <th>tcp.flags.ack</th>\n",
              "      <th>tcp.ack_raw</th>\n",
              "      <th>tcp.connection.fin</th>\n",
              "      <th>tcp.dstport</th>\n",
              "      <th>tcp.flags</th>\n",
              "      <th>tcp.ack</th>\n",
              "      <th>tcp.connection.synack</th>\n",
              "      <th>tcp.payload</th>\n",
              "      <th>tcp.srcport</th>\n",
              "      <th>arp.opcode</th>\n",
              "      <th>0</th>\n",
              "      <th>GET</th>\n",
              "      <th>POST</th>\n",
              "      <th>TRACE</th>\n",
              "      <th>HTTP/1.0</th>\n",
              "      <th>HTTP/1.1</th>\n",
              "      <th>http.request.uri.netloc</th>\n",
              "      <th>http.data</th>\n",
              "    </tr>\n",
              "  </thead>\n",
              "  <tbody>\n",
              "    <tr>\n",
              "      <th>18879</th>\n",
              "      <td>192.168.0.170</td>\n",
              "      <td>2021 17:42:20.919856000</td>\n",
              "      <td>0x00004a16</td>\n",
              "      <td>0.0</td>\n",
              "      <td>0</td>\n",
              "      <td>0.0</td>\n",
              "      <td>Password</td>\n",
              "      <td>0</td>\n",
              "      <td>0.0</td>\n",
              "      <td>0.0</td>\n",
              "      <td>86.0</td>\n",
              "      <td>1.0</td>\n",
              "      <td>0.0</td>\n",
              "      <td>0.0</td>\n",
              "      <td>192.168.0.128</td>\n",
              "      <td>1.0</td>\n",
              "      <td>6.752434e+08</td>\n",
              "      <td>0.0</td>\n",
              "      <td>80.0</td>\n",
              "      <td>0x00000018</td>\n",
              "      <td>1.0</td>\n",
              "      <td>0.0</td>\n",
              "      <td>GET /DVWA/login.php HTTP/1.0\\nHost: 192.168.0....</td>\n",
              "      <td>50896.0</td>\n",
              "      <td>0.0</td>\n",
              "      <td>False</td>\n",
              "      <td>True</td>\n",
              "      <td>False</td>\n",
              "      <td>False</td>\n",
              "      <td>True</td>\n",
              "      <td>False</td>\n",
              "      <td>192.168.0.128</td>\n",
              "      <td></td>\n",
              "    </tr>\n",
              "    <tr>\n",
              "      <th>35241</th>\n",
              "      <td>192.168.0.170</td>\n",
              "      <td>2021 18:47:06.547787000</td>\n",
              "      <td>0x00009bff</td>\n",
              "      <td>0.0</td>\n",
              "      <td>0</td>\n",
              "      <td>0.0</td>\n",
              "      <td>Password</td>\n",
              "      <td>0</td>\n",
              "      <td>0.0</td>\n",
              "      <td>0.0</td>\n",
              "      <td>86.0</td>\n",
              "      <td>1.0</td>\n",
              "      <td>0.0</td>\n",
              "      <td>0.0</td>\n",
              "      <td>192.168.0.128</td>\n",
              "      <td>1.0</td>\n",
              "      <td>1.438164e+07</td>\n",
              "      <td>0.0</td>\n",
              "      <td>80.0</td>\n",
              "      <td>0x00000018</td>\n",
              "      <td>1.0</td>\n",
              "      <td>0.0</td>\n",
              "      <td>GET /DVWA/login.php HTTP/1.0\\nHost: 192.168.0....</td>\n",
              "      <td>40796.0</td>\n",
              "      <td>0.0</td>\n",
              "      <td>False</td>\n",
              "      <td>True</td>\n",
              "      <td>False</td>\n",
              "      <td>False</td>\n",
              "      <td>True</td>\n",
              "      <td>False</td>\n",
              "      <td>192.168.0.128</td>\n",
              "      <td></td>\n",
              "    </tr>\n",
              "    <tr>\n",
              "      <th>28744</th>\n",
              "      <td>192.168.0.170</td>\n",
              "      <td>2021 18:25:19.844375000</td>\n",
              "      <td>0x0000b8e5</td>\n",
              "      <td>0.0</td>\n",
              "      <td>0</td>\n",
              "      <td>38.0</td>\n",
              "      <td>Password</td>\n",
              "      <td>0</td>\n",
              "      <td>0.0</td>\n",
              "      <td>0.0</td>\n",
              "      <td>261.0</td>\n",
              "      <td>1.0</td>\n",
              "      <td>0.0</td>\n",
              "      <td>0.0</td>\n",
              "      <td>192.168.0.128</td>\n",
              "      <td>1.0</td>\n",
              "      <td>2.248116e+08</td>\n",
              "      <td>0.0</td>\n",
              "      <td>80.0</td>\n",
              "      <td>0x00000018</td>\n",
              "      <td>1.0</td>\n",
              "      <td>0.0</td>\n",
              "      <td>POST /DVWA/login.php HTTP/1.0\\nHost: 192.168.0...</td>\n",
              "      <td>50604.0</td>\n",
              "      <td>0.0</td>\n",
              "      <td>False</td>\n",
              "      <td>False</td>\n",
              "      <td>True</td>\n",
              "      <td>False</td>\n",
              "      <td>True</td>\n",
              "      <td>False</td>\n",
              "      <td>192.168.0.128</td>\n",
              "      <td>username=admin&amp;password=00&amp;Login=Login</td>\n",
              "    </tr>\n",
              "    <tr>\n",
              "      <th>64730</th>\n",
              "      <td>192.168.0.170</td>\n",
              "      <td>2021 20:26:01.618398000</td>\n",
              "      <td>0x00004f26</td>\n",
              "      <td>0.0</td>\n",
              "      <td>0</td>\n",
              "      <td>0.0</td>\n",
              "      <td>Password</td>\n",
              "      <td>0</td>\n",
              "      <td>0.0</td>\n",
              "      <td>0.0</td>\n",
              "      <td>221.0</td>\n",
              "      <td>1.0</td>\n",
              "      <td>0.0</td>\n",
              "      <td>0.0</td>\n",
              "      <td>192.168.0.128</td>\n",
              "      <td>1.0</td>\n",
              "      <td>3.593927e+09</td>\n",
              "      <td>0.0</td>\n",
              "      <td>80.0</td>\n",
              "      <td>0x00000018</td>\n",
              "      <td>1.0</td>\n",
              "      <td>0.0</td>\n",
              "      <td>GET /DVWA/login.php HTTP/1.0\\nHost: 192.168.0....</td>\n",
              "      <td>39724.0</td>\n",
              "      <td>0.0</td>\n",
              "      <td>False</td>\n",
              "      <td>True</td>\n",
              "      <td>False</td>\n",
              "      <td>False</td>\n",
              "      <td>True</td>\n",
              "      <td>False</td>\n",
              "      <td>192.168.0.128</td>\n",
              "      <td></td>\n",
              "    </tr>\n",
              "    <tr>\n",
              "      <th>55548</th>\n",
              "      <td>192.168.0.170</td>\n",
              "      <td>2021 19:55:37.495345000</td>\n",
              "      <td>0x000006b2</td>\n",
              "      <td>0.0</td>\n",
              "      <td>0</td>\n",
              "      <td>0.0</td>\n",
              "      <td>Password</td>\n",
              "      <td>0</td>\n",
              "      <td>0.0</td>\n",
              "      <td>0.0</td>\n",
              "      <td>221.0</td>\n",
              "      <td>1.0</td>\n",
              "      <td>0.0</td>\n",
              "      <td>0.0</td>\n",
              "      <td>192.168.0.128</td>\n",
              "      <td>1.0</td>\n",
              "      <td>1.187137e+09</td>\n",
              "      <td>0.0</td>\n",
              "      <td>80.0</td>\n",
              "      <td>0x00000018</td>\n",
              "      <td>1.0</td>\n",
              "      <td>0.0</td>\n",
              "      <td>GET /DVWA/login.php HTTP/1.0\\nHost: 192.168.0....</td>\n",
              "      <td>41942.0</td>\n",
              "      <td>0.0</td>\n",
              "      <td>False</td>\n",
              "      <td>True</td>\n",
              "      <td>False</td>\n",
              "      <td>False</td>\n",
              "      <td>True</td>\n",
              "      <td>False</td>\n",
              "      <td>192.168.0.128</td>\n",
              "      <td></td>\n",
              "    </tr>\n",
              "  </tbody>\n",
              "</table>\n",
              "</div>\n",
              "      <button class=\"colab-df-convert\" onclick=\"convertToInteractive('df-3d0bec68-d7ca-4dae-974b-26add73fc6a0')\"\n",
              "              title=\"Convert this dataframe to an interactive table.\"\n",
              "              style=\"display:none;\">\n",
              "        \n",
              "  <svg xmlns=\"http://www.w3.org/2000/svg\" height=\"24px\"viewBox=\"0 0 24 24\"\n",
              "       width=\"24px\">\n",
              "    <path d=\"M0 0h24v24H0V0z\" fill=\"none\"/>\n",
              "    <path d=\"M18.56 5.44l.94 2.06.94-2.06 2.06-.94-2.06-.94-.94-2.06-.94 2.06-2.06.94zm-11 1L8.5 8.5l.94-2.06 2.06-.94-2.06-.94L8.5 2.5l-.94 2.06-2.06.94zm10 10l.94 2.06.94-2.06 2.06-.94-2.06-.94-.94-2.06-.94 2.06-2.06.94z\"/><path d=\"M17.41 7.96l-1.37-1.37c-.4-.4-.92-.59-1.43-.59-.52 0-1.04.2-1.43.59L10.3 9.45l-7.72 7.72c-.78.78-.78 2.05 0 2.83L4 21.41c.39.39.9.59 1.41.59.51 0 1.02-.2 1.41-.59l7.78-7.78 2.81-2.81c.8-.78.8-2.07 0-2.86zM5.41 20L4 18.59l7.72-7.72 1.47 1.35L5.41 20z\"/>\n",
              "  </svg>\n",
              "      </button>\n",
              "      \n",
              "  <style>\n",
              "    .colab-df-container {\n",
              "      display:flex;\n",
              "      flex-wrap:wrap;\n",
              "      gap: 12px;\n",
              "    }\n",
              "\n",
              "    .colab-df-convert {\n",
              "      background-color: #E8F0FE;\n",
              "      border: none;\n",
              "      border-radius: 50%;\n",
              "      cursor: pointer;\n",
              "      display: none;\n",
              "      fill: #1967D2;\n",
              "      height: 32px;\n",
              "      padding: 0 0 0 0;\n",
              "      width: 32px;\n",
              "    }\n",
              "\n",
              "    .colab-df-convert:hover {\n",
              "      background-color: #E2EBFA;\n",
              "      box-shadow: 0px 1px 2px rgba(60, 64, 67, 0.3), 0px 1px 3px 1px rgba(60, 64, 67, 0.15);\n",
              "      fill: #174EA6;\n",
              "    }\n",
              "\n",
              "    [theme=dark] .colab-df-convert {\n",
              "      background-color: #3B4455;\n",
              "      fill: #D2E3FC;\n",
              "    }\n",
              "\n",
              "    [theme=dark] .colab-df-convert:hover {\n",
              "      background-color: #434B5C;\n",
              "      box-shadow: 0px 1px 3px 1px rgba(0, 0, 0, 0.15);\n",
              "      filter: drop-shadow(0px 1px 2px rgba(0, 0, 0, 0.3));\n",
              "      fill: #FFFFFF;\n",
              "    }\n",
              "  </style>\n",
              "\n",
              "      <script>\n",
              "        const buttonEl =\n",
              "          document.querySelector('#df-3d0bec68-d7ca-4dae-974b-26add73fc6a0 button.colab-df-convert');\n",
              "        buttonEl.style.display =\n",
              "          google.colab.kernel.accessAllowed ? 'block' : 'none';\n",
              "\n",
              "        async function convertToInteractive(key) {\n",
              "          const element = document.querySelector('#df-3d0bec68-d7ca-4dae-974b-26add73fc6a0');\n",
              "          const dataTable =\n",
              "            await google.colab.kernel.invokeFunction('convertToInteractive',\n",
              "                                                     [key], {});\n",
              "          if (!dataTable) return;\n",
              "\n",
              "          const docLinkHtml = 'Like what you see? Visit the ' +\n",
              "            '<a target=\"_blank\" href=https://colab.research.google.com/notebooks/data_table.ipynb>data table notebook</a>'\n",
              "            + ' to learn more about interactive tables.';\n",
              "          element.innerHTML = '';\n",
              "          dataTable['output_type'] = 'display_data';\n",
              "          await google.colab.output.renderOutput(dataTable, element);\n",
              "          const docLink = document.createElement('div');\n",
              "          docLink.innerHTML = docLinkHtml;\n",
              "          element.appendChild(docLink);\n",
              "        }\n",
              "      </script>\n",
              "    </div>\n",
              "  </div>\n",
              "  "
            ]
          },
          "metadata": {},
          "execution_count": 158
        }
      ],
      "source": [
        "original_data.head()"
      ]
    },
    {
      "cell_type": "code",
      "execution_count": 159,
      "metadata": {
        "id": "yrjsx7hF6Ay0"
      },
      "outputs": [],
      "source": [
        "def zipFile(fileName):\n",
        "    import shutil\n",
        "    shutil.make_archive(fileName,\"zip\", fileName)"
      ]
    },
    {
      "cell_type": "markdown",
      "source": [
        "## DNN을 위한 전처리"
      ],
      "metadata": {
        "id": "Xv26QBrmK_aM"
      }
    },
    {
      "cell_type": "code",
      "source": [
        "# process time data into hour\n",
        "def time_to_sec(time):\n",
        "    hour, minute, second = list(map(float, time[5:].strip().split(\":\")))\n",
        "    sec = hour*3600 + minute*60 + second\n",
        "    return sec / 3600\n",
        "data[\"frame.time\"] = original_data[\"frame.time\"].apply(time_to_sec)"
      ],
      "metadata": {
        "id": "MUqv-H_tK-jl"
      },
      "execution_count": 160,
      "outputs": []
    },
    {
      "cell_type": "code",
      "source": [
        "# tcp.checksum float로 변경\n",
        "data[\"tcp.checksum\"] = original_data[\"tcp.checksum\"].astype(\"str\").apply(lambda x: int(x[2:] if x[2:] else \"0\", 16))"
      ],
      "metadata": {
        "id": "Syqf6dJmLJdh"
      },
      "execution_count": 161,
      "outputs": []
    },
    {
      "cell_type": "code",
      "source": [
        "# tcp.flag float로 변경\n",
        "data[\"tcp.flags\"] = original_data[\"tcp.flags\"].astype(\"str\").apply(lambda x: int(x[2:] if x[2:] else \"0\", 16))"
      ],
      "metadata": {
        "id": "I3lxqY0VLLqA"
      },
      "execution_count": 162,
      "outputs": []
    },
    {
      "cell_type": "code",
      "source": [
        "# tcp.ack_raw 정규화\n",
        "data[\"tcp.ack_raw\"] = (original_data[\"tcp.ack_raw\"] - original_data[\"tcp.ack_raw\"].mean()) / original_data[\"tcp.ack_raw\"].std()"
      ],
      "metadata": {
        "id": "fqXOLjAyLNsh"
      },
      "execution_count": 163,
      "outputs": []
    },
    {
      "cell_type": "code",
      "source": [
        "# tcp.ack 정규화\n",
        "data[\"tcp.ack\"] = (original_data[\"tcp.ack\"] - original_data[\"tcp.ack\"].mean()) / original_data[\"tcp.ack\"].std()"
      ],
      "metadata": {
        "id": "40vExlpILPJw"
      },
      "execution_count": 164,
      "outputs": []
    },
    {
      "cell_type": "code",
      "source": [
        "for feature in [\"GET\", \"POST\", \"TRACE\", \"HTTP/1.0\", \"HTTP/1.1\"]:\n",
        "    data[feature] = original_data[feature].apply(int)"
      ],
      "metadata": {
        "id": "-unJYmc0NDUq"
      },
      "execution_count": 176,
      "outputs": []
    },
    {
      "cell_type": "code",
      "source": [
        "# http.referer는 [0.0, '0.0', '0', '127.0.0.1'] 의 값만을 갖고 있으므로, 의미가 없음.\n",
        "data = data.drop([\"http.referer\"], axis=\"columns\") "
      ],
      "metadata": {
        "id": "0ZSrMVTpOTLc"
      },
      "execution_count": 202,
      "outputs": []
    },
    {
      "cell_type": "code",
      "source": [
        "data = data.drop([\"0\"], axis=\"columns\")"
      ],
      "metadata": {
        "id": "MkfHRhUXLRj0"
      },
      "execution_count": null,
      "outputs": []
    },
    {
      "cell_type": "code",
      "source": [
        "# DNN을 할 columns\n",
        "DNN_COLS = ['frame.time', 'tcp.checksum', 'http.response',\n",
        "       'http.content_length',\n",
        "       'tcp.connection.rst', 'arp.hw.size', 'tcp.len',\n",
        "       'tcp.seq', 'tcp.connection.syn',\n",
        "       'tcp.flags.ack', 'tcp.ack_raw', 'tcp.connection.fin', 'tcp.dstport',\n",
        "       'tcp.flags', 'tcp.ack', 'tcp.connection.synack', \n",
        "       'tcp.srcport', 'arp.opcode', 'GET', 'POST', 'TRACE', 'HTTP/1.0',\n",
        "       'HTTP/1.1']\n",
        "data[DNN_COLS].head(10)"
      ],
      "metadata": {
        "colab": {
          "base_uri": "https://localhost:8080/",
          "height": 427
        },
        "id": "5icTXefULVVG",
        "outputId": "d6d37ae8-400e-4889-8d0f-d9bed7ae8457"
      },
      "execution_count": 204,
      "outputs": [
        {
          "output_type": "execute_result",
          "data": {
            "text/plain": [
              "       frame.time  tcp.checksum  http.response  http.content_length  \\\n",
              "18879   17.705811         18966            0.0                  0.0   \n",
              "35241   18.785152         39935            0.0                  0.0   \n",
              "28744   18.422179         47333            0.0                 38.0   \n",
              "64730   20.433783         20262            0.0                  0.0   \n",
              "55548   19.927082          1714            0.0                  0.0   \n",
              "48384   19.527418         55511            0.0                 38.0   \n",
              "24282   18.087522         63512            0.0                  0.0   \n",
              "47766   19.492175          8552            0.0                 38.0   \n",
              "65858   20.495657         43138            0.0                  0.0   \n",
              "15676   17.525967         52757            0.0                  0.0   \n",
              "\n",
              "       tcp.connection.rst  arp.hw.size  tcp.len  tcp.seq  tcp.connection.syn  \\\n",
              "18879                 0.0          0.0     86.0      1.0                 0.0   \n",
              "35241                 0.0          0.0     86.0      1.0                 0.0   \n",
              "28744                 0.0          0.0    261.0      1.0                 0.0   \n",
              "64730                 0.0          0.0    221.0      1.0                 0.0   \n",
              "55548                 0.0          0.0    221.0      1.0                 0.0   \n",
              "48384                 0.0          0.0    261.0      1.0                 0.0   \n",
              "24282                 0.0          0.0    221.0      1.0                 0.0   \n",
              "47766                 0.0          0.0    261.0      1.0                 0.0   \n",
              "65858                 0.0          0.0    221.0      1.0                 0.0   \n",
              "15676                 0.0          0.0     86.0      1.0                 0.0   \n",
              "\n",
              "       tcp.flags.ack  tcp.ack_raw  tcp.connection.fin  tcp.dstport  tcp.flags  \\\n",
              "18879            1.0    -1.111343                 0.0         80.0         24   \n",
              "35241            1.0    -1.630681                 0.0         80.0         24   \n",
              "28744            1.0    -1.465315                 0.0         80.0         24   \n",
              "64730            1.0     1.182305                 0.0         80.0         24   \n",
              "55548            1.0    -0.709072                 0.0         80.0         24   \n",
              "48384            1.0     0.248223                 0.0         80.0         24   \n",
              "24282            1.0    -0.196100                 0.0         80.0         24   \n",
              "47766            1.0     0.146197                 0.0         80.0         24   \n",
              "65858            1.0     1.494050                 0.0         80.0         24   \n",
              "15676            1.0    -0.150152                 0.0         80.0         24   \n",
              "\n",
              "       tcp.ack  tcp.connection.synack  tcp.srcport  arp.opcode  GET  POST  \\\n",
              "18879 -0.26364                    0.0      50896.0         0.0    1     0   \n",
              "35241 -0.26364                    0.0      40796.0         0.0    1     0   \n",
              "28744 -0.26364                    0.0      50604.0         0.0    0     1   \n",
              "64730 -0.26364                    0.0      39724.0         0.0    1     0   \n",
              "55548 -0.26364                    0.0      41942.0         0.0    1     0   \n",
              "48384 -0.26364                    0.0      49782.0         0.0    0     1   \n",
              "24282 -0.26364                    0.0      37968.0         0.0    1     0   \n",
              "47766 -0.26364                    0.0      48048.0         0.0    0     1   \n",
              "65858 -0.26364                    0.0      42928.0         0.0    1     0   \n",
              "15676 -0.26364                    0.0      41784.0         0.0    1     0   \n",
              "\n",
              "       TRACE  HTTP/1.0  HTTP/1.1  \n",
              "18879      0         1         0  \n",
              "35241      0         1         0  \n",
              "28744      0         1         0  \n",
              "64730      0         1         0  \n",
              "55548      0         1         0  \n",
              "48384      0         1         0  \n",
              "24282      0         1         0  \n",
              "47766      0         1         0  \n",
              "65858      0         1         0  \n",
              "15676      0         1         0  "
            ],
            "text/html": [
              "\n",
              "  <div id=\"df-956fca70-3e26-4eb5-83dc-fed7a597aa05\">\n",
              "    <div class=\"colab-df-container\">\n",
              "      <div>\n",
              "<style scoped>\n",
              "    .dataframe tbody tr th:only-of-type {\n",
              "        vertical-align: middle;\n",
              "    }\n",
              "\n",
              "    .dataframe tbody tr th {\n",
              "        vertical-align: top;\n",
              "    }\n",
              "\n",
              "    .dataframe thead th {\n",
              "        text-align: right;\n",
              "    }\n",
              "</style>\n",
              "<table border=\"1\" class=\"dataframe\">\n",
              "  <thead>\n",
              "    <tr style=\"text-align: right;\">\n",
              "      <th></th>\n",
              "      <th>frame.time</th>\n",
              "      <th>tcp.checksum</th>\n",
              "      <th>http.response</th>\n",
              "      <th>http.content_length</th>\n",
              "      <th>tcp.connection.rst</th>\n",
              "      <th>arp.hw.size</th>\n",
              "      <th>tcp.len</th>\n",
              "      <th>tcp.seq</th>\n",
              "      <th>tcp.connection.syn</th>\n",
              "      <th>tcp.flags.ack</th>\n",
              "      <th>tcp.ack_raw</th>\n",
              "      <th>tcp.connection.fin</th>\n",
              "      <th>tcp.dstport</th>\n",
              "      <th>tcp.flags</th>\n",
              "      <th>tcp.ack</th>\n",
              "      <th>tcp.connection.synack</th>\n",
              "      <th>tcp.srcport</th>\n",
              "      <th>arp.opcode</th>\n",
              "      <th>GET</th>\n",
              "      <th>POST</th>\n",
              "      <th>TRACE</th>\n",
              "      <th>HTTP/1.0</th>\n",
              "      <th>HTTP/1.1</th>\n",
              "    </tr>\n",
              "  </thead>\n",
              "  <tbody>\n",
              "    <tr>\n",
              "      <th>18879</th>\n",
              "      <td>17.705811</td>\n",
              "      <td>18966</td>\n",
              "      <td>0.0</td>\n",
              "      <td>0.0</td>\n",
              "      <td>0.0</td>\n",
              "      <td>0.0</td>\n",
              "      <td>86.0</td>\n",
              "      <td>1.0</td>\n",
              "      <td>0.0</td>\n",
              "      <td>1.0</td>\n",
              "      <td>-1.111343</td>\n",
              "      <td>0.0</td>\n",
              "      <td>80.0</td>\n",
              "      <td>24</td>\n",
              "      <td>-0.26364</td>\n",
              "      <td>0.0</td>\n",
              "      <td>50896.0</td>\n",
              "      <td>0.0</td>\n",
              "      <td>1</td>\n",
              "      <td>0</td>\n",
              "      <td>0</td>\n",
              "      <td>1</td>\n",
              "      <td>0</td>\n",
              "    </tr>\n",
              "    <tr>\n",
              "      <th>35241</th>\n",
              "      <td>18.785152</td>\n",
              "      <td>39935</td>\n",
              "      <td>0.0</td>\n",
              "      <td>0.0</td>\n",
              "      <td>0.0</td>\n",
              "      <td>0.0</td>\n",
              "      <td>86.0</td>\n",
              "      <td>1.0</td>\n",
              "      <td>0.0</td>\n",
              "      <td>1.0</td>\n",
              "      <td>-1.630681</td>\n",
              "      <td>0.0</td>\n",
              "      <td>80.0</td>\n",
              "      <td>24</td>\n",
              "      <td>-0.26364</td>\n",
              "      <td>0.0</td>\n",
              "      <td>40796.0</td>\n",
              "      <td>0.0</td>\n",
              "      <td>1</td>\n",
              "      <td>0</td>\n",
              "      <td>0</td>\n",
              "      <td>1</td>\n",
              "      <td>0</td>\n",
              "    </tr>\n",
              "    <tr>\n",
              "      <th>28744</th>\n",
              "      <td>18.422179</td>\n",
              "      <td>47333</td>\n",
              "      <td>0.0</td>\n",
              "      <td>38.0</td>\n",
              "      <td>0.0</td>\n",
              "      <td>0.0</td>\n",
              "      <td>261.0</td>\n",
              "      <td>1.0</td>\n",
              "      <td>0.0</td>\n",
              "      <td>1.0</td>\n",
              "      <td>-1.465315</td>\n",
              "      <td>0.0</td>\n",
              "      <td>80.0</td>\n",
              "      <td>24</td>\n",
              "      <td>-0.26364</td>\n",
              "      <td>0.0</td>\n",
              "      <td>50604.0</td>\n",
              "      <td>0.0</td>\n",
              "      <td>0</td>\n",
              "      <td>1</td>\n",
              "      <td>0</td>\n",
              "      <td>1</td>\n",
              "      <td>0</td>\n",
              "    </tr>\n",
              "    <tr>\n",
              "      <th>64730</th>\n",
              "      <td>20.433783</td>\n",
              "      <td>20262</td>\n",
              "      <td>0.0</td>\n",
              "      <td>0.0</td>\n",
              "      <td>0.0</td>\n",
              "      <td>0.0</td>\n",
              "      <td>221.0</td>\n",
              "      <td>1.0</td>\n",
              "      <td>0.0</td>\n",
              "      <td>1.0</td>\n",
              "      <td>1.182305</td>\n",
              "      <td>0.0</td>\n",
              "      <td>80.0</td>\n",
              "      <td>24</td>\n",
              "      <td>-0.26364</td>\n",
              "      <td>0.0</td>\n",
              "      <td>39724.0</td>\n",
              "      <td>0.0</td>\n",
              "      <td>1</td>\n",
              "      <td>0</td>\n",
              "      <td>0</td>\n",
              "      <td>1</td>\n",
              "      <td>0</td>\n",
              "    </tr>\n",
              "    <tr>\n",
              "      <th>55548</th>\n",
              "      <td>19.927082</td>\n",
              "      <td>1714</td>\n",
              "      <td>0.0</td>\n",
              "      <td>0.0</td>\n",
              "      <td>0.0</td>\n",
              "      <td>0.0</td>\n",
              "      <td>221.0</td>\n",
              "      <td>1.0</td>\n",
              "      <td>0.0</td>\n",
              "      <td>1.0</td>\n",
              "      <td>-0.709072</td>\n",
              "      <td>0.0</td>\n",
              "      <td>80.0</td>\n",
              "      <td>24</td>\n",
              "      <td>-0.26364</td>\n",
              "      <td>0.0</td>\n",
              "      <td>41942.0</td>\n",
              "      <td>0.0</td>\n",
              "      <td>1</td>\n",
              "      <td>0</td>\n",
              "      <td>0</td>\n",
              "      <td>1</td>\n",
              "      <td>0</td>\n",
              "    </tr>\n",
              "    <tr>\n",
              "      <th>48384</th>\n",
              "      <td>19.527418</td>\n",
              "      <td>55511</td>\n",
              "      <td>0.0</td>\n",
              "      <td>38.0</td>\n",
              "      <td>0.0</td>\n",
              "      <td>0.0</td>\n",
              "      <td>261.0</td>\n",
              "      <td>1.0</td>\n",
              "      <td>0.0</td>\n",
              "      <td>1.0</td>\n",
              "      <td>0.248223</td>\n",
              "      <td>0.0</td>\n",
              "      <td>80.0</td>\n",
              "      <td>24</td>\n",
              "      <td>-0.26364</td>\n",
              "      <td>0.0</td>\n",
              "      <td>49782.0</td>\n",
              "      <td>0.0</td>\n",
              "      <td>0</td>\n",
              "      <td>1</td>\n",
              "      <td>0</td>\n",
              "      <td>1</td>\n",
              "      <td>0</td>\n",
              "    </tr>\n",
              "    <tr>\n",
              "      <th>24282</th>\n",
              "      <td>18.087522</td>\n",
              "      <td>63512</td>\n",
              "      <td>0.0</td>\n",
              "      <td>0.0</td>\n",
              "      <td>0.0</td>\n",
              "      <td>0.0</td>\n",
              "      <td>221.0</td>\n",
              "      <td>1.0</td>\n",
              "      <td>0.0</td>\n",
              "      <td>1.0</td>\n",
              "      <td>-0.196100</td>\n",
              "      <td>0.0</td>\n",
              "      <td>80.0</td>\n",
              "      <td>24</td>\n",
              "      <td>-0.26364</td>\n",
              "      <td>0.0</td>\n",
              "      <td>37968.0</td>\n",
              "      <td>0.0</td>\n",
              "      <td>1</td>\n",
              "      <td>0</td>\n",
              "      <td>0</td>\n",
              "      <td>1</td>\n",
              "      <td>0</td>\n",
              "    </tr>\n",
              "    <tr>\n",
              "      <th>47766</th>\n",
              "      <td>19.492175</td>\n",
              "      <td>8552</td>\n",
              "      <td>0.0</td>\n",
              "      <td>38.0</td>\n",
              "      <td>0.0</td>\n",
              "      <td>0.0</td>\n",
              "      <td>261.0</td>\n",
              "      <td>1.0</td>\n",
              "      <td>0.0</td>\n",
              "      <td>1.0</td>\n",
              "      <td>0.146197</td>\n",
              "      <td>0.0</td>\n",
              "      <td>80.0</td>\n",
              "      <td>24</td>\n",
              "      <td>-0.26364</td>\n",
              "      <td>0.0</td>\n",
              "      <td>48048.0</td>\n",
              "      <td>0.0</td>\n",
              "      <td>0</td>\n",
              "      <td>1</td>\n",
              "      <td>0</td>\n",
              "      <td>1</td>\n",
              "      <td>0</td>\n",
              "    </tr>\n",
              "    <tr>\n",
              "      <th>65858</th>\n",
              "      <td>20.495657</td>\n",
              "      <td>43138</td>\n",
              "      <td>0.0</td>\n",
              "      <td>0.0</td>\n",
              "      <td>0.0</td>\n",
              "      <td>0.0</td>\n",
              "      <td>221.0</td>\n",
              "      <td>1.0</td>\n",
              "      <td>0.0</td>\n",
              "      <td>1.0</td>\n",
              "      <td>1.494050</td>\n",
              "      <td>0.0</td>\n",
              "      <td>80.0</td>\n",
              "      <td>24</td>\n",
              "      <td>-0.26364</td>\n",
              "      <td>0.0</td>\n",
              "      <td>42928.0</td>\n",
              "      <td>0.0</td>\n",
              "      <td>1</td>\n",
              "      <td>0</td>\n",
              "      <td>0</td>\n",
              "      <td>1</td>\n",
              "      <td>0</td>\n",
              "    </tr>\n",
              "    <tr>\n",
              "      <th>15676</th>\n",
              "      <td>17.525967</td>\n",
              "      <td>52757</td>\n",
              "      <td>0.0</td>\n",
              "      <td>0.0</td>\n",
              "      <td>0.0</td>\n",
              "      <td>0.0</td>\n",
              "      <td>86.0</td>\n",
              "      <td>1.0</td>\n",
              "      <td>0.0</td>\n",
              "      <td>1.0</td>\n",
              "      <td>-0.150152</td>\n",
              "      <td>0.0</td>\n",
              "      <td>80.0</td>\n",
              "      <td>24</td>\n",
              "      <td>-0.26364</td>\n",
              "      <td>0.0</td>\n",
              "      <td>41784.0</td>\n",
              "      <td>0.0</td>\n",
              "      <td>1</td>\n",
              "      <td>0</td>\n",
              "      <td>0</td>\n",
              "      <td>1</td>\n",
              "      <td>0</td>\n",
              "    </tr>\n",
              "  </tbody>\n",
              "</table>\n",
              "</div>\n",
              "      <button class=\"colab-df-convert\" onclick=\"convertToInteractive('df-956fca70-3e26-4eb5-83dc-fed7a597aa05')\"\n",
              "              title=\"Convert this dataframe to an interactive table.\"\n",
              "              style=\"display:none;\">\n",
              "        \n",
              "  <svg xmlns=\"http://www.w3.org/2000/svg\" height=\"24px\"viewBox=\"0 0 24 24\"\n",
              "       width=\"24px\">\n",
              "    <path d=\"M0 0h24v24H0V0z\" fill=\"none\"/>\n",
              "    <path d=\"M18.56 5.44l.94 2.06.94-2.06 2.06-.94-2.06-.94-.94-2.06-.94 2.06-2.06.94zm-11 1L8.5 8.5l.94-2.06 2.06-.94-2.06-.94L8.5 2.5l-.94 2.06-2.06.94zm10 10l.94 2.06.94-2.06 2.06-.94-2.06-.94-.94-2.06-.94 2.06-2.06.94z\"/><path d=\"M17.41 7.96l-1.37-1.37c-.4-.4-.92-.59-1.43-.59-.52 0-1.04.2-1.43.59L10.3 9.45l-7.72 7.72c-.78.78-.78 2.05 0 2.83L4 21.41c.39.39.9.59 1.41.59.51 0 1.02-.2 1.41-.59l7.78-7.78 2.81-2.81c.8-.78.8-2.07 0-2.86zM5.41 20L4 18.59l7.72-7.72 1.47 1.35L5.41 20z\"/>\n",
              "  </svg>\n",
              "      </button>\n",
              "      \n",
              "  <style>\n",
              "    .colab-df-container {\n",
              "      display:flex;\n",
              "      flex-wrap:wrap;\n",
              "      gap: 12px;\n",
              "    }\n",
              "\n",
              "    .colab-df-convert {\n",
              "      background-color: #E8F0FE;\n",
              "      border: none;\n",
              "      border-radius: 50%;\n",
              "      cursor: pointer;\n",
              "      display: none;\n",
              "      fill: #1967D2;\n",
              "      height: 32px;\n",
              "      padding: 0 0 0 0;\n",
              "      width: 32px;\n",
              "    }\n",
              "\n",
              "    .colab-df-convert:hover {\n",
              "      background-color: #E2EBFA;\n",
              "      box-shadow: 0px 1px 2px rgba(60, 64, 67, 0.3), 0px 1px 3px 1px rgba(60, 64, 67, 0.15);\n",
              "      fill: #174EA6;\n",
              "    }\n",
              "\n",
              "    [theme=dark] .colab-df-convert {\n",
              "      background-color: #3B4455;\n",
              "      fill: #D2E3FC;\n",
              "    }\n",
              "\n",
              "    [theme=dark] .colab-df-convert:hover {\n",
              "      background-color: #434B5C;\n",
              "      box-shadow: 0px 1px 3px 1px rgba(0, 0, 0, 0.15);\n",
              "      filter: drop-shadow(0px 1px 2px rgba(0, 0, 0, 0.3));\n",
              "      fill: #FFFFFF;\n",
              "    }\n",
              "  </style>\n",
              "\n",
              "      <script>\n",
              "        const buttonEl =\n",
              "          document.querySelector('#df-956fca70-3e26-4eb5-83dc-fed7a597aa05 button.colab-df-convert');\n",
              "        buttonEl.style.display =\n",
              "          google.colab.kernel.accessAllowed ? 'block' : 'none';\n",
              "\n",
              "        async function convertToInteractive(key) {\n",
              "          const element = document.querySelector('#df-956fca70-3e26-4eb5-83dc-fed7a597aa05');\n",
              "          const dataTable =\n",
              "            await google.colab.kernel.invokeFunction('convertToInteractive',\n",
              "                                                     [key], {});\n",
              "          if (!dataTable) return;\n",
              "\n",
              "          const docLinkHtml = 'Like what you see? Visit the ' +\n",
              "            '<a target=\"_blank\" href=https://colab.research.google.com/notebooks/data_table.ipynb>data table notebook</a>'\n",
              "            + ' to learn more about interactive tables.';\n",
              "          element.innerHTML = '';\n",
              "          dataTable['output_type'] = 'display_data';\n",
              "          await google.colab.output.renderOutput(dataTable, element);\n",
              "          const docLink = document.createElement('div');\n",
              "          docLink.innerHTML = docLinkHtml;\n",
              "          element.appendChild(docLink);\n",
              "        }\n",
              "      </script>\n",
              "    </div>\n",
              "  </div>\n",
              "  "
            ]
          },
          "metadata": {},
          "execution_count": 204
        }
      ]
    },
    {
      "cell_type": "markdown",
      "source": [
        "## 데이터 분할"
      ],
      "metadata": {
        "id": "hXqt_N0SLm_W"
      }
    },
    {
      "cell_type": "code",
      "execution_count": 257,
      "metadata": {
        "id": "Ko2CdBI_6Ay2"
      },
      "outputs": [],
      "source": [
        "from sklearn.model_selection import train_test_split\n",
        "train, test = train_test_split(data, test_size=0.3)"
      ]
    },
    {
      "cell_type": "code",
      "execution_count": 258,
      "metadata": {
        "id": "snEEuUXt6Ay3"
      },
      "outputs": [],
      "source": [
        "labels = {key: i for i, key in enumerate(test[\"Attack_type\"].unique())}\n",
        "def to_onehot(x):\n",
        "    l = [0 for _ in range(labels.__len__())]\n",
        "    l[labels[x]] = 1\n",
        "    return l\n",
        "test_X, test_Y = test.drop([\"Attack_type\"], axis=\"columns\"), np.stack(test[\"Attack_type\"].apply(to_onehot))\n",
        "train_X, train_Y =  train.drop([\"Attack_type\"], axis=\"columns\"), np.stack(train[\"Attack_type\"].apply(to_onehot))"
      ]
    },
    {
      "cell_type": "markdown",
      "source": [
        "## RNN 실행"
      ],
      "metadata": {
        "id": "3I7Bie4OLIFA"
      }
    },
    {
      "cell_type": "code",
      "execution_count": 259,
      "metadata": {
        "id": "OWKZS7yb6Ay5"
      },
      "outputs": [],
      "source": [
        "payload_test_X ,RNN_test_X =  np.stack(test[\"tcp.payload\"]),np.stack(test[\"http.data\"])\n",
        "payload_train_X ,RNN_train_X =  np.stack(train[\"tcp.payload\"]),np.stack(train[\"http.data\"])"
      ]
    },
    {
      "cell_type": "code",
      "execution_count": 260,
      "metadata": {
        "id": "tunmhx9S6Ay6"
      },
      "outputs": [],
      "source": [
        "vocab_size = tokenizer.word_index.keys().__len__()\n",
        "input_dim = RNN_train_X.shape[1]"
      ]
    },
    {
      "cell_type": "code",
      "execution_count": 281,
      "metadata": {
        "colab": {
          "base_uri": "https://localhost:8080/"
        },
        "id": "p135u1oZ6Ay6",
        "outputId": "7ec42bfe-161c-4b90-fe9b-7a26f45bd128"
      },
      "outputs": [
        {
          "output_type": "stream",
          "name": "stdout",
          "text": [
            "Epoch 1/10\n",
            "510/510 [==============================] - 23s 42ms/step - loss: 0.5655 - accuracy: 0.8042\n",
            "Epoch 2/10\n",
            "510/510 [==============================] - 7s 13ms/step - loss: 0.5472 - accuracy: 0.8088\n",
            "Epoch 3/10\n",
            "510/510 [==============================] - 5s 9ms/step - loss: 0.5525 - accuracy: 0.8088\n",
            "Epoch 4/10\n",
            "510/510 [==============================] - 3s 7ms/step - loss: 0.5106 - accuracy: 0.8084\n",
            "Epoch 5/10\n",
            "510/510 [==============================] - 3s 6ms/step - loss: 0.4751 - accuracy: 0.8163\n",
            "Epoch 6/10\n",
            "510/510 [==============================] - 4s 7ms/step - loss: 0.3659 - accuracy: 0.8420\n",
            "Epoch 7/10\n",
            "510/510 [==============================] - 4s 7ms/step - loss: 0.3654 - accuracy: 0.8420\n",
            "Epoch 8/10\n",
            "510/510 [==============================] - 3s 7ms/step - loss: 0.3652 - accuracy: 0.8420\n",
            "Epoch 9/10\n",
            "510/510 [==============================] - 3s 6ms/step - loss: 0.3652 - accuracy: 0.8420\n",
            "Epoch 10/10\n",
            "510/510 [==============================] - 3s 7ms/step - loss: 0.3651 - accuracy: 0.8420\n"
          ]
        },
        {
          "output_type": "stream",
          "name": "stderr",
          "text": [
            "WARNING:absl:Found untraced functions such as lstm_cell_20_layer_call_fn, lstm_cell_20_layer_call_and_return_conditional_losses while saving (showing 2 of 2). These functions will not be directly callable after loading.\n"
          ]
        }
      ],
      "source": [
        "# layers=[\n",
        "# keras.layers.Embedding(1000, 128, input_length=1000),\n",
        "# keras.layers.LSTM(64, activation=\"tanh\", dropout=0.5, return_sequences=True),\n",
        "# # keras.layers.Dense(100, activation=\"relu\"),\n",
        "# # keras.layers.Dense(100, activation=\"relu\"),\n",
        "# keras.layers.Dense(3, activation=\"softmax\")\n",
        "# ]\n",
        "import os\n",
        "RNN_MODEL_PATH:str = \"http_data_RNN.model\"\n",
        "FORCE_TRAIN = True\n",
        "if \"http_data_RNN.model.zip\" in os.listdir(os.getcwd()) and not FORCE_TRAIN:\n",
        "    unzip(f\"{RNN_MODEL_PATH}.zip\", f\"{RNN_MODEL_PATH}\")\n",
        "    RNN_model = keras.models.load_model(f\"{RNN_MODEL_PATH}\")\n",
        "else:\n",
        "    RNN_model = keras.Sequential(\n",
        "        layers = [\n",
        "            keras.layers.Embedding(vocab_size, 128, input_length=input_dim),\n",
        "            keras.layers.LSTM(128, dropout=0.7, activation=\"tanh\"),\n",
        "            keras.layers.Dense(100, activation=\"relu\"),\n",
        "            keras.layers.Dense(4, activation='softmax'),\n",
        "        ]\n",
        "    )\n",
        "    RNN_model.compile(\n",
        "        loss=tf.keras.losses.CategoricalCrossentropy(), \n",
        "        optimizer=tf.keras.optimizers.Adam(learning_rate=.005), \n",
        "        metrics=[\"accuracy\"],\n",
        "    )\n",
        "    RNN_model.fit(RNN_train_X, train_Y, epochs=10, batch_size=128)\n",
        "    RNN_model.save(\"http_data_RNN.model\")\n",
        "    zipFile(\"http_data_RNN.model\")"
      ]
    },
    {
      "cell_type": "code",
      "execution_count": 230,
      "metadata": {
        "id": "CBbzHOn8XC_M"
      },
      "outputs": [],
      "source": [
        "vocab_size = tokenizer_payload.word_index.keys().__len__()\n",
        "input_dim = payload_train_X.shape[1]"
      ]
    },
    {
      "cell_type": "code",
      "execution_count": null,
      "metadata": {
        "colab": {
          "base_uri": "https://localhost:8080/"
        },
        "id": "Squd9JGI6Ay7",
        "outputId": "66d454e0-ff94-4e3d-b4cc-305c1c65226f"
      },
      "outputs": [
        {
          "name": "stderr",
          "output_type": "stream",
          "text": [
            "WARNING:tensorflow:Layer lstm_3 will not use cuDNN kernels since it doesn't meet the criteria. It will use a generic GPU kernel as fallback when running on GPU.\n"
          ]
        },
        {
          "name": "stdout",
          "output_type": "stream",
          "text": [
            "Epoch 1/5\n"
          ]
        },
        {
          "name": "stderr",
          "output_type": "stream",
          "text": [
            "/usr/local/lib/python3.10/dist-packages/keras/backend.py:5561: UserWarning: \"`categorical_crossentropy` received `from_logits=True`, but the `output` argument was produced by a Softmax activation and thus does not represent logits. Was this intended?\n",
            "  output, from_logits = _get_logits(\n"
          ]
        },
        {
          "name": "stdout",
          "output_type": "stream",
          "text": [
            " 665/2040 [========>.....................] - ETA: 9:56 - loss: 0.7321 - accuracy: 0.7635"
          ]
        }
      ],
      "source": [
        "PAYLOAD_RNN_MODEL_PATH:str = \"logs/tcp_payload_RNN.model\"\n",
        "if \"tcp_payload_RNN.model.zip\" in os.listdir(os.getcwd()):\n",
        "    unzip(f\"{PAYLOAD_RNN_MODEL_PATH}.zip\", f\"{PAYLOAD_RNN_MODEL_PATH}\")\n",
        "    payload_RNN_model = keras.models.load_model(f\"{PAYLOAD_RNN_MODEL_PATH}\")\n",
        "else:\n",
        "    payload_RNN_model = keras.Sequential(\n",
        "        layers = [\n",
        "            keras.layers.Embedding(vocab_size, 128, input_length=input_dim),\n",
        "            keras.layers.LSTM(128, dropout=0.7, recurrent_dropout=0.7),\n",
        "            keras.layers.Dense(100, activation=\"relu\"),\n",
        "            keras.layers.Dense(4, activation='softmax'),\n",
        "        ]\n",
        "    )\n",
        "    payload_RNN_model.compile(\n",
        "        loss=tf.keras.losses.CategoricalCrossentropy(from_logits=True), \n",
        "        optimizer=\"adam\", \n",
        "        metrics=[\"accuracy\"],\n",
        "    )\n",
        "    payload_RNN_model.fit(payload_train_X, train_Y, epochs=5, batch_size=32)\n",
        "    payload_RNN_model.save(\"tcp_payload_RNN.model\")\n",
        "    zipFile(\"tcp_payload_RNN.model\")"
      ]
    },
    {
      "cell_type": "code",
      "execution_count": 282,
      "metadata": {
        "id": "PYrMptwI6Ay9",
        "colab": {
          "base_uri": "https://localhost:8080/"
        },
        "outputId": "39200bdb-1b1f-41ff-d6a5-3d717397bba2"
      },
      "outputs": [
        {
          "output_type": "stream",
          "name": "stdout",
          "text": [
            "875/875 [==============================] - 3s 3ms/step\n"
          ]
        }
      ],
      "source": [
        "file_data_prediction = RNN_model.predict(RNN_test_X)"
      ]
    },
    {
      "cell_type": "code",
      "execution_count": null,
      "metadata": {
        "id": "BM7ugZfm6Ay-"
      },
      "outputs": [],
      "source": [
        "payload_prediction = payload_RNN_model.predict(payload_test_X)"
      ]
    },
    {
      "cell_type": "code",
      "execution_count": 269,
      "metadata": {
        "id": "cEEK5ACg6Ay_"
      },
      "outputs": [],
      "source": [
        "from sklearn.metrics import precision_score, recall_score, confusion_matrix"
      ]
    },
    {
      "cell_type": "code",
      "execution_count": 284,
      "metadata": {
        "id": "ThVdwjbKX5RL",
        "colab": {
          "base_uri": "https://localhost:8080/"
        },
        "outputId": "3b40abcb-9f75-4031-a9e9-f19ca2c1d509"
      },
      "outputs": [
        {
          "output_type": "execute_result",
          "data": {
            "text/plain": [
              "0.9567758821248546"
            ]
          },
          "metadata": {},
          "execution_count": 284
        }
      ],
      "source": [
        "# http.file_data Prediction\n",
        "precision_score(np.argmax(test_Y, axis=1), np.argmax(file_data_prediction, axis=1), average=\"macro\")"
      ]
    },
    {
      "cell_type": "code",
      "execution_count": 285,
      "metadata": {
        "id": "V7AZig9EX87M",
        "colab": {
          "base_uri": "https://localhost:8080/"
        },
        "outputId": "a7300450-1da3-4e64-c587-4b183f829c46"
      },
      "outputs": [
        {
          "output_type": "execute_result",
          "data": {
            "text/plain": [
              "0.7677120233381954"
            ]
          },
          "metadata": {},
          "execution_count": 285
        }
      ],
      "source": [
        "recall_score(np.argmax(test_Y, axis=1), np.argmax(file_data_prediction, axis=1), average=\"macro\")"
      ]
    },
    {
      "cell_type": "code",
      "execution_count": 283,
      "metadata": {
        "id": "DLUUczcMX_Lc",
        "colab": {
          "base_uri": "https://localhost:8080/",
          "height": 175
        },
        "outputId": "ca1224b5-2948-4620-dd5a-6088532c6c7b"
      },
      "outputs": [
        {
          "output_type": "execute_result",
          "data": {
            "text/plain": [
              "                    PRED_Password  PRED_XSS  PRED_SQL_injection  \\\n",
              "TRUE_Password               21331         0                   0   \n",
              "TRUE_XSS                     4459       340                   0   \n",
              "TRUE_SQL_injection              0         0                1298   \n",
              "TRUE_Uploading                  0         0                   0   \n",
              "\n",
              "                    PRED_Uploading  \n",
              "TRUE_Password                    0  \n",
              "TRUE_XSS                         0  \n",
              "TRUE_SQL_injection               0  \n",
              "TRUE_Uploading                 543  "
            ],
            "text/html": [
              "\n",
              "  <div id=\"df-55332d66-3c24-4164-afcd-236755e44acd\">\n",
              "    <div class=\"colab-df-container\">\n",
              "      <div>\n",
              "<style scoped>\n",
              "    .dataframe tbody tr th:only-of-type {\n",
              "        vertical-align: middle;\n",
              "    }\n",
              "\n",
              "    .dataframe tbody tr th {\n",
              "        vertical-align: top;\n",
              "    }\n",
              "\n",
              "    .dataframe thead th {\n",
              "        text-align: right;\n",
              "    }\n",
              "</style>\n",
              "<table border=\"1\" class=\"dataframe\">\n",
              "  <thead>\n",
              "    <tr style=\"text-align: right;\">\n",
              "      <th></th>\n",
              "      <th>PRED_Password</th>\n",
              "      <th>PRED_XSS</th>\n",
              "      <th>PRED_SQL_injection</th>\n",
              "      <th>PRED_Uploading</th>\n",
              "    </tr>\n",
              "  </thead>\n",
              "  <tbody>\n",
              "    <tr>\n",
              "      <th>TRUE_Password</th>\n",
              "      <td>21331</td>\n",
              "      <td>0</td>\n",
              "      <td>0</td>\n",
              "      <td>0</td>\n",
              "    </tr>\n",
              "    <tr>\n",
              "      <th>TRUE_XSS</th>\n",
              "      <td>4459</td>\n",
              "      <td>340</td>\n",
              "      <td>0</td>\n",
              "      <td>0</td>\n",
              "    </tr>\n",
              "    <tr>\n",
              "      <th>TRUE_SQL_injection</th>\n",
              "      <td>0</td>\n",
              "      <td>0</td>\n",
              "      <td>1298</td>\n",
              "      <td>0</td>\n",
              "    </tr>\n",
              "    <tr>\n",
              "      <th>TRUE_Uploading</th>\n",
              "      <td>0</td>\n",
              "      <td>0</td>\n",
              "      <td>0</td>\n",
              "      <td>543</td>\n",
              "    </tr>\n",
              "  </tbody>\n",
              "</table>\n",
              "</div>\n",
              "      <button class=\"colab-df-convert\" onclick=\"convertToInteractive('df-55332d66-3c24-4164-afcd-236755e44acd')\"\n",
              "              title=\"Convert this dataframe to an interactive table.\"\n",
              "              style=\"display:none;\">\n",
              "        \n",
              "  <svg xmlns=\"http://www.w3.org/2000/svg\" height=\"24px\"viewBox=\"0 0 24 24\"\n",
              "       width=\"24px\">\n",
              "    <path d=\"M0 0h24v24H0V0z\" fill=\"none\"/>\n",
              "    <path d=\"M18.56 5.44l.94 2.06.94-2.06 2.06-.94-2.06-.94-.94-2.06-.94 2.06-2.06.94zm-11 1L8.5 8.5l.94-2.06 2.06-.94-2.06-.94L8.5 2.5l-.94 2.06-2.06.94zm10 10l.94 2.06.94-2.06 2.06-.94-2.06-.94-.94-2.06-.94 2.06-2.06.94z\"/><path d=\"M17.41 7.96l-1.37-1.37c-.4-.4-.92-.59-1.43-.59-.52 0-1.04.2-1.43.59L10.3 9.45l-7.72 7.72c-.78.78-.78 2.05 0 2.83L4 21.41c.39.39.9.59 1.41.59.51 0 1.02-.2 1.41-.59l7.78-7.78 2.81-2.81c.8-.78.8-2.07 0-2.86zM5.41 20L4 18.59l7.72-7.72 1.47 1.35L5.41 20z\"/>\n",
              "  </svg>\n",
              "      </button>\n",
              "      \n",
              "  <style>\n",
              "    .colab-df-container {\n",
              "      display:flex;\n",
              "      flex-wrap:wrap;\n",
              "      gap: 12px;\n",
              "    }\n",
              "\n",
              "    .colab-df-convert {\n",
              "      background-color: #E8F0FE;\n",
              "      border: none;\n",
              "      border-radius: 50%;\n",
              "      cursor: pointer;\n",
              "      display: none;\n",
              "      fill: #1967D2;\n",
              "      height: 32px;\n",
              "      padding: 0 0 0 0;\n",
              "      width: 32px;\n",
              "    }\n",
              "\n",
              "    .colab-df-convert:hover {\n",
              "      background-color: #E2EBFA;\n",
              "      box-shadow: 0px 1px 2px rgba(60, 64, 67, 0.3), 0px 1px 3px 1px rgba(60, 64, 67, 0.15);\n",
              "      fill: #174EA6;\n",
              "    }\n",
              "\n",
              "    [theme=dark] .colab-df-convert {\n",
              "      background-color: #3B4455;\n",
              "      fill: #D2E3FC;\n",
              "    }\n",
              "\n",
              "    [theme=dark] .colab-df-convert:hover {\n",
              "      background-color: #434B5C;\n",
              "      box-shadow: 0px 1px 3px 1px rgba(0, 0, 0, 0.15);\n",
              "      filter: drop-shadow(0px 1px 2px rgba(0, 0, 0, 0.3));\n",
              "      fill: #FFFFFF;\n",
              "    }\n",
              "  </style>\n",
              "\n",
              "      <script>\n",
              "        const buttonEl =\n",
              "          document.querySelector('#df-55332d66-3c24-4164-afcd-236755e44acd button.colab-df-convert');\n",
              "        buttonEl.style.display =\n",
              "          google.colab.kernel.accessAllowed ? 'block' : 'none';\n",
              "\n",
              "        async function convertToInteractive(key) {\n",
              "          const element = document.querySelector('#df-55332d66-3c24-4164-afcd-236755e44acd');\n",
              "          const dataTable =\n",
              "            await google.colab.kernel.invokeFunction('convertToInteractive',\n",
              "                                                     [key], {});\n",
              "          if (!dataTable) return;\n",
              "\n",
              "          const docLinkHtml = 'Like what you see? Visit the ' +\n",
              "            '<a target=\"_blank\" href=https://colab.research.google.com/notebooks/data_table.ipynb>data table notebook</a>'\n",
              "            + ' to learn more about interactive tables.';\n",
              "          element.innerHTML = '';\n",
              "          dataTable['output_type'] = 'display_data';\n",
              "          await google.colab.output.renderOutput(dataTable, element);\n",
              "          const docLink = document.createElement('div');\n",
              "          docLink.innerHTML = docLinkHtml;\n",
              "          element.appendChild(docLink);\n",
              "        }\n",
              "      </script>\n",
              "    </div>\n",
              "  </div>\n",
              "  "
            ]
          },
          "metadata": {},
          "execution_count": 283
        }
      ],
      "source": [
        "pd.DataFrame(confusion_matrix(np.argmax(test_Y, axis=1), np.argmax(file_data_prediction, axis=1)),index=\"TRUE_\"+pd.Series(labels.keys()), columns=\"PRED_\"+pd.Series(labels.keys()))"
      ]
    },
    {
      "cell_type": "code",
      "execution_count": null,
      "metadata": {
        "id": "MRI5QlSV6Ay_"
      },
      "outputs": [],
      "source": [
        "# tcp.payload Prediction\n",
        "precision_score(np.argmax(test_Y, axis=1), np.argmax(payload_prediction, axis=1), average=\"macro\")"
      ]
    },
    {
      "cell_type": "code",
      "execution_count": null,
      "metadata": {
        "id": "5orHiYcU6Ay_"
      },
      "outputs": [],
      "source": [
        "recall_score(np.argmax(test_Y, axis=1), np.argmax(payload_prediction, axis=1), average=\"macro\")"
      ]
    },
    {
      "cell_type": "code",
      "execution_count": null,
      "metadata": {
        "id": "_SdQZWUS6AzA"
      },
      "outputs": [],
      "source": [
        "pd.DataFrame(confusion_matrix(np.argmax(test_Y, axis=1), np.argmax(payload_prediction, axis=1)),index=\"TRUE_\"+pd.Series(labels.keys()), columns=\"PRED_\"+pd.Series(labels.keys()))"
      ]
    },
    {
      "cell_type": "code",
      "execution_count": null,
      "metadata": {
        "id": "6O8k-OR67irv"
      },
      "outputs": [],
      "source": [
        "shutil.copyfile(\"/content/tcp_payload_RNN.model.zip\", \"/content/drive/MyDrive/고려대학교/기계학습개론/tcp_payload_RNN.model.zip\")\n",
        "shutil.copyfile(\"/content/http_data_RNN.model.zip\", \"/content/drive/MyDrive/고려대학교/기계학습개론/http_data_RNN.model.zip\")"
      ]
    },
    {
      "cell_type": "markdown",
      "source": [
        "## DNN 실행"
      ],
      "metadata": {
        "id": "tC0Cd5VDLaE0"
      }
    },
    {
      "cell_type": "code",
      "source": [
        "DNN_model = keras.Sequential(\n",
        "    layers=[\n",
        "        keras.layers.Dense(500, activation=\"relu\"),\n",
        "        keras.layers.Dense(50, activation=\"relu\"),\n",
        "        keras.layers.Dense(50, activation=\"relu\"),\n",
        "        keras.layers.Dense(50, activation=\"relu\"),\n",
        "        keras.layers.Dense(50, activation=\"relu\"),\n",
        "        keras.layers.Dense(50, activation=\"relu\"),\n",
        "        keras.layers.Dense(50, activation=\"relu\"),\n",
        "        keras.layers.Dense(len(labels.keys()), activation=\"softmax\"),\n",
        "    ]\n",
        ")\n",
        "DNN_model.compile(\n",
        "    loss=tf.keras.losses.CategoricalCrossentropy(from_logits=True), \n",
        "    optimizer=\"adam\", \n",
        "    metrics=[\"accuracy\"],\n",
        ")\n",
        "DNN_model.fit(train_X[DNN_COLS], train_Y, epochs=5, batch_size=30)"
      ],
      "metadata": {
        "colab": {
          "base_uri": "https://localhost:8080/"
        },
        "id": "-_6ZIxoJKXUB",
        "outputId": "fd7c7e47-e980-4be6-9afb-67f09e0c9968"
      },
      "execution_count": 293,
      "outputs": [
        {
          "output_type": "stream",
          "name": "stdout",
          "text": [
            "Epoch 1/5\n"
          ]
        },
        {
          "output_type": "stream",
          "name": "stderr",
          "text": [
            "/usr/local/lib/python3.10/dist-packages/keras/backend.py:5561: UserWarning: \"`categorical_crossentropy` received `from_logits=True`, but the `output` argument was produced by a Softmax activation and thus does not represent logits. Was this intended?\n",
            "  output, from_logits = _get_logits(\n"
          ]
        },
        {
          "output_type": "stream",
          "name": "stdout",
          "text": [
            "2176/2176 [==============================] - 11s 4ms/step - loss: 2.0504 - accuracy: 0.8232\n",
            "Epoch 2/5\n",
            "2176/2176 [==============================] - 9s 4ms/step - loss: 0.5635 - accuracy: 0.8459\n",
            "Epoch 3/5\n",
            "2176/2176 [==============================] - 8s 4ms/step - loss: 0.5638 - accuracy: 0.8459\n",
            "Epoch 4/5\n",
            "2176/2176 [==============================] - 8s 4ms/step - loss: 0.5639 - accuracy: 0.8459\n",
            "Epoch 5/5\n",
            "2176/2176 [==============================] - 8s 4ms/step - loss: 0.5638 - accuracy: 0.8459\n"
          ]
        },
        {
          "output_type": "execute_result",
          "data": {
            "text/plain": [
              "<keras.callbacks.History at 0x7fee0230f130>"
            ]
          },
          "metadata": {},
          "execution_count": 293
        }
      ]
    },
    {
      "cell_type": "code",
      "source": [
        "DNN_prediction = DNN_model.predict(test_X[DNN_COLS])"
      ],
      "metadata": {
        "colab": {
          "base_uri": "https://localhost:8080/"
        },
        "id": "IDU9oTO_N2JE",
        "outputId": "42e46e97-4acb-4882-ca14-402e1e4bf5b6"
      },
      "execution_count": 294,
      "outputs": [
        {
          "output_type": "stream",
          "name": "stdout",
          "text": [
            "875/875 [==============================] - 1s 1ms/step\n"
          ]
        }
      ]
    },
    {
      "cell_type": "code",
      "source": [
        "precision_score(np.argmax(test_Y, axis=1), np.argmax(DNN_prediction, axis=1), average=\"macro\")"
      ],
      "metadata": {
        "colab": {
          "base_uri": "https://localhost:8080/"
        },
        "id": "nm-CUijxO-du",
        "outputId": "0349a583-17d4-41a0-9f20-05a746d7fa45"
      },
      "execution_count": 224,
      "outputs": [
        {
          "output_type": "stream",
          "name": "stderr",
          "text": [
            "/usr/local/lib/python3.10/dist-packages/sklearn/metrics/_classification.py:1344: UndefinedMetricWarning: Precision is ill-defined and being set to 0.0 in labels with no predicted samples. Use `zero_division` parameter to control this behavior.\n",
            "  _warn_prf(average, modifier, msg_start, len(result))\n"
          ]
        },
        {
          "output_type": "execute_result",
          "data": {
            "text/plain": [
              "0.45905661115020724"
            ]
          },
          "metadata": {},
          "execution_count": 224
        }
      ]
    },
    {
      "cell_type": "code",
      "source": [
        "recall_score(np.argmax(test_Y, axis=1), np.argmax(payload_prediction, axis=1), average=\"macro\")"
      ],
      "metadata": {
        "colab": {
          "base_uri": "https://localhost:8080/"
        },
        "id": "0-kEvHznPY7_",
        "outputId": "b638d420-0312-481b-e960-35a66b704d6b"
      },
      "execution_count": 225,
      "outputs": [
        {
          "output_type": "execute_result",
          "data": {
            "text/plain": [
              "0.250831313437358"
            ]
          },
          "metadata": {},
          "execution_count": 225
        }
      ]
    },
    {
      "cell_type": "code",
      "source": [
        "confusion_matrix(np.argmax(test_Y, axis=1), np.argmax(payload_prediction, axis=1))"
      ],
      "metadata": {
        "colab": {
          "base_uri": "https://localhost:8080/"
        },
        "id": "inrFLoV-PbRN",
        "outputId": "b5c13108-84e0-42ab-f55d-6e4bcfba93bc"
      },
      "execution_count": 226,
      "outputs": [
        {
          "output_type": "execute_result",
          "data": {
            "text/plain": [
              "array([[ 1230,     0,    58,     0],\n",
              "       [20372,     0,  1017,     0],\n",
              "       [ 4487,     0,   228,     0],\n",
              "       [  546,     0,    33,     0]])"
            ]
          },
          "metadata": {},
          "execution_count": 226
        }
      ]
    },
    {
      "cell_type": "code",
      "source": [
        "pd.DataFrame(confusion_matrix(np.argmax(test_Y, axis=1), np.argmax(DNN_prediction, axis=1)), index=\"TRUE_\"+pd.Series(labels.keys()), columns=\"PRED_\"+pd.Series(labels.keys()))"
      ],
      "metadata": {
        "colab": {
          "base_uri": "https://localhost:8080/",
          "height": 175
        },
        "id": "4G50zE9BPcbB",
        "outputId": "f64ac19e-884e-4945-8e1f-d28e204fe6a3"
      },
      "execution_count": 295,
      "outputs": [
        {
          "output_type": "execute_result",
          "data": {
            "text/plain": [
              "                    PRED_Password  PRED_XSS  PRED_SQL_injection  \\\n",
              "TRUE_Password               21331         0                   0   \n",
              "TRUE_XSS                     2469      2330                   0   \n",
              "TRUE_SQL_injection           1298         0                   0   \n",
              "TRUE_Uploading                543         0                   0   \n",
              "\n",
              "                    PRED_Uploading  \n",
              "TRUE_Password                    0  \n",
              "TRUE_XSS                         0  \n",
              "TRUE_SQL_injection               0  \n",
              "TRUE_Uploading                   0  "
            ],
            "text/html": [
              "\n",
              "  <div id=\"df-30167405-8bd3-4e44-b8a9-8834d946b805\">\n",
              "    <div class=\"colab-df-container\">\n",
              "      <div>\n",
              "<style scoped>\n",
              "    .dataframe tbody tr th:only-of-type {\n",
              "        vertical-align: middle;\n",
              "    }\n",
              "\n",
              "    .dataframe tbody tr th {\n",
              "        vertical-align: top;\n",
              "    }\n",
              "\n",
              "    .dataframe thead th {\n",
              "        text-align: right;\n",
              "    }\n",
              "</style>\n",
              "<table border=\"1\" class=\"dataframe\">\n",
              "  <thead>\n",
              "    <tr style=\"text-align: right;\">\n",
              "      <th></th>\n",
              "      <th>PRED_Password</th>\n",
              "      <th>PRED_XSS</th>\n",
              "      <th>PRED_SQL_injection</th>\n",
              "      <th>PRED_Uploading</th>\n",
              "    </tr>\n",
              "  </thead>\n",
              "  <tbody>\n",
              "    <tr>\n",
              "      <th>TRUE_Password</th>\n",
              "      <td>21331</td>\n",
              "      <td>0</td>\n",
              "      <td>0</td>\n",
              "      <td>0</td>\n",
              "    </tr>\n",
              "    <tr>\n",
              "      <th>TRUE_XSS</th>\n",
              "      <td>2469</td>\n",
              "      <td>2330</td>\n",
              "      <td>0</td>\n",
              "      <td>0</td>\n",
              "    </tr>\n",
              "    <tr>\n",
              "      <th>TRUE_SQL_injection</th>\n",
              "      <td>1298</td>\n",
              "      <td>0</td>\n",
              "      <td>0</td>\n",
              "      <td>0</td>\n",
              "    </tr>\n",
              "    <tr>\n",
              "      <th>TRUE_Uploading</th>\n",
              "      <td>543</td>\n",
              "      <td>0</td>\n",
              "      <td>0</td>\n",
              "      <td>0</td>\n",
              "    </tr>\n",
              "  </tbody>\n",
              "</table>\n",
              "</div>\n",
              "      <button class=\"colab-df-convert\" onclick=\"convertToInteractive('df-30167405-8bd3-4e44-b8a9-8834d946b805')\"\n",
              "              title=\"Convert this dataframe to an interactive table.\"\n",
              "              style=\"display:none;\">\n",
              "        \n",
              "  <svg xmlns=\"http://www.w3.org/2000/svg\" height=\"24px\"viewBox=\"0 0 24 24\"\n",
              "       width=\"24px\">\n",
              "    <path d=\"M0 0h24v24H0V0z\" fill=\"none\"/>\n",
              "    <path d=\"M18.56 5.44l.94 2.06.94-2.06 2.06-.94-2.06-.94-.94-2.06-.94 2.06-2.06.94zm-11 1L8.5 8.5l.94-2.06 2.06-.94-2.06-.94L8.5 2.5l-.94 2.06-2.06.94zm10 10l.94 2.06.94-2.06 2.06-.94-2.06-.94-.94-2.06-.94 2.06-2.06.94z\"/><path d=\"M17.41 7.96l-1.37-1.37c-.4-.4-.92-.59-1.43-.59-.52 0-1.04.2-1.43.59L10.3 9.45l-7.72 7.72c-.78.78-.78 2.05 0 2.83L4 21.41c.39.39.9.59 1.41.59.51 0 1.02-.2 1.41-.59l7.78-7.78 2.81-2.81c.8-.78.8-2.07 0-2.86zM5.41 20L4 18.59l7.72-7.72 1.47 1.35L5.41 20z\"/>\n",
              "  </svg>\n",
              "      </button>\n",
              "      \n",
              "  <style>\n",
              "    .colab-df-container {\n",
              "      display:flex;\n",
              "      flex-wrap:wrap;\n",
              "      gap: 12px;\n",
              "    }\n",
              "\n",
              "    .colab-df-convert {\n",
              "      background-color: #E8F0FE;\n",
              "      border: none;\n",
              "      border-radius: 50%;\n",
              "      cursor: pointer;\n",
              "      display: none;\n",
              "      fill: #1967D2;\n",
              "      height: 32px;\n",
              "      padding: 0 0 0 0;\n",
              "      width: 32px;\n",
              "    }\n",
              "\n",
              "    .colab-df-convert:hover {\n",
              "      background-color: #E2EBFA;\n",
              "      box-shadow: 0px 1px 2px rgba(60, 64, 67, 0.3), 0px 1px 3px 1px rgba(60, 64, 67, 0.15);\n",
              "      fill: #174EA6;\n",
              "    }\n",
              "\n",
              "    [theme=dark] .colab-df-convert {\n",
              "      background-color: #3B4455;\n",
              "      fill: #D2E3FC;\n",
              "    }\n",
              "\n",
              "    [theme=dark] .colab-df-convert:hover {\n",
              "      background-color: #434B5C;\n",
              "      box-shadow: 0px 1px 3px 1px rgba(0, 0, 0, 0.15);\n",
              "      filter: drop-shadow(0px 1px 2px rgba(0, 0, 0, 0.3));\n",
              "      fill: #FFFFFF;\n",
              "    }\n",
              "  </style>\n",
              "\n",
              "      <script>\n",
              "        const buttonEl =\n",
              "          document.querySelector('#df-30167405-8bd3-4e44-b8a9-8834d946b805 button.colab-df-convert');\n",
              "        buttonEl.style.display =\n",
              "          google.colab.kernel.accessAllowed ? 'block' : 'none';\n",
              "\n",
              "        async function convertToInteractive(key) {\n",
              "          const element = document.querySelector('#df-30167405-8bd3-4e44-b8a9-8834d946b805');\n",
              "          const dataTable =\n",
              "            await google.colab.kernel.invokeFunction('convertToInteractive',\n",
              "                                                     [key], {});\n",
              "          if (!dataTable) return;\n",
              "\n",
              "          const docLinkHtml = 'Like what you see? Visit the ' +\n",
              "            '<a target=\"_blank\" href=https://colab.research.google.com/notebooks/data_table.ipynb>data table notebook</a>'\n",
              "            + ' to learn more about interactive tables.';\n",
              "          element.innerHTML = '';\n",
              "          dataTable['output_type'] = 'display_data';\n",
              "          await google.colab.output.renderOutput(dataTable, element);\n",
              "          const docLink = document.createElement('div');\n",
              "          docLink.innerHTML = docLinkHtml;\n",
              "          element.appendChild(docLink);\n",
              "        }\n",
              "      </script>\n",
              "    </div>\n",
              "  </div>\n",
              "  "
            ]
          },
          "metadata": {},
          "execution_count": 295
        }
      ]
    },
    {
      "cell_type": "code",
      "source": [],
      "metadata": {
        "id": "tCoU_q9zPk5s"
      },
      "execution_count": null,
      "outputs": []
    }
  ],
  "metadata": {
    "accelerator": "GPU",
    "colab": {
      "gpuType": "A100",
      "machine_shape": "hm",
      "provenance": []
    },
    "kernelspec": {
      "display_name": "Python 3",
      "name": "python3"
    },
    "language_info": {
      "codemirror_mode": {
        "name": "ipython",
        "version": 3
      },
      "file_extension": ".py",
      "mimetype": "text/x-python",
      "name": "python",
      "nbconvert_exporter": "python",
      "pygments_lexer": "ipython3",
      "version": "3.11.0"
    },
    "orig_nbformat": 4
  },
  "nbformat": 4,
  "nbformat_minor": 0
}