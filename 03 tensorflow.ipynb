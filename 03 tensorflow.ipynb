{
  "cells": [
    {
      "cell_type": "code",
      "execution_count": 196,
      "metadata": {},
      "outputs": [
        {
          "name": "stdout",
          "output_type": "stream",
          "text": [
            "Requirement already satisfied: scikit-learn in /usr/local/lib/python3.8/dist-packages (1.3.0)\n",
            "Requirement already satisfied: pandas in /usr/local/lib/python3.8/dist-packages (2.0.3)\n",
            "Requirement already satisfied: numpy in /usr/local/lib/python3.8/dist-packages (1.24.3)\n",
            "Requirement already satisfied: matplotlib in /usr/local/lib/python3.8/dist-packages (3.7.2)\n",
            "Requirement already satisfied: tabulate in /usr/local/lib/python3.8/dist-packages (0.9.0)\n",
            "Collecting seaborn\n",
            "  Downloading seaborn-0.12.2-py3-none-any.whl (293 kB)\n",
            "\u001b[2K     \u001b[90m━━━━━━━━━━━━━━━━━━━━━━━━━━━━━━━━━━━━━━\u001b[0m \u001b[32m293.3/293.3 kB\u001b[0m \u001b[31m13.9 MB/s\u001b[0m eta \u001b[36m0:00:00\u001b[0m\n",
            "\u001b[?25hRequirement already satisfied: scipy>=1.5.0 in /usr/local/lib/python3.8/dist-packages (from scikit-learn) (1.10.1)\n",
            "Requirement already satisfied: joblib>=1.1.1 in /usr/local/lib/python3.8/dist-packages (from scikit-learn) (1.3.1)\n",
            "Requirement already satisfied: threadpoolctl>=2.0.0 in /usr/local/lib/python3.8/dist-packages (from scikit-learn) (3.2.0)\n",
            "Requirement already satisfied: python-dateutil>=2.8.2 in /usr/local/lib/python3.8/dist-packages (from pandas) (2.8.2)\n",
            "Requirement already satisfied: pytz>=2020.1 in /usr/local/lib/python3.8/dist-packages (from pandas) (2023.3)\n",
            "Requirement already satisfied: tzdata>=2022.1 in /usr/local/lib/python3.8/dist-packages (from pandas) (2023.3)\n",
            "Requirement already satisfied: contourpy>=1.0.1 in /usr/local/lib/python3.8/dist-packages (from matplotlib) (1.1.0)\n",
            "Requirement already satisfied: cycler>=0.10 in /usr/local/lib/python3.8/dist-packages (from matplotlib) (0.11.0)\n",
            "Requirement already satisfied: fonttools>=4.22.0 in /usr/local/lib/python3.8/dist-packages (from matplotlib) (4.40.0)\n",
            "Requirement already satisfied: kiwisolver>=1.0.1 in /usr/local/lib/python3.8/dist-packages (from matplotlib) (1.4.4)\n",
            "Requirement already satisfied: packaging>=20.0 in /usr/local/lib/python3.8/dist-packages (from matplotlib) (23.1)\n",
            "Requirement already satisfied: pillow>=6.2.0 in /usr/local/lib/python3.8/dist-packages (from matplotlib) (10.0.0)\n",
            "Requirement already satisfied: pyparsing<3.1,>=2.3.1 in /usr/local/lib/python3.8/dist-packages (from matplotlib) (3.0.9)\n",
            "Requirement already satisfied: importlib-resources>=3.2.0 in /usr/local/lib/python3.8/dist-packages (from matplotlib) (5.12.0)\n",
            "Requirement already satisfied: zipp>=3.1.0 in /usr/local/lib/python3.8/dist-packages (from importlib-resources>=3.2.0->matplotlib) (3.15.0)\n",
            "Requirement already satisfied: six>=1.5 in /usr/lib/python3/dist-packages (from python-dateutil>=2.8.2->pandas) (1.14.0)\n",
            "Installing collected packages: seaborn\n",
            "Successfully installed seaborn-0.12.2\n",
            "\u001b[33mWARNING: Running pip as the 'root' user can result in broken permissions and conflicting behaviour with the system package manager. It is recommended to use a virtual environment instead: https://pip.pypa.io/warnings/venv\u001b[0m\u001b[33m\n",
            "\u001b[0m\n",
            "\u001b[1m[\u001b[0m\u001b[34;49mnotice\u001b[0m\u001b[1;39;49m]\u001b[0m\u001b[39;49m A new release of pip is available: \u001b[0m\u001b[31;49m23.1.2\u001b[0m\u001b[39;49m -> \u001b[0m\u001b[32;49m23.2.1\u001b[0m\n",
            "\u001b[1m[\u001b[0m\u001b[34;49mnotice\u001b[0m\u001b[1;39;49m]\u001b[0m\u001b[39;49m To update, run: \u001b[0m\u001b[32;49mpython3.8 -m pip install --upgrade pip\u001b[0m\n",
            "Note: you may need to restart the kernel to use updated packages.\n"
          ]
        }
      ],
      "source": [
        "%pip install scikit-learn pandas numpy matplotlib tabulate seaborn"
      ]
    },
    {
      "cell_type": "code",
      "execution_count": 1,
      "metadata": {
        "id": "PXriOQ4i6Ayh"
      },
      "outputs": [
        {
          "name": "stderr",
          "output_type": "stream",
          "text": [
            "2023-08-09 19:53:26.514526: I tensorflow/core/util/port.cc:110] oneDNN custom operations are on. You may see slightly different numerical results due to floating-point round-off errors from different computation orders. To turn them off, set the environment variable `TF_ENABLE_ONEDNN_OPTS=0`.\n",
            "2023-08-09 19:53:26.544083: I tensorflow/core/platform/cpu_feature_guard.cc:182] This TensorFlow binary is optimized to use available CPU instructions in performance-critical operations.\n",
            "To enable the following instructions: AVX2 AVX_VNNI FMA, in other operations, rebuild TensorFlow with the appropriate compiler flags.\n"
          ]
        },
        {
          "name": "stdout",
          "output_type": "stream",
          "text": [
            "/mnt\n"
          ]
        }
      ],
      "source": [
        "import tensorflow as tf\n",
        "from tensorflow import keras\n",
        "from keras.preprocessing.text import Tokenizer\n",
        "from tensorflow.keras.preprocessing.sequence import pad_sequences\n",
        "import pandas as pd\n",
        "import numpy as np\n",
        "import re\n",
        "pd.set_option(\"display.max_columns\", None)\n",
        "tf.get_logger().setLevel('INFO')\n",
        "%cd /mnt"
      ]
    },
    {
      "cell_type": "code",
      "execution_count": 2,
      "metadata": {
        "id": "V-DMaaoL6Ayp"
      },
      "outputs": [],
      "source": [
        "def unzip(path_to_zip_file, directory_to_extract_to):\n",
        "    \"\"\"\n",
        "    Args:\n",
        "        path_to_zip_file (str): 압축파일 경로\n",
        "        directory_to_extract_to (str): 압축 풀고 저장할 경로\n",
        "    \"\"\"\n",
        "    import zipfile\n",
        "    with zipfile.ZipFile(path_to_zip_file, 'r') as zip_ref:\n",
        "        zip_ref.extractall(directory_to_extract_to)\n"
      ]
    },
    {
      "cell_type": "code",
      "execution_count": 3,
      "metadata": {
        "colab": {
          "base_uri": "https://localhost:8080/"
        },
        "id": "sPdCY_486Ayr",
        "outputId": "f39a2f99-e55e-4406-d5f7-d3c07e8ce7cf"
      },
      "outputs": [
        {
          "name": "stderr",
          "output_type": "stream",
          "text": [
            "/tmp/ipykernel_27354/524550114.py:1: DtypeWarning: Columns (10,14,19,27) have mixed types. Specify dtype option on import or set low_memory=False.\n",
            "  data = pd.read_csv(\"Full-Dataset/processed/url_encoded_dataset.csv\").sample(frac=1)\n"
          ]
        }
      ],
      "source": [
        "data = pd.read_csv(\"Full-Dataset/processed/url_encoded_dataset.csv\").sample(frac=1)\n",
        "data = data.drop([\"Unnamed: 0\", \"http.request.uri.query\", \"http.file_data\", \"http.request.full_uri\", \n",
        "                  \"tcp.options\", \"http.request.uri.path\", \"http.request.uri.query.dict\", \"http.file_data.dict\", \"http.request.uri.scheme\"], axis=\"columns\")\n",
        "data[\"http.data\"] = data[\"http.data\"].fillna(\"\")\n",
        "original_data = data.copy()\n",
        "\n",
        "# RNN학습시, URL정보를 바탕으로 분류를 진행할 수 있으므로 URL 정보를 삭제해야함.\n",
        "data[\"tcp.payload\"] = original_data[\"tcp.payload\"].astype(\"str\").apply(lambda x: \" \".join([_ for _ in x.split(\" \") if not (_.startswith(\"/DVWA\") and _.endswith(\".php\"))]))"
      ]
    },
    {
      "cell_type": "code",
      "execution_count": 4,
      "metadata": {},
      "outputs": [
        {
          "name": "stdout",
          "output_type": "stream",
          "text": [
            "proportions*100=array([76.18838217,  4.69668368,  2.04534729, 17.06958685])\n",
            "\n",
            "Shannon entropy: 0.73\n"
          ]
        }
      ],
      "source": [
        "# check for shannon entropy\n",
        "unique_labels, counts = np.unique(data[\"Attack_type\"], return_counts=True)\n",
        "proportions = counts / len(data[\"Attack_type\"])\n",
        "\n",
        "# Calculate Shannon entropy\n",
        "shannon_entropy = -np.sum(proportions * np.log(proportions))\n",
        "\n",
        "\"\"\"\n",
        "Degree of imbalance | Proportion of Minority Class\n",
        "--------------------------------------------------\n",
        "Mild\t            | 20-40% of the data set\n",
        "--------------------------------------------------\n",
        "Moderate\t        | 1-20% of the data set\n",
        "--------------------------------------------------\n",
        "Extreme\t            | <1% of the data set\n",
        "\"\"\"\n",
        "\n",
        "print(f'{proportions*100=}\\n\\nShannon entropy: {shannon_entropy:.2f}')"
      ]
    },
    {
      "cell_type": "code",
      "execution_count": 5,
      "metadata": {},
      "outputs": [
        {
          "data": {
            "text/plain": [
              "array([0.76188382, 0.04696684, 0.02045347, 0.17069587])"
            ]
          },
          "execution_count": 5,
          "metadata": {},
          "output_type": "execute_result"
        }
      ],
      "source": [
        "proportions"
      ]
    },
    {
      "cell_type": "code",
      "execution_count": 6,
      "metadata": {},
      "outputs": [
        {
          "name": "stdout",
          "output_type": "stream",
          "text": [
            "| Attack_type   |   count |   percentage |\n",
            "|:--------------|--------:|-------------:|\n",
            "| Password      |   71035 |     76.1884  |\n",
            "| XSS           |   15915 |      4.69668 |\n",
            "| SQL_injection |    4379 |      2.04535 |\n",
            "| Uploading     |    1907 |     17.0696  |\n"
          ]
        }
      ],
      "source": [
        "_ = pd.DataFrame(data[\"Attack_type\"].value_counts())\n",
        "_[\"percentage\"] = proportions * 100\n",
        "print(_.to_markdown())"
      ]
    },
    {
      "cell_type": "code",
      "execution_count": 7,
      "metadata": {},
      "outputs": [
        {
          "data": {
            "text/plain": [
              "[0.25, 0.34748058249085034]"
            ]
          },
          "execution_count": 7,
          "metadata": {},
          "output_type": "execute_result"
        }
      ],
      "source": [
        "[\n",
        "    (data[\"Attack_type\"].value_counts() / len(data[\"Attack_type\"])).mean(),\n",
        "    (data[\"Attack_type\"].value_counts() / len(data[\"Attack_type\"])).std()\n",
        "]"
      ]
    },
    {
      "cell_type": "code",
      "execution_count": 8,
      "metadata": {},
      "outputs": [
        {
          "data": {
            "text/plain": [
              "<Axes: xlabel='Attack_type', ylabel='count'>"
            ]
          },
          "execution_count": 8,
          "metadata": {},
          "output_type": "execute_result"
        },
        {
          "data": {
            "image/png": "[encoded data removed]",
            "text/plain": [
              "<Figure size 640x480 with 1 Axes>"
            ]
          },
          "metadata": {},
          "output_type": "display_data"
        }
      ],
      "source": [
        "# Show Data Distribution\n",
        "import seaborn as sns\n",
        "labels = {key: i for i, key in enumerate(sorted(data[\"Attack_type\"].unique()))}\n",
        "\n",
        "sns.countplot(x=data[\"Attack_type\"])"
      ]
    },
    {
      "attachments": {},
      "cell_type": "markdown",
      "metadata": {
        "id": "jk5UyNUYLD-z"
      },
      "source": [
        "## RNN을 위한 전처리"
      ]
    },
    {
      "cell_type": "code",
      "execution_count": 9,
      "metadata": {
        "id": "6ia9qTug6Ayu"
      },
      "outputs": [],
      "source": [
        "# Tokenize values\n",
        "tokenizer = Tokenizer(oov_token=\"<NUMBER>\", filters='!\"#$%&()*+,-./:?@[\\\\]^_`{|}~\\t\\n=',)\n",
        "tokenizer.fit_on_texts(original_data[\"http.data\"])\n",
        "padded = pad_sequences(tokenizer.texts_to_sequences(original_data[\"http.data\"]), padding=\"post\", value=0)\n",
        "data[\"http.data\"] = padded.tolist()"
      ]
    },
    {
      "cell_type": "code",
      "execution_count": 10,
      "metadata": {
        "colab": {
          "base_uri": "https://localhost:8080/"
        },
        "id": "m1V5R1-DVwBc",
        "outputId": "b575c3de-2a36-42a5-f7a1-e4370242cd90"
      },
      "outputs": [
        {
          "data": {
            "text/plain": [
              "array(['', 'username, admin, password, 0, login, login',\n",
              "       'username, admin, password, 00, login, login', ...,\n",
              "       '0, 0, id, 7, submit, submitid, 3d57, 20and, 202739, 20in, 20, 28select, 20, 28char, 28113, 29, 2bchar, 28107, 29, 2bchar, 28120, 29, 2bchar, 28120, 29, 2bchar, 28113, 29, 2b, 28select, 20, 28case, 20when, 20, 282739, 3d2739, 29, 20then, 20char, 2849, 29, 20else, 20char, 2848, 29, 20end, 29, 29, 2bchar, 28113, 29, 2bchar, 28112, 29, 2bchar, 2898, 29, 2bchar, 28113, 29, 2bchar, 28113, 29, 29, 29, 20tyho',\n",
              "       '0, 0, id, 4, 27, 29, 20and, 20, 28select, 206514, 20from, 20, 28select, 28sleep, 285, 29, 29, 29jyms, 29, 20and, 20, 28, 27aknh, 27, 3d, 27aknh, submit, submitid, 55',\n",
              "       '0, 0, id, 9, 20and, 201390, 3d8998, 20evke, submit, submitid, 59'],\n",
              "      dtype=object)"
            ]
          },
          "execution_count": 10,
          "metadata": {},
          "output_type": "execute_result"
        }
      ],
      "source": [
        "word_index_dict = {val: key for key, val in tokenizer.word_index.items()}\n",
        "pd.Series(tokenizer.texts_to_sequences(original_data[\"http.data\"])).apply(lambda x: \", \".join([(word_index_dict)[_] for _ in x])).unique()"
      ]
    },
    {
      "cell_type": "code",
      "execution_count": 11,
      "metadata": {
        "id": "Ydbd9Ytd6Ayw"
      },
      "outputs": [],
      "source": [
        "# Tokenize tcp.payload\n",
        "tokenizer_payload = Tokenizer(oov_token=\"<PAD>\")\n",
        "tokenizer_payload.fit_on_texts(original_data[\"tcp.payload\"].astype(\"str\").apply(lambda x: \" \".join([x.split(\" \")[0],*x.split(\" \")[2:]]))) # url 정보 제거\n",
        "padded = pad_sequences(tokenizer_payload.texts_to_sequences(original_data[\"tcp.payload\"].astype(\"str\")), padding=\"post\", value=0)\n",
        "data[\"tcp.payload\"] = padded.tolist()"
      ]
    },
    {
      "cell_type": "code",
      "execution_count": 12,
      "metadata": {
        "colab": {
          "base_uri": "https://localhost:8080/",
          "height": 531
        },
        "id": "hZiAeyVg6Ayx",
        "outputId": "60462adf-3638-4b3a-e349-b4407d6a2df5"
      },
      "outputs": [
        {
          "data": {
            "text/html": [
              "<div>\n",
              "<style scoped>\n",
              "    .dataframe tbody tr th:only-of-type {\n",
              "        vertical-align: middle;\n",
              "    }\n",
              "\n",
              "    .dataframe tbody tr th {\n",
              "        vertical-align: top;\n",
              "    }\n",
              "\n",
              "    .dataframe thead th {\n",
              "        text-align: right;\n",
              "    }\n",
              "</style>\n",
              "<table border=\"1\" class=\"dataframe\">\n",
              "  <thead>\n",
              "    <tr style=\"text-align: right;\">\n",
              "      <th></th>\n",
              "      <th>tcp.len</th>\n",
              "      <th>tcp.checksum</th>\n",
              "      <th>tcp.ack</th>\n",
              "      <th>http.response</th>\n",
              "      <th>tcp.connection.fin</th>\n",
              "      <th>ip.dst_host</th>\n",
              "      <th>http.content_length</th>\n",
              "      <th>Attack_type</th>\n",
              "      <th>arp.opcode</th>\n",
              "      <th>tcp.srcport</th>\n",
              "      <th>tcp.payload</th>\n",
              "      <th>arp.dst.proto_ipv4</th>\n",
              "      <th>tcp.connection.synack</th>\n",
              "      <th>tcp.seq</th>\n",
              "      <th>http.referer</th>\n",
              "      <th>frame.time</th>\n",
              "      <th>tcp.dstport</th>\n",
              "      <th>tcp.connection.syn</th>\n",
              "      <th>tcp.connection.rst</th>\n",
              "      <th>ip.src_host</th>\n",
              "      <th>tcp.ack_raw</th>\n",
              "      <th>tcp.flags</th>\n",
              "      <th>arp.src.proto_ipv4</th>\n",
              "      <th>tcp.flags.ack</th>\n",
              "      <th>arp.hw.size</th>\n",
              "      <th>0</th>\n",
              "      <th>GET</th>\n",
              "      <th>POST</th>\n",
              "      <th>TRACE</th>\n",
              "      <th>HTTP/1.0</th>\n",
              "      <th>HTTP/1.1</th>\n",
              "      <th>http.request.uri.netloc</th>\n",
              "      <th>http.data</th>\n",
              "    </tr>\n",
              "  </thead>\n",
              "  <tbody>\n",
              "    <tr>\n",
              "      <th>55728</th>\n",
              "      <td>221.0</td>\n",
              "      <td>0x00008228</td>\n",
              "      <td>1.0</td>\n",
              "      <td>0.0</td>\n",
              "      <td>0.0</td>\n",
              "      <td>192.168.0.128</td>\n",
              "      <td>0.0</td>\n",
              "      <td>Password</td>\n",
              "      <td>0.0</td>\n",
              "      <td>42448.0</td>\n",
              "      <td>[15, 1, 27, 1, 5, 4, 2, 9, 6, 7, 2, 8, 10, 11,...</td>\n",
              "      <td>0</td>\n",
              "      <td>0.0</td>\n",
              "      <td>1.0</td>\n",
              "      <td>0.0</td>\n",
              "      <td>2021 19:56:13.240856000</td>\n",
              "      <td>80.0</td>\n",
              "      <td>0.0</td>\n",
              "      <td>0.0</td>\n",
              "      <td>192.168.0.170</td>\n",
              "      <td>3.769575e+09</td>\n",
              "      <td>0x00000018</td>\n",
              "      <td>0</td>\n",
              "      <td>1.0</td>\n",
              "      <td>0.0</td>\n",
              "      <td>False</td>\n",
              "      <td>True</td>\n",
              "      <td>False</td>\n",
              "      <td>False</td>\n",
              "      <td>True</td>\n",
              "      <td>False</td>\n",
              "      <td>192.168.0.128</td>\n",
              "      <td>[0, 0, 0, 0, 0, 0, 0, 0, 0, 0, 0, 0, 0, 0, 0, ...</td>\n",
              "    </tr>\n",
              "    <tr>\n",
              "      <th>22130</th>\n",
              "      <td>86.0</td>\n",
              "      <td>0x00009538</td>\n",
              "      <td>1.0</td>\n",
              "      <td>0.0</td>\n",
              "      <td>0.0</td>\n",
              "      <td>192.168.0.128</td>\n",
              "      <td>0.0</td>\n",
              "      <td>Password</td>\n",
              "      <td>0.0</td>\n",
              "      <td>60106.0</td>\n",
              "      <td>[15, 1, 27, 1, 5, 4, 2, 9, 6, 7, 2, 8, 10, 11,...</td>\n",
              "      <td>0</td>\n",
              "      <td>0.0</td>\n",
              "      <td>1.0</td>\n",
              "      <td>0.0</td>\n",
              "      <td>2021 17:55:52.549133000</td>\n",
              "      <td>80.0</td>\n",
              "      <td>0.0</td>\n",
              "      <td>0.0</td>\n",
              "      <td>192.168.0.170</td>\n",
              "      <td>2.098166e+09</td>\n",
              "      <td>0x00000018</td>\n",
              "      <td>0</td>\n",
              "      <td>1.0</td>\n",
              "      <td>0.0</td>\n",
              "      <td>False</td>\n",
              "      <td>True</td>\n",
              "      <td>False</td>\n",
              "      <td>False</td>\n",
              "      <td>True</td>\n",
              "      <td>False</td>\n",
              "      <td>192.168.0.128</td>\n",
              "      <td>[0, 0, 0, 0, 0, 0, 0, 0, 0, 0, 0, 0, 0, 0, 0, ...</td>\n",
              "    </tr>\n",
              "    <tr>\n",
              "      <th>26843</th>\n",
              "      <td>86.0</td>\n",
              "      <td>0x0000dc94</td>\n",
              "      <td>1.0</td>\n",
              "      <td>0.0</td>\n",
              "      <td>0.0</td>\n",
              "      <td>192.168.0.128</td>\n",
              "      <td>0.0</td>\n",
              "      <td>Password</td>\n",
              "      <td>0.0</td>\n",
              "      <td>45268.0</td>\n",
              "      <td>[15, 1, 27, 1, 5, 4, 2, 9, 6, 7, 2, 8, 10, 11,...</td>\n",
              "      <td>0</td>\n",
              "      <td>0.0</td>\n",
              "      <td>1.0</td>\n",
              "      <td>0.0</td>\n",
              "      <td>2021 18:15:32.585673000</td>\n",
              "      <td>80.0</td>\n",
              "      <td>0.0</td>\n",
              "      <td>0.0</td>\n",
              "      <td>192.168.0.170</td>\n",
              "      <td>3.313151e+09</td>\n",
              "      <td>0x00000018</td>\n",
              "      <td>0</td>\n",
              "      <td>1.0</td>\n",
              "      <td>0.0</td>\n",
              "      <td>False</td>\n",
              "      <td>True</td>\n",
              "      <td>False</td>\n",
              "      <td>False</td>\n",
              "      <td>True</td>\n",
              "      <td>False</td>\n",
              "      <td>192.168.0.128</td>\n",
              "      <td>[0, 0, 0, 0, 0, 0, 0, 0, 0, 0, 0, 0, 0, 0, 0, ...</td>\n",
              "    </tr>\n",
              "    <tr>\n",
              "      <th>80896</th>\n",
              "      <td>0.0</td>\n",
              "      <td>0x0000b6c7</td>\n",
              "      <td>486.0</td>\n",
              "      <td>0.0</td>\n",
              "      <td>0.0</td>\n",
              "      <td>192.168.0.128</td>\n",
              "      <td>0.0</td>\n",
              "      <td>XSS</td>\n",
              "      <td>0.0</td>\n",
              "      <td>59504.0</td>\n",
              "      <td>[33, 0, 0, 0, 0, 0, 0, 0, 0, 0, 0, 0, 0, 0, 0,...</td>\n",
              "      <td>0</td>\n",
              "      <td>0.0</td>\n",
              "      <td>122.0</td>\n",
              "      <td>0</td>\n",
              "      <td>2021 18:15:16.208999000</td>\n",
              "      <td>80.0</td>\n",
              "      <td>0.0</td>\n",
              "      <td>0.0</td>\n",
              "      <td>192.168.0.170</td>\n",
              "      <td>1.823454e+08</td>\n",
              "      <td>0x00000010</td>\n",
              "      <td>0</td>\n",
              "      <td>1.0</td>\n",
              "      <td>0.0</td>\n",
              "      <td>True</td>\n",
              "      <td>False</td>\n",
              "      <td>False</td>\n",
              "      <td>False</td>\n",
              "      <td>False</td>\n",
              "      <td>False</td>\n",
              "      <td>NaN</td>\n",
              "      <td>[0, 0, 0, 0, 0, 0, 0, 0, 0, 0, 0, 0, 0, 0, 0, ...</td>\n",
              "    </tr>\n",
              "    <tr>\n",
              "      <th>63083</th>\n",
              "      <td>221.0</td>\n",
              "      <td>0x0000a3ab</td>\n",
              "      <td>1.0</td>\n",
              "      <td>0.0</td>\n",
              "      <td>0.0</td>\n",
              "      <td>192.168.0.128</td>\n",
              "      <td>0.0</td>\n",
              "      <td>Password</td>\n",
              "      <td>0.0</td>\n",
              "      <td>35080.0</td>\n",
              "      <td>[15, 1, 27, 1, 5, 4, 2, 9, 6, 7, 2, 8, 10, 11,...</td>\n",
              "      <td>0</td>\n",
              "      <td>0.0</td>\n",
              "      <td>1.0</td>\n",
              "      <td>0.0</td>\n",
              "      <td>2021 20:20:30.884110000</td>\n",
              "      <td>80.0</td>\n",
              "      <td>0.0</td>\n",
              "      <td>0.0</td>\n",
              "      <td>192.168.0.170</td>\n",
              "      <td>2.852531e+09</td>\n",
              "      <td>0x00000018</td>\n",
              "      <td>0</td>\n",
              "      <td>1.0</td>\n",
              "      <td>0.0</td>\n",
              "      <td>False</td>\n",
              "      <td>True</td>\n",
              "      <td>False</td>\n",
              "      <td>False</td>\n",
              "      <td>True</td>\n",
              "      <td>False</td>\n",
              "      <td>192.168.0.128</td>\n",
              "      <td>[0, 0, 0, 0, 0, 0, 0, 0, 0, 0, 0, 0, 0, 0, 0, ...</td>\n",
              "    </tr>\n",
              "  </tbody>\n",
              "</table>\n",
              "</div>"
            ],
            "text/plain": [
              "       tcp.len tcp.checksum  tcp.ack  http.response  tcp.connection.fin  \\\n",
              "55728    221.0   0x00008228      1.0            0.0                 0.0   \n",
              "22130     86.0   0x00009538      1.0            0.0                 0.0   \n",
              "26843     86.0   0x0000dc94      1.0            0.0                 0.0   \n",
              "80896      0.0   0x0000b6c7    486.0            0.0                 0.0   \n",
              "63083    221.0   0x0000a3ab      1.0            0.0                 0.0   \n",
              "\n",
              "         ip.dst_host  http.content_length Attack_type  arp.opcode  \\\n",
              "55728  192.168.0.128                  0.0    Password         0.0   \n",
              "22130  192.168.0.128                  0.0    Password         0.0   \n",
              "26843  192.168.0.128                  0.0    Password         0.0   \n",
              "80896  192.168.0.128                  0.0         XSS         0.0   \n",
              "63083  192.168.0.128                  0.0    Password         0.0   \n",
              "\n",
              "       tcp.srcport                                        tcp.payload  \\\n",
              "55728      42448.0  [15, 1, 27, 1, 5, 4, 2, 9, 6, 7, 2, 8, 10, 11,...   \n",
              "22130      60106.0  [15, 1, 27, 1, 5, 4, 2, 9, 6, 7, 2, 8, 10, 11,...   \n",
              "26843      45268.0  [15, 1, 27, 1, 5, 4, 2, 9, 6, 7, 2, 8, 10, 11,...   \n",
              "80896      59504.0  [33, 0, 0, 0, 0, 0, 0, 0, 0, 0, 0, 0, 0, 0, 0,...   \n",
              "63083      35080.0  [15, 1, 27, 1, 5, 4, 2, 9, 6, 7, 2, 8, 10, 11,...   \n",
              "\n",
              "      arp.dst.proto_ipv4  tcp.connection.synack  tcp.seq http.referer  \\\n",
              "55728                  0                    0.0      1.0          0.0   \n",
              "22130                  0                    0.0      1.0          0.0   \n",
              "26843                  0                    0.0      1.0          0.0   \n",
              "80896                  0                    0.0    122.0            0   \n",
              "63083                  0                    0.0      1.0          0.0   \n",
              "\n",
              "                      frame.time  tcp.dstport  tcp.connection.syn  \\\n",
              "55728   2021 19:56:13.240856000          80.0                 0.0   \n",
              "22130   2021 17:55:52.549133000          80.0                 0.0   \n",
              "26843   2021 18:15:32.585673000          80.0                 0.0   \n",
              "80896   2021 18:15:16.208999000          80.0                 0.0   \n",
              "63083   2021 20:20:30.884110000          80.0                 0.0   \n",
              "\n",
              "       tcp.connection.rst    ip.src_host   tcp.ack_raw   tcp.flags  \\\n",
              "55728                 0.0  192.168.0.170  3.769575e+09  0x00000018   \n",
              "22130                 0.0  192.168.0.170  2.098166e+09  0x00000018   \n",
              "26843                 0.0  192.168.0.170  3.313151e+09  0x00000018   \n",
              "80896                 0.0  192.168.0.170  1.823454e+08  0x00000010   \n",
              "63083                 0.0  192.168.0.170  2.852531e+09  0x00000018   \n",
              "\n",
              "      arp.src.proto_ipv4  tcp.flags.ack  arp.hw.size      0    GET   POST  \\\n",
              "55728                  0            1.0          0.0  False   True  False   \n",
              "22130                  0            1.0          0.0  False   True  False   \n",
              "26843                  0            1.0          0.0  False   True  False   \n",
              "80896                  0            1.0          0.0   True  False  False   \n",
              "63083                  0            1.0          0.0  False   True  False   \n",
              "\n",
              "       TRACE  HTTP/1.0  HTTP/1.1 http.request.uri.netloc  \\\n",
              "55728  False      True     False           192.168.0.128   \n",
              "22130  False      True     False           192.168.0.128   \n",
              "26843  False      True     False           192.168.0.128   \n",
              "80896  False     False     False                     NaN   \n",
              "63083  False      True     False           192.168.0.128   \n",
              "\n",
              "                                               http.data  \n",
              "55728  [0, 0, 0, 0, 0, 0, 0, 0, 0, 0, 0, 0, 0, 0, 0, ...  \n",
              "22130  [0, 0, 0, 0, 0, 0, 0, 0, 0, 0, 0, 0, 0, 0, 0, ...  \n",
              "26843  [0, 0, 0, 0, 0, 0, 0, 0, 0, 0, 0, 0, 0, 0, 0, ...  \n",
              "80896  [0, 0, 0, 0, 0, 0, 0, 0, 0, 0, 0, 0, 0, 0, 0, ...  \n",
              "63083  [0, 0, 0, 0, 0, 0, 0, 0, 0, 0, 0, 0, 0, 0, 0, ...  "
            ]
          },
          "execution_count": 12,
          "metadata": {},
          "output_type": "execute_result"
        }
      ],
      "source": [
        "data.head()"
      ]
    },
    {
      "cell_type": "code",
      "execution_count": 13,
      "metadata": {
        "colab": {
          "base_uri": "https://localhost:8080/",
          "height": 531
        },
        "id": "0ejwDIIW6Ayz",
        "outputId": "8e14ae06-dff8-42a0-a542-5e828417b1bc"
      },
      "outputs": [
        {
          "data": {
            "text/html": [
              "<div>\n",
              "<style scoped>\n",
              "    .dataframe tbody tr th:only-of-type {\n",
              "        vertical-align: middle;\n",
              "    }\n",
              "\n",
              "    .dataframe tbody tr th {\n",
              "        vertical-align: top;\n",
              "    }\n",
              "\n",
              "    .dataframe thead th {\n",
              "        text-align: right;\n",
              "    }\n",
              "</style>\n",
              "<table border=\"1\" class=\"dataframe\">\n",
              "  <thead>\n",
              "    <tr style=\"text-align: right;\">\n",
              "      <th></th>\n",
              "      <th>tcp.len</th>\n",
              "      <th>tcp.checksum</th>\n",
              "      <th>tcp.ack</th>\n",
              "      <th>http.response</th>\n",
              "      <th>tcp.connection.fin</th>\n",
              "      <th>ip.dst_host</th>\n",
              "      <th>http.content_length</th>\n",
              "      <th>Attack_type</th>\n",
              "      <th>arp.opcode</th>\n",
              "      <th>tcp.srcport</th>\n",
              "      <th>tcp.payload</th>\n",
              "      <th>arp.dst.proto_ipv4</th>\n",
              "      <th>tcp.connection.synack</th>\n",
              "      <th>tcp.seq</th>\n",
              "      <th>http.referer</th>\n",
              "      <th>frame.time</th>\n",
              "      <th>tcp.dstport</th>\n",
              "      <th>tcp.connection.syn</th>\n",
              "      <th>tcp.connection.rst</th>\n",
              "      <th>ip.src_host</th>\n",
              "      <th>tcp.ack_raw</th>\n",
              "      <th>tcp.flags</th>\n",
              "      <th>arp.src.proto_ipv4</th>\n",
              "      <th>tcp.flags.ack</th>\n",
              "      <th>arp.hw.size</th>\n",
              "      <th>0</th>\n",
              "      <th>GET</th>\n",
              "      <th>POST</th>\n",
              "      <th>TRACE</th>\n",
              "      <th>HTTP/1.0</th>\n",
              "      <th>HTTP/1.1</th>\n",
              "      <th>http.request.uri.netloc</th>\n",
              "      <th>http.data</th>\n",
              "    </tr>\n",
              "  </thead>\n",
              "  <tbody>\n",
              "    <tr>\n",
              "      <th>55728</th>\n",
              "      <td>221.0</td>\n",
              "      <td>0x00008228</td>\n",
              "      <td>1.0</td>\n",
              "      <td>0.0</td>\n",
              "      <td>0.0</td>\n",
              "      <td>192.168.0.128</td>\n",
              "      <td>0.0</td>\n",
              "      <td>Password</td>\n",
              "      <td>0.0</td>\n",
              "      <td>42448.0</td>\n",
              "      <td>GET /DVWA/login.php HTTP/1.0\\nHost: 192.168.0....</td>\n",
              "      <td>0</td>\n",
              "      <td>0.0</td>\n",
              "      <td>1.0</td>\n",
              "      <td>0.0</td>\n",
              "      <td>2021 19:56:13.240856000</td>\n",
              "      <td>80.0</td>\n",
              "      <td>0.0</td>\n",
              "      <td>0.0</td>\n",
              "      <td>192.168.0.170</td>\n",
              "      <td>3.769575e+09</td>\n",
              "      <td>0x00000018</td>\n",
              "      <td>0</td>\n",
              "      <td>1.0</td>\n",
              "      <td>0.0</td>\n",
              "      <td>False</td>\n",
              "      <td>True</td>\n",
              "      <td>False</td>\n",
              "      <td>False</td>\n",
              "      <td>True</td>\n",
              "      <td>False</td>\n",
              "      <td>192.168.0.128</td>\n",
              "      <td></td>\n",
              "    </tr>\n",
              "    <tr>\n",
              "      <th>22130</th>\n",
              "      <td>86.0</td>\n",
              "      <td>0x00009538</td>\n",
              "      <td>1.0</td>\n",
              "      <td>0.0</td>\n",
              "      <td>0.0</td>\n",
              "      <td>192.168.0.128</td>\n",
              "      <td>0.0</td>\n",
              "      <td>Password</td>\n",
              "      <td>0.0</td>\n",
              "      <td>60106.0</td>\n",
              "      <td>GET /DVWA/login.php HTTP/1.0\\nHost: 192.168.0....</td>\n",
              "      <td>0</td>\n",
              "      <td>0.0</td>\n",
              "      <td>1.0</td>\n",
              "      <td>0.0</td>\n",
              "      <td>2021 17:55:52.549133000</td>\n",
              "      <td>80.0</td>\n",
              "      <td>0.0</td>\n",
              "      <td>0.0</td>\n",
              "      <td>192.168.0.170</td>\n",
              "      <td>2.098166e+09</td>\n",
              "      <td>0x00000018</td>\n",
              "      <td>0</td>\n",
              "      <td>1.0</td>\n",
              "      <td>0.0</td>\n",
              "      <td>False</td>\n",
              "      <td>True</td>\n",
              "      <td>False</td>\n",
              "      <td>False</td>\n",
              "      <td>True</td>\n",
              "      <td>False</td>\n",
              "      <td>192.168.0.128</td>\n",
              "      <td></td>\n",
              "    </tr>\n",
              "    <tr>\n",
              "      <th>26843</th>\n",
              "      <td>86.0</td>\n",
              "      <td>0x0000dc94</td>\n",
              "      <td>1.0</td>\n",
              "      <td>0.0</td>\n",
              "      <td>0.0</td>\n",
              "      <td>192.168.0.128</td>\n",
              "      <td>0.0</td>\n",
              "      <td>Password</td>\n",
              "      <td>0.0</td>\n",
              "      <td>45268.0</td>\n",
              "      <td>GET /DVWA/login.php HTTP/1.0\\nHost: 192.168.0....</td>\n",
              "      <td>0</td>\n",
              "      <td>0.0</td>\n",
              "      <td>1.0</td>\n",
              "      <td>0.0</td>\n",
              "      <td>2021 18:15:32.585673000</td>\n",
              "      <td>80.0</td>\n",
              "      <td>0.0</td>\n",
              "      <td>0.0</td>\n",
              "      <td>192.168.0.170</td>\n",
              "      <td>3.313151e+09</td>\n",
              "      <td>0x00000018</td>\n",
              "      <td>0</td>\n",
              "      <td>1.0</td>\n",
              "      <td>0.0</td>\n",
              "      <td>False</td>\n",
              "      <td>True</td>\n",
              "      <td>False</td>\n",
              "      <td>False</td>\n",
              "      <td>True</td>\n",
              "      <td>False</td>\n",
              "      <td>192.168.0.128</td>\n",
              "      <td></td>\n",
              "    </tr>\n",
              "    <tr>\n",
              "      <th>80896</th>\n",
              "      <td>0.0</td>\n",
              "      <td>0x0000b6c7</td>\n",
              "      <td>486.0</td>\n",
              "      <td>0.0</td>\n",
              "      <td>0.0</td>\n",
              "      <td>192.168.0.128</td>\n",
              "      <td>0.0</td>\n",
              "      <td>XSS</td>\n",
              "      <td>0.0</td>\n",
              "      <td>59504.0</td>\n",
              "      <td>NaN</td>\n",
              "      <td>0</td>\n",
              "      <td>0.0</td>\n",
              "      <td>122.0</td>\n",
              "      <td>0</td>\n",
              "      <td>2021 18:15:16.208999000</td>\n",
              "      <td>80.0</td>\n",
              "      <td>0.0</td>\n",
              "      <td>0.0</td>\n",
              "      <td>192.168.0.170</td>\n",
              "      <td>1.823454e+08</td>\n",
              "      <td>0x00000010</td>\n",
              "      <td>0</td>\n",
              "      <td>1.0</td>\n",
              "      <td>0.0</td>\n",
              "      <td>True</td>\n",
              "      <td>False</td>\n",
              "      <td>False</td>\n",
              "      <td>False</td>\n",
              "      <td>False</td>\n",
              "      <td>False</td>\n",
              "      <td>NaN</td>\n",
              "      <td></td>\n",
              "    </tr>\n",
              "    <tr>\n",
              "      <th>63083</th>\n",
              "      <td>221.0</td>\n",
              "      <td>0x0000a3ab</td>\n",
              "      <td>1.0</td>\n",
              "      <td>0.0</td>\n",
              "      <td>0.0</td>\n",
              "      <td>192.168.0.128</td>\n",
              "      <td>0.0</td>\n",
              "      <td>Password</td>\n",
              "      <td>0.0</td>\n",
              "      <td>35080.0</td>\n",
              "      <td>GET /DVWA/login.php HTTP/1.0\\nHost: 192.168.0....</td>\n",
              "      <td>0</td>\n",
              "      <td>0.0</td>\n",
              "      <td>1.0</td>\n",
              "      <td>0.0</td>\n",
              "      <td>2021 20:20:30.884110000</td>\n",
              "      <td>80.0</td>\n",
              "      <td>0.0</td>\n",
              "      <td>0.0</td>\n",
              "      <td>192.168.0.170</td>\n",
              "      <td>2.852531e+09</td>\n",
              "      <td>0x00000018</td>\n",
              "      <td>0</td>\n",
              "      <td>1.0</td>\n",
              "      <td>0.0</td>\n",
              "      <td>False</td>\n",
              "      <td>True</td>\n",
              "      <td>False</td>\n",
              "      <td>False</td>\n",
              "      <td>True</td>\n",
              "      <td>False</td>\n",
              "      <td>192.168.0.128</td>\n",
              "      <td></td>\n",
              "    </tr>\n",
              "  </tbody>\n",
              "</table>\n",
              "</div>"
            ],
            "text/plain": [
              "       tcp.len tcp.checksum  tcp.ack  http.response  tcp.connection.fin  \\\n",
              "55728    221.0   0x00008228      1.0            0.0                 0.0   \n",
              "22130     86.0   0x00009538      1.0            0.0                 0.0   \n",
              "26843     86.0   0x0000dc94      1.0            0.0                 0.0   \n",
              "80896      0.0   0x0000b6c7    486.0            0.0                 0.0   \n",
              "63083    221.0   0x0000a3ab      1.0            0.0                 0.0   \n",
              "\n",
              "         ip.dst_host  http.content_length Attack_type  arp.opcode  \\\n",
              "55728  192.168.0.128                  0.0    Password         0.0   \n",
              "22130  192.168.0.128                  0.0    Password         0.0   \n",
              "26843  192.168.0.128                  0.0    Password         0.0   \n",
              "80896  192.168.0.128                  0.0         XSS         0.0   \n",
              "63083  192.168.0.128                  0.0    Password         0.0   \n",
              "\n",
              "       tcp.srcport                                        tcp.payload  \\\n",
              "55728      42448.0  GET /DVWA/login.php HTTP/1.0\\nHost: 192.168.0....   \n",
              "22130      60106.0  GET /DVWA/login.php HTTP/1.0\\nHost: 192.168.0....   \n",
              "26843      45268.0  GET /DVWA/login.php HTTP/1.0\\nHost: 192.168.0....   \n",
              "80896      59504.0                                                NaN   \n",
              "63083      35080.0  GET /DVWA/login.php HTTP/1.0\\nHost: 192.168.0....   \n",
              "\n",
              "      arp.dst.proto_ipv4  tcp.connection.synack  tcp.seq http.referer  \\\n",
              "55728                  0                    0.0      1.0          0.0   \n",
              "22130                  0                    0.0      1.0          0.0   \n",
              "26843                  0                    0.0      1.0          0.0   \n",
              "80896                  0                    0.0    122.0            0   \n",
              "63083                  0                    0.0      1.0          0.0   \n",
              "\n",
              "                      frame.time  tcp.dstport  tcp.connection.syn  \\\n",
              "55728   2021 19:56:13.240856000          80.0                 0.0   \n",
              "22130   2021 17:55:52.549133000          80.0                 0.0   \n",
              "26843   2021 18:15:32.585673000          80.0                 0.0   \n",
              "80896   2021 18:15:16.208999000          80.0                 0.0   \n",
              "63083   2021 20:20:30.884110000          80.0                 0.0   \n",
              "\n",
              "       tcp.connection.rst    ip.src_host   tcp.ack_raw   tcp.flags  \\\n",
              "55728                 0.0  192.168.0.170  3.769575e+09  0x00000018   \n",
              "22130                 0.0  192.168.0.170  2.098166e+09  0x00000018   \n",
              "26843                 0.0  192.168.0.170  3.313151e+09  0x00000018   \n",
              "80896                 0.0  192.168.0.170  1.823454e+08  0x00000010   \n",
              "63083                 0.0  192.168.0.170  2.852531e+09  0x00000018   \n",
              "\n",
              "      arp.src.proto_ipv4  tcp.flags.ack  arp.hw.size      0    GET   POST  \\\n",
              "55728                  0            1.0          0.0  False   True  False   \n",
              "22130                  0            1.0          0.0  False   True  False   \n",
              "26843                  0            1.0          0.0  False   True  False   \n",
              "80896                  0            1.0          0.0   True  False  False   \n",
              "63083                  0            1.0          0.0  False   True  False   \n",
              "\n",
              "       TRACE  HTTP/1.0  HTTP/1.1 http.request.uri.netloc http.data  \n",
              "55728  False      True     False           192.168.0.128            \n",
              "22130  False      True     False           192.168.0.128            \n",
              "26843  False      True     False           192.168.0.128            \n",
              "80896  False     False     False                     NaN            \n",
              "63083  False      True     False           192.168.0.128            "
            ]
          },
          "execution_count": 13,
          "metadata": {},
          "output_type": "execute_result"
        }
      ],
      "source": [
        "original_data.head()"
      ]
    },
    {
      "cell_type": "code",
      "execution_count": 14,
      "metadata": {
        "id": "yrjsx7hF6Ay0"
      },
      "outputs": [],
      "source": [
        "def zipFile(fileName):\n",
        "    import shutil\n",
        "    shutil.make_archive(fileName,\"zip\", fileName)"
      ]
    },
    {
      "attachments": {},
      "cell_type": "markdown",
      "metadata": {
        "id": "Xv26QBrmK_aM"
      },
      "source": [
        "## DNN을 위한 전처리"
      ]
    },
    {
      "cell_type": "code",
      "execution_count": 15,
      "metadata": {
        "id": "MUqv-H_tK-jl"
      },
      "outputs": [],
      "source": [
        "# process time data into hour\n",
        "def time_to_sec(time):\n",
        "    hour, minute, second = list(map(float, time[5:].strip().split(\":\")))\n",
        "    sec = hour*3600 + minute*60 + second\n",
        "    return sec / 3600\n",
        "data[\"frame.time\"] = original_data[\"frame.time\"].apply(time_to_sec)"
      ]
    },
    {
      "cell_type": "code",
      "execution_count": 16,
      "metadata": {
        "id": "Syqf6dJmLJdh"
      },
      "outputs": [],
      "source": [
        "# tcp.checksum float로 변경\n",
        "data[\"tcp.checksum\"] = original_data[\"tcp.checksum\"].astype(\"str\").apply(lambda x: int(x[2:] if x[2:] else \"0\", 16))"
      ]
    },
    {
      "cell_type": "code",
      "execution_count": 17,
      "metadata": {
        "id": "I3lxqY0VLLqA"
      },
      "outputs": [],
      "source": [
        "# tcp.flag float로 변경\n",
        "data[\"tcp.flags\"] = original_data[\"tcp.flags\"].astype(\"str\").apply(lambda x: int(x[2:] if x[2:] else \"0\", 16))"
      ]
    },
    {
      "cell_type": "code",
      "execution_count": 18,
      "metadata": {
        "id": "fqXOLjAyLNsh"
      },
      "outputs": [],
      "source": [
        "# tcp.ack_raw 정규화\n",
        "data[\"tcp.ack_raw\"] = (original_data[\"tcp.ack_raw\"] - original_data[\"tcp.ack_raw\"].mean()) / original_data[\"tcp.ack_raw\"].std()"
      ]
    },
    {
      "cell_type": "code",
      "execution_count": 19,
      "metadata": {
        "id": "40vExlpILPJw"
      },
      "outputs": [],
      "source": [
        "# tcp.ack 정규화\n",
        "data[\"tcp.ack\"] = (original_data[\"tcp.ack\"] - original_data[\"tcp.ack\"].mean()) / original_data[\"tcp.ack\"].std()"
      ]
    },
    {
      "cell_type": "code",
      "execution_count": 20,
      "metadata": {
        "id": "-unJYmc0NDUq"
      },
      "outputs": [],
      "source": [
        "for feature in [\"GET\", \"POST\", \"TRACE\", \"HTTP/1.0\", \"HTTP/1.1\"]:\n",
        "    data[feature] = original_data[feature].apply(int)"
      ]
    },
    {
      "cell_type": "code",
      "execution_count": 21,
      "metadata": {
        "id": "0ZSrMVTpOTLc"
      },
      "outputs": [],
      "source": [
        "# http.referer는 [0.0, '0.0', '0', '127.0.0.1'] 의 값만을 갖고 있으므로, 의미가 없음.\n",
        "data = data.drop([\"http.referer\"], axis=\"columns\") "
      ]
    },
    {
      "cell_type": "code",
      "execution_count": 22,
      "metadata": {
        "id": "MkfHRhUXLRj0"
      },
      "outputs": [],
      "source": [
        "data = data.drop([\"0\"], axis=\"columns\")"
      ]
    },
    {
      "cell_type": "code",
      "execution_count": 23,
      "metadata": {
        "colab": {
          "base_uri": "https://localhost:8080/",
          "height": 427
        },
        "id": "5icTXefULVVG",
        "outputId": "d6d37ae8-400e-4889-8d0f-d9bed7ae8457"
      },
      "outputs": [
        {
          "data": {
            "text/html": [
              "<div>\n",
              "<style scoped>\n",
              "    .dataframe tbody tr th:only-of-type {\n",
              "        vertical-align: middle;\n",
              "    }\n",
              "\n",
              "    .dataframe tbody tr th {\n",
              "        vertical-align: top;\n",
              "    }\n",
              "\n",
              "    .dataframe thead th {\n",
              "        text-align: right;\n",
              "    }\n",
              "</style>\n",
              "<table border=\"1\" class=\"dataframe\">\n",
              "  <thead>\n",
              "    <tr style=\"text-align: right;\">\n",
              "      <th></th>\n",
              "      <th>frame.time</th>\n",
              "      <th>tcp.checksum</th>\n",
              "      <th>http.response</th>\n",
              "      <th>http.content_length</th>\n",
              "      <th>tcp.connection.rst</th>\n",
              "      <th>arp.hw.size</th>\n",
              "      <th>tcp.len</th>\n",
              "      <th>tcp.seq</th>\n",
              "      <th>tcp.connection.syn</th>\n",
              "      <th>tcp.flags.ack</th>\n",
              "      <th>tcp.ack_raw</th>\n",
              "      <th>tcp.connection.fin</th>\n",
              "      <th>tcp.dstport</th>\n",
              "      <th>tcp.flags</th>\n",
              "      <th>tcp.ack</th>\n",
              "      <th>tcp.connection.synack</th>\n",
              "      <th>tcp.srcport</th>\n",
              "      <th>arp.opcode</th>\n",
              "      <th>GET</th>\n",
              "      <th>POST</th>\n",
              "      <th>TRACE</th>\n",
              "      <th>HTTP/1.0</th>\n",
              "      <th>HTTP/1.1</th>\n",
              "    </tr>\n",
              "  </thead>\n",
              "  <tbody>\n",
              "    <tr>\n",
              "      <th>55728</th>\n",
              "      <td>19.937011</td>\n",
              "      <td>33320</td>\n",
              "      <td>0.0</td>\n",
              "      <td>0.0</td>\n",
              "      <td>0.0</td>\n",
              "      <td>0.0</td>\n",
              "      <td>221.0</td>\n",
              "      <td>1.0</td>\n",
              "      <td>0.0</td>\n",
              "      <td>1.0</td>\n",
              "      <td>1.320338</td>\n",
              "      <td>0.0</td>\n",
              "      <td>80.0</td>\n",
              "      <td>24</td>\n",
              "      <td>-0.263640</td>\n",
              "      <td>0.0</td>\n",
              "      <td>42448.0</td>\n",
              "      <td>0.0</td>\n",
              "      <td>1</td>\n",
              "      <td>0</td>\n",
              "      <td>0</td>\n",
              "      <td>1</td>\n",
              "      <td>0</td>\n",
              "    </tr>\n",
              "    <tr>\n",
              "      <th>22130</th>\n",
              "      <td>17.931264</td>\n",
              "      <td>38200</td>\n",
              "      <td>0.0</td>\n",
              "      <td>0.0</td>\n",
              "      <td>0.0</td>\n",
              "      <td>0.0</td>\n",
              "      <td>86.0</td>\n",
              "      <td>1.0</td>\n",
              "      <td>0.0</td>\n",
              "      <td>1.0</td>\n",
              "      <td>0.006861</td>\n",
              "      <td>0.0</td>\n",
              "      <td>80.0</td>\n",
              "      <td>24</td>\n",
              "      <td>-0.263640</td>\n",
              "      <td>0.0</td>\n",
              "      <td>60106.0</td>\n",
              "      <td>0.0</td>\n",
              "      <td>1</td>\n",
              "      <td>0</td>\n",
              "      <td>0</td>\n",
              "      <td>1</td>\n",
              "      <td>0</td>\n",
              "    </tr>\n",
              "    <tr>\n",
              "      <th>26843</th>\n",
              "      <td>18.259052</td>\n",
              "      <td>56468</td>\n",
              "      <td>0.0</td>\n",
              "      <td>0.0</td>\n",
              "      <td>0.0</td>\n",
              "      <td>0.0</td>\n",
              "      <td>86.0</td>\n",
              "      <td>1.0</td>\n",
              "      <td>0.0</td>\n",
              "      <td>1.0</td>\n",
              "      <td>0.961657</td>\n",
              "      <td>0.0</td>\n",
              "      <td>80.0</td>\n",
              "      <td>24</td>\n",
              "      <td>-0.263640</td>\n",
              "      <td>0.0</td>\n",
              "      <td>45268.0</td>\n",
              "      <td>0.0</td>\n",
              "      <td>1</td>\n",
              "      <td>0</td>\n",
              "      <td>0</td>\n",
              "      <td>1</td>\n",
              "      <td>0</td>\n",
              "    </tr>\n",
              "    <tr>\n",
              "      <th>80896</th>\n",
              "      <td>18.254502</td>\n",
              "      <td>46791</td>\n",
              "      <td>0.0</td>\n",
              "      <td>0.0</td>\n",
              "      <td>0.0</td>\n",
              "      <td>0.0</td>\n",
              "      <td>0.0</td>\n",
              "      <td>122.0</td>\n",
              "      <td>0.0</td>\n",
              "      <td>1.0</td>\n",
              "      <td>-1.498687</td>\n",
              "      <td>0.0</td>\n",
              "      <td>80.0</td>\n",
              "      <td>16</td>\n",
              "      <td>4.077335</td>\n",
              "      <td>0.0</td>\n",
              "      <td>59504.0</td>\n",
              "      <td>0.0</td>\n",
              "      <td>0</td>\n",
              "      <td>0</td>\n",
              "      <td>0</td>\n",
              "      <td>0</td>\n",
              "      <td>0</td>\n",
              "    </tr>\n",
              "    <tr>\n",
              "      <th>63083</th>\n",
              "      <td>20.341912</td>\n",
              "      <td>41899</td>\n",
              "      <td>0.0</td>\n",
              "      <td>0.0</td>\n",
              "      <td>0.0</td>\n",
              "      <td>0.0</td>\n",
              "      <td>221.0</td>\n",
              "      <td>1.0</td>\n",
              "      <td>0.0</td>\n",
              "      <td>1.0</td>\n",
              "      <td>0.599678</td>\n",
              "      <td>0.0</td>\n",
              "      <td>80.0</td>\n",
              "      <td>24</td>\n",
              "      <td>-0.263640</td>\n",
              "      <td>0.0</td>\n",
              "      <td>35080.0</td>\n",
              "      <td>0.0</td>\n",
              "      <td>1</td>\n",
              "      <td>0</td>\n",
              "      <td>0</td>\n",
              "      <td>1</td>\n",
              "      <td>0</td>\n",
              "    </tr>\n",
              "    <tr>\n",
              "      <th>48860</th>\n",
              "      <td>19.553590</td>\n",
              "      <td>17325</td>\n",
              "      <td>0.0</td>\n",
              "      <td>0.0</td>\n",
              "      <td>0.0</td>\n",
              "      <td>0.0</td>\n",
              "      <td>221.0</td>\n",
              "      <td>1.0</td>\n",
              "      <td>0.0</td>\n",
              "      <td>1.0</td>\n",
              "      <td>0.899996</td>\n",
              "      <td>0.0</td>\n",
              "      <td>80.0</td>\n",
              "      <td>24</td>\n",
              "      <td>-0.263640</td>\n",
              "      <td>0.0</td>\n",
              "      <td>51142.0</td>\n",
              "      <td>0.0</td>\n",
              "      <td>1</td>\n",
              "      <td>0</td>\n",
              "      <td>0</td>\n",
              "      <td>1</td>\n",
              "      <td>0</td>\n",
              "    </tr>\n",
              "    <tr>\n",
              "      <th>4222</th>\n",
              "      <td>16.888010</td>\n",
              "      <td>11087</td>\n",
              "      <td>0.0</td>\n",
              "      <td>0.0</td>\n",
              "      <td>0.0</td>\n",
              "      <td>0.0</td>\n",
              "      <td>86.0</td>\n",
              "      <td>1.0</td>\n",
              "      <td>0.0</td>\n",
              "      <td>1.0</td>\n",
              "      <td>0.530456</td>\n",
              "      <td>0.0</td>\n",
              "      <td>80.0</td>\n",
              "      <td>24</td>\n",
              "      <td>-0.263640</td>\n",
              "      <td>0.0</td>\n",
              "      <td>37478.0</td>\n",
              "      <td>0.0</td>\n",
              "      <td>1</td>\n",
              "      <td>0</td>\n",
              "      <td>0</td>\n",
              "      <td>1</td>\n",
              "      <td>0</td>\n",
              "    </tr>\n",
              "    <tr>\n",
              "      <th>30748</th>\n",
              "      <td>18.536822</td>\n",
              "      <td>39173</td>\n",
              "      <td>0.0</td>\n",
              "      <td>0.0</td>\n",
              "      <td>0.0</td>\n",
              "      <td>0.0</td>\n",
              "      <td>86.0</td>\n",
              "      <td>1.0</td>\n",
              "      <td>0.0</td>\n",
              "      <td>1.0</td>\n",
              "      <td>1.070418</td>\n",
              "      <td>0.0</td>\n",
              "      <td>80.0</td>\n",
              "      <td>24</td>\n",
              "      <td>-0.263640</td>\n",
              "      <td>0.0</td>\n",
              "      <td>56318.0</td>\n",
              "      <td>0.0</td>\n",
              "      <td>1</td>\n",
              "      <td>0</td>\n",
              "      <td>0</td>\n",
              "      <td>1</td>\n",
              "      <td>0</td>\n",
              "    </tr>\n",
              "    <tr>\n",
              "      <th>45007</th>\n",
              "      <td>19.334724</td>\n",
              "      <td>47357</td>\n",
              "      <td>0.0</td>\n",
              "      <td>37.0</td>\n",
              "      <td>0.0</td>\n",
              "      <td>0.0</td>\n",
              "      <td>260.0</td>\n",
              "      <td>1.0</td>\n",
              "      <td>0.0</td>\n",
              "      <td>1.0</td>\n",
              "      <td>0.852608</td>\n",
              "      <td>0.0</td>\n",
              "      <td>80.0</td>\n",
              "      <td>24</td>\n",
              "      <td>-0.263640</td>\n",
              "      <td>0.0</td>\n",
              "      <td>40232.0</td>\n",
              "      <td>0.0</td>\n",
              "      <td>0</td>\n",
              "      <td>1</td>\n",
              "      <td>0</td>\n",
              "      <td>1</td>\n",
              "      <td>0</td>\n",
              "    </tr>\n",
              "    <tr>\n",
              "      <th>92085</th>\n",
              "      <td>19.747763</td>\n",
              "      <td>31419</td>\n",
              "      <td>0.0</td>\n",
              "      <td>0.0</td>\n",
              "      <td>0.0</td>\n",
              "      <td>0.0</td>\n",
              "      <td>0.0</td>\n",
              "      <td>0.0</td>\n",
              "      <td>1.0</td>\n",
              "      <td>0.0</td>\n",
              "      <td>-1.641983</td>\n",
              "      <td>0.0</td>\n",
              "      <td>80.0</td>\n",
              "      <td>2</td>\n",
              "      <td>-0.272590</td>\n",
              "      <td>0.0</td>\n",
              "      <td>32926.0</td>\n",
              "      <td>0.0</td>\n",
              "      <td>0</td>\n",
              "      <td>0</td>\n",
              "      <td>0</td>\n",
              "      <td>0</td>\n",
              "      <td>0</td>\n",
              "    </tr>\n",
              "  </tbody>\n",
              "</table>\n",
              "</div>"
            ],
            "text/plain": [
              "       frame.time  tcp.checksum  http.response  http.content_length  \\\n",
              "55728   19.937011         33320            0.0                  0.0   \n",
              "22130   17.931264         38200            0.0                  0.0   \n",
              "26843   18.259052         56468            0.0                  0.0   \n",
              "80896   18.254502         46791            0.0                  0.0   \n",
              "63083   20.341912         41899            0.0                  0.0   \n",
              "48860   19.553590         17325            0.0                  0.0   \n",
              "4222    16.888010         11087            0.0                  0.0   \n",
              "30748   18.536822         39173            0.0                  0.0   \n",
              "45007   19.334724         47357            0.0                 37.0   \n",
              "92085   19.747763         31419            0.0                  0.0   \n",
              "\n",
              "       tcp.connection.rst  arp.hw.size  tcp.len  tcp.seq  tcp.connection.syn  \\\n",
              "55728                 0.0          0.0    221.0      1.0                 0.0   \n",
              "22130                 0.0          0.0     86.0      1.0                 0.0   \n",
              "26843                 0.0          0.0     86.0      1.0                 0.0   \n",
              "80896                 0.0          0.0      0.0    122.0                 0.0   \n",
              "63083                 0.0          0.0    221.0      1.0                 0.0   \n",
              "48860                 0.0          0.0    221.0      1.0                 0.0   \n",
              "4222                  0.0          0.0     86.0      1.0                 0.0   \n",
              "30748                 0.0          0.0     86.0      1.0                 0.0   \n",
              "45007                 0.0          0.0    260.0      1.0                 0.0   \n",
              "92085                 0.0          0.0      0.0      0.0                 1.0   \n",
              "\n",
              "       tcp.flags.ack  tcp.ack_raw  tcp.connection.fin  tcp.dstport  tcp.flags  \\\n",
              "55728            1.0     1.320338                 0.0         80.0         24   \n",
              "22130            1.0     0.006861                 0.0         80.0         24   \n",
              "26843            1.0     0.961657                 0.0         80.0         24   \n",
              "80896            1.0    -1.498687                 0.0         80.0         16   \n",
              "63083            1.0     0.599678                 0.0         80.0         24   \n",
              "48860            1.0     0.899996                 0.0         80.0         24   \n",
              "4222             1.0     0.530456                 0.0         80.0         24   \n",
              "30748            1.0     1.070418                 0.0         80.0         24   \n",
              "45007            1.0     0.852608                 0.0         80.0         24   \n",
              "92085            0.0    -1.641983                 0.0         80.0          2   \n",
              "\n",
              "        tcp.ack  tcp.connection.synack  tcp.srcport  arp.opcode  GET  POST  \\\n",
              "55728 -0.263640                    0.0      42448.0         0.0    1     0   \n",
              "22130 -0.263640                    0.0      60106.0         0.0    1     0   \n",
              "26843 -0.263640                    0.0      45268.0         0.0    1     0   \n",
              "80896  4.077335                    0.0      59504.0         0.0    0     0   \n",
              "63083 -0.263640                    0.0      35080.0         0.0    1     0   \n",
              "48860 -0.263640                    0.0      51142.0         0.0    1     0   \n",
              "4222  -0.263640                    0.0      37478.0         0.0    1     0   \n",
              "30748 -0.263640                    0.0      56318.0         0.0    1     0   \n",
              "45007 -0.263640                    0.0      40232.0         0.0    0     1   \n",
              "92085 -0.272590                    0.0      32926.0         0.0    0     0   \n",
              "\n",
              "       TRACE  HTTP/1.0  HTTP/1.1  \n",
              "55728      0         1         0  \n",
              "22130      0         1         0  \n",
              "26843      0         1         0  \n",
              "80896      0         0         0  \n",
              "63083      0         1         0  \n",
              "48860      0         1         0  \n",
              "4222       0         1         0  \n",
              "30748      0         1         0  \n",
              "45007      0         1         0  \n",
              "92085      0         0         0  "
            ]
          },
          "execution_count": 23,
          "metadata": {},
          "output_type": "execute_result"
        }
      ],
      "source": [
        "# DNN을 할 columns\n",
        "DNN_COLS = ['frame.time', 'tcp.checksum', 'http.response',\n",
        "       'http.content_length',\n",
        "       'tcp.connection.rst', 'arp.hw.size', 'tcp.len',\n",
        "       'tcp.seq', 'tcp.connection.syn',\n",
        "       'tcp.flags.ack', 'tcp.ack_raw', 'tcp.connection.fin', 'tcp.dstport',\n",
        "       'tcp.flags', 'tcp.ack', 'tcp.connection.synack', \n",
        "       'tcp.srcport', 'arp.opcode', 'GET', 'POST', 'TRACE', 'HTTP/1.0',\n",
        "       'HTTP/1.1']\n",
        "data[DNN_COLS].head(10)"
      ]
    },
    {
      "attachments": {},
      "cell_type": "markdown",
      "metadata": {
        "id": "hXqt_N0SLm_W"
      },
      "source": [
        "## 데이터 분할"
      ]
    },
    {
      "cell_type": "code",
      "execution_count": 24,
      "metadata": {
        "id": "Ko2CdBI_6Ay2"
      },
      "outputs": [],
      "source": [
        "from sklearn.model_selection import train_test_split\n",
        "train, test = train_test_split(data, test_size=0.3)\n",
        "datas = [train_test_split(data, test_size=0.3) for _ in range(50)]"
      ]
    },
    {
      "cell_type": "code",
      "execution_count": 25,
      "metadata": {},
      "outputs": [],
      "source": [
        "datas_ = []\n",
        "def to_onehot_wrapper(labels):\n",
        "    def to_onehot(x):\n",
        "        l = [0 for _ in range(labels.__len__())]\n",
        "        l[labels[x]] = 1\n",
        "        return l\n",
        "    return to_onehot\n",
        "for idx, (train, test) in enumerate(datas):\n",
        "    labels = {key: i for i, key in enumerate(sorted(test[\"Attack_type\"].unique()))}\n",
        "    test_X, test_Y = test.drop([\"Attack_type\"], axis=\"columns\"), np.stack(test[\"Attack_type\"].apply(to_onehot_wrapper(labels)))\n",
        "    train_X, train_Y =  train.drop([\"Attack_type\"], axis=\"columns\"), np.stack(train[\"Attack_type\"].apply(to_onehot_wrapper(labels)))\n",
        "    datas_.append([test_X, test_Y, train_X, train_Y])\n"
      ]
    },
    {
      "cell_type": "code",
      "execution_count": 26,
      "metadata": {
        "id": "snEEuUXt6Ay3"
      },
      "outputs": [],
      "source": [
        "labels = {key: i for i, key in enumerate(sorted(test[\"Attack_type\"].unique()))}\n",
        "def to_onehot(x):\n",
        "    l = [0 for _ in range(labels.__len__())]\n",
        "    l[labels[x]] = 1\n",
        "    return l\n",
        "test_X, test_Y = test.drop([\"Attack_type\"], axis=\"columns\"), np.stack(test[\"Attack_type\"].apply(to_onehot))\n",
        "train_X, train_Y =  train.drop([\"Attack_type\"], axis=\"columns\"), np.stack(train[\"Attack_type\"].apply(to_onehot))"
      ]
    },
    {
      "attachments": {},
      "cell_type": "markdown",
      "metadata": {
        "id": "3I7Bie4OLIFA"
      },
      "source": [
        "## RNN 실행"
      ]
    },
    {
      "cell_type": "code",
      "execution_count": 27,
      "metadata": {},
      "outputs": [],
      "source": [
        "import keras.backend as K\n",
        "def f1_score(y_true, y_pred):\n",
        "    true_positives = K.sum(K.round(K.clip(y_true * y_pred, 0, 1)))\n",
        "    possible_positives = K.sum(K.round(K.clip(y_true, 0, 1)))\n",
        "    predicted_positives = K.sum(K.round(K.clip(y_pred, 0, 1)))\n",
        "    precision = true_positives / (predicted_positives + K.epsilon())\n",
        "    recall = true_positives / (possible_positives + K.epsilon())\n",
        "    f1_val = 2*(precision*recall)/(precision+recall+K.epsilon())\n",
        "    return f1_val\n",
        "def precision(y_true, y_pred):\n",
        "    true_positives = K.sum(K.round(K.clip(y_true * y_pred, 0, 1)))\n",
        "    predicted_positives = K.sum(K.round(K.clip(y_pred, 0, 1)))\n",
        "    precision = true_positives / (predicted_positives + K.epsilon())\n",
        "    return precision\n",
        "def recall(y_true, y_pred):\n",
        "    true_positives = K.sum(K.round(K.clip(y_true * y_pred, 0, 1)))\n",
        "    possible_positives = K.sum(K.round(K.clip(y_true, 0, 1)))\n",
        "    recall = true_positives / (possible_positives + K.epsilon())\n",
        "    return recall\n"
      ]
    },
    {
      "cell_type": "code",
      "execution_count": 28,
      "metadata": {
        "id": "OWKZS7yb6Ay5"
      },
      "outputs": [
        {
          "name": "stdout",
          "output_type": "stream",
          "text": [
            "_train.shape=(65265, 31), _test.shape=(27971, 31)\n",
            "_train.shape=(65265, 31), _test.shape=(27971, 31)\n",
            "_train.shape=(65265, 31), _test.shape=(27971, 31)\n",
            "_train.shape=(65265, 31), _test.shape=(27971, 31)\n",
            "_train.shape=(65265, 31), _test.shape=(27971, 31)\n",
            "_train.shape=(65265, 31), _test.shape=(27971, 31)\n",
            "_train.shape=(65265, 31), _test.shape=(27971, 31)\n",
            "_train.shape=(65265, 31), _test.shape=(27971, 31)\n",
            "_train.shape=(65265, 31), _test.shape=(27971, 31)\n",
            "_train.shape=(65265, 31), _test.shape=(27971, 31)\n"
          ]
        }
      ],
      "source": [
        "payload_test_X ,RNN_test_X =  np.stack(test[\"tcp.payload\"]),np.stack(test[\"http.data\"])\n",
        "payload_train_X ,RNN_train_X =  np.stack(train[\"tcp.payload\"]),np.stack(train[\"http.data\"])\n",
        "\n",
        "payload_test_Xs = []\n",
        "RNN_test_Xs = []\n",
        "payload_train_Xs = []\n",
        "RNN_train_Xs = []\n",
        "for idx, _dt in enumerate(datas):\n",
        "    _train, _test = _dt\n",
        "    print(f\"{_train.shape=}, {_test.shape=}\")\n",
        "    payload_test_Xs.append(\n",
        "        np.stack(_test[\"tcp.payload\"])\n",
        "    ) \n",
        "    RNN_test_Xs.append(\n",
        "        np.stack(_test[\"http.data\"])\n",
        "    ) \n",
        "    \n",
        "    payload_train_Xs.append(\n",
        "        np.stack(_train[\"tcp.payload\"])\n",
        "    ) \n",
        "    RNN_train_Xs.append(\n",
        "        np.stack(_train[\"http.data\"])\n",
        "    ) \n",
        "    "
      ]
    },
    {
      "cell_type": "code",
      "execution_count": 29,
      "metadata": {
        "id": "tunmhx9S6Ay6"
      },
      "outputs": [],
      "source": [
        "file_data_vocab_size = tokenizer.word_index.keys().__len__() + 1\n",
        "file_data_input_dim = RNN_train_X.shape[1]"
      ]
    },
    {
      "cell_type": "code",
      "execution_count": 30,
      "metadata": {
        "colab": {
          "base_uri": "https://localhost:8080/"
        },
        "id": "p135u1oZ6Ay6",
        "outputId": "7ec42bfe-161c-4b90-fe9b-7a26f45bd128"
      },
      "outputs": [
        {
          "name": "stderr",
          "output_type": "stream",
          "text": [
            "2023-08-09 09:04:38.204848: I tensorflow/compiler/xla/stream_executor/cuda/cuda_gpu_executor.cc:981] could not open file to read NUMA node: /sys/bus/pci/devices/0000:01:00.0/numa_node\n",
            "Your kernel may have been built without NUMA support.\n",
            "2023-08-09 09:04:38.208584: I tensorflow/compiler/xla/stream_executor/cuda/cuda_gpu_executor.cc:981] could not open file to read NUMA node: /sys/bus/pci/devices/0000:01:00.0/numa_node\n",
            "Your kernel may have been built without NUMA support.\n",
            "2023-08-09 09:04:38.208878: I tensorflow/compiler/xla/stream_executor/cuda/cuda_gpu_executor.cc:981] could not open file to read NUMA node: /sys/bus/pci/devices/0000:01:00.0/numa_node\n",
            "Your kernel may have been built without NUMA support.\n",
            "2023-08-09 09:04:38.211248: I tensorflow/compiler/xla/stream_executor/cuda/cuda_gpu_executor.cc:981] could not open file to read NUMA node: /sys/bus/pci/devices/0000:01:00.0/numa_node\n",
            "Your kernel may have been built without NUMA support.\n",
            "2023-08-09 09:04:38.211425: I tensorflow/compiler/xla/stream_executor/cuda/cuda_gpu_executor.cc:981] could not open file to read NUMA node: /sys/bus/pci/devices/0000:01:00.0/numa_node\n",
            "Your kernel may have been built without NUMA support.\n",
            "2023-08-09 09:04:38.211578: I tensorflow/compiler/xla/stream_executor/cuda/cuda_gpu_executor.cc:981] could not open file to read NUMA node: /sys/bus/pci/devices/0000:01:00.0/numa_node\n",
            "Your kernel may have been built without NUMA support.\n",
            "2023-08-09 09:04:38.667533: I tensorflow/compiler/xla/stream_executor/cuda/cuda_gpu_executor.cc:981] could not open file to read NUMA node: /sys/bus/pci/devices/0000:01:00.0/numa_node\n",
            "Your kernel may have been built without NUMA support.\n",
            "2023-08-09 09:04:38.667741: I tensorflow/compiler/xla/stream_executor/cuda/cuda_gpu_executor.cc:981] could not open file to read NUMA node: /sys/bus/pci/devices/0000:01:00.0/numa_node\n",
            "Your kernel may have been built without NUMA support.\n",
            "2023-08-09 09:04:38.667752: I tensorflow/core/common_runtime/gpu/gpu_device.cc:1726] Could not identify NUMA node of platform GPU id 0, defaulting to 0.  Your kernel may not have been built with NUMA support.\n",
            "2023-08-09 09:04:38.667853: I tensorflow/compiler/xla/stream_executor/cuda/cuda_gpu_executor.cc:981] could not open file to read NUMA node: /sys/bus/pci/devices/0000:01:00.0/numa_node\n",
            "Your kernel may have been built without NUMA support.\n",
            "2023-08-09 09:04:38.667878: I tensorflow/core/common_runtime/gpu/gpu_device.cc:1639] Created device /job:localhost/replica:0/task:0/device:GPU:0 with 5391 MB memory:  -> device: 0, name: NVIDIA GeForce RTX 4060 Laptop GPU, pci bus id: 0000:01:00.0, compute capability: 8.9\n"
          ]
        },
        {
          "name": "stdout",
          "output_type": "stream",
          "text": [
            "repeat no.1\n",
            "Epoch 1/15\n"
          ]
        },
        {
          "name": "stderr",
          "output_type": "stream",
          "text": [
            "2023-08-09 09:04:40.947145: I tensorflow/compiler/xla/stream_executor/cuda/cuda_dnn.cc:432] Loaded cuDNN version 8600\n",
            "2023-08-09 09:04:41.040775: I tensorflow/compiler/xla/stream_executor/cuda/cuda_blas.cc:606] TensorFloat-32 will be used for the matrix multiplication. This will only be logged once.\n",
            "2023-08-09 09:04:41.043532: I tensorflow/compiler/xla/service/service.cc:168] XLA service 0x7f2318032220 initialized for platform CUDA (this does not guarantee that XLA will be used). Devices:\n",
            "2023-08-09 09:04:41.043555: I tensorflow/compiler/xla/service/service.cc:176]   StreamExecutor device (0): NVIDIA GeForce RTX 4060 Laptop GPU, Compute Capability 8.9\n",
            "2023-08-09 09:04:41.046726: I tensorflow/compiler/mlir/tensorflow/utils/dump_mlir_util.cc:255] disabling MLIR crash reproducer, set env var `MLIR_CRASH_REPRODUCER_DIRECTORY` to enable.\n",
            "2023-08-09 09:04:41.119590: I ./tensorflow/compiler/jit/device_compiler.h:186] Compiled cluster using XLA!  This line is logged at most once for the lifetime of the process.\n"
          ]
        },
        {
          "name": "stdout",
          "output_type": "stream",
          "text": [
            "510/510 [==============================] - 21s 37ms/step - loss: 0.5633 - accuracy: 0.8049 - f1_score: 0.8025 - precision: 0.8031 - recall: 0.8022\n",
            "Epoch 2/15\n",
            "510/510 [==============================] - 8s 15ms/step - loss: 0.5469 - accuracy: 0.8085 - f1_score: 0.8085 - precision: 0.8085 - recall: 0.8084\n",
            "Epoch 3/15\n",
            "510/510 [==============================] - 6s 12ms/step - loss: 0.6221 - accuracy: 0.7889 - f1_score: 0.7899 - precision: 0.7924 - recall: 0.7875\n",
            "Epoch 4/15\n",
            "510/510 [==============================] - 6s 12ms/step - loss: 0.4022 - accuracy: 0.8290 - f1_score: 0.8290 - precision: 0.8290 - recall: 0.8290\n",
            "Epoch 5/15\n",
            "510/510 [==============================] - 6s 11ms/step - loss: 0.3697 - accuracy: 0.8415 - f1_score: 0.8415 - precision: 0.8415 - recall: 0.8415\n",
            "Epoch 6/15\n",
            "510/510 [==============================] - 6s 12ms/step - loss: 0.3682 - accuracy: 0.8416 - f1_score: 0.8416 - precision: 0.8416 - recall: 0.8416\n",
            "Epoch 7/15\n",
            "510/510 [==============================] - 6s 12ms/step - loss: 0.3668 - accuracy: 0.8416 - f1_score: 0.8416 - precision: 0.8416 - recall: 0.8416\n",
            "Epoch 8/15\n",
            "510/510 [==============================] - 6s 12ms/step - loss: 0.3667 - accuracy: 0.8416 - f1_score: 0.8416 - precision: 0.8416 - recall: 0.8416\n",
            "Epoch 9/15\n",
            "510/510 [==============================] - 6s 11ms/step - loss: 0.3662 - accuracy: 0.8416 - f1_score: 0.8416 - precision: 0.8416 - recall: 0.8416\n",
            "Epoch 10/15\n",
            "510/510 [==============================] - 6s 11ms/step - loss: 0.3660 - accuracy: 0.8416 - f1_score: 0.8416 - precision: 0.8416 - recall: 0.8416\n",
            "Epoch 11/15\n",
            "510/510 [==============================] - 5s 11ms/step - loss: 0.3660 - accuracy: 0.8416 - f1_score: 0.8416 - precision: 0.8416 - recall: 0.8416\n",
            "Epoch 12/15\n",
            "510/510 [==============================] - 6s 11ms/step - loss: 0.3660 - accuracy: 0.8416 - f1_score: 0.8416 - precision: 0.8416 - recall: 0.8416\n",
            "Epoch 13/15\n",
            "510/510 [==============================] - 6s 11ms/step - loss: 0.3661 - accuracy: 0.8416 - f1_score: 0.8416 - precision: 0.8416 - recall: 0.8416\n",
            "Epoch 14/15\n",
            "510/510 [==============================] - 6s 11ms/step - loss: 0.3660 - accuracy: 0.8416 - f1_score: 0.8416 - precision: 0.8416 - recall: 0.8416\n",
            "Epoch 15/15\n",
            "510/510 [==============================] - 5s 11ms/step - loss: 0.3658 - accuracy: 0.8416 - f1_score: 0.8416 - precision: 0.8416 - recall: 0.8416\n",
            "repeat no.2\n",
            "Epoch 1/15\n",
            "510/510 [==============================] - 17s 32ms/step - loss: 0.6464 - accuracy: 0.7623 - f1_score: 0.7606 - precision: 0.7669 - recall: 0.7554\n",
            "Epoch 2/15\n",
            "510/510 [==============================] - 7s 13ms/step - loss: 0.4874 - accuracy: 0.8116 - f1_score: 0.8118 - precision: 0.8200 - recall: 0.8049\n",
            "Epoch 3/15\n",
            "510/510 [==============================] - 6s 12ms/step - loss: 0.3677 - accuracy: 0.8418 - f1_score: 0.8418 - precision: 0.8418 - recall: 0.8418\n",
            "Epoch 4/15\n",
            "510/510 [==============================] - 6s 12ms/step - loss: 0.3665 - accuracy: 0.8418 - f1_score: 0.8418 - precision: 0.8418 - recall: 0.8418\n",
            "Epoch 5/15\n",
            "510/510 [==============================] - 6s 12ms/step - loss: 0.3664 - accuracy: 0.8418 - f1_score: 0.8418 - precision: 0.8418 - recall: 0.8418\n",
            "Epoch 6/15\n",
            "510/510 [==============================] - 6s 12ms/step - loss: 0.3661 - accuracy: 0.8418 - f1_score: 0.8418 - precision: 0.8418 - recall: 0.8418\n",
            "Epoch 7/15\n",
            "510/510 [==============================] - 6s 11ms/step - loss: 0.3662 - accuracy: 0.8418 - f1_score: 0.8418 - precision: 0.8418 - recall: 0.8418\n",
            "Epoch 8/15\n",
            "510/510 [==============================] - 6s 11ms/step - loss: 0.3752 - accuracy: 0.8400 - f1_score: 0.8400 - precision: 0.8402 - recall: 0.8399\n",
            "Epoch 9/15\n",
            "510/510 [==============================] - 6s 11ms/step - loss: 0.3659 - accuracy: 0.8418 - f1_score: 0.8418 - precision: 0.8418 - recall: 0.8418\n",
            "Epoch 10/15\n",
            "510/510 [==============================] - 6s 12ms/step - loss: 0.3657 - accuracy: 0.8418 - f1_score: 0.8418 - precision: 0.8418 - recall: 0.8418\n",
            "Epoch 11/15\n",
            "510/510 [==============================] - 6s 11ms/step - loss: 0.3658 - accuracy: 0.8418 - f1_score: 0.8418 - precision: 0.8418 - recall: 0.8418\n",
            "Epoch 12/15\n",
            "510/510 [==============================] - 6s 11ms/step - loss: 0.3657 - accuracy: 0.8418 - f1_score: 0.8418 - precision: 0.8418 - recall: 0.8418\n",
            "Epoch 13/15\n",
            "510/510 [==============================] - 6s 11ms/step - loss: 0.3656 - accuracy: 0.8418 - f1_score: 0.8418 - precision: 0.8418 - recall: 0.8418\n",
            "Epoch 14/15\n",
            "510/510 [==============================] - 6s 11ms/step - loss: 0.3657 - accuracy: 0.8418 - f1_score: 0.8418 - precision: 0.8418 - recall: 0.8418\n",
            "Epoch 15/15\n",
            "510/510 [==============================] - 5s 11ms/step - loss: 0.3656 - accuracy: 0.8418 - f1_score: 0.8418 - precision: 0.8418 - recall: 0.8418\n",
            "repeat no.3\n",
            "Epoch 1/15\n",
            "510/510 [==============================] - 17s 31ms/step - loss: 0.5669 - accuracy: 0.8045 - f1_score: 0.8023 - precision: 0.8024 - recall: 0.8022\n",
            "Epoch 2/15\n",
            "510/510 [==============================] - 7s 13ms/step - loss: 0.5482 - accuracy: 0.8080 - f1_score: 0.8080 - precision: 0.8080 - recall: 0.8080\n",
            "Epoch 3/15\n",
            "510/510 [==============================] - 6s 12ms/step - loss: 0.5523 - accuracy: 0.8074 - f1_score: 0.8074 - precision: 0.8074 - recall: 0.8074\n",
            "Epoch 4/15\n",
            "510/510 [==============================] - 6s 12ms/step - loss: 0.5476 - accuracy: 0.8079 - f1_score: 0.8079 - precision: 0.8079 - recall: 0.8079\n",
            "Epoch 5/15\n",
            "510/510 [==============================] - 6s 12ms/step - loss: 0.5508 - accuracy: 0.8075 - f1_score: 0.8075 - precision: 0.8075 - recall: 0.8075\n",
            "Epoch 6/15\n",
            "510/510 [==============================] - 6s 12ms/step - loss: 0.5475 - accuracy: 0.8079 - f1_score: 0.8079 - precision: 0.8079 - recall: 0.8079\n",
            "Epoch 7/15\n",
            "510/510 [==============================] - 6s 12ms/step - loss: 0.5471 - accuracy: 0.8079 - f1_score: 0.8079 - precision: 0.8079 - recall: 0.8079\n",
            "Epoch 8/15\n",
            "510/510 [==============================] - 6s 11ms/step - loss: 0.5483 - accuracy: 0.8077 - f1_score: 0.8077 - precision: 0.8077 - recall: 0.8077\n",
            "Epoch 9/15\n",
            "510/510 [==============================] - 6s 12ms/step - loss: 0.5466 - accuracy: 0.8079 - f1_score: 0.8079 - precision: 0.8079 - recall: 0.8079\n",
            "Epoch 10/15\n",
            "510/510 [==============================] - 6s 11ms/step - loss: 0.5509 - accuracy: 0.8074 - f1_score: 0.8074 - precision: 0.8074 - recall: 0.8074\n",
            "Epoch 11/15\n",
            "510/510 [==============================] - 6s 11ms/step - loss: 0.5576 - accuracy: 0.8063 - f1_score: 0.8063 - precision: 0.8063 - recall: 0.8063\n",
            "Epoch 12/15\n",
            "510/510 [==============================] - 6s 11ms/step - loss: 0.4572 - accuracy: 0.8249 - f1_score: 0.8250 - precision: 0.8252 - recall: 0.8249\n",
            "Epoch 13/15\n",
            "510/510 [==============================] - 6s 12ms/step - loss: 0.3677 - accuracy: 0.8411 - f1_score: 0.8411 - precision: 0.8411 - recall: 0.8411\n",
            "Epoch 14/15\n",
            "510/510 [==============================] - 6s 12ms/step - loss: 0.3672 - accuracy: 0.8411 - f1_score: 0.8411 - precision: 0.8411 - recall: 0.8411\n",
            "Epoch 15/15\n",
            "510/510 [==============================] - 6s 11ms/step - loss: 0.3666 - accuracy: 0.8411 - f1_score: 0.8411 - precision: 0.8411 - recall: 0.8411\n",
            "repeat no.4\n",
            "Epoch 1/15\n",
            "510/510 [==============================] - 17s 32ms/step - loss: 0.5478 - accuracy: 0.8052 - f1_score: 0.8029 - precision: 0.8039 - recall: 0.8020\n",
            "Epoch 2/15\n",
            "510/510 [==============================] - 7s 13ms/step - loss: 0.5475 - accuracy: 0.8086 - f1_score: 0.8086 - precision: 0.8086 - recall: 0.8086\n",
            "Epoch 3/15\n",
            "510/510 [==============================] - 6s 12ms/step - loss: 0.5465 - accuracy: 0.8086 - f1_score: 0.8086 - precision: 0.8086 - recall: 0.8086\n",
            "Epoch 4/15\n",
            "510/510 [==============================] - 6s 12ms/step - loss: 0.5463 - accuracy: 0.8086 - f1_score: 0.8086 - precision: 0.8086 - recall: 0.8086\n",
            "Epoch 5/15\n",
            "510/510 [==============================] - 6s 11ms/step - loss: 0.5495 - accuracy: 0.8082 - f1_score: 0.8082 - precision: 0.8082 - recall: 0.8082\n",
            "Epoch 6/15\n",
            "510/510 [==============================] - 6s 12ms/step - loss: 0.5623 - accuracy: 0.8046 - f1_score: 0.8047 - precision: 0.8049 - recall: 0.8045\n",
            "Epoch 7/15\n",
            "510/510 [==============================] - 6s 12ms/step - loss: 0.3760 - accuracy: 0.8398 - f1_score: 0.8397 - precision: 0.8399 - recall: 0.8395\n",
            "Epoch 8/15\n",
            "510/510 [==============================] - 6s 12ms/step - loss: 0.3670 - accuracy: 0.8419 - f1_score: 0.8419 - precision: 0.8419 - recall: 0.8419\n",
            "Epoch 9/15\n",
            "510/510 [==============================] - 6s 12ms/step - loss: 0.3665 - accuracy: 0.8419 - f1_score: 0.8419 - precision: 0.8419 - recall: 0.8419\n",
            "Epoch 10/15\n",
            "510/510 [==============================] - 6s 11ms/step - loss: 0.3661 - accuracy: 0.8419 - f1_score: 0.8419 - precision: 0.8419 - recall: 0.8419\n",
            "Epoch 11/15\n",
            "510/510 [==============================] - 6s 12ms/step - loss: 0.3660 - accuracy: 0.8419 - f1_score: 0.8419 - precision: 0.8419 - recall: 0.8419\n",
            "Epoch 12/15\n",
            "510/510 [==============================] - 6s 11ms/step - loss: 0.3660 - accuracy: 0.8419 - f1_score: 0.8419 - precision: 0.8419 - recall: 0.8419\n",
            "Epoch 13/15\n",
            "510/510 [==============================] - 5s 11ms/step - loss: 0.3659 - accuracy: 0.8419 - f1_score: 0.8419 - precision: 0.8419 - recall: 0.8419\n",
            "Epoch 14/15\n",
            "510/510 [==============================] - 5s 11ms/step - loss: 0.3659 - accuracy: 0.8419 - f1_score: 0.8419 - precision: 0.8419 - recall: 0.8419\n",
            "Epoch 15/15\n",
            "510/510 [==============================] - 6s 11ms/step - loss: 0.3660 - accuracy: 0.8419 - f1_score: 0.8419 - precision: 0.8419 - recall: 0.8419\n",
            "repeat no.5\n",
            "Epoch 1/15\n",
            "510/510 [==============================] - 18s 33ms/step - loss: 0.6061 - accuracy: 0.7733 - f1_score: 0.7702 - precision: 0.7761 - recall: 0.7648\n",
            "Epoch 2/15\n",
            "510/510 [==============================] - 8s 15ms/step - loss: 0.6294 - accuracy: 0.7747 - f1_score: 0.7722 - precision: 0.7771 - recall: 0.7687\n",
            "Epoch 3/15\n",
            "510/510 [==============================] - 6s 12ms/step - loss: 0.4911 - accuracy: 0.8085 - f1_score: 0.8084 - precision: 0.8095 - recall: 0.8074\n",
            "Epoch 4/15\n",
            "510/510 [==============================] - 6s 12ms/step - loss: 0.3679 - accuracy: 0.8413 - f1_score: 0.8413 - precision: 0.8413 - recall: 0.8413\n",
            "Epoch 5/15\n",
            "510/510 [==============================] - 6s 12ms/step - loss: 0.3670 - accuracy: 0.8413 - f1_score: 0.8413 - precision: 0.8413 - recall: 0.8413\n",
            "Epoch 6/15\n",
            "510/510 [==============================] - 6s 12ms/step - loss: 0.3670 - accuracy: 0.8413 - f1_score: 0.8413 - precision: 0.8413 - recall: 0.8413\n",
            "Epoch 7/15\n",
            "510/510 [==============================] - 6s 12ms/step - loss: 0.3669 - accuracy: 0.8413 - f1_score: 0.8413 - precision: 0.8413 - recall: 0.8413\n",
            "Epoch 8/15\n",
            "510/510 [==============================] - 6s 12ms/step - loss: 0.3669 - accuracy: 0.8413 - f1_score: 0.8413 - precision: 0.8413 - recall: 0.8413\n",
            "Epoch 9/15\n",
            "510/510 [==============================] - 6s 12ms/step - loss: 0.3668 - accuracy: 0.8413 - f1_score: 0.8413 - precision: 0.8413 - recall: 0.8413\n",
            "Epoch 10/15\n",
            "510/510 [==============================] - 6s 12ms/step - loss: 0.3666 - accuracy: 0.8413 - f1_score: 0.8413 - precision: 0.8413 - recall: 0.8413\n",
            "Epoch 11/15\n",
            "510/510 [==============================] - 6s 12ms/step - loss: 0.3668 - accuracy: 0.8413 - f1_score: 0.8414 - precision: 0.8414 - recall: 0.8414\n",
            "Epoch 12/15\n",
            "510/510 [==============================] - 6s 12ms/step - loss: 0.3666 - accuracy: 0.8413 - f1_score: 0.8413 - precision: 0.8413 - recall: 0.8413\n",
            "Epoch 13/15\n",
            "510/510 [==============================] - 6s 12ms/step - loss: 0.3665 - accuracy: 0.8413 - f1_score: 0.8413 - precision: 0.8413 - recall: 0.8413\n",
            "Epoch 14/15\n",
            "510/510 [==============================] - 6s 12ms/step - loss: 0.3664 - accuracy: 0.8413 - f1_score: 0.8413 - precision: 0.8413 - recall: 0.8413\n",
            "Epoch 15/15\n",
            "510/510 [==============================] - 6s 12ms/step - loss: 0.3971 - accuracy: 0.8368 - f1_score: 0.8368 - precision: 0.8369 - recall: 0.8366\n",
            "repeat no.6\n",
            "Epoch 1/15\n",
            "510/510 [==============================] - 17s 31ms/step - loss: 0.6022 - accuracy: 0.7980 - f1_score: 0.7952 - precision: 0.7965 - recall: 0.7948\n",
            "Epoch 2/15\n",
            "510/510 [==============================] - 7s 14ms/step - loss: 0.5479 - accuracy: 0.8084 - f1_score: 0.8084 - precision: 0.8084 - recall: 0.8084\n",
            "Epoch 3/15\n",
            "510/510 [==============================] - 6s 12ms/step - loss: 0.5462 - accuracy: 0.8086 - f1_score: 0.8086 - precision: 0.8086 - recall: 0.8086\n",
            "Epoch 4/15\n",
            "510/510 [==============================] - 6s 13ms/step - loss: 0.5457 - accuracy: 0.8086 - f1_score: 0.8086 - precision: 0.8086 - recall: 0.8086\n",
            "Epoch 5/15\n",
            "510/510 [==============================] - 6s 12ms/step - loss: 0.5453 - accuracy: 0.8086 - f1_score: 0.8086 - precision: 0.8086 - recall: 0.8086\n",
            "Epoch 6/15\n",
            "510/510 [==============================] - 6s 12ms/step - loss: 0.5455 - accuracy: 0.8086 - f1_score: 0.8086 - precision: 0.8086 - recall: 0.8086\n",
            "Epoch 7/15\n",
            "510/510 [==============================] - 6s 12ms/step - loss: 0.5452 - accuracy: 0.8086 - f1_score: 0.8086 - precision: 0.8086 - recall: 0.8086\n",
            "Epoch 8/15\n",
            "510/510 [==============================] - 6s 12ms/step - loss: 0.5453 - accuracy: 0.8086 - f1_score: 0.8086 - precision: 0.8086 - recall: 0.8086\n",
            "Epoch 9/15\n",
            "510/510 [==============================] - 7s 13ms/step - loss: 0.5459 - accuracy: 0.8085 - f1_score: 0.8085 - precision: 0.8085 - recall: 0.8085\n",
            "Epoch 10/15\n",
            "510/510 [==============================] - 6s 12ms/step - loss: 0.5451 - accuracy: 0.8086 - f1_score: 0.8086 - precision: 0.8086 - recall: 0.8086\n",
            "Epoch 11/15\n",
            "510/510 [==============================] - 6s 13ms/step - loss: 0.5454 - accuracy: 0.8085 - f1_score: 0.8085 - precision: 0.8085 - recall: 0.8085\n",
            "Epoch 12/15\n",
            "510/510 [==============================] - 6s 12ms/step - loss: 0.5451 - accuracy: 0.8086 - f1_score: 0.8086 - precision: 0.8086 - recall: 0.8086\n",
            "Epoch 13/15\n",
            "510/510 [==============================] - 6s 12ms/step - loss: 0.5455 - accuracy: 0.8085 - f1_score: 0.8086 - precision: 0.8086 - recall: 0.8086\n",
            "Epoch 14/15\n",
            "510/510 [==============================] - 6s 12ms/step - loss: 0.5443 - accuracy: 0.8086 - f1_score: 0.8086 - precision: 0.8086 - recall: 0.8086\n",
            "Epoch 15/15\n",
            "510/510 [==============================] - 6s 12ms/step - loss: 0.5447 - accuracy: 0.8086 - f1_score: 0.8086 - precision: 0.8086 - recall: 0.8086\n",
            "repeat no.7\n",
            "Epoch 1/15\n",
            "510/510 [==============================] - 17s 32ms/step - loss: 0.5455 - accuracy: 0.8049 - f1_score: 0.8016 - precision: 0.8047 - recall: 0.7987\n",
            "Epoch 2/15\n",
            "510/510 [==============================] - 8s 15ms/step - loss: 0.5462 - accuracy: 0.8083 - f1_score: 0.8083 - precision: 0.8083 - recall: 0.8083\n",
            "Epoch 3/15\n",
            "510/510 [==============================] - 6s 12ms/step - loss: 0.5453 - accuracy: 0.8083 - f1_score: 0.8083 - precision: 0.8083 - recall: 0.8083\n",
            "Epoch 4/15\n",
            "510/510 [==============================] - 6s 11ms/step - loss: 0.5518 - accuracy: 0.8072 - f1_score: 0.8072 - precision: 0.8078 - recall: 0.8066\n",
            "Epoch 5/15\n",
            "510/510 [==============================] - 6s 12ms/step - loss: 0.3730 - accuracy: 0.8408 - f1_score: 0.8408 - precision: 0.8408 - recall: 0.8408\n",
            "Epoch 6/15\n",
            "510/510 [==============================] - 6s 12ms/step - loss: 0.3687 - accuracy: 0.8412 - f1_score: 0.8412 - precision: 0.8412 - recall: 0.8412\n",
            "Epoch 7/15\n",
            "510/510 [==============================] - 6s 11ms/step - loss: 0.3685 - accuracy: 0.8412 - f1_score: 0.8412 - precision: 0.8412 - recall: 0.8412\n",
            "Epoch 8/15\n",
            "510/510 [==============================] - 6s 11ms/step - loss: 0.3672 - accuracy: 0.8412 - f1_score: 0.8412 - precision: 0.8412 - recall: 0.8412\n",
            "Epoch 9/15\n",
            "510/510 [==============================] - 6s 11ms/step - loss: 0.3670 - accuracy: 0.8412 - f1_score: 0.8412 - precision: 0.8412 - recall: 0.8412\n",
            "Epoch 10/15\n",
            "510/510 [==============================] - 6s 11ms/step - loss: 0.3669 - accuracy: 0.8412 - f1_score: 0.8412 - precision: 0.8412 - recall: 0.8412\n",
            "Epoch 11/15\n",
            "510/510 [==============================] - 6s 11ms/step - loss: 0.3670 - accuracy: 0.8412 - f1_score: 0.8412 - precision: 0.8412 - recall: 0.8412\n",
            "Epoch 12/15\n",
            "510/510 [==============================] - 6s 11ms/step - loss: 0.3665 - accuracy: 0.8412 - f1_score: 0.8412 - precision: 0.8412 - recall: 0.8412\n",
            "Epoch 13/15\n",
            "510/510 [==============================] - 6s 11ms/step - loss: 0.3665 - accuracy: 0.8412 - f1_score: 0.8412 - precision: 0.8412 - recall: 0.8412\n",
            "Epoch 14/15\n",
            "510/510 [==============================] - 6s 12ms/step - loss: 0.3666 - accuracy: 0.8412 - f1_score: 0.8412 - precision: 0.8412 - recall: 0.8412\n",
            "Epoch 15/15\n",
            "510/510 [==============================] - 6s 12ms/step - loss: 0.3667 - accuracy: 0.8412 - f1_score: 0.8412 - precision: 0.8412 - recall: 0.8412\n",
            "repeat no.8\n",
            "Epoch 1/15\n",
            "510/510 [==============================] - 17s 31ms/step - loss: 0.5632 - accuracy: 0.8066 - f1_score: 0.8041 - precision: 0.8041 - recall: 0.8041\n",
            "Epoch 2/15\n",
            "510/510 [==============================] - 8s 15ms/step - loss: 0.5439 - accuracy: 0.8095 - f1_score: 0.8095 - precision: 0.8095 - recall: 0.8095\n",
            "Epoch 3/15\n",
            "510/510 [==============================] - 6s 12ms/step - loss: 0.5422 - accuracy: 0.8140 - f1_score: 0.8141 - precision: 0.8145 - recall: 0.8137\n",
            "Epoch 4/15\n",
            "510/510 [==============================] - 6s 12ms/step - loss: 0.3667 - accuracy: 0.8425 - f1_score: 0.8425 - precision: 0.8425 - recall: 0.8425\n",
            "Epoch 5/15\n",
            "510/510 [==============================] - 6s 12ms/step - loss: 0.3662 - accuracy: 0.8425 - f1_score: 0.8425 - precision: 0.8425 - recall: 0.8425\n",
            "Epoch 6/15\n",
            "510/510 [==============================] - 6s 12ms/step - loss: 0.3657 - accuracy: 0.8425 - f1_score: 0.8425 - precision: 0.8425 - recall: 0.8425\n",
            "Epoch 7/15\n",
            "510/510 [==============================] - 6s 12ms/step - loss: 0.3655 - accuracy: 0.8425 - f1_score: 0.8425 - precision: 0.8425 - recall: 0.8425\n",
            "Epoch 8/15\n",
            "510/510 [==============================] - 6s 11ms/step - loss: 0.3649 - accuracy: 0.8425 - f1_score: 0.8425 - precision: 0.8425 - recall: 0.8425\n",
            "Epoch 9/15\n",
            "510/510 [==============================] - 6s 12ms/step - loss: 0.3652 - accuracy: 0.8425 - f1_score: 0.8425 - precision: 0.8425 - recall: 0.8425\n",
            "Epoch 10/15\n",
            "510/510 [==============================] - 6s 12ms/step - loss: 0.3650 - accuracy: 0.8425 - f1_score: 0.8425 - precision: 0.8425 - recall: 0.8425\n",
            "Epoch 11/15\n",
            "510/510 [==============================] - 6s 12ms/step - loss: 0.3652 - accuracy: 0.8425 - f1_score: 0.8425 - precision: 0.8425 - recall: 0.8425\n",
            "Epoch 12/15\n",
            "510/510 [==============================] - 6s 12ms/step - loss: 0.3652 - accuracy: 0.8425 - f1_score: 0.8425 - precision: 0.8425 - recall: 0.8425\n",
            "Epoch 13/15\n",
            "510/510 [==============================] - 6s 12ms/step - loss: 0.3651 - accuracy: 0.8425 - f1_score: 0.8425 - precision: 0.8425 - recall: 0.8425\n",
            "Epoch 14/15\n",
            "510/510 [==============================] - 6s 12ms/step - loss: 0.3648 - accuracy: 0.8425 - f1_score: 0.8425 - precision: 0.8425 - recall: 0.8425\n",
            "Epoch 15/15\n",
            "510/510 [==============================] - 6s 12ms/step - loss: 0.3650 - accuracy: 0.8425 - f1_score: 0.8425 - precision: 0.8425 - recall: 0.8425\n",
            "repeat no.9\n",
            "Epoch 1/15\n",
            "510/510 [==============================] - 17s 31ms/step - loss: 0.5541 - accuracy: 0.8083 - f1_score: 0.8052 - precision: 0.8052 - recall: 0.8052\n",
            "Epoch 2/15\n",
            "510/510 [==============================] - 7s 15ms/step - loss: 0.5555 - accuracy: 0.8089 - f1_score: 0.8088 - precision: 0.8088 - recall: 0.8088\n",
            "Epoch 3/15\n",
            "510/510 [==============================] - 7s 14ms/step - loss: 0.5420 - accuracy: 0.8095 - f1_score: 0.8094 - precision: 0.8094 - recall: 0.8094\n",
            "Epoch 4/15\n",
            "510/510 [==============================] - 7s 13ms/step - loss: 0.5479 - accuracy: 0.8024 - f1_score: 0.8009 - precision: 0.8048 - recall: 0.7986\n",
            "Epoch 5/15\n",
            "510/510 [==============================] - 7s 13ms/step - loss: 0.3883 - accuracy: 0.8385 - f1_score: 0.8378 - precision: 0.8389 - recall: 0.8368\n",
            "Epoch 6/15\n",
            "510/510 [==============================] - 6s 12ms/step - loss: 0.3746 - accuracy: 0.8425 - f1_score: 0.8426 - precision: 0.8426 - recall: 0.8426\n",
            "Epoch 7/15\n",
            "510/510 [==============================] - 6s 12ms/step - loss: 0.3734 - accuracy: 0.8425 - f1_score: 0.8425 - precision: 0.8425 - recall: 0.8425\n",
            "Epoch 8/15\n",
            "510/510 [==============================] - 6s 12ms/step - loss: 0.3700 - accuracy: 0.8425 - f1_score: 0.8426 - precision: 0.8426 - recall: 0.8426\n",
            "Epoch 9/15\n",
            "510/510 [==============================] - 7s 13ms/step - loss: 0.3699 - accuracy: 0.8425 - f1_score: 0.8426 - precision: 0.8426 - recall: 0.8426\n",
            "Epoch 10/15\n",
            "510/510 [==============================] - 6s 11ms/step - loss: 0.3685 - accuracy: 0.8425 - f1_score: 0.8425 - precision: 0.8425 - recall: 0.8425\n",
            "Epoch 11/15\n",
            "510/510 [==============================] - 6s 11ms/step - loss: 0.3697 - accuracy: 0.8425 - f1_score: 0.8426 - precision: 0.8426 - recall: 0.8426\n",
            "Epoch 12/15\n",
            "510/510 [==============================] - 6s 11ms/step - loss: 0.3696 - accuracy: 0.8425 - f1_score: 0.8425 - precision: 0.8425 - recall: 0.8425\n",
            "Epoch 13/15\n",
            "510/510 [==============================] - 6s 11ms/step - loss: 0.3688 - accuracy: 0.8425 - f1_score: 0.8426 - precision: 0.8426 - recall: 0.8426\n",
            "Epoch 14/15\n",
            "510/510 [==============================] - 6s 11ms/step - loss: 0.3690 - accuracy: 0.8425 - f1_score: 0.8425 - precision: 0.8425 - recall: 0.8425\n",
            "Epoch 15/15\n",
            "510/510 [==============================] - 6s 11ms/step - loss: 0.3674 - accuracy: 0.8425 - f1_score: 0.8425 - precision: 0.8425 - recall: 0.8425\n",
            "repeat no.10\n",
            "Epoch 1/15\n",
            "510/510 [==============================] - 18s 34ms/step - loss: 0.5645 - accuracy: 0.8039 - f1_score: 0.8021 - precision: 0.8022 - recall: 0.8020\n",
            "Epoch 2/15\n",
            "510/510 [==============================] - 7s 14ms/step - loss: 0.5485 - accuracy: 0.8076 - f1_score: 0.8076 - precision: 0.8076 - recall: 0.8076\n",
            "Epoch 3/15\n",
            "510/510 [==============================] - 6s 13ms/step - loss: 0.5482 - accuracy: 0.8077 - f1_score: 0.8077 - precision: 0.8078 - recall: 0.8076\n",
            "Epoch 4/15\n",
            "510/510 [==============================] - 6s 12ms/step - loss: 0.5925 - accuracy: 0.7948 - f1_score: 0.7939 - precision: 0.7978 - recall: 0.7927\n",
            "Epoch 5/15\n",
            "510/510 [==============================] - 6s 12ms/step - loss: 0.5832 - accuracy: 0.7810 - f1_score: 0.7812 - precision: 0.7982 - recall: 0.7655\n",
            "Epoch 6/15\n",
            "510/510 [==============================] - 7s 13ms/step - loss: 0.4290 - accuracy: 0.8201 - f1_score: 0.8157 - precision: 0.8224 - recall: 0.8096\n",
            "Epoch 7/15\n",
            "510/510 [==============================] - 6s 12ms/step - loss: 0.4176 - accuracy: 0.8201 - f1_score: 0.8201 - precision: 0.8201 - recall: 0.8201\n",
            "Epoch 8/15\n",
            "510/510 [==============================] - 6s 12ms/step - loss: 0.4147 - accuracy: 0.8201 - f1_score: 0.8201 - precision: 0.8201 - recall: 0.8201\n",
            "Epoch 9/15\n",
            "510/510 [==============================] - 6s 12ms/step - loss: 0.4128 - accuracy: 0.8201 - f1_score: 0.8201 - precision: 0.8201 - recall: 0.8201\n",
            "Epoch 10/15\n",
            "510/510 [==============================] - 6s 12ms/step - loss: 0.4116 - accuracy: 0.8201 - f1_score: 0.8201 - precision: 0.8201 - recall: 0.8201\n",
            "Epoch 11/15\n",
            "510/510 [==============================] - 6s 12ms/step - loss: 0.3803 - accuracy: 0.8380 - f1_score: 0.8379 - precision: 0.8383 - recall: 0.8375\n",
            "Epoch 12/15\n",
            "510/510 [==============================] - 6s 12ms/step - loss: 0.3690 - accuracy: 0.8406 - f1_score: 0.8406 - precision: 0.8406 - recall: 0.8406\n",
            "Epoch 13/15\n",
            "510/510 [==============================] - 6s 12ms/step - loss: 0.3687 - accuracy: 0.8407 - f1_score: 0.8407 - precision: 0.8407 - recall: 0.8407\n",
            "Epoch 14/15\n",
            "510/510 [==============================] - 6s 12ms/step - loss: 0.3682 - accuracy: 0.8407 - f1_score: 0.8407 - precision: 0.8407 - recall: 0.8407\n",
            "Epoch 15/15\n",
            "510/510 [==============================] - 6s 12ms/step - loss: 0.3679 - accuracy: 0.8407 - f1_score: 0.8407 - precision: 0.8407 - recall: 0.8407\n"
          ]
        }
      ],
      "source": [
        "import os\n",
        "\n",
        "layers = [\n",
        "            keras.layers.Embedding(file_data_vocab_size, 128, input_length=file_data_input_dim),\n",
        "            keras.layers.LSTM(128, dropout=0.7, activation=\"tanh\"),\n",
        "            keras.layers.Dense(100, activation=tf.nn.relu),\n",
        "            keras.layers.Dense(4, activation='softmax'),\n",
        "        ]\n",
        "\n",
        "compileArgs = {\n",
        "    \"loss\": tf.keras.losses.CategoricalCrossentropy(), \n",
        "    \"optimizer\": tf.keras.optimizers.Adam(learning_rate=.005), \n",
        "    \"metrics\": [\"accuracy\", f1_score, precision, recall],\n",
        "}\n",
        "RNN_models = []\n",
        "for idx, (RNN_train_X, (_, _, _, train_Y)) in enumerate(zip(RNN_train_Xs, datas_)):\n",
        "    RNN_model = keras.Sequential(\n",
        "        layers = [\n",
        "            keras.layers.Embedding(file_data_vocab_size, 128, input_length=file_data_input_dim),\n",
        "            keras.layers.LSTM(128, dropout=0.7, activation=\"tanh\"),\n",
        "            keras.layers.Dense(100, activation=tf.nn.relu),\n",
        "            keras.layers.Dense(4, activation='softmax'),\n",
        "        ]\n",
        "    )\n",
        "    RNN_model.compile(\n",
        "        loss=tf.keras.losses.CategoricalCrossentropy(),\n",
        "        optimizer=tf.keras.optimizers.Adam(learning_rate=.005), \n",
        "        metrics=[\"accuracy\", f1_score, precision, recall],\n",
        "    )\n",
        "    print(f\"repeat no.{idx+1}\")\n",
        "    RNN_model.fit(RNN_train_X, train_Y, epochs=15, batch_size=128)\n",
        "    RNN_models.append(RNN_model)\n",
        "    # RNN_model.save(\"http_data_RNN.model\")\n",
        "    # zipFile(\"http_data_RNN.model\")"
      ]
    },
    {
      "cell_type": "code",
      "execution_count": 31,
      "metadata": {
        "id": "CBbzHOn8XC_M",
        "notebookRunGroups": {
          "groupValue": ""
        }
      },
      "outputs": [],
      "source": [
        "payload_vocab_size = tokenizer_payload.word_index.keys().__len__() + 1\n",
        "payload_input_dim = payload_train_X.shape[1]"
      ]
    },
    {
      "cell_type": "code",
      "execution_count": 32,
      "metadata": {
        "colab": {
          "base_uri": "https://localhost:8080/"
        },
        "id": "Squd9JGI6Ay7",
        "outputId": "66d454e0-ff94-4e3d-b4cc-305c1c65226f"
      },
      "outputs": [
        {
          "name": "stdout",
          "output_type": "stream",
          "text": [
            "repeat no.1\n",
            "Epoch 1/15\n",
            "510/510 [==============================] - 15s 28ms/step - loss: 0.6473 - accuracy: 0.7793 - f1_score: 0.7698 - precision: 0.7724 - recall: 0.7682\n",
            "Epoch 2/15\n",
            "510/510 [==============================] - 7s 15ms/step - loss: 0.4435 - accuracy: 0.8706 - f1_score: 0.8729 - precision: 0.8876 - recall: 0.8602\n",
            "Epoch 3/15\n",
            "510/510 [==============================] - 7s 14ms/step - loss: 0.2071 - accuracy: 0.9369 - f1_score: 0.9382 - precision: 0.9567 - recall: 0.9215\n",
            "Epoch 4/15\n",
            "510/510 [==============================] - 7s 14ms/step - loss: 0.2809 - accuracy: 0.9210 - f1_score: 0.9212 - precision: 0.9216 - recall: 0.9208\n",
            "Epoch 5/15\n",
            "510/510 [==============================] - 7s 13ms/step - loss: 0.5253 - accuracy: 0.8206 - f1_score: 0.8206 - precision: 0.8208 - recall: 0.8205\n",
            "Epoch 6/15\n",
            "510/510 [==============================] - 7s 14ms/step - loss: 0.5226 - accuracy: 0.8213 - f1_score: 0.8213 - precision: 0.8213 - recall: 0.8213\n",
            "Epoch 7/15\n",
            "510/510 [==============================] - 7s 14ms/step - loss: 0.5220 - accuracy: 0.8213 - f1_score: 0.8213 - precision: 0.8213 - recall: 0.8213\n",
            "Epoch 8/15\n",
            "510/510 [==============================] - 7s 14ms/step - loss: 0.5215 - accuracy: 0.8213 - f1_score: 0.8214 - precision: 0.8214 - recall: 0.8214\n",
            "Epoch 9/15\n",
            "510/510 [==============================] - 7s 13ms/step - loss: 0.5213 - accuracy: 0.8213 - f1_score: 0.8213 - precision: 0.8213 - recall: 0.8213\n",
            "Epoch 10/15\n",
            "510/510 [==============================] - 7s 13ms/step - loss: 0.5215 - accuracy: 0.8213 - f1_score: 0.8213 - precision: 0.8213 - recall: 0.8213\n",
            "Epoch 11/15\n",
            "510/510 [==============================] - 7s 13ms/step - loss: 0.5210 - accuracy: 0.8213 - f1_score: 0.8213 - precision: 0.8213 - recall: 0.8213\n",
            "Epoch 12/15\n",
            "510/510 [==============================] - 7s 13ms/step - loss: 0.5214 - accuracy: 0.8213 - f1_score: 0.8213 - precision: 0.8213 - recall: 0.8213\n",
            "Epoch 13/15\n",
            "510/510 [==============================] - 7s 14ms/step - loss: 0.5212 - accuracy: 0.8213 - f1_score: 0.8213 - precision: 0.8213 - recall: 0.8213\n",
            "Epoch 14/15\n",
            "510/510 [==============================] - 7s 14ms/step - loss: 0.5212 - accuracy: 0.8213 - f1_score: 0.8213 - precision: 0.8213 - recall: 0.8213\n",
            "Epoch 15/15\n",
            "510/510 [==============================] - 7s 14ms/step - loss: 0.5210 - accuracy: 0.8213 - f1_score: 0.8214 - precision: 0.8214 - recall: 0.8214\n",
            "repeat no.2\n",
            "Epoch 1/15\n",
            "510/510 [==============================] - 14s 24ms/step - loss: 0.7229 - accuracy: 0.7657 - f1_score: 0.7562 - precision: 0.7584 - recall: 0.7541\n",
            "Epoch 2/15\n",
            "510/510 [==============================] - 8s 15ms/step - loss: 0.5021 - accuracy: 0.8074 - f1_score: 0.8050 - precision: 0.8334 - recall: 0.7792\n",
            "Epoch 3/15\n",
            "510/510 [==============================] - 7s 14ms/step - loss: 0.3881 - accuracy: 0.8643 - f1_score: 0.8640 - precision: 0.8644 - recall: 0.8636\n",
            "Epoch 4/15\n",
            "510/510 [==============================] - 7s 14ms/step - loss: 0.3152 - accuracy: 0.9011 - f1_score: 0.9012 - precision: 0.9012 - recall: 0.9012\n",
            "Epoch 5/15\n",
            "510/510 [==============================] - 7s 14ms/step - loss: 0.3466 - accuracy: 0.8802 - f1_score: 0.8802 - precision: 0.8802 - recall: 0.8802\n",
            "Epoch 6/15\n",
            "510/510 [==============================] - 7s 14ms/step - loss: 0.4464 - accuracy: 0.8284 - f1_score: 0.8284 - precision: 0.8284 - recall: 0.8283\n",
            "Epoch 7/15\n",
            "510/510 [==============================] - 7s 14ms/step - loss: 0.4457 - accuracy: 0.8294 - f1_score: 0.8294 - precision: 0.8295 - recall: 0.8294\n",
            "Epoch 8/15\n",
            "510/510 [==============================] - 7s 14ms/step - loss: 0.4443 - accuracy: 0.8296 - f1_score: 0.8296 - precision: 0.8296 - recall: 0.8296\n",
            "Epoch 9/15\n",
            "510/510 [==============================] - 7s 14ms/step - loss: 0.4438 - accuracy: 0.8297 - f1_score: 0.8297 - precision: 0.8297 - recall: 0.8297\n",
            "Epoch 10/15\n",
            "510/510 [==============================] - 7s 14ms/step - loss: 0.4434 - accuracy: 0.8296 - f1_score: 0.8296 - precision: 0.8296 - recall: 0.8295\n",
            "Epoch 11/15\n",
            "510/510 [==============================] - 7s 14ms/step - loss: 0.4413 - accuracy: 0.8295 - f1_score: 0.8296 - precision: 0.8296 - recall: 0.8295\n",
            "Epoch 12/15\n",
            "510/510 [==============================] - 7s 14ms/step - loss: 0.4351 - accuracy: 0.8342 - f1_score: 0.8341 - precision: 0.8344 - recall: 0.8338\n",
            "Epoch 13/15\n",
            "510/510 [==============================] - 7s 13ms/step - loss: 0.3383 - accuracy: 0.8886 - f1_score: 0.8886 - precision: 0.8886 - recall: 0.8886\n",
            "Epoch 14/15\n",
            "510/510 [==============================] - 7s 13ms/step - loss: 0.1754 - accuracy: 0.9545 - f1_score: 0.9545 - precision: 0.9545 - recall: 0.9545\n",
            "Epoch 15/15\n",
            "510/510 [==============================] - 7s 13ms/step - loss: 0.1577 - accuracy: 0.9597 - f1_score: 0.9597 - precision: 0.9597 - recall: 0.9597\n",
            "repeat no.3\n",
            "Epoch 1/15\n",
            "510/510 [==============================] - 13s 24ms/step - loss: 0.6651 - accuracy: 0.7768 - f1_score: 0.7652 - precision: 0.7715 - recall: 0.7594\n",
            "Epoch 2/15\n",
            "510/510 [==============================] - 7s 14ms/step - loss: 0.5373 - accuracy: 0.8061 - f1_score: 0.8056 - precision: 0.8159 - recall: 0.7962\n",
            "Epoch 3/15\n",
            "510/510 [==============================] - 7s 14ms/step - loss: 0.5465 - accuracy: 0.8081 - f1_score: 0.8081 - precision: 0.8081 - recall: 0.8081\n",
            "Epoch 4/15\n",
            "510/510 [==============================] - 7s 14ms/step - loss: 0.5457 - accuracy: 0.8081 - f1_score: 0.8081 - precision: 0.8081 - recall: 0.8081\n",
            "Epoch 5/15\n",
            "510/510 [==============================] - 7s 14ms/step - loss: 0.5454 - accuracy: 0.8081 - f1_score: 0.8081 - precision: 0.8081 - recall: 0.8081\n",
            "Epoch 6/15\n",
            "510/510 [==============================] - 7s 14ms/step - loss: 0.5457 - accuracy: 0.8081 - f1_score: 0.8081 - precision: 0.8081 - recall: 0.8081\n",
            "Epoch 7/15\n",
            "510/510 [==============================] - 7s 14ms/step - loss: 0.5452 - accuracy: 0.8081 - f1_score: 0.8081 - precision: 0.8081 - recall: 0.8081\n",
            "Epoch 8/15\n",
            "510/510 [==============================] - 7s 14ms/step - loss: 0.5452 - accuracy: 0.8081 - f1_score: 0.8081 - precision: 0.8081 - recall: 0.8081\n",
            "Epoch 9/15\n",
            "510/510 [==============================] - 7s 14ms/step - loss: 0.5452 - accuracy: 0.8081 - f1_score: 0.8081 - precision: 0.8081 - recall: 0.8081\n",
            "Epoch 10/15\n",
            "510/510 [==============================] - 7s 14ms/step - loss: 0.5452 - accuracy: 0.8081 - f1_score: 0.8081 - precision: 0.8081 - recall: 0.8081\n",
            "Epoch 11/15\n",
            "510/510 [==============================] - 7s 14ms/step - loss: 0.5450 - accuracy: 0.8081 - f1_score: 0.8081 - precision: 0.8081 - recall: 0.8081\n",
            "Epoch 12/15\n",
            "510/510 [==============================] - 7s 13ms/step - loss: 0.5449 - accuracy: 0.8081 - f1_score: 0.8081 - precision: 0.8081 - recall: 0.8081\n",
            "Epoch 13/15\n",
            "510/510 [==============================] - 7s 13ms/step - loss: 0.5447 - accuracy: 0.8081 - f1_score: 0.8081 - precision: 0.8081 - recall: 0.8081\n",
            "Epoch 14/15\n",
            "510/510 [==============================] - 7s 14ms/step - loss: 0.5446 - accuracy: 0.8081 - f1_score: 0.8081 - precision: 0.8081 - recall: 0.8081\n",
            "Epoch 15/15\n",
            "510/510 [==============================] - 7s 13ms/step - loss: 0.5447 - accuracy: 0.8081 - f1_score: 0.8081 - precision: 0.8081 - recall: 0.8081\n",
            "repeat no.4\n",
            "Epoch 1/15\n",
            "510/510 [==============================] - 13s 24ms/step - loss: 0.7193 - accuracy: 0.7647 - f1_score: 0.7562 - precision: 0.7588 - recall: 0.7541\n",
            "Epoch 2/15\n",
            "510/510 [==============================] - 7s 15ms/step - loss: 0.5561 - accuracy: 0.8084 - f1_score: 0.8084 - precision: 0.8084 - recall: 0.8084\n",
            "Epoch 3/15\n",
            "510/510 [==============================] - 7s 14ms/step - loss: 0.6030 - accuracy: 0.8011 - f1_score: 0.8010 - precision: 0.8027 - recall: 0.7994\n",
            "Epoch 4/15\n",
            "510/510 [==============================] - 7s 15ms/step - loss: 0.4524 - accuracy: 0.8583 - f1_score: 0.8583 - precision: 0.8583 - recall: 0.8583\n",
            "Epoch 5/15\n",
            "510/510 [==============================] - 7s 14ms/step - loss: 0.2941 - accuracy: 0.9256 - f1_score: 0.9256 - precision: 0.9256 - recall: 0.9256\n",
            "Epoch 6/15\n",
            "510/510 [==============================] - 7s 15ms/step - loss: 0.2286 - accuracy: 0.9481 - f1_score: 0.9481 - precision: 0.9481 - recall: 0.9481\n",
            "Epoch 7/15\n",
            "510/510 [==============================] - 7s 14ms/step - loss: 0.2211 - accuracy: 0.9504 - f1_score: 0.9504 - precision: 0.9504 - recall: 0.9504\n",
            "Epoch 8/15\n",
            "510/510 [==============================] - 7s 14ms/step - loss: 0.2190 - accuracy: 0.9510 - f1_score: 0.9510 - precision: 0.9510 - recall: 0.9510\n",
            "Epoch 9/15\n",
            "510/510 [==============================] - 7s 14ms/step - loss: 0.2195 - accuracy: 0.9509 - f1_score: 0.9509 - precision: 0.9509 - recall: 0.9509\n",
            "Epoch 10/15\n",
            "510/510 [==============================] - 7s 14ms/step - loss: 0.2181 - accuracy: 0.9513 - f1_score: 0.9513 - precision: 0.9513 - recall: 0.9513\n",
            "Epoch 11/15\n",
            "510/510 [==============================] - 7s 14ms/step - loss: 0.2174 - accuracy: 0.9515 - f1_score: 0.9515 - precision: 0.9515 - recall: 0.9515\n",
            "Epoch 12/15\n",
            "510/510 [==============================] - 7s 14ms/step - loss: 0.1715 - accuracy: 0.9593 - f1_score: 0.9593 - precision: 0.9615 - recall: 0.9573\n",
            "Epoch 13/15\n",
            "510/510 [==============================] - 7s 14ms/step - loss: 0.0215 - accuracy: 0.9958 - f1_score: 0.9958 - precision: 0.9962 - recall: 0.9955\n",
            "Epoch 14/15\n",
            "510/510 [==============================] - 7s 14ms/step - loss: 0.0011 - accuracy: 0.9999 - f1_score: 0.9999 - precision: 0.9999 - recall: 0.9999\n",
            "Epoch 15/15\n",
            "510/510 [==============================] - 7s 14ms/step - loss: 4.1601e-04 - accuracy: 0.9999 - f1_score: 0.9999 - precision: 0.9999 - recall: 0.9999\n",
            "repeat no.5\n",
            "Epoch 1/15\n",
            "510/510 [==============================] - 13s 23ms/step - loss: 0.4909 - accuracy: 0.8617 - f1_score: 0.8536 - precision: 0.8555 - recall: 0.8525\n",
            "Epoch 2/15\n",
            "510/510 [==============================] - 8s 15ms/step - loss: 0.4151 - accuracy: 0.8798 - f1_score: 0.8803 - precision: 0.8833 - recall: 0.8779\n",
            "Epoch 3/15\n",
            "510/510 [==============================] - 7s 14ms/step - loss: 0.3268 - accuracy: 0.9046 - f1_score: 0.9045 - precision: 0.9045 - recall: 0.9045\n",
            "Epoch 4/15\n",
            "510/510 [==============================] - 7s 14ms/step - loss: 0.3982 - accuracy: 0.9004 - f1_score: 0.9014 - precision: 0.9066 - recall: 0.8998\n",
            "Epoch 5/15\n",
            "510/510 [==============================] - 7s 14ms/step - loss: 0.4108 - accuracy: 0.8718 - f1_score: 0.8717 - precision: 0.8751 - recall: 0.8685\n",
            "Epoch 6/15\n",
            "510/510 [==============================] - 7s 14ms/step - loss: 0.0684 - accuracy: 0.9774 - f1_score: 0.9774 - precision: 0.9775 - recall: 0.9773\n",
            "Epoch 7/15\n",
            "510/510 [==============================] - 7s 14ms/step - loss: 0.0444 - accuracy: 0.9918 - f1_score: 0.9920 - precision: 0.9931 - recall: 0.9909\n",
            "Epoch 8/15\n",
            "510/510 [==============================] - 7s 14ms/step - loss: 0.0071 - accuracy: 0.9996 - f1_score: 0.9995 - precision: 0.9997 - recall: 0.9993\n",
            "Epoch 9/15\n",
            "510/510 [==============================] - 7s 14ms/step - loss: 0.0088 - accuracy: 0.9971 - f1_score: 0.9971 - precision: 0.9971 - recall: 0.9971\n",
            "Epoch 10/15\n",
            "510/510 [==============================] - 7s 15ms/step - loss: 0.0099 - accuracy: 0.9978 - f1_score: 0.9978 - precision: 0.9979 - recall: 0.9978\n",
            "Epoch 11/15\n",
            "510/510 [==============================] - 7s 14ms/step - loss: 0.0072 - accuracy: 0.9979 - f1_score: 0.9979 - precision: 0.9979 - recall: 0.9979\n",
            "Epoch 12/15\n",
            "510/510 [==============================] - 7s 14ms/step - loss: 0.0019 - accuracy: 0.9999 - f1_score: 0.9999 - precision: 0.9999 - recall: 0.9999\n",
            "Epoch 13/15\n",
            "510/510 [==============================] - 7s 14ms/step - loss: 0.0019 - accuracy: 0.9998 - f1_score: 0.9998 - precision: 0.9998 - recall: 0.9998\n",
            "Epoch 14/15\n",
            "510/510 [==============================] - 7s 14ms/step - loss: 1.5575e-04 - accuracy: 1.0000 - f1_score: 1.0000 - precision: 1.0000 - recall: 1.0000\n",
            "Epoch 15/15\n",
            "510/510 [==============================] - 7s 14ms/step - loss: 0.0010 - accuracy: 0.9998 - f1_score: 0.9998 - precision: 0.9998 - recall: 0.9998\n",
            "repeat no.6\n",
            "Epoch 1/15\n",
            "510/510 [==============================] - 14s 25ms/step - loss: 0.6822 - accuracy: 0.7718 - f1_score: 0.7575 - precision: 0.7684 - recall: 0.7479\n",
            "Epoch 2/15\n",
            "510/510 [==============================] - 8s 15ms/step - loss: 0.5214 - accuracy: 0.8085 - f1_score: 0.8076 - precision: 0.8210 - recall: 0.7954\n",
            "Epoch 3/15\n",
            "510/510 [==============================] - 8s 15ms/step - loss: 0.5462 - accuracy: 0.8087 - f1_score: 0.8087 - precision: 0.8087 - recall: 0.8087\n",
            "Epoch 4/15\n",
            "510/510 [==============================] - 7s 15ms/step - loss: 0.5450 - accuracy: 0.8087 - f1_score: 0.8087 - precision: 0.8087 - recall: 0.8087\n",
            "Epoch 5/15\n",
            "510/510 [==============================] - 7s 15ms/step - loss: 0.5447 - accuracy: 0.8087 - f1_score: 0.8087 - precision: 0.8087 - recall: 0.8087\n",
            "Epoch 6/15\n",
            "510/510 [==============================] - 7s 14ms/step - loss: 0.5447 - accuracy: 0.8087 - f1_score: 0.8087 - precision: 0.8087 - recall: 0.8087\n",
            "Epoch 7/15\n",
            "510/510 [==============================] - 7s 14ms/step - loss: 0.5447 - accuracy: 0.8087 - f1_score: 0.8087 - precision: 0.8087 - recall: 0.8087\n",
            "Epoch 8/15\n",
            "510/510 [==============================] - 7s 14ms/step - loss: 0.5448 - accuracy: 0.8087 - f1_score: 0.8087 - precision: 0.8087 - recall: 0.8087\n",
            "Epoch 9/15\n",
            "510/510 [==============================] - 7s 15ms/step - loss: 0.5443 - accuracy: 0.8087 - f1_score: 0.8087 - precision: 0.8087 - recall: 0.8087\n",
            "Epoch 10/15\n",
            "510/510 [==============================] - 7s 14ms/step - loss: 0.5446 - accuracy: 0.8087 - f1_score: 0.8087 - precision: 0.8087 - recall: 0.8087\n",
            "Epoch 11/15\n",
            "510/510 [==============================] - 7s 14ms/step - loss: 0.5443 - accuracy: 0.8087 - f1_score: 0.8087 - precision: 0.8087 - recall: 0.8087\n",
            "Epoch 12/15\n",
            "510/510 [==============================] - 7s 14ms/step - loss: 0.5442 - accuracy: 0.8087 - f1_score: 0.8087 - precision: 0.8087 - recall: 0.8087\n",
            "Epoch 13/15\n",
            "510/510 [==============================] - 7s 14ms/step - loss: 0.5444 - accuracy: 0.8087 - f1_score: 0.8087 - precision: 0.8087 - recall: 0.8087\n",
            "Epoch 14/15\n",
            "510/510 [==============================] - 7s 14ms/step - loss: 0.5443 - accuracy: 0.8087 - f1_score: 0.8087 - precision: 0.8087 - recall: 0.8087\n",
            "Epoch 15/15\n",
            "510/510 [==============================] - 7s 14ms/step - loss: 0.5440 - accuracy: 0.8087 - f1_score: 0.8087 - precision: 0.8087 - recall: 0.8087\n",
            "repeat no.7\n",
            "Epoch 1/15\n",
            "510/510 [==============================] - 14s 25ms/step - loss: 0.7381 - accuracy: 0.7617 - f1_score: 0.7445 - precision: 0.7550 - recall: 0.7431\n",
            "Epoch 2/15\n",
            "510/510 [==============================] - 8s 15ms/step - loss: 0.5063 - accuracy: 0.8136 - f1_score: 0.8126 - precision: 0.8194 - recall: 0.8064\n",
            "Epoch 3/15\n",
            "510/510 [==============================] - 7s 14ms/step - loss: 0.5458 - accuracy: 0.8083 - f1_score: 0.8083 - precision: 0.8083 - recall: 0.8083\n",
            "Epoch 4/15\n",
            "510/510 [==============================] - 7s 15ms/step - loss: 0.5452 - accuracy: 0.8083 - f1_score: 0.8083 - precision: 0.8083 - recall: 0.8083\n",
            "Epoch 5/15\n",
            "510/510 [==============================] - 7s 14ms/step - loss: 0.5449 - accuracy: 0.8083 - f1_score: 0.8083 - precision: 0.8083 - recall: 0.8083\n",
            "Epoch 6/15\n",
            "510/510 [==============================] - 7s 14ms/step - loss: 0.5447 - accuracy: 0.8084 - f1_score: 0.8084 - precision: 0.8084 - recall: 0.8084\n",
            "Epoch 7/15\n",
            "510/510 [==============================] - 7s 15ms/step - loss: 0.5748 - accuracy: 0.8005 - f1_score: 0.8003 - precision: 0.8045 - recall: 0.7968\n",
            "Epoch 8/15\n",
            "510/510 [==============================] - 7s 14ms/step - loss: 0.4464 - accuracy: 0.8280 - f1_score: 0.8280 - precision: 0.8281 - recall: 0.8278\n",
            "Epoch 9/15\n",
            "510/510 [==============================] - 7s 14ms/step - loss: 0.4472 - accuracy: 0.8279 - f1_score: 0.8278 - precision: 0.8279 - recall: 0.8277\n",
            "Epoch 10/15\n",
            "510/510 [==============================] - 7s 14ms/step - loss: 0.4497 - accuracy: 0.8277 - f1_score: 0.8277 - precision: 0.8277 - recall: 0.8277\n",
            "Epoch 11/15\n",
            "510/510 [==============================] - 8s 15ms/step - loss: 0.4527 - accuracy: 0.8279 - f1_score: 0.8279 - precision: 0.8279 - recall: 0.8279\n",
            "Epoch 12/15\n",
            "510/510 [==============================] - 7s 14ms/step - loss: 0.4473 - accuracy: 0.8281 - f1_score: 0.8281 - precision: 0.8281 - recall: 0.8281\n",
            "Epoch 13/15\n",
            "510/510 [==============================] - 7s 15ms/step - loss: 0.4459 - accuracy: 0.8287 - f1_score: 0.8287 - precision: 0.8287 - recall: 0.8287\n",
            "Epoch 14/15\n",
            "510/510 [==============================] - 7s 14ms/step - loss: 0.4490 - accuracy: 0.8286 - f1_score: 0.8286 - precision: 0.8286 - recall: 0.8286\n",
            "Epoch 15/15\n",
            "510/510 [==============================] - 7s 14ms/step - loss: 0.4505 - accuracy: 0.8285 - f1_score: 0.8285 - precision: 0.8285 - recall: 0.8285\n",
            "repeat no.8\n",
            "Epoch 1/15\n",
            "510/510 [==============================] - 13s 24ms/step - loss: 0.4977 - accuracy: 0.8375 - f1_score: 0.8288 - precision: 0.8320 - recall: 0.8261\n",
            "Epoch 2/15\n",
            "510/510 [==============================] - 8s 16ms/step - loss: 0.4793 - accuracy: 0.8228 - f1_score: 0.8221 - precision: 0.8556 - recall: 0.7940\n",
            "Epoch 3/15\n",
            "510/510 [==============================] - 8s 16ms/step - loss: 0.3427 - accuracy: 0.8784 - f1_score: 0.8775 - precision: 0.8827 - recall: 0.8726\n",
            "Epoch 4/15\n",
            "510/510 [==============================] - 7s 14ms/step - loss: 0.1512 - accuracy: 0.9621 - f1_score: 0.9621 - precision: 0.9621 - recall: 0.9621\n",
            "Epoch 5/15\n",
            "510/510 [==============================] - 7s 15ms/step - loss: 0.1368 - accuracy: 0.9648 - f1_score: 0.9648 - precision: 0.9648 - recall: 0.9648\n",
            "Epoch 6/15\n",
            "510/510 [==============================] - 8s 15ms/step - loss: 0.0771 - accuracy: 0.9819 - f1_score: 0.9821 - precision: 0.9824 - recall: 0.9818\n",
            "Epoch 7/15\n",
            "510/510 [==============================] - 7s 15ms/step - loss: 0.0283 - accuracy: 0.9955 - f1_score: 0.9955 - precision: 0.9955 - recall: 0.9955\n",
            "Epoch 8/15\n",
            "510/510 [==============================] - 7s 15ms/step - loss: 0.0293 - accuracy: 0.9953 - f1_score: 0.9953 - precision: 0.9953 - recall: 0.9953\n",
            "Epoch 9/15\n",
            "510/510 [==============================] - 7s 15ms/step - loss: 0.0346 - accuracy: 0.9943 - f1_score: 0.9943 - precision: 0.9943 - recall: 0.9943\n",
            "Epoch 10/15\n",
            "510/510 [==============================] - 7s 14ms/step - loss: 0.0352 - accuracy: 0.9941 - f1_score: 0.9941 - precision: 0.9941 - recall: 0.9941\n",
            "Epoch 11/15\n",
            "510/510 [==============================] - 7s 15ms/step - loss: 0.0407 - accuracy: 0.9930 - f1_score: 0.9930 - precision: 0.9930 - recall: 0.9930\n",
            "Epoch 12/15\n",
            "510/510 [==============================] - 7s 15ms/step - loss: 0.0420 - accuracy: 0.9927 - f1_score: 0.9927 - precision: 0.9927 - recall: 0.9927\n",
            "Epoch 13/15\n",
            "510/510 [==============================] - 8s 15ms/step - loss: 0.0460 - accuracy: 0.9918 - f1_score: 0.9918 - precision: 0.9918 - recall: 0.9918\n",
            "Epoch 14/15\n",
            "510/510 [==============================] - 8s 15ms/step - loss: 0.0502 - accuracy: 0.9908 - f1_score: 0.9908 - precision: 0.9908 - recall: 0.9908\n",
            "Epoch 15/15\n",
            "510/510 [==============================] - 7s 14ms/step - loss: 0.0563 - accuracy: 0.9897 - f1_score: 0.9897 - precision: 0.9897 - recall: 0.9897\n",
            "repeat no.9\n",
            "Epoch 1/15\n",
            "510/510 [==============================] - 14s 25ms/step - loss: 0.7323 - accuracy: 0.7630 - f1_score: 0.7527 - precision: 0.7535 - recall: 0.7519\n",
            "Epoch 2/15\n",
            "510/510 [==============================] - 8s 15ms/step - loss: 0.4810 - accuracy: 0.8244 - f1_score: 0.8242 - precision: 0.8261 - recall: 0.8223\n",
            "Epoch 3/15\n",
            "510/510 [==============================] - 7s 15ms/step - loss: 0.4318 - accuracy: 0.8362 - f1_score: 0.8362 - precision: 0.8362 - recall: 0.8361\n",
            "Epoch 4/15\n",
            "510/510 [==============================] - 7s 15ms/step - loss: 0.4297 - accuracy: 0.8364 - f1_score: 0.8364 - precision: 0.8364 - recall: 0.8363\n",
            "Epoch 5/15\n",
            "510/510 [==============================] - 8s 15ms/step - loss: 0.4290 - accuracy: 0.8367 - f1_score: 0.8367 - precision: 0.8367 - recall: 0.8367\n",
            "Epoch 6/15\n",
            "510/510 [==============================] - 7s 14ms/step - loss: 0.5280 - accuracy: 0.8134 - f1_score: 0.8134 - precision: 0.8134 - recall: 0.8134\n",
            "Epoch 7/15\n",
            "510/510 [==============================] - 7s 14ms/step - loss: 0.5425 - accuracy: 0.8097 - f1_score: 0.8096 - precision: 0.8096 - recall: 0.8096\n",
            "Epoch 8/15\n",
            "510/510 [==============================] - 7s 15ms/step - loss: 0.5425 - accuracy: 0.8097 - f1_score: 0.8097 - precision: 0.8097 - recall: 0.8097\n",
            "Epoch 9/15\n",
            "510/510 [==============================] - 8s 15ms/step - loss: 0.5422 - accuracy: 0.8097 - f1_score: 0.8097 - precision: 0.8097 - recall: 0.8097\n",
            "Epoch 10/15\n",
            "510/510 [==============================] - 8s 15ms/step - loss: 0.5420 - accuracy: 0.8097 - f1_score: 0.8096 - precision: 0.8096 - recall: 0.8096\n",
            "Epoch 11/15\n",
            "510/510 [==============================] - 7s 14ms/step - loss: 0.5420 - accuracy: 0.8097 - f1_score: 0.8097 - precision: 0.8097 - recall: 0.8097\n",
            "Epoch 12/15\n",
            "510/510 [==============================] - 7s 15ms/step - loss: 0.5423 - accuracy: 0.8097 - f1_score: 0.8097 - precision: 0.8097 - recall: 0.8097\n",
            "Epoch 13/15\n",
            "510/510 [==============================] - 8s 15ms/step - loss: 0.5940 - accuracy: 0.8002 - f1_score: 0.7987 - precision: 0.7987 - recall: 0.7987\n",
            "Epoch 14/15\n",
            "510/510 [==============================] - 7s 14ms/step - loss: 0.2668 - accuracy: 0.9109 - f1_score: 0.9108 - precision: 0.9166 - recall: 0.9060\n",
            "Epoch 15/15\n",
            "510/510 [==============================] - 8s 15ms/step - loss: 0.0081 - accuracy: 0.9982 - f1_score: 0.9982 - precision: 0.9983 - recall: 0.9982\n",
            "repeat no.10\n",
            "Epoch 1/15\n",
            "510/510 [==============================] - 14s 25ms/step - loss: 0.7396 - accuracy: 0.7615 - f1_score: 0.7533 - precision: 0.7540 - recall: 0.7527\n",
            "Epoch 2/15\n",
            "510/510 [==============================] - 8s 16ms/step - loss: 0.5586 - accuracy: 0.7989 - f1_score: 0.7978 - precision: 0.8088 - recall: 0.7876\n",
            "Epoch 3/15\n",
            "510/510 [==============================] - 8s 15ms/step - loss: 0.4656 - accuracy: 0.8341 - f1_score: 0.8340 - precision: 0.8343 - recall: 0.8337\n",
            "Epoch 4/15\n",
            "510/510 [==============================] - 8s 15ms/step - loss: 0.4971 - accuracy: 0.8353 - f1_score: 0.8353 - precision: 0.8353 - recall: 0.8353\n",
            "Epoch 5/15\n",
            "510/510 [==============================] - 8s 15ms/step - loss: 0.4973 - accuracy: 0.8352 - f1_score: 0.8352 - precision: 0.8352 - recall: 0.8352\n",
            "Epoch 6/15\n",
            "510/510 [==============================] - 7s 15ms/step - loss: 0.4969 - accuracy: 0.8353 - f1_score: 0.8353 - precision: 0.8353 - recall: 0.8353\n",
            "Epoch 7/15\n",
            "510/510 [==============================] - 7s 14ms/step - loss: 0.4969 - accuracy: 0.8353 - f1_score: 0.8353 - precision: 0.8353 - recall: 0.8353\n",
            "Epoch 8/15\n",
            "510/510 [==============================] - 7s 14ms/step - loss: 0.4977 - accuracy: 0.8347 - f1_score: 0.8347 - precision: 0.8347 - recall: 0.8347\n",
            "Epoch 9/15\n",
            "510/510 [==============================] - 7s 14ms/step - loss: 0.4982 - accuracy: 0.8344 - f1_score: 0.8344 - precision: 0.8344 - recall: 0.8344\n",
            "Epoch 10/15\n",
            "510/510 [==============================] - 7s 14ms/step - loss: 0.4973 - accuracy: 0.8347 - f1_score: 0.8347 - precision: 0.8347 - recall: 0.8347\n",
            "Epoch 11/15\n",
            "510/510 [==============================] - 7s 14ms/step - loss: 0.5213 - accuracy: 0.8215 - f1_score: 0.8213 - precision: 0.8220 - recall: 0.8209\n",
            "Epoch 12/15\n",
            "510/510 [==============================] - 7s 14ms/step - loss: 0.1404 - accuracy: 0.9584 - f1_score: 0.9586 - precision: 0.9595 - recall: 0.9577\n",
            "Epoch 13/15\n",
            "510/510 [==============================] - 7s 15ms/step - loss: 0.0015 - accuracy: 0.9999 - f1_score: 0.9999 - precision: 0.9999 - recall: 0.9999\n",
            "Epoch 14/15\n",
            "510/510 [==============================] - 8s 15ms/step - loss: 9.9816e-04 - accuracy: 0.9999 - f1_score: 0.9999 - precision: 0.9999 - recall: 0.9999\n",
            "Epoch 15/15\n",
            "510/510 [==============================] - 7s 14ms/step - loss: 0.0018 - accuracy: 0.9997 - f1_score: 0.9997 - precision: 0.9997 - recall: 0.9997\n"
          ]
        }
      ],
      "source": [
        "layers = [\n",
        "            keras.layers.Embedding(payload_vocab_size, 128, input_length=payload_input_dim),\n",
        "            keras.layers.LSTM(128, dropout=0.7),\n",
        "            keras.layers.Dense(100, activation=\"relu\"),\n",
        "            keras.layers.Dense(4, activation='softmax'),\n",
        "        ]\n",
        "payload_RNN_model_args = {\n",
        "    \"loss\": tf.keras.losses.CategoricalCrossentropy(), \n",
        "    \"optimizer\": \"adam\", \n",
        "    \"metrics\": [\"accuracy\", f1_score, precision, recall],\n",
        "}\n",
        "payload_models = []\n",
        "for idx, (payload_train_X, (_, _, _, train_Y)) in enumerate(zip(payload_train_Xs, datas_)):\n",
        "    payload_RNN_model = keras.Sequential(layers = [\n",
        "            keras.layers.Embedding(payload_vocab_size, 128, input_length=payload_input_dim),\n",
        "            keras.layers.LSTM(128, dropout=0.7),\n",
        "            keras.layers.Dense(100, activation=\"relu\"),\n",
        "            keras.layers.Dense(4, activation='softmax'),\n",
        "        ])\n",
        "    payload_RNN_model.compile(\n",
        "        loss= tf.keras.losses.CategoricalCrossentropy(), \n",
        "        optimizer= \"adam\", \n",
        "        metrics= [\"accuracy\", f1_score, precision, recall],\n",
        "    )\n",
        "    print(f\"repeat no.{idx+1}\")\n",
        "    payload_RNN_model.fit(payload_train_X, train_Y, epochs=15, batch_size=128)\n",
        "    payload_models.append(payload_RNN_model)\n"
      ]
    },
    {
      "cell_type": "code",
      "execution_count": 33,
      "metadata": {
        "colab": {
          "base_uri": "https://localhost:8080/"
        },
        "id": "PYrMptwI6Ay9",
        "outputId": "39200bdb-1b1f-41ff-d6a5-3d717397bba2"
      },
      "outputs": [
        {
          "name": "stdout",
          "output_type": "stream",
          "text": [
            "875/875 [==============================] - 2s 3ms/step\n",
            "875/875 [==============================] - 2s 3ms/step\n",
            "875/875 [==============================] - 3s 3ms/step\n",
            "875/875 [==============================] - 3s 3ms/step\n",
            "875/875 [==============================] - 2s 3ms/step\n",
            "875/875 [==============================] - 3s 3ms/step\n",
            "875/875 [==============================] - 3s 3ms/step\n",
            "875/875 [==============================] - 2s 3ms/step\n",
            "875/875 [==============================] - 3s 3ms/step\n",
            "875/875 [==============================] - 3s 3ms/step\n"
          ]
        }
      ],
      "source": [
        "file_data_predictions = []\n",
        "for RNN_model, RNN_test_X in zip(RNN_models, RNN_test_Xs):\n",
        "    file_data_predictions.append(RNN_model.predict(RNN_test_X))"
      ]
    },
    {
      "cell_type": "code",
      "execution_count": 34,
      "metadata": {
        "id": "BM7ugZfm6Ay-"
      },
      "outputs": [
        {
          "name": "stdout",
          "output_type": "stream",
          "text": [
            "875/875 [==============================] - 3s 3ms/step\n",
            "875/875 [==============================] - 3s 3ms/step\n",
            "875/875 [==============================] - 3s 3ms/step\n",
            "875/875 [==============================] - 3s 3ms/step\n",
            "875/875 [==============================] - 3s 3ms/step\n",
            "875/875 [==============================] - 3s 3ms/step\n",
            "875/875 [==============================] - 3s 3ms/step\n",
            "875/875 [==============================] - 3s 3ms/step\n",
            "875/875 [==============================] - 3s 3ms/step\n",
            "875/875 [==============================] - 3s 3ms/step\n"
          ]
        }
      ],
      "source": [
        "payload_predictions = []\n",
        "for payload_RNN_model, payload_test_X in zip(payload_models, payload_test_Xs):\n",
        "    payload_predictions.append(RNN_model.predict(payload_test_X))"
      ]
    },
    {
      "cell_type": "code",
      "execution_count": 35,
      "metadata": {
        "id": "cEEK5ACg6Ay_"
      },
      "outputs": [],
      "source": [
        "from sklearn.metrics import precision_score, recall_score, confusion_matrix, f1_score"
      ]
    },
    {
      "cell_type": "code",
      "execution_count": 36,
      "metadata": {
        "colab": {
          "base_uri": "https://localhost:8080/",
          "height": 175
        },
        "id": "DLUUczcMX_Lc",
        "outputId": "ca1224b5-2948-4620-dd5a-6088532c6c7b"
      },
      "outputs": [],
      "source": [
        "file_data_confusion_matrixs = []\n",
        "for file_data_prediction, (_, test_Y, _, _) in zip(file_data_predictions, datas_):\n",
        "    p = pd.DataFrame(confusion_matrix(np.argmax(test_Y, axis=1), np.argmax(file_data_prediction, axis=1)),index=\"TRUE_\"+pd.Series(labels.keys()), columns=\"PRED_\"+pd.Series(labels.keys()))\n",
        "    file_data_confusion_matrixs.append(p)"
      ]
    },
    {
      "cell_type": "code",
      "execution_count": 37,
      "metadata": {
        "id": "_SdQZWUS6AzA"
      },
      "outputs": [],
      "source": [
        "payload_confusion_matrixs = []\n",
        "for payload_prediction, (_, test_Y, _, _) in zip(payload_predictions, datas_):\n",
        "    p = \\\n",
        "    pd.DataFrame(confusion_matrix(np.argmax(test_Y, axis=1), np.argmax(payload_prediction, axis=1)),index=\"TRUE_\"+pd.Series(labels.keys()), columns=\"PRED_\"+pd.Series(labels.keys()))\n",
        "    payload_confusion_matrixs.append(p)"
      ]
    },
    {
      "attachments": {},
      "cell_type": "markdown",
      "metadata": {
        "id": "tC0Cd5VDLaE0"
      },
      "source": [
        "## DNN 실행"
      ]
    },
    {
      "cell_type": "code",
      "execution_count": 27,
      "metadata": {},
      "outputs": [],
      "source": [
        "import keras.backend as K\n",
        "def f1_score(y_true, y_pred):\n",
        "    true_positives = K.sum(K.round(K.clip(y_true * y_pred, 0, 1)))\n",
        "    possible_positives = K.sum(K.round(K.clip(y_true, 0, 1)))\n",
        "    predicted_positives = K.sum(K.round(K.clip(y_pred, 0, 1)))\n",
        "    precision = true_positives / (predicted_positives + K.epsilon())\n",
        "    recall = true_positives / (possible_positives + K.epsilon())\n",
        "    f1_val = 2*(precision*recall)/(precision+recall+K.epsilon())\n",
        "    return f1_val\n",
        "def precision(y_true, y_pred):\n",
        "    true_positives = K.sum(K.round(K.clip(y_true * y_pred, 0, 1)))\n",
        "    predicted_positives = K.sum(K.round(K.clip(y_pred, 0, 1)))\n",
        "    precision = true_positives / (predicted_positives + K.epsilon())\n",
        "    return precision\n",
        "def recall(y_true, y_pred):\n",
        "    true_positives = K.sum(K.round(K.clip(y_true * y_pred, 0, 1)))\n",
        "    possible_positives = K.sum(K.round(K.clip(y_true, 0, 1)))\n",
        "    recall = true_positives / (possible_positives + K.epsilon())\n",
        "    return recall\n"
      ]
    },
    {
      "cell_type": "code",
      "execution_count": 28,
      "metadata": {
        "colab": {
          "base_uri": "https://localhost:8080/"
        },
        "id": "-_6ZIxoJKXUB",
        "outputId": "fd7c7e47-e980-4be6-9afb-67f09e0c9968"
      },
      "outputs": [],
      "source": [
        "DNN_layers = [\n",
        "        keras.layers.Dense(4196, activation=\"relu\"),\n",
        "        keras.layers.Dense(512, activation=\"relu\"),\n",
        "        keras.layers.Dense(512, activation=\"relu\"),\n",
        "        keras.layers.Dense(512, activation=\"relu\"),\n",
        "        keras.layers.Dense(512, activation=\"relu\"),\n",
        "        keras.layers.Dense(512, activation=\"relu\"),\n",
        "        keras.layers.Dense(512, activation=\"relu\"),\n",
        "        keras.layers.Dense(len(labels.keys()), activation=\"softmax\"),\n",
        "    ]\n",
        "DNN_compile = {\n",
        "    \"loss\": tf.keras.losses.CategoricalCrossentropy(), \n",
        "    \"optimizer\": \"adam\", \n",
        "    \"metrics\": [\"accuracy\", f1_score, precision, recall],\n",
        "}\n",
        "# predictions = []\n",
        "DNN_models = []\n",
        "DNN_predictions = []\n"
      ]
    },
    {
      "cell_type": "code",
      "execution_count": 30,
      "metadata": {},
      "outputs": [
        {
          "name": "stdout",
          "output_type": "stream",
          "text": [
            "repeat no.1\n",
            "Epoch 1/15\n"
          ]
        },
        {
          "name": "stderr",
          "output_type": "stream",
          "text": [
            "2023-08-09 19:54:53.932212: I tensorflow/compiler/xla/stream_executor/cuda/cuda_gpu_executor.cc:981] could not open file to read NUMA node: /sys/bus/pci/devices/0000:01:00.0/numa_node\n",
            "Your kernel may have been built without NUMA support.\n",
            "2023-08-09 19:54:53.937057: I tensorflow/compiler/xla/stream_executor/cuda/cuda_gpu_executor.cc:981] could not open file to read NUMA node: /sys/bus/pci/devices/0000:01:00.0/numa_node\n",
            "Your kernel may have been built without NUMA support.\n",
            "2023-08-09 19:54:53.937670: I tensorflow/compiler/xla/stream_executor/cuda/cuda_gpu_executor.cc:981] could not open file to read NUMA node: /sys/bus/pci/devices/0000:01:00.0/numa_node\n",
            "Your kernel may have been built without NUMA support.\n",
            "2023-08-09 19:54:53.941062: I tensorflow/compiler/xla/stream_executor/cuda/cuda_gpu_executor.cc:981] could not open file to read NUMA node: /sys/bus/pci/devices/0000:01:00.0/numa_node\n",
            "Your kernel may have been built without NUMA support.\n",
            "2023-08-09 19:54:53.941594: I tensorflow/compiler/xla/stream_executor/cuda/cuda_gpu_executor.cc:981] could not open file to read NUMA node: /sys/bus/pci/devices/0000:01:00.0/numa_node\n",
            "Your kernel may have been built without NUMA support.\n",
            "2023-08-09 19:54:53.942209: I tensorflow/compiler/xla/stream_executor/cuda/cuda_gpu_executor.cc:981] could not open file to read NUMA node: /sys/bus/pci/devices/0000:01:00.0/numa_node\n",
            "Your kernel may have been built without NUMA support.\n",
            "2023-08-09 19:54:54.392150: I tensorflow/compiler/xla/stream_executor/cuda/cuda_gpu_executor.cc:981] could not open file to read NUMA node: /sys/bus/pci/devices/0000:01:00.0/numa_node\n",
            "Your kernel may have been built without NUMA support.\n",
            "2023-08-09 19:54:54.392487: I tensorflow/compiler/xla/stream_executor/cuda/cuda_gpu_executor.cc:981] could not open file to read NUMA node: /sys/bus/pci/devices/0000:01:00.0/numa_node\n",
            "Your kernel may have been built without NUMA support.\n",
            "2023-08-09 19:54:54.392495: I tensorflow/core/common_runtime/gpu/gpu_device.cc:1726] Could not identify NUMA node of platform GPU id 0, defaulting to 0.  Your kernel may not have been built with NUMA support.\n",
            "2023-08-09 19:54:54.392738: I tensorflow/compiler/xla/stream_executor/cuda/cuda_gpu_executor.cc:981] could not open file to read NUMA node: /sys/bus/pci/devices/0000:01:00.0/numa_node\n",
            "Your kernel may have been built without NUMA support.\n",
            "2023-08-09 19:54:54.392762: I tensorflow/core/common_runtime/gpu/gpu_device.cc:1639] Created device /job:localhost/replica:0/task:0/device:GPU:0 with 5391 MB memory:  -> device: 0, name: NVIDIA GeForce RTX 4060 Laptop GPU, pci bus id: 0000:01:00.0, compute capability: 8.9\n",
            "2023-08-09 19:54:56.027574: I tensorflow/compiler/xla/stream_executor/cuda/cuda_blas.cc:606] TensorFloat-32 will be used for the matrix multiplication. This will only be logged once.\n",
            "2023-08-09 19:54:56.040102: I tensorflow/compiler/xla/service/service.cc:168] XLA service 0xd8f58690 initialized for platform CUDA (this does not guarantee that XLA will be used). Devices:\n",
            "2023-08-09 19:54:56.040126: I tensorflow/compiler/xla/service/service.cc:176]   StreamExecutor device (0): NVIDIA GeForce RTX 4060 Laptop GPU, Compute Capability 8.9\n",
            "2023-08-09 19:54:56.043758: I tensorflow/compiler/mlir/tensorflow/utils/dump_mlir_util.cc:255] disabling MLIR crash reproducer, set env var `MLIR_CRASH_REPRODUCER_DIRECTORY` to enable.\n",
            "2023-08-09 19:54:56.155019: I tensorflow/compiler/xla/stream_executor/cuda/cuda_dnn.cc:432] Loaded cuDNN version 8600\n",
            "2023-08-09 19:54:56.221835: I ./tensorflow/compiler/jit/device_compiler.h:186] Compiled cluster using XLA!  This line is logged at most once for the lifetime of the process.\n"
          ]
        },
        {
          "name": "stdout",
          "output_type": "stream",
          "text": [
            "1020/1020 [==============================] - 8s 6ms/step - loss: 18.9584 - accuracy: 0.8254 - f1_score: 0.8225 - precision: 0.8279 - recall: 0.8179\n",
            "Epoch 2/15\n",
            "1020/1020 [==============================] - 6s 6ms/step - loss: 0.3557 - accuracy: 0.9017 - f1_score: 0.9013 - precision: 0.9038 - recall: 0.8989\n",
            "Epoch 3/15\n",
            "1020/1020 [==============================] - 6s 6ms/step - loss: 0.2472 - accuracy: 0.9334 - f1_score: 0.9331 - precision: 0.9346 - recall: 0.9316\n",
            "Epoch 4/15\n",
            "1020/1020 [==============================] - 6s 6ms/step - loss: 0.4649 - accuracy: 0.9217 - f1_score: 0.9215 - precision: 0.9230 - recall: 0.9202\n",
            "Epoch 5/15\n",
            "1020/1020 [==============================] - 6s 6ms/step - loss: 0.1972 - accuracy: 0.9495 - f1_score: 0.9495 - precision: 0.9500 - recall: 0.9489\n",
            "Epoch 6/15\n",
            "1020/1020 [==============================] - 6s 6ms/step - loss: 0.2030 - accuracy: 0.9476 - f1_score: 0.9476 - precision: 0.9481 - recall: 0.9471\n",
            "Epoch 7/15\n",
            "1020/1020 [==============================] - 6s 6ms/step - loss: 0.1695 - accuracy: 0.9556 - f1_score: 0.9557 - precision: 0.9560 - recall: 0.9553\n",
            "Epoch 8/15\n",
            "1020/1020 [==============================] - 6s 6ms/step - loss: 0.1662 - accuracy: 0.9549 - f1_score: 0.9549 - precision: 0.9552 - recall: 0.9546\n",
            "Epoch 9/15\n",
            "1020/1020 [==============================] - 6s 6ms/step - loss: 0.1449 - accuracy: 0.9605 - f1_score: 0.9606 - precision: 0.9608 - recall: 0.9603\n",
            "Epoch 10/15\n",
            "1020/1020 [==============================] - 6s 6ms/step - loss: 0.1428 - accuracy: 0.9599 - f1_score: 0.9599 - precision: 0.9604 - recall: 0.9594\n",
            "Epoch 11/15\n",
            "1020/1020 [==============================] - 6s 6ms/step - loss: 0.1483 - accuracy: 0.9586 - f1_score: 0.9586 - precision: 0.9592 - recall: 0.9580\n",
            "Epoch 12/15\n",
            "1020/1020 [==============================] - 6s 6ms/step - loss: 0.1209 - accuracy: 0.9656 - f1_score: 0.9656 - precision: 0.9662 - recall: 0.9650\n",
            "Epoch 13/15\n",
            "1020/1020 [==============================] - 6s 6ms/step - loss: 0.1247 - accuracy: 0.9661 - f1_score: 0.9663 - precision: 0.9674 - recall: 0.9652\n",
            "Epoch 14/15\n",
            "1020/1020 [==============================] - 6s 6ms/step - loss: 0.1387 - accuracy: 0.9626 - f1_score: 0.9627 - precision: 0.9642 - recall: 0.9613\n",
            "Epoch 15/15\n",
            "1020/1020 [==============================] - 6s 6ms/step - loss: 0.8825 - accuracy: 0.9365 - f1_score: 0.9363 - precision: 0.9368 - recall: 0.9358\n",
            "875/875 [==============================] - 1s 1ms/step\n",
            "repeat no.2\n",
            "Epoch 1/15\n",
            "1020/1020 [==============================] - 8s 6ms/step - loss: 0.1724 - accuracy: 0.9558 - f1_score: 0.9559 - precision: 0.9562 - recall: 0.9556\n",
            "Epoch 2/15\n",
            "1020/1020 [==============================] - 6s 6ms/step - loss: 0.1747 - accuracy: 0.9549 - f1_score: 0.9550 - precision: 0.9561 - recall: 0.9540\n",
            "Epoch 3/15\n",
            "1020/1020 [==============================] - 6s 6ms/step - loss: 0.1761 - accuracy: 0.9571 - f1_score: 0.9569 - precision: 0.9584 - recall: 0.9556\n",
            "Epoch 4/15\n",
            "1020/1020 [==============================] - 6s 6ms/step - loss: 0.1243 - accuracy: 0.9656 - f1_score: 0.9657 - precision: 0.9664 - recall: 0.9651\n",
            "Epoch 5/15\n",
            "1020/1020 [==============================] - 6s 6ms/step - loss: 0.1258 - accuracy: 0.9652 - f1_score: 0.9658 - precision: 0.9685 - recall: 0.9633\n",
            "Epoch 6/15\n",
            "1020/1020 [==============================] - 6s 6ms/step - loss: 0.2883 - accuracy: 0.9357 - f1_score: 0.9359 - precision: 0.9372 - recall: 0.9345\n",
            "Epoch 7/15\n",
            "1020/1020 [==============================] - 6s 6ms/step - loss: 0.2454 - accuracy: 0.9321 - f1_score: 0.9315 - precision: 0.9338 - recall: 0.9293\n",
            "Epoch 8/15\n",
            "1020/1020 [==============================] - 6s 6ms/step - loss: 0.1540 - accuracy: 0.9620 - f1_score: 0.9617 - precision: 0.9627 - recall: 0.9607\n",
            "Epoch 9/15\n",
            "1020/1020 [==============================] - 6s 6ms/step - loss: 0.1785 - accuracy: 0.9530 - f1_score: 0.9530 - precision: 0.9530 - recall: 0.9529\n",
            "Epoch 10/15\n",
            "1020/1020 [==============================] - 6s 6ms/step - loss: 0.1561 - accuracy: 0.9572 - f1_score: 0.9578 - precision: 0.9607 - recall: 0.9550\n",
            "Epoch 11/15\n",
            "1020/1020 [==============================] - 6s 6ms/step - loss: 0.1613 - accuracy: 0.9639 - f1_score: 0.9639 - precision: 0.9639 - recall: 0.9638\n",
            "Epoch 12/15\n",
            "1020/1020 [==============================] - 6s 6ms/step - loss: 0.1223 - accuracy: 0.9648 - f1_score: 0.9651 - precision: 0.9659 - recall: 0.9644\n",
            "Epoch 13/15\n",
            "1020/1020 [==============================] - 6s 6ms/step - loss: 0.1539 - accuracy: 0.9605 - f1_score: 0.9604 - precision: 0.9632 - recall: 0.9578\n",
            "Epoch 14/15\n",
            "1020/1020 [==============================] - 6s 6ms/step - loss: 0.1337 - accuracy: 0.9639 - f1_score: 0.9642 - precision: 0.9653 - recall: 0.9631\n",
            "Epoch 15/15\n",
            "1020/1020 [==============================] - 6s 6ms/step - loss: 0.1854 - accuracy: 0.9603 - f1_score: 0.9596 - precision: 0.9632 - recall: 0.9563\n",
            "875/875 [==============================] - 1s 1ms/step\n",
            "repeat no.3\n",
            "Epoch 1/15\n",
            "1020/1020 [==============================] - 8s 6ms/step - loss: 0.3859 - accuracy: 0.9176 - f1_score: 0.9176 - precision: 0.9176 - recall: 0.9175\n",
            "Epoch 2/15\n",
            "1020/1020 [==============================] - 6s 6ms/step - loss: 0.5604 - accuracy: 0.8475 - f1_score: 0.8475 - precision: 0.8475 - recall: 0.8475\n",
            "Epoch 3/15\n",
            "1020/1020 [==============================] - 6s 6ms/step - loss: 0.5603 - accuracy: 0.8475 - f1_score: 0.8475 - precision: 0.8475 - recall: 0.8475\n",
            "Epoch 4/15\n",
            "1020/1020 [==============================] - 6s 6ms/step - loss: 0.5606 - accuracy: 0.8475 - f1_score: 0.8475 - precision: 0.8475 - recall: 0.8475\n",
            "Epoch 5/15\n",
            "1020/1020 [==============================] - 6s 6ms/step - loss: 0.5602 - accuracy: 0.8475 - f1_score: 0.8475 - precision: 0.8475 - recall: 0.8475\n",
            "Epoch 6/15\n",
            "1020/1020 [==============================] - 6s 6ms/step - loss: 0.5607 - accuracy: 0.8475 - f1_score: 0.8475 - precision: 0.8475 - recall: 0.8475\n",
            "Epoch 7/15\n",
            "1020/1020 [==============================] - 6s 6ms/step - loss: 0.5606 - accuracy: 0.8475 - f1_score: 0.8475 - precision: 0.8475 - recall: 0.8475\n",
            "Epoch 8/15\n",
            "1020/1020 [==============================] - 6s 6ms/step - loss: 0.5604 - accuracy: 0.8475 - f1_score: 0.8475 - precision: 0.8475 - recall: 0.8475\n",
            "Epoch 9/15\n",
            "1020/1020 [==============================] - 6s 6ms/step - loss: 0.5609 - accuracy: 0.8475 - f1_score: 0.8475 - precision: 0.8475 - recall: 0.8475\n",
            "Epoch 10/15\n",
            "1020/1020 [==============================] - 6s 6ms/step - loss: 0.5603 - accuracy: 0.8475 - f1_score: 0.8476 - precision: 0.8476 - recall: 0.8476\n",
            "Epoch 11/15\n",
            "1020/1020 [==============================] - 6s 6ms/step - loss: 0.5601 - accuracy: 0.8475 - f1_score: 0.8475 - precision: 0.8475 - recall: 0.8475\n",
            "Epoch 12/15\n",
            "1020/1020 [==============================] - 6s 6ms/step - loss: 0.5607 - accuracy: 0.8475 - f1_score: 0.8475 - precision: 0.8475 - recall: 0.8475\n",
            "Epoch 13/15\n",
            "1020/1020 [==============================] - 6s 6ms/step - loss: 0.5604 - accuracy: 0.8475 - f1_score: 0.8475 - precision: 0.8475 - recall: 0.8475\n",
            "Epoch 14/15\n",
            "1020/1020 [==============================] - 6s 6ms/step - loss: 0.5602 - accuracy: 0.8475 - f1_score: 0.8475 - precision: 0.8475 - recall: 0.8475\n",
            "Epoch 15/15\n",
            " 607/1020 [================>.............] - ETA: 2s - loss: 0.5608 - accuracy: 0.8471 - f1_score: 0.8471 - precision: 0.8471 - recall: 0.8471"
          ]
        }
      ],
      "source": [
        "for idx, (test_X, test_Y, train_X, train_Y) in list(enumerate(datas_))[:20]:\n",
        "    DNN_model = keras.Sequential(layers=DNN_layers.copy())\n",
        "    DNN_model.compile(**DNN_compile)\n",
        "    print(f\"repeat no.{idx+1}\")\n",
        "    DNN_model.fit(train_X[DNN_COLS], train_Y, epochs=15, batch_size=64)\n",
        "    DNN_models.append(DNN_model)\n",
        "    DNN_prediction = DNN_model.predict(test_X[DNN_COLS])\n",
        "    DNN_predictions.append(DNN_prediction)"
      ]
    },
    {
      "cell_type": "code",
      "execution_count": null,
      "metadata": {},
      "outputs": [],
      "source": [
        "for idx, (test_X, test_Y, train_X, train_Y) in list(enumerate(datas_))[20:]:\n",
        "    idx += 20\n",
        "    DNN_model = keras.Sequential(layers=DNN_layers.copy())\n",
        "    DNN_model.compile(**DNN_compile)\n",
        "    print(f\"repeat no.{idx+1}\")\n",
        "    DNN_model.fit(train_X[DNN_COLS], train_Y, epochs=15, batch_size=64)\n",
        "    DNN_models.append(DNN_model)\n",
        "    DNN_prediction = DNN_model.predict(test_X[DNN_COLS])\n",
        "    DNN_predictions.append(DNN_prediction)"
      ]
    },
    {
      "cell_type": "code",
      "execution_count": 40,
      "metadata": {},
      "outputs": [],
      "source": [
        "DNN_confusion_matrix = []\n",
        "\n",
        "for prediction, (test_X, test_Y, train_X, train_Y) in zip(DNN_predictions, datas_):\n",
        "    DNN_confusion_matrix.append(pd.DataFrame(confusion_matrix(np.argmax(test_Y, axis=1), np.argmax(prediction, axis=1)), index=\"TRUE_\"+pd.Series(labels.keys()), columns=\"PRED_\"+pd.Series(labels.keys())))\n",
        "    # .to_markdown(tablefmt=\"grid\")"
      ]
    },
    {
      "cell_type": "code",
      "execution_count": 41,
      "metadata": {},
      "outputs": [],
      "source": [
        "# ensemble model\n",
        "result_list = []\n",
        "result_weight_list = []\n",
        "for DNN_prediction, file_data_prediction in zip(DNN_predictions, file_data_predictions):\n",
        "    result = np.array([([d1,d2,d3,d4] if max([d1,d2,d3,d4])==d4 else [p1, p2 ,p3, p4] if max([p1, p2, p3, p4]) in [p2, p3, p4] else [d1, 0, 0, d4]) for (d1,d2,d3,d4),(p1,p2,p3,p4) in zip(DNN_prediction, file_data_prediction)])\n",
        "    result_weight = np.array([([d1,d2,d3,d4] if max([d1,d2,d3,d4])==d4 else [p1, p2 ,p3, p4] if max([p1, p2, p3, p4]) in [p2, p3, p4] else [d1, 0, 0, d4*2]) for (d1,d2,d3,d4),(p1,p2,p3,p4) in zip(DNN_prediction, file_data_prediction)])\n",
        "    result_list.append(result)\n",
        "    result_weight_list.append(result_weight)"
      ]
    },
    {
      "cell_type": "code",
      "execution_count": null,
      "metadata": {},
      "outputs": [],
      "source": [
        "from pprint import pprint \n",
        "\n",
        "def printnn(*args, end=\"\\n\\n\", **kwargs):\n",
        "    return print(*args, end=end, **kwargs)\n",
        "def get_matrix_vals(cnf_matrix, DEBUG=False, _dict_=True):\n",
        "    length = int(cnf_matrix.sum().sum())\n",
        "    index = [\"PW_Injection\", \"SQLi\", \"File_Inclusion\", \"XSS\"]\n",
        "    _FP = cnf_matrix.sum(axis=0) - np.diag(cnf_matrix)  # column\n",
        "    _FP.index = index\n",
        "    if DEBUG: printnn(\"_FP\\n\",_FP)\n",
        "    _FN = cnf_matrix.sum(axis=1) - np.diag(cnf_matrix) # rows\n",
        "    _FN.index = index\n",
        "    if DEBUG: printnn(\"_FN\\n\",_FN)\n",
        "    _TP = pd.Series(np.diag(cnf_matrix), index=index) \n",
        "    if DEBUG: printnn(\"_TP\\n\",_TP)\n",
        "    _TN = pd.Series([length for _ in range(4)], index=index) - (_FP + _FN + _TP) \n",
        "    \n",
        "    if DEBUG: printnn(_TN)\n",
        "    if not _dict_: return {\n",
        "        \"FP\":_FP, \"FN\":_FN, \"TP\":_TP, \"TN\":_TN, \"length\": length\n",
        "    }\n",
        "    return {\"FP\":_FP.to_dict(), \"FN\":_FN.to_dict(), \"TP\":_TP.to_dict(), \"TN\":_TN.to_dict(), \"length\": length}\n",
        "\n",
        "def scores_matrix(confusion_matrix, DEBUG=False):\n",
        "    confusion_matrix_dict = get_matrix_vals(confusion_matrix, _dict_=False)\n",
        "    FP, FN, TP, TN = confusion_matrix_dict[\"FP\"], confusion_matrix_dict[\"FN\"], confusion_matrix_dict[\"TP\"], confusion_matrix_dict[\"TN\"], \n",
        "    accuracy = (TP+TN) / (TP+TN+FP+FN)\n",
        "    precision = (TP) / (TP + FP)\n",
        "    recall = (TP) / (TP + FN)\n",
        "    f1_score = 1 / (\n",
        "        (1/precision + 1/recall) / 2\n",
        "    )\n",
        "    result = pd.concat([accuracy, precision, recall, f1_score], axis=1)\n",
        "    result.columns=[\"accuracy\", \"precision\", \"recall\", \"f1_score\"]\n",
        "    result.index = [\"PW_Injection\", \"SQLi\", \"File_Inclusion\", \"XSS\"]\n",
        "    if DEBUG: pprint(result)\n",
        "    return result"
      ]
    },
    {
      "cell_type": "code",
      "execution_count": 42,
      "metadata": {},
      "outputs": [
        {
          "name": "stdout",
          "output_type": "stream",
          "text": [
            "result - default\n",
            "precision_Score=0.9747321353243905\trecall_Score=0.8737884534344711\tf1_Score=0.9022798658184719\n",
            "+--------------------+-----------------+----------------------+------------------+------------+\n",
            "|                    |   PRED_Password |   PRED_SQL_injection |   PRED_Uploading |   PRED_XSS |\n",
            "+====================+=================+======================+==================+============+\n",
            "| TRUE_Password      |           21310 |                    0 |                0 |          0 |\n",
            "+--------------------+-----------------+----------------------+------------------+------------+\n",
            "| TRUE_SQL_injection |               0 |                 1329 |                0 |          0 |\n",
            "+--------------------+-----------------+----------------------+------------------+------------+\n",
            "| TRUE_Uploading     |               0 |                    0 |              586 |          0 |\n",
            "+--------------------+-----------------+----------------------+------------------+------------+\n",
            "| TRUE_XSS           |            2396 |                    0 |                0 |       2350 |\n",
            "+--------------------+-----------------+----------------------+------------------+------------+\n",
            "\n",
            "\n",
            "result-weighted\n",
            "precision_Score=0.9747321353243905\trecall_Score=0.8737884534344711\tf1_Score=0.9022798658184719\tf1_micro=0.9143398519895606\n",
            "+--------------------+-----------------+----------------------+------------------+------------+\n",
            "|                    |   PRED_Password |   PRED_SQL_injection |   PRED_Uploading |   PRED_XSS |\n",
            "+====================+=================+======================+==================+============+\n",
            "| TRUE_Password      |           21310 |                    0 |                0 |          0 |\n",
            "+--------------------+-----------------+----------------------+------------------+------------+\n",
            "| TRUE_SQL_injection |               0 |                 1329 |                0 |          0 |\n",
            "+--------------------+-----------------+----------------------+------------------+------------+\n",
            "| TRUE_Uploading     |               0 |                    0 |              586 |          0 |\n",
            "+--------------------+-----------------+----------------------+------------------+------------+\n",
            "| TRUE_XSS           |            2396 |                    0 |                0 |       2350 |\n",
            "+--------------------+-----------------+----------------------+------------------+------------+\n",
            "result - default\n",
            "precision_Score=0.974676724137931\trecall_Score=0.8756226650062267\tf1_Score=0.9038821122627012\n",
            "+--------------------+-----------------+----------------------+------------------+------------+\n",
            "|                    |   PRED_Password |   PRED_SQL_injection |   PRED_Uploading |   PRED_XSS |\n",
            "+====================+=================+======================+==================+============+\n",
            "| TRUE_Password      |           21267 |                    0 |                0 |          0 |\n",
            "+--------------------+-----------------+----------------------+------------------+------------+\n",
            "| TRUE_SQL_injection |               0 |                 1270 |                0 |          0 |\n",
            "+--------------------+-----------------+----------------------+------------------+------------+\n",
            "| TRUE_Uploading     |               0 |                    0 |              616 |          0 |\n",
            "+--------------------+-----------------+----------------------+------------------+------------+\n",
            "| TRUE_XSS           |            2397 |                    0 |                0 |       2421 |\n",
            "+--------------------+-----------------+----------------------+------------------+------------+\n",
            "\n",
            "\n",
            "result-weighted\n",
            "precision_Score=0.974676724137931\trecall_Score=0.8756226650062267\tf1_Score=0.9038821122627012\tf1_micro=0.9143041006756998\n",
            "+--------------------+-----------------+----------------------+------------------+------------+\n",
            "|                    |   PRED_Password |   PRED_SQL_injection |   PRED_Uploading |   PRED_XSS |\n",
            "+====================+=================+======================+==================+============+\n",
            "| TRUE_Password      |           21267 |                    0 |                0 |          0 |\n",
            "+--------------------+-----------------+----------------------+------------------+------------+\n",
            "| TRUE_SQL_injection |               0 |                 1270 |                0 |          0 |\n",
            "+--------------------+-----------------+----------------------+------------------+------------+\n",
            "| TRUE_Uploading     |               0 |                    0 |              616 |          0 |\n",
            "+--------------------+-----------------+----------------------+------------------+------------+\n",
            "| TRUE_XSS           |            2397 |                    0 |                0 |       2421 |\n",
            "+--------------------+-----------------+----------------------+------------------+------------+\n",
            "result - default\n",
            "precision_Score=0.9744893670673279\trecall_Score=0.871778622729193\tf1_Score=0.9003373107738144\n",
            "+--------------------+-----------------+----------------------+------------------+------------+\n",
            "|                    |   PRED_Password |   PRED_SQL_injection |   PRED_Uploading |   PRED_XSS |\n",
            "+====================+=================+======================+==================+============+\n",
            "| TRUE_Password      |           21366 |                    0 |                0 |          0 |\n",
            "+--------------------+-----------------+----------------------+------------------+------------+\n",
            "| TRUE_SQL_injection |               0 |                 1306 |                0 |          0 |\n",
            "+--------------------+-----------------+----------------------+------------------+------------+\n",
            "| TRUE_Uploading     |               0 |                    0 |              565 |          0 |\n",
            "+--------------------+-----------------+----------------------+------------------+------------+\n",
            "| TRUE_XSS           |            2428 |                    0 |                0 |       2306 |\n",
            "+--------------------+-----------------+----------------------+------------------+------------+\n",
            "\n",
            "\n",
            "result-weighted\n",
            "precision_Score=0.9744893670673279\trecall_Score=0.871778622729193\tf1_Score=0.9003373107738144\tf1_micro=0.9131958099460156\n",
            "+--------------------+-----------------+----------------------+------------------+------------+\n",
            "|                    |   PRED_Password |   PRED_SQL_injection |   PRED_Uploading |   PRED_XSS |\n",
            "+====================+=================+======================+==================+============+\n",
            "| TRUE_Password      |           21366 |                    0 |                0 |          0 |\n",
            "+--------------------+-----------------+----------------------+------------------+------------+\n",
            "| TRUE_SQL_injection |               0 |                 1306 |                0 |          0 |\n",
            "+--------------------+-----------------+----------------------+------------------+------------+\n",
            "| TRUE_Uploading     |               0 |                    0 |              565 |          0 |\n",
            "+--------------------+-----------------+----------------------+------------------+------------+\n",
            "| TRUE_XSS           |            2428 |                    0 |                0 |       2306 |\n",
            "+--------------------+-----------------+----------------------+------------------+------------+\n",
            "result - default\n",
            "precision_Score=0.974463835155593\trecall_Score=0.8729070740895772\tf1_Score=0.9013405721349287\n",
            "+--------------------+-----------------+----------------------+------------------+------------+\n",
            "|                    |   PRED_Password |   PRED_SQL_injection |   PRED_Uploading |   PRED_XSS |\n",
            "+====================+=================+======================+==================+============+\n",
            "| TRUE_Password      |           21351 |                    0 |                0 |          0 |\n",
            "+--------------------+-----------------+----------------------+------------------+------------+\n",
            "| TRUE_SQL_injection |               0 |                 1292 |                0 |          0 |\n",
            "+--------------------+-----------------+----------------------+------------------+------------+\n",
            "| TRUE_Uploading     |               0 |                    0 |              550 |          0 |\n",
            "+--------------------+-----------------+----------------------+------------------+------------+\n",
            "| TRUE_XSS           |            2429 |                    0 |                0 |       2349 |\n",
            "+--------------------+-----------------+----------------------+------------------+------------+\n",
            "\n",
            "\n",
            "result-weighted\n",
            "precision_Score=0.974463835155593\trecall_Score=0.8729070740895772\tf1_Score=0.9013405721349287\tf1_micro=0.9131600586321548\n",
            "+--------------------+-----------------+----------------------+------------------+------------+\n",
            "|                    |   PRED_Password |   PRED_SQL_injection |   PRED_Uploading |   PRED_XSS |\n",
            "+====================+=================+======================+==================+============+\n",
            "| TRUE_Password      |           21351 |                    0 |                0 |          0 |\n",
            "+--------------------+-----------------+----------------------+------------------+------------+\n",
            "| TRUE_SQL_injection |               0 |                 1292 |                0 |          0 |\n",
            "+--------------------+-----------------+----------------------+------------------+------------+\n",
            "| TRUE_Uploading     |               0 |                    0 |              550 |          0 |\n",
            "+--------------------+-----------------+----------------------+------------------+------------+\n",
            "| TRUE_XSS           |            2429 |                    0 |                0 |       2349 |\n",
            "+--------------------+-----------------+----------------------+------------------+------------+\n",
            "result - default\n",
            "precision_Score=0.9747305716931886\trecall_Score=0.8743195142378559\tf1_Score=0.9027534436002894\n",
            "+--------------------+-----------------+----------------------+------------------+------------+\n",
            "|                    |   PRED_Password |   PRED_SQL_injection |   PRED_Uploading |   PRED_XSS |\n",
            "+====================+=================+======================+==================+============+\n",
            "| TRUE_Password      |           21353 |                    0 |                0 |          0 |\n",
            "+--------------------+-----------------+----------------------+------------------+------------+\n",
            "| TRUE_SQL_injection |               0 |                 1295 |                0 |          0 |\n",
            "+--------------------+-----------------+----------------------+------------------+------------+\n",
            "| TRUE_Uploading     |               0 |                    0 |              547 |          0 |\n",
            "+--------------------+-----------------+----------------------+------------------+------------+\n",
            "| TRUE_XSS           |            2401 |                    0 |                0 |       2375 |\n",
            "+--------------------+-----------------+----------------------+------------------+------------+\n",
            "\n",
            "\n",
            "result-weighted\n",
            "precision_Score=0.9747305716931886\trecall_Score=0.8743195142378559\tf1_Score=0.9027534436002894\tf1_micro=0.9141610954202568\n",
            "+--------------------+-----------------+----------------------+------------------+------------+\n",
            "|                    |   PRED_Password |   PRED_SQL_injection |   PRED_Uploading |   PRED_XSS |\n",
            "+====================+=================+======================+==================+============+\n",
            "| TRUE_Password      |           21353 |                    0 |                0 |          0 |\n",
            "+--------------------+-----------------+----------------------+------------------+------------+\n",
            "| TRUE_SQL_injection |               0 |                 1295 |                0 |          0 |\n",
            "+--------------------+-----------------+----------------------+------------------+------------+\n",
            "| TRUE_Uploading     |               0 |                    0 |              547 |          0 |\n",
            "+--------------------+-----------------+----------------------+------------------+------------+\n",
            "| TRUE_XSS           |            2401 |                    0 |                0 |       2375 |\n",
            "+--------------------+-----------------+----------------------+------------------+------------+\n",
            "result - default\n",
            "precision_Score=0.7193820803295572\trecall_Score=0.623664362036455\tf1_Score=0.6491676218212626\n",
            "+--------------------+-----------------+----------------------+------------------+------------+\n",
            "|                    |   PRED_Password |   PRED_SQL_injection |   PRED_Uploading |   PRED_XSS |\n",
            "+====================+=================+======================+==================+============+\n",
            "| TRUE_Password      |           21302 |                    0 |                0 |          0 |\n",
            "+--------------------+-----------------+----------------------+------------------+------------+\n",
            "| TRUE_SQL_injection |               0 |                 1335 |                0 |          0 |\n",
            "+--------------------+-----------------+----------------------+------------------+------------+\n",
            "| TRUE_Uploading     |             561 |                    0 |                0 |          0 |\n",
            "+--------------------+-----------------+----------------------+------------------+------------+\n",
            "| TRUE_XSS           |            2412 |                    0 |                0 |       2361 |\n",
            "+--------------------+-----------------+----------------------+------------------+------------+\n",
            "\n",
            "\n",
            "result-weighted\n",
            "precision_Score=0.7193820803295572\trecall_Score=0.623664362036455\tf1_Score=0.6491676218212626\tf1_micro=0.893711343891888\n",
            "+--------------------+-----------------+----------------------+------------------+------------+\n",
            "|                    |   PRED_Password |   PRED_SQL_injection |   PRED_Uploading |   PRED_XSS |\n",
            "+====================+=================+======================+==================+============+\n",
            "| TRUE_Password      |           21302 |                    0 |                0 |          0 |\n",
            "+--------------------+-----------------+----------------------+------------------+------------+\n",
            "| TRUE_SQL_injection |               0 |                 1335 |                0 |          0 |\n",
            "+--------------------+-----------------+----------------------+------------------+------------+\n",
            "| TRUE_Uploading     |             561 |                    0 |                0 |          0 |\n",
            "+--------------------+-----------------+----------------------+------------------+------------+\n",
            "| TRUE_XSS           |            2412 |                    0 |                0 |       2361 |\n",
            "+--------------------+-----------------+----------------------+------------------+------------+\n",
            "result - default\n",
            "precision_Score=0.9743033925414597\trecall_Score=0.87109375\tf1_Score=0.8996135010730892\n",
            "+--------------------+-----------------+----------------------+------------------+------------+\n",
            "|                    |   PRED_Password |   PRED_SQL_injection |   PRED_Uploading |   PRED_XSS |\n",
            "+====================+=================+======================+==================+============+\n",
            "| TRUE_Password      |           21316 |                    0 |                0 |          0 |\n",
            "+--------------------+-----------------+----------------------+------------------+------------+\n",
            "| TRUE_SQL_injection |               0 |                 1343 |                0 |          0 |\n",
            "+--------------------+-----------------+----------------------+------------------+------------+\n",
            "| TRUE_Uploading     |               0 |                    0 |              576 |          0 |\n",
            "+--------------------+-----------------+----------------------+------------------+------------+\n",
            "| TRUE_XSS           |            2442 |                    0 |                0 |       2294 |\n",
            "+--------------------+-----------------+----------------------+------------------+------------+\n",
            "\n",
            "\n",
            "result-weighted\n",
            "precision_Score=0.9743033925414597\trecall_Score=0.87109375\tf1_Score=0.8996135010730892\tf1_micro=0.9126952915519645\n",
            "+--------------------+-----------------+----------------------+------------------+------------+\n",
            "|                    |   PRED_Password |   PRED_SQL_injection |   PRED_Uploading |   PRED_XSS |\n",
            "+====================+=================+======================+==================+============+\n",
            "| TRUE_Password      |           21316 |                    0 |                0 |          0 |\n",
            "+--------------------+-----------------+----------------------+------------------+------------+\n",
            "| TRUE_SQL_injection |               0 |                 1343 |                0 |          0 |\n",
            "+--------------------+-----------------+----------------------+------------------+------------+\n",
            "| TRUE_Uploading     |               0 |                    0 |              576 |          0 |\n",
            "+--------------------+-----------------+----------------------+------------------+------------+\n",
            "| TRUE_XSS           |            2442 |                    0 |                0 |       2294 |\n",
            "+--------------------+-----------------+----------------------+------------------+------------+\n",
            "result - default\n",
            "precision_Score=0.974027754344525\trecall_Score=0.8719321963394343\tf1_Score=0.9002195977656381\n",
            "+--------------------+-----------------+----------------------+------------------+------------+\n",
            "|                    |   PRED_Password |   PRED_SQL_injection |   PRED_Uploading |   PRED_XSS |\n",
            "+====================+=================+======================+==================+============+\n",
            "| TRUE_Password      |           21245 |                    0 |                0 |          0 |\n",
            "+--------------------+-----------------+----------------------+------------------+------------+\n",
            "| TRUE_SQL_injection |               0 |                 1337 |                0 |          0 |\n",
            "+--------------------+-----------------+----------------------+------------------+------------+\n",
            "| TRUE_Uploading     |               0 |                    0 |              581 |          0 |\n",
            "+--------------------+-----------------+----------------------+------------------+------------+\n",
            "| TRUE_XSS           |            2463 |                    0 |                0 |       2345 |\n",
            "+--------------------+-----------------+----------------------+------------------+------------+\n",
            "\n",
            "\n",
            "result-weighted\n",
            "precision_Score=0.974027754344525\trecall_Score=0.8719321963394343\tf1_Score=0.9002195977656381\tf1_micro=0.911944513960888\n",
            "+--------------------+-----------------+----------------------+------------------+------------+\n",
            "|                    |   PRED_Password |   PRED_SQL_injection |   PRED_Uploading |   PRED_XSS |\n",
            "+====================+=================+======================+==================+============+\n",
            "| TRUE_Password      |           21245 |                    0 |                0 |          0 |\n",
            "+--------------------+-----------------+----------------------+------------------+------------+\n",
            "| TRUE_SQL_injection |               0 |                 1337 |                0 |          0 |\n",
            "+--------------------+-----------------+----------------------+------------------+------------+\n",
            "| TRUE_Uploading     |               0 |                    0 |              581 |          0 |\n",
            "+--------------------+-----------------+----------------------+------------------+------------+\n",
            "| TRUE_XSS           |            2463 |                    0 |                0 |       2345 |\n",
            "+--------------------+-----------------+----------------------+------------------+------------+\n",
            "result - default\n",
            "precision_Score=0.9738078186873368\trecall_Score=0.8709794563187383\tf1_Score=0.8992340734052677\n",
            "+--------------------+-----------------+----------------------+------------------+------------+\n",
            "|                    |   PRED_Password |   PRED_SQL_injection |   PRED_Uploading |   PRED_XSS |\n",
            "+====================+=================+======================+==================+============+\n",
            "| TRUE_Password      |           21251 |                    0 |                0 |          0 |\n",
            "+--------------------+-----------------+----------------------+------------------+------------+\n",
            "| TRUE_SQL_injection |               0 |                 1321 |                0 |          0 |\n",
            "+--------------------+-----------------+----------------------+------------------+------------+\n",
            "| TRUE_Uploading     |               0 |                    0 |              580 |          0 |\n",
            "+--------------------+-----------------+----------------------+------------------+------------+\n",
            "| TRUE_XSS           |            2487 |                    0 |                0 |       2332 |\n",
            "+--------------------+-----------------+----------------------+------------------+------------+\n",
            "\n",
            "\n",
            "result-weighted\n",
            "precision_Score=0.9738078186873368\trecall_Score=0.8709794563187383\tf1_Score=0.8992340734052677\tf1_micro=0.9110864824282292\n",
            "+--------------------+-----------------+----------------------+------------------+------------+\n",
            "|                    |   PRED_Password |   PRED_SQL_injection |   PRED_Uploading |   PRED_XSS |\n",
            "+====================+=================+======================+==================+============+\n",
            "| TRUE_Password      |           21251 |                    0 |                0 |          0 |\n",
            "+--------------------+-----------------+----------------------+------------------+------------+\n",
            "| TRUE_SQL_injection |               0 |                 1321 |                0 |          0 |\n",
            "+--------------------+-----------------+----------------------+------------------+------------+\n",
            "| TRUE_Uploading     |               0 |                    0 |              580 |          0 |\n",
            "+--------------------+-----------------+----------------------+------------------+------------+\n",
            "| TRUE_XSS           |            2487 |                    0 |                0 |       2332 |\n",
            "+--------------------+-----------------+----------------------+------------------+------------+\n",
            "result - default\n",
            "precision_Score=0.9754200439040864\trecall_Score=0.8763275276125744\tf1_Score=0.9049171395353286\n",
            "+--------------------+-----------------+----------------------+------------------+------------+\n",
            "|                    |   PRED_Password |   PRED_SQL_injection |   PRED_Uploading |   PRED_XSS |\n",
            "+====================+=================+======================+==================+============+\n",
            "| TRUE_Password      |           21359 |                    0 |                0 |          0 |\n",
            "+--------------------+-----------------+----------------------+------------------+------------+\n",
            "| TRUE_SQL_injection |               0 |                 1338 |                0 |          0 |\n",
            "+--------------------+-----------------+----------------------+------------------+------------+\n",
            "| TRUE_Uploading     |               0 |                    0 |              566 |          0 |\n",
            "+--------------------+-----------------+----------------------+------------------+------------+\n",
            "| TRUE_XSS           |            2329 |                    0 |                0 |       2379 |\n",
            "+--------------------+-----------------+----------------------+------------------+------------+\n",
            "\n",
            "\n",
            "result-weighted\n",
            "precision_Score=0.9754200439040864\trecall_Score=0.8763275276125744\tf1_Score=0.9049171395353286\tf1_micro=0.9167351900182331\n",
            "+--------------------+-----------------+----------------------+------------------+------------+\n",
            "|                    |   PRED_Password |   PRED_SQL_injection |   PRED_Uploading |   PRED_XSS |\n",
            "+====================+=================+======================+==================+============+\n",
            "| TRUE_Password      |           21359 |                    0 |                0 |          0 |\n",
            "+--------------------+-----------------+----------------------+------------------+------------+\n",
            "| TRUE_SQL_injection |               0 |                 1338 |                0 |          0 |\n",
            "+--------------------+-----------------+----------------------+------------------+------------+\n",
            "| TRUE_Uploading     |               0 |                    0 |              566 |          0 |\n",
            "+--------------------+-----------------+----------------------+------------------+------------+\n",
            "| TRUE_XSS           |            2329 |                    0 |                0 |       2379 |\n",
            "+--------------------+-----------------+----------------------+------------------+------------+\n"
          ]
        },
        {
          "name": "stderr",
          "output_type": "stream",
          "text": [
            "/usr/local/lib/python3.8/dist-packages/sklearn/metrics/_classification.py:1469: UndefinedMetricWarning: Precision is ill-defined and being set to 0.0 in labels with no predicted samples. Use `zero_division` parameter to control this behavior.\n",
            "  _warn_prf(average, modifier, msg_start, len(result))\n",
            "/usr/local/lib/python3.8/dist-packages/sklearn/metrics/_classification.py:1469: UndefinedMetricWarning: Precision is ill-defined and being set to 0.0 in labels with no predicted samples. Use `zero_division` parameter to control this behavior.\n",
            "  _warn_prf(average, modifier, msg_start, len(result))\n"
          ]
        }
      ],
      "source": [
        "from sklearn.metrics import precision_score, recall_score, confusion_matrix, f1_score\n",
        "result_confusion_matrix_list = []\n",
        "result_weight_confusion_matrix_list = []\n",
        "for (test_X, test_Y, train_X, train_Y), (result, result_weight) in zip(datas_,zip(result_list, result_weight_list)):\n",
        "    print(\"result - default\")\n",
        "    precision_Score, recall_Score, f1_Score = precision_score(np.argmax(test_Y, axis=1), np.argmax(result, axis=1), average=\"macro\"),\\\n",
        "        recall_score(np.argmax(test_Y, axis=1), np.argmax(result, axis=1), average=\"macro\"), \\\n",
        "            f1_score(np.argmax(test_Y, axis=1), np.argmax(result, axis=1), average=\"macro\")\n",
        "            \n",
        "    print(f\"\"\"{precision_Score=}\\t{recall_Score=}\\t{f1_Score=}\"\"\")\n",
        "    result_confusion_matrix = pd.DataFrame(confusion_matrix(np.argmax(test_Y, axis=1), np.argmax(result, axis=1)), index=\"TRUE_\"+pd.Series(labels.keys()), columns=\"PRED_\"+pd.Series(labels.keys()))\n",
        "    print(\n",
        "    result_confusion_matrix.to_markdown(tablefmt=\"grid\")\n",
        "    )\n",
        "    print()\n",
        "    print()\n",
        "    print(\"result-weighted\")\n",
        "    precision_Score, recall_Score, f1_Score = precision_score(np.argmax(test_Y, axis=1), np.argmax(result_weight, axis=1), average=\"macro\"),\\\n",
        "        recall_score(np.argmax(test_Y, axis=1), np.argmax(result_weight, axis=1), average=\"macro\"), \\\n",
        "            f1_score(np.argmax(test_Y, axis=1), np.argmax(result_weight, axis=1), average=\"macro\")\n",
        "                \n",
        "            \n",
        "    print(f\"\"\"{precision_Score=}\\t{recall_Score=}\\t{f1_Score=}\\tf1_micro={f1_score(np.argmax(test_Y, axis=1), np.argmax(result_weight, axis=1), average=\"micro\")}\"\"\")\n",
        "    result_weight_confusion_matrix = pd.DataFrame(confusion_matrix(np.argmax(test_Y, axis=1), np.argmax(result_weight, axis=1)), index=\"TRUE_\"+pd.Series(labels.keys()), columns=\"PRED_\"+pd.Series(labels.keys()))\n",
        "    print(\n",
        "    result_weight_confusion_matrix.to_markdown(tablefmt=\"grid\")\n",
        "    )\n",
        "    result_confusion_matrix_list.append(result_confusion_matrix)\n",
        "    result_weight_confusion_matrix_list.append(result_weight_confusion_matrix)"
      ]
    },
    {
      "cell_type": "code",
      "execution_count": null,
      "metadata": {},
      "outputs": [],
      "source": [
        "from sklearn.metrics import precision_score, recall_score, confusion_matrix, f1_score, accuracy_score\n",
        "\n",
        "for name, _matrix, _prediction, _dt in \\\n",
        "    [\n",
        "        [\"DNN\", DNN_confusion_matrix, DNN_predictions, datas_], # DNN \n",
        "        [\"result_confusion_matrix\", result_confusion_matrix_list, result_list, datas_], # DNN + file_data(user form)\n",
        "        [\"result_weight_confusion_matrix\", result_weight_confusion_matrix_list, result_weight_list, datas_], # DNN + file_data(user form) modified\n",
        "        [\"file_data\", file_data_confusion_matrixs, file_data_predictions, datas_], # file_data(user_form) LSTM\n",
        "        [\"payload\", payload_confusion_matrixs, payload_predictions, datas_], # payload_data LSTM\n",
        "    ]:\n",
        "    print(\"\\033[95m\\033[92m\", end=\"\")\n",
        "    print(\"-\"*60)\n",
        "    print(name)\n",
        "    print(\"-\"*60, end=\"\\033[0m\\n\")\n",
        "    for idx, (_d, (_m, _p)) in enumerate(zip(_dt, zip(_matrix, _prediction))):\n",
        "        test_Y = _d[1]\n",
        "        print(f\"attempt ({idx+1})\")\n",
        "        print(f\"\"\"accuracy={accuracy_score(np.argmax(test_Y, axis=1), np.argmax(_p, axis=1))}\"\"\")\n",
        "        print(f\"\"\"f1_macro={f1_score(np.argmax(test_Y, axis=1), np.argmax(_p, axis=1), average=\"macro\", zero_division=0)}\"\"\")\n",
        "        print(f\"\"\"f1_weighted={f1_score(np.argmax(test_Y, axis=1), np.argmax(_p, axis=1), average=\"weighted\")}\"\"\")\n",
        "        print(f\"\"\"precision_macro={precision_score(np.argmax(test_Y, axis=1), np.argmax(_p, axis=1), average=\"macro\")}\"\"\", end=\"\\t\")\n",
        "        print(f\"\"\"recall_macro={recall_score(np.argmax(test_Y, axis=1), np.argmax(_p, axis=1), average=\"macro\")}\"\"\")\n",
        "        print(f\"\"\"accuracy={accuracy_score(np.argmax(test_Y, axis=1), np.argmax(_p, axis=1)).tolist()}\"\"\")\n",
        "        print(f\"\"\"f1_scores={f1_score(np.argmax(test_Y, axis=1), np.argmax(_p, axis=1), average=None, zero_division=0).tolist()}\"\"\")\n",
        "        print(f\"\"\"precision={precision_score(np.argmax(test_Y, axis=1), np.argmax(_p, axis=1), average=None).tolist()}\"\"\")\n",
        "        print(f\"\"\"recall={recall_score(np.argmax(test_Y, axis=1), np.argmax(_p, axis=1), average=None).tolist()}\"\"\")\n",
        "        print(_m.to_markdown(tablefmt=\"grid\"))\n",
        "        _m.to_csv(os.path.join(\"confusion_matrix\", f\"{name}_attempt_{str(idx+1).zfill(2)}.csv\"))\n",
        "        pd.DataFrame(test_Y, columns=[\"PW_Injection\", \"SQLi\", \"File_Inclusion\", \"XSS\"]).to_csv(os.path.join(\"prediction_result\", f\"testY_attempt_{str(idx+1).zfill(2)}.csv\"))\n",
        "        pd.DataFrame(_p, columns=[\"PW_Injection\", \"SQLi\", \"File_Inclusion\", \"XSS\"]).to_csv(os.path.join(\"prediction_result\", f\"{name}_attempt_{str(idx+1).zfill(2)}.csv\"))\n",
        "        print()\n",
        "    print()\n",
        "    "
      ]
    },
    {
      "cell_type": "code",
      "execution_count": 49,
      "metadata": {},
      "outputs": [
        {
          "data": {
            "text/plain": [
              "PRED_Password         25738\n",
              "PRED_SQL_injection     1329\n",
              "PRED_Uploading          586\n",
              "PRED_XSS                318\n",
              "dtype: int64"
            ]
          },
          "execution_count": 49,
          "metadata": {},
          "output_type": "execute_result"
        }
      ],
      "source": [
        "file_data_confusion_matrixs[0].sum()"
      ]
    },
    {
      "cell_type": "code",
      "execution_count": 59,
      "metadata": {},
      "outputs": [
        {
          "name": "stdout",
          "output_type": "stream",
          "text": [
            "\n"
          ]
        }
      ],
      "source": [
        "from pprint import pprint\n",
        "\n",
        "i = 0\n",
        "confusion_matrix = DNN_confusion_matrix\n",
        "# _ 는 TRUE_ 이다.\n",
        "# _.replace(\"TRUE_\", \"PRED_\") 는 PRED 이다.\n",
        "# TP: confusion_matrix[i].loc[_][_.replace(\"TRUE_\", \"PRED_\")]\n",
        "# TN: confusion_matrix[i][_.replace(\"TRUE_\", \"PRED_\")].loc[_]\n",
        "# FP: confusion_matrix[i].loc[_][_.replace(\"TRUE_\", \"PRED_\")]\n",
        "# FN: confusion_matrix[i].loc[_][_.replace(\"TRUE_\", \"PRED_\")]\n",
        "def index_not(df, index_name):\n",
        "    return df.loc[df.index.str[-5:]!=index_name]\n",
        "def column_not(df, column_name):\n",
        "    return df.loc[:,[_ for _ in df.columns if _!=column_name]]\n",
        "\n",
        "def TP(df, true_col_name):\n",
        "    index_name = true_col_name.replace(\"TRUE_\", \"PRED_\")\n",
        "    return df.loc[true_col_name][index_name]\n",
        "\n",
        "def TN(df, true_col_name):\n",
        "    index_name = true_col_name.replace(\"TRUE_\", \"PRED_\")\n",
        "    return column_not(index_not(df, index_name), true_col_name).sum()\n",
        "\n",
        "def FP(df, true_col_name):\n",
        "    index_name = true_col_name.replace(\"TRUE_\", \"PRED_\")\n",
        "    return index_not(df.loc[true_col_name], index_name)\n",
        "\n",
        "def FN(df, true_col_name):\n",
        "    index_name = true_col_name.replace(\"TRUE_\", \"PRED_\")\n",
        "    return column_not(df, true_col_name)[index_name]\n",
        "\n",
        "\n",
        "\n",
        "\n",
        "def accuracy(df, _):\n",
        "    divisor = (TP(df, _).sum() + TN(df, _).sum()) \n",
        "    dividor = (TP(df, _).sum() + TN(df, _).sum() + FN(df, _).sum() + FP(df, _).sum())\n",
        "    return divisor / (dividor)\n",
        "precision = lambda df, _: TP(df, _).sum() / ((TP(df, _).sum() + FP(df, _).sum()) or 1)\n",
        "recall = lambda df, _: TP(confusion_matrix[i], _).sum() / ((TP(confusion_matrix[i], _).sum() + FN(confusion_matrix[i], _).sum()) or 1)\n",
        "def f1score(df, _):\n",
        "    _precision = precision(df, _)\n",
        "    _recall = recall(df, _)\n",
        "    return 2 * (_precision * _recall) / ((_precision + _recall) or 1) \n",
        "\n",
        "confusion_matrix_processData = dict(\n",
        "    (f\"{name}\", {\n",
        "        f\"{i}\": {\n",
        "            \"accuracy\":{_.replace(\"TRUE_\",\"\"): accuracy(confusion_matrix[i], _) for _ in confusion_matrix[i].index},\n",
        "            \"precision\":{_.replace(\"TRUE_\",\"\"): precision(confusion_matrix[i], _) for _ in confusion_matrix[i].index},\n",
        "            \"recall\":{_.replace(\"TRUE_\",\"\"): recall(confusion_matrix[i], _) for _ in confusion_matrix[i].index},\n",
        "            \"f1score\":{_.replace(\"TRUE_\",\"\"): f1score(confusion_matrix[i], _) for _ in confusion_matrix[i].index},\n",
        "            \"conf_matrix\": get_matrix_vals(confusion_matrix[i]),\n",
        "            \"matrix_scores\": scores_matrix(confusion_matrix[i]).to_dict(),\n",
        "        } for i in range(len(confusion_matrix))\n",
        "    })  for name, confusion_matrix in [\n",
        "        [\"file_data_LSTM\", file_data_confusion_matrixs], # file_data(user_form) LSTM\n",
        "        [\"payload_LSTM\", payload_confusion_matrixs], # payload_data LSTM\n",
        "        [\"DNN\", DNN_confusion_matrix], # DNN \n",
        "        [\"non_weighted_Ensemble\", result_confusion_matrix_list], # DNN + file_data(user form)\n",
        "        [\"weighted_Ensemble\", result_weight_confusion_matrix_list], # DNN + file_data(user form) modified\n",
        "    ]\n",
        ")\n",
        "# for model, data\n",
        "\n",
        "# print(confusion_matrix_processData)\n",
        "import json\n",
        "print(\n",
        "    # json.dumps(confusion_matrix_processData,indent=4)\n",
        ")\n",
        "with open(\"performance_data.json\", \"w\") as f:\n",
        "    f.write(json.dumps(confusion_matrix_processData,indent=4))\n"
      ]
    },
    {
      "cell_type": "code",
      "execution_count": 63,
      "metadata": {},
      "outputs": [],
      "source": [
        "import csv\n",
        "with open(\"performance_data_type01.csv\", \"w\") as f:\n",
        "    csvwriter = csv.writer(f)\n",
        "    csvwriter.writerow([\"model\", \"attempt\", \"score_type\", \"Brute_Force\", \"SQLi\", \"File_Inclusion\", \"XSS\"])\n",
        "    for model_name, data1 in confusion_matrix_processData.items():\n",
        "        for attempt, data2 in data1.items():\n",
        "            attempt = int(attempt) + 1\n",
        "            for score_type, data3 in data2.items():\n",
        "                if score_type in [\"conf_matrix\", \"matrix_scores\"]: continue\n",
        "                csvwriter.writerow([model_name, attempt, score_type, data3[\"Password\"], data3[\"SQL_injection\"], data3[\"Uploading\"], data3[\"XSS\"]]) \n",
        "with open(\"performance_data_type02.csv\", \"w\") as f:\n",
        "    csvwriter = csv.writer(f)\n",
        "    csvwriter.writerow([\"model\", \"attempt\", \"score_type\", \"attack_name\"])\n",
        "    attack_names = {\"Password\":\"PW_Injection\", \"SQL_injection\":\"SQLi\", \"Uploading\":\"File_Inclusion\", \"XSS\":\"XSS\"}\n",
        "    for model_name, data1 in confusion_matrix_processData.items():\n",
        "        for attempt, data2 in data1.items():\n",
        "            attempt = int(attempt) + 1\n",
        "            for score_type, data3 in data2.items():\n",
        "                for attack_name, score in data3.items():\n",
        "                    if score_type in [\"conf_matrix\", \"matrix_scores\"]: continue\n",
        "                    csvwriter.writerow([model_name, attempt, score_type, attack_names[attack_name],score]) \n",
        "with open(\"performance_data_new01.csv\", \"w\") as f:\n",
        "    csvwriter = csv.writer(f)\n",
        "    csvwriter.writerow([\"model\", \"attempt\", \"score_type\", \"attack_name\", \"score\"])\n",
        "    for model_name, data1 in confusion_matrix_processData.items():\n",
        "        for attempt, data2 in data1.items():\n",
        "            conf_matrix = data2[\"conf_matrix\"]\n",
        "            scores = data2[\"matrix_scores\"]\n",
        "            for score_name, attack_value_dict in scores.items():\n",
        "                for attack_name, score_val in attack_value_dict.items():\n",
        "                    csvwriter.writerow([model_name, attempt, score_name, attack_name, score_val])"
      ]
    },
    {
      "cell_type": "code",
      "execution_count": null,
      "metadata": {},
      "outputs": [],
      "source": [
        "PassWord_XSS_test_Y = []\n",
        "PassWord_XSS_fit_Y = []\n",
        "for pred, test in zip(result, test_Y):\n",
        "    if not (test[1] + test[2]):\n",
        "        PassWord_XSS_test_Y.append(test)\n",
        "        PassWord_XSS_fit_Y.append(pred)\n"
      ]
    },
    {
      "cell_type": "code",
      "execution_count": null,
      "metadata": {},
      "outputs": [
        {
          "data": {
            "text/plain": [
              "(0.990989587375283, 0.9592054226068734, 0.9741960846502298)"
            ]
          },
          "execution_count": 105,
          "metadata": {},
          "output_type": "execute_result"
        }
      ],
      "source": [
        "precision_score(np.argmax(PassWord_XSS_test_Y, axis=1), np.argmax(PassWord_XSS_fit_Y, axis=1), average=\"macro\"),\\\n",
        "    recall_score(np.argmax(PassWord_XSS_test_Y, axis=1), np.argmax(PassWord_XSS_fit_Y, axis=1), average=\"macro\"), \\\n",
        "        f1_score(np.argmax(PassWord_XSS_test_Y, axis=1), np.argmax(PassWord_XSS_fit_Y, axis=1), average=\"macro\")"
      ]
    },
    {
      "cell_type": "code",
      "execution_count": 73,
      "metadata": {},
      "outputs": [
        {
          "name": "stdout",
          "output_type": "stream",
          "text": [
            "INFO:tensorflow:Unsupported signature for serialization: ((TensorSpec(shape=(23, 4196), dtype=tf.float32, name='gradient'), <tensorflow.python.framework.func_graph.UnknownArgument object at 0x7f230e7c2e20>, 139788544170064), {}).\n"
          ]
        },
        {
          "name": "stderr",
          "output_type": "stream",
          "text": [
            "INFO:tensorflow:Unsupported signature for serialization: ((TensorSpec(shape=(23, 4196), dtype=tf.float32, name='gradient'), <tensorflow.python.framework.func_graph.UnknownArgument object at 0x7f230e7c2e20>, 139788544170064), {}).\n"
          ]
        },
        {
          "name": "stdout",
          "output_type": "stream",
          "text": [
            "INFO:tensorflow:Unsupported signature for serialization: ((TensorSpec(shape=(4196,), dtype=tf.float32, name='gradient'), <tensorflow.python.framework.func_graph.UnknownArgument object at 0x7f230e7da3d0>, 139788544168864), {}).\n"
          ]
        },
        {
          "name": "stderr",
          "output_type": "stream",
          "text": [
            "INFO:tensorflow:Unsupported signature for serialization: ((TensorSpec(shape=(4196,), dtype=tf.float32, name='gradient'), <tensorflow.python.framework.func_graph.UnknownArgument object at 0x7f230e7da3d0>, 139788544168864), {}).\n"
          ]
        },
        {
          "name": "stdout",
          "output_type": "stream",
          "text": [
            "INFO:tensorflow:Unsupported signature for serialization: ((TensorSpec(shape=(4196, 512), dtype=tf.float32, name='gradient'), <tensorflow.python.framework.func_graph.UnknownArgument object at 0x7f230e7e3340>, 139788544596528), {}).\n"
          ]
        },
        {
          "name": "stderr",
          "output_type": "stream",
          "text": [
            "INFO:tensorflow:Unsupported signature for serialization: ((TensorSpec(shape=(4196, 512), dtype=tf.float32, name='gradient'), <tensorflow.python.framework.func_graph.UnknownArgument object at 0x7f230e7e3340>, 139788544596528), {}).\n"
          ]
        },
        {
          "name": "stdout",
          "output_type": "stream",
          "text": [
            "INFO:tensorflow:Unsupported signature for serialization: ((TensorSpec(shape=(512,), dtype=tf.float32, name='gradient'), <tensorflow.python.framework.func_graph.UnknownArgument object at 0x7f230e7f3310>, 139788544595488), {}).\n"
          ]
        },
        {
          "name": "stderr",
          "output_type": "stream",
          "text": [
            "INFO:tensorflow:Unsupported signature for serialization: ((TensorSpec(shape=(512,), dtype=tf.float32, name='gradient'), <tensorflow.python.framework.func_graph.UnknownArgument object at 0x7f230e7f3310>, 139788544595488), {}).\n"
          ]
        },
        {
          "name": "stdout",
          "output_type": "stream",
          "text": [
            "INFO:tensorflow:Unsupported signature for serialization: ((TensorSpec(shape=(512, 512), dtype=tf.float32, name='gradient'), <tensorflow.python.framework.func_graph.UnknownArgument object at 0x7f230e782280>, 139788544433568), {}).\n"
          ]
        },
        {
          "name": "stderr",
          "output_type": "stream",
          "text": [
            "INFO:tensorflow:Unsupported signature for serialization: ((TensorSpec(shape=(512, 512), dtype=tf.float32, name='gradient'), <tensorflow.python.framework.func_graph.UnknownArgument object at 0x7f230e782280>, 139788544433568), {}).\n"
          ]
        },
        {
          "name": "stdout",
          "output_type": "stream",
          "text": [
            "INFO:tensorflow:Unsupported signature for serialization: ((TensorSpec(shape=(512,), dtype=tf.float32, name='gradient'), <tensorflow.python.framework.func_graph.UnknownArgument object at 0x7f230e799250>, 139788544433888), {}).\n"
          ]
        },
        {
          "name": "stderr",
          "output_type": "stream",
          "text": [
            "INFO:tensorflow:Unsupported signature for serialization: ((TensorSpec(shape=(512,), dtype=tf.float32, name='gradient'), <tensorflow.python.framework.func_graph.UnknownArgument object at 0x7f230e799250>, 139788544433888), {}).\n"
          ]
        },
        {
          "name": "stdout",
          "output_type": "stream",
          "text": [
            "INFO:tensorflow:Unsupported signature for serialization: ((TensorSpec(shape=(512, 512), dtype=tf.float32, name='gradient'), <tensorflow.python.framework.func_graph.UnknownArgument object at 0x7f230e7ab1c0>, 139788544596688), {}).\n"
          ]
        },
        {
          "name": "stderr",
          "output_type": "stream",
          "text": [
            "INFO:tensorflow:Unsupported signature for serialization: ((TensorSpec(shape=(512, 512), dtype=tf.float32, name='gradient'), <tensorflow.python.framework.func_graph.UnknownArgument object at 0x7f230e7ab1c0>, 139788544596688), {}).\n"
          ]
        },
        {
          "name": "stdout",
          "output_type": "stream",
          "text": [
            "INFO:tensorflow:Unsupported signature for serialization: ((TensorSpec(shape=(512,), dtype=tf.float32, name='gradient'), <tensorflow.python.framework.func_graph.UnknownArgument object at 0x7f230e7ab880>, 139788544593968), {}).\n"
          ]
        },
        {
          "name": "stderr",
          "output_type": "stream",
          "text": [
            "INFO:tensorflow:Unsupported signature for serialization: ((TensorSpec(shape=(512,), dtype=tf.float32, name='gradient'), <tensorflow.python.framework.func_graph.UnknownArgument object at 0x7f230e7ab880>, 139788544593968), {}).\n"
          ]
        },
        {
          "name": "stdout",
          "output_type": "stream",
          "text": [
            "INFO:tensorflow:Unsupported signature for serialization: ((TensorSpec(shape=(512, 512), dtype=tf.float32, name='gradient'), <tensorflow.python.framework.func_graph.UnknownArgument object at 0x7f230e7b9940>, 139788544680624), {}).\n"
          ]
        },
        {
          "name": "stderr",
          "output_type": "stream",
          "text": [
            "INFO:tensorflow:Unsupported signature for serialization: ((TensorSpec(shape=(512, 512), dtype=tf.float32, name='gradient'), <tensorflow.python.framework.func_graph.UnknownArgument object at 0x7f230e7b9940>, 139788544680624), {}).\n"
          ]
        },
        {
          "name": "stdout",
          "output_type": "stream",
          "text": [
            "INFO:tensorflow:Unsupported signature for serialization: ((TensorSpec(shape=(512,), dtype=tf.float32, name='gradient'), <tensorflow.python.framework.func_graph.UnknownArgument object at 0x7f230e74e910>, 139788544680864), {}).\n"
          ]
        },
        {
          "name": "stderr",
          "output_type": "stream",
          "text": [
            "INFO:tensorflow:Unsupported signature for serialization: ((TensorSpec(shape=(512,), dtype=tf.float32, name='gradient'), <tensorflow.python.framework.func_graph.UnknownArgument object at 0x7f230e74e910>, 139788544680864), {}).\n"
          ]
        },
        {
          "name": "stdout",
          "output_type": "stream",
          "text": [
            "INFO:tensorflow:Unsupported signature for serialization: ((TensorSpec(shape=(512, 512), dtype=tf.float32, name='gradient'), <tensorflow.python.framework.func_graph.UnknownArgument object at 0x7f230e762880>, 139788544328768), {}).\n"
          ]
        },
        {
          "name": "stderr",
          "output_type": "stream",
          "text": [
            "INFO:tensorflow:Unsupported signature for serialization: ((TensorSpec(shape=(512, 512), dtype=tf.float32, name='gradient'), <tensorflow.python.framework.func_graph.UnknownArgument object at 0x7f230e762880>, 139788544328768), {}).\n"
          ]
        },
        {
          "name": "stdout",
          "output_type": "stream",
          "text": [
            "INFO:tensorflow:Unsupported signature for serialization: ((TensorSpec(shape=(512,), dtype=tf.float32, name='gradient'), <tensorflow.python.framework.func_graph.UnknownArgument object at 0x7f230e772850>, 139788544328688), {}).\n"
          ]
        },
        {
          "name": "stderr",
          "output_type": "stream",
          "text": [
            "INFO:tensorflow:Unsupported signature for serialization: ((TensorSpec(shape=(512,), dtype=tf.float32, name='gradient'), <tensorflow.python.framework.func_graph.UnknownArgument object at 0x7f230e772850>, 139788544328688), {}).\n"
          ]
        },
        {
          "name": "stdout",
          "output_type": "stream",
          "text": [
            "INFO:tensorflow:Unsupported signature for serialization: ((TensorSpec(shape=(512, 512), dtype=tf.float32, name='gradient'), <tensorflow.python.framework.func_graph.UnknownArgument object at 0x7f230e7067c0>, 139788544681264), {}).\n"
          ]
        },
        {
          "name": "stderr",
          "output_type": "stream",
          "text": [
            "INFO:tensorflow:Unsupported signature for serialization: ((TensorSpec(shape=(512, 512), dtype=tf.float32, name='gradient'), <tensorflow.python.framework.func_graph.UnknownArgument object at 0x7f230e7067c0>, 139788544681264), {}).\n"
          ]
        },
        {
          "name": "stdout",
          "output_type": "stream",
          "text": [
            "INFO:tensorflow:Unsupported signature for serialization: ((TensorSpec(shape=(512,), dtype=tf.float32, name='gradient'), <tensorflow.python.framework.func_graph.UnknownArgument object at 0x7f230e716790>, 139788544681184), {}).\n"
          ]
        },
        {
          "name": "stderr",
          "output_type": "stream",
          "text": [
            "INFO:tensorflow:Unsupported signature for serialization: ((TensorSpec(shape=(512,), dtype=tf.float32, name='gradient'), <tensorflow.python.framework.func_graph.UnknownArgument object at 0x7f230e716790>, 139788544681184), {}).\n"
          ]
        },
        {
          "name": "stdout",
          "output_type": "stream",
          "text": [
            "INFO:tensorflow:Unsupported signature for serialization: ((TensorSpec(shape=(512, 4), dtype=tf.float32, name='gradient'), <tensorflow.python.framework.func_graph.UnknownArgument object at 0x7f230e72c700>, 139788544330688), {}).\n"
          ]
        },
        {
          "name": "stderr",
          "output_type": "stream",
          "text": [
            "INFO:tensorflow:Unsupported signature for serialization: ((TensorSpec(shape=(512, 4), dtype=tf.float32, name='gradient'), <tensorflow.python.framework.func_graph.UnknownArgument object at 0x7f230e72c700>, 139788544330688), {}).\n"
          ]
        },
        {
          "name": "stdout",
          "output_type": "stream",
          "text": [
            "INFO:tensorflow:Unsupported signature for serialization: ((TensorSpec(shape=(4,), dtype=tf.float32, name='gradient'), <tensorflow.python.framework.func_graph.UnknownArgument object at 0x7f230e73d6d0>, 139788544330368), {}).\n"
          ]
        },
        {
          "name": "stderr",
          "output_type": "stream",
          "text": [
            "INFO:tensorflow:Unsupported signature for serialization: ((TensorSpec(shape=(4,), dtype=tf.float32, name='gradient'), <tensorflow.python.framework.func_graph.UnknownArgument object at 0x7f230e73d6d0>, 139788544330368), {}).\n"
          ]
        },
        {
          "name": "stdout",
          "output_type": "stream",
          "text": [
            "INFO:tensorflow:Unsupported signature for serialization: ((TensorSpec(shape=(23, 4196), dtype=tf.float32, name='gradient'), <tensorflow.python.framework.func_graph.UnknownArgument object at 0x7f230e7c2e20>, 139788544170064), {}).\n"
          ]
        },
        {
          "name": "stderr",
          "output_type": "stream",
          "text": [
            "INFO:tensorflow:Unsupported signature for serialization: ((TensorSpec(shape=(23, 4196), dtype=tf.float32, name='gradient'), <tensorflow.python.framework.func_graph.UnknownArgument object at 0x7f230e7c2e20>, 139788544170064), {}).\n"
          ]
        },
        {
          "name": "stdout",
          "output_type": "stream",
          "text": [
            "INFO:tensorflow:Unsupported signature for serialization: ((TensorSpec(shape=(4196,), dtype=tf.float32, name='gradient'), <tensorflow.python.framework.func_graph.UnknownArgument object at 0x7f230e7da3d0>, 139788544168864), {}).\n"
          ]
        },
        {
          "name": "stderr",
          "output_type": "stream",
          "text": [
            "INFO:tensorflow:Unsupported signature for serialization: ((TensorSpec(shape=(4196,), dtype=tf.float32, name='gradient'), <tensorflow.python.framework.func_graph.UnknownArgument object at 0x7f230e7da3d0>, 139788544168864), {}).\n"
          ]
        },
        {
          "name": "stdout",
          "output_type": "stream",
          "text": [
            "INFO:tensorflow:Unsupported signature for serialization: ((TensorSpec(shape=(4196, 512), dtype=tf.float32, name='gradient'), <tensorflow.python.framework.func_graph.UnknownArgument object at 0x7f230e7e3340>, 139788544596528), {}).\n"
          ]
        },
        {
          "name": "stderr",
          "output_type": "stream",
          "text": [
            "INFO:tensorflow:Unsupported signature for serialization: ((TensorSpec(shape=(4196, 512), dtype=tf.float32, name='gradient'), <tensorflow.python.framework.func_graph.UnknownArgument object at 0x7f230e7e3340>, 139788544596528), {}).\n"
          ]
        },
        {
          "name": "stdout",
          "output_type": "stream",
          "text": [
            "INFO:tensorflow:Unsupported signature for serialization: ((TensorSpec(shape=(512,), dtype=tf.float32, name='gradient'), <tensorflow.python.framework.func_graph.UnknownArgument object at 0x7f230e7f3310>, 139788544595488), {}).\n"
          ]
        },
        {
          "name": "stderr",
          "output_type": "stream",
          "text": [
            "INFO:tensorflow:Unsupported signature for serialization: ((TensorSpec(shape=(512,), dtype=tf.float32, name='gradient'), <tensorflow.python.framework.func_graph.UnknownArgument object at 0x7f230e7f3310>, 139788544595488), {}).\n"
          ]
        },
        {
          "name": "stdout",
          "output_type": "stream",
          "text": [
            "INFO:tensorflow:Unsupported signature for serialization: ((TensorSpec(shape=(512, 512), dtype=tf.float32, name='gradient'), <tensorflow.python.framework.func_graph.UnknownArgument object at 0x7f230e782280>, 139788544433568), {}).\n"
          ]
        },
        {
          "name": "stderr",
          "output_type": "stream",
          "text": [
            "INFO:tensorflow:Unsupported signature for serialization: ((TensorSpec(shape=(512, 512), dtype=tf.float32, name='gradient'), <tensorflow.python.framework.func_graph.UnknownArgument object at 0x7f230e782280>, 139788544433568), {}).\n"
          ]
        },
        {
          "name": "stdout",
          "output_type": "stream",
          "text": [
            "INFO:tensorflow:Unsupported signature for serialization: ((TensorSpec(shape=(512,), dtype=tf.float32, name='gradient'), <tensorflow.python.framework.func_graph.UnknownArgument object at 0x7f230e799250>, 139788544433888), {}).\n"
          ]
        },
        {
          "name": "stderr",
          "output_type": "stream",
          "text": [
            "INFO:tensorflow:Unsupported signature for serialization: ((TensorSpec(shape=(512,), dtype=tf.float32, name='gradient'), <tensorflow.python.framework.func_graph.UnknownArgument object at 0x7f230e799250>, 139788544433888), {}).\n"
          ]
        },
        {
          "name": "stdout",
          "output_type": "stream",
          "text": [
            "INFO:tensorflow:Unsupported signature for serialization: ((TensorSpec(shape=(512, 512), dtype=tf.float32, name='gradient'), <tensorflow.python.framework.func_graph.UnknownArgument object at 0x7f230e7ab1c0>, 139788544596688), {}).\n"
          ]
        },
        {
          "name": "stderr",
          "output_type": "stream",
          "text": [
            "INFO:tensorflow:Unsupported signature for serialization: ((TensorSpec(shape=(512, 512), dtype=tf.float32, name='gradient'), <tensorflow.python.framework.func_graph.UnknownArgument object at 0x7f230e7ab1c0>, 139788544596688), {}).\n"
          ]
        },
        {
          "name": "stdout",
          "output_type": "stream",
          "text": [
            "INFO:tensorflow:Unsupported signature for serialization: ((TensorSpec(shape=(512,), dtype=tf.float32, name='gradient'), <tensorflow.python.framework.func_graph.UnknownArgument object at 0x7f230e7ab880>, 139788544593968), {}).\n"
          ]
        },
        {
          "name": "stderr",
          "output_type": "stream",
          "text": [
            "INFO:tensorflow:Unsupported signature for serialization: ((TensorSpec(shape=(512,), dtype=tf.float32, name='gradient'), <tensorflow.python.framework.func_graph.UnknownArgument object at 0x7f230e7ab880>, 139788544593968), {}).\n"
          ]
        },
        {
          "name": "stdout",
          "output_type": "stream",
          "text": [
            "INFO:tensorflow:Unsupported signature for serialization: ((TensorSpec(shape=(512, 512), dtype=tf.float32, name='gradient'), <tensorflow.python.framework.func_graph.UnknownArgument object at 0x7f230e7b9940>, 139788544680624), {}).\n"
          ]
        },
        {
          "name": "stderr",
          "output_type": "stream",
          "text": [
            "INFO:tensorflow:Unsupported signature for serialization: ((TensorSpec(shape=(512, 512), dtype=tf.float32, name='gradient'), <tensorflow.python.framework.func_graph.UnknownArgument object at 0x7f230e7b9940>, 139788544680624), {}).\n"
          ]
        },
        {
          "name": "stdout",
          "output_type": "stream",
          "text": [
            "INFO:tensorflow:Unsupported signature for serialization: ((TensorSpec(shape=(512,), dtype=tf.float32, name='gradient'), <tensorflow.python.framework.func_graph.UnknownArgument object at 0x7f230e74e910>, 139788544680864), {}).\n"
          ]
        },
        {
          "name": "stderr",
          "output_type": "stream",
          "text": [
            "INFO:tensorflow:Unsupported signature for serialization: ((TensorSpec(shape=(512,), dtype=tf.float32, name='gradient'), <tensorflow.python.framework.func_graph.UnknownArgument object at 0x7f230e74e910>, 139788544680864), {}).\n"
          ]
        },
        {
          "name": "stdout",
          "output_type": "stream",
          "text": [
            "INFO:tensorflow:Unsupported signature for serialization: ((TensorSpec(shape=(512, 512), dtype=tf.float32, name='gradient'), <tensorflow.python.framework.func_graph.UnknownArgument object at 0x7f230e762880>, 139788544328768), {}).\n"
          ]
        },
        {
          "name": "stderr",
          "output_type": "stream",
          "text": [
            "INFO:tensorflow:Unsupported signature for serialization: ((TensorSpec(shape=(512, 512), dtype=tf.float32, name='gradient'), <tensorflow.python.framework.func_graph.UnknownArgument object at 0x7f230e762880>, 139788544328768), {}).\n"
          ]
        },
        {
          "name": "stdout",
          "output_type": "stream",
          "text": [
            "INFO:tensorflow:Unsupported signature for serialization: ((TensorSpec(shape=(512,), dtype=tf.float32, name='gradient'), <tensorflow.python.framework.func_graph.UnknownArgument object at 0x7f230e772850>, 139788544328688), {}).\n"
          ]
        },
        {
          "name": "stderr",
          "output_type": "stream",
          "text": [
            "INFO:tensorflow:Unsupported signature for serialization: ((TensorSpec(shape=(512,), dtype=tf.float32, name='gradient'), <tensorflow.python.framework.func_graph.UnknownArgument object at 0x7f230e772850>, 139788544328688), {}).\n"
          ]
        },
        {
          "name": "stdout",
          "output_type": "stream",
          "text": [
            "INFO:tensorflow:Unsupported signature for serialization: ((TensorSpec(shape=(512, 512), dtype=tf.float32, name='gradient'), <tensorflow.python.framework.func_graph.UnknownArgument object at 0x7f230e7067c0>, 139788544681264), {}).\n"
          ]
        },
        {
          "name": "stderr",
          "output_type": "stream",
          "text": [
            "INFO:tensorflow:Unsupported signature for serialization: ((TensorSpec(shape=(512, 512), dtype=tf.float32, name='gradient'), <tensorflow.python.framework.func_graph.UnknownArgument object at 0x7f230e7067c0>, 139788544681264), {}).\n"
          ]
        },
        {
          "name": "stdout",
          "output_type": "stream",
          "text": [
            "INFO:tensorflow:Unsupported signature for serialization: ((TensorSpec(shape=(512,), dtype=tf.float32, name='gradient'), <tensorflow.python.framework.func_graph.UnknownArgument object at 0x7f230e716790>, 139788544681184), {}).\n"
          ]
        },
        {
          "name": "stderr",
          "output_type": "stream",
          "text": [
            "INFO:tensorflow:Unsupported signature for serialization: ((TensorSpec(shape=(512,), dtype=tf.float32, name='gradient'), <tensorflow.python.framework.func_graph.UnknownArgument object at 0x7f230e716790>, 139788544681184), {}).\n"
          ]
        },
        {
          "name": "stdout",
          "output_type": "stream",
          "text": [
            "INFO:tensorflow:Unsupported signature for serialization: ((TensorSpec(shape=(512, 4), dtype=tf.float32, name='gradient'), <tensorflow.python.framework.func_graph.UnknownArgument object at 0x7f230e72c700>, 139788544330688), {}).\n"
          ]
        },
        {
          "name": "stderr",
          "output_type": "stream",
          "text": [
            "INFO:tensorflow:Unsupported signature for serialization: ((TensorSpec(shape=(512, 4), dtype=tf.float32, name='gradient'), <tensorflow.python.framework.func_graph.UnknownArgument object at 0x7f230e72c700>, 139788544330688), {}).\n"
          ]
        },
        {
          "name": "stdout",
          "output_type": "stream",
          "text": [
            "INFO:tensorflow:Unsupported signature for serialization: ((TensorSpec(shape=(4,), dtype=tf.float32, name='gradient'), <tensorflow.python.framework.func_graph.UnknownArgument object at 0x7f230e73d6d0>, 139788544330368), {}).\n"
          ]
        },
        {
          "name": "stderr",
          "output_type": "stream",
          "text": [
            "INFO:tensorflow:Unsupported signature for serialization: ((TensorSpec(shape=(4,), dtype=tf.float32, name='gradient'), <tensorflow.python.framework.func_graph.UnknownArgument object at 0x7f230e73d6d0>, 139788544330368), {}).\n"
          ]
        },
        {
          "name": "stdout",
          "output_type": "stream",
          "text": [
            "INFO:tensorflow:Assets written to: models/DNN/attempt_01/modelData/assets\n"
          ]
        },
        {
          "name": "stderr",
          "output_type": "stream",
          "text": [
            "INFO:tensorflow:Assets written to: models/DNN/attempt_01/modelData/assets\n"
          ]
        },
        {
          "name": "stdout",
          "output_type": "stream",
          "text": [
            "INFO:tensorflow:Unsupported signature for serialization: ((TensorSpec(shape=(23, 4196), dtype=tf.float32, name='gradient'), <tensorflow.python.framework.func_graph.UnknownArgument object at 0x7f225d6f9640>, 139788544170064), {}).\n"
          ]
        },
        {
          "name": "stderr",
          "output_type": "stream",
          "text": [
            "INFO:tensorflow:Unsupported signature for serialization: ((TensorSpec(shape=(23, 4196), dtype=tf.float32, name='gradient'), <tensorflow.python.framework.func_graph.UnknownArgument object at 0x7f225d6f9640>, 139788544170064), {}).\n"
          ]
        },
        {
          "name": "stdout",
          "output_type": "stream",
          "text": [
            "INFO:tensorflow:Unsupported signature for serialization: ((TensorSpec(shape=(4196,), dtype=tf.float32, name='gradient'), <tensorflow.python.framework.func_graph.UnknownArgument object at 0x7f225d683bb0>, 139788544168864), {}).\n"
          ]
        },
        {
          "name": "stderr",
          "output_type": "stream",
          "text": [
            "INFO:tensorflow:Unsupported signature for serialization: ((TensorSpec(shape=(4196,), dtype=tf.float32, name='gradient'), <tensorflow.python.framework.func_graph.UnknownArgument object at 0x7f225d683bb0>, 139788544168864), {}).\n"
          ]
        },
        {
          "name": "stdout",
          "output_type": "stream",
          "text": [
            "INFO:tensorflow:Unsupported signature for serialization: ((TensorSpec(shape=(4196, 512), dtype=tf.float32, name='gradient'), <tensorflow.python.framework.func_graph.UnknownArgument object at 0x7f225d692b20>, 139788544596528), {}).\n"
          ]
        },
        {
          "name": "stderr",
          "output_type": "stream",
          "text": [
            "INFO:tensorflow:Unsupported signature for serialization: ((TensorSpec(shape=(4196, 512), dtype=tf.float32, name='gradient'), <tensorflow.python.framework.func_graph.UnknownArgument object at 0x7f225d692b20>, 139788544596528), {}).\n"
          ]
        },
        {
          "name": "stdout",
          "output_type": "stream",
          "text": [
            "INFO:tensorflow:Unsupported signature for serialization: ((TensorSpec(shape=(512,), dtype=tf.float32, name='gradient'), <tensorflow.python.framework.func_graph.UnknownArgument object at 0x7f225d6aaaf0>, 139788544595488), {}).\n"
          ]
        },
        {
          "name": "stderr",
          "output_type": "stream",
          "text": [
            "INFO:tensorflow:Unsupported signature for serialization: ((TensorSpec(shape=(512,), dtype=tf.float32, name='gradient'), <tensorflow.python.framework.func_graph.UnknownArgument object at 0x7f225d6aaaf0>, 139788544595488), {}).\n"
          ]
        },
        {
          "name": "stdout",
          "output_type": "stream",
          "text": [
            "INFO:tensorflow:Unsupported signature for serialization: ((TensorSpec(shape=(512, 512), dtype=tf.float32, name='gradient'), <tensorflow.python.framework.func_graph.UnknownArgument object at 0x7f225d6b7430>, 139788544433568), {}).\n"
          ]
        },
        {
          "name": "stderr",
          "output_type": "stream",
          "text": [
            "INFO:tensorflow:Unsupported signature for serialization: ((TensorSpec(shape=(512, 512), dtype=tf.float32, name='gradient'), <tensorflow.python.framework.func_graph.UnknownArgument object at 0x7f225d6b7430>, 139788544433568), {}).\n"
          ]
        },
        {
          "name": "stdout",
          "output_type": "stream",
          "text": [
            "INFO:tensorflow:Unsupported signature for serialization: ((TensorSpec(shape=(512,), dtype=tf.float32, name='gradient'), <tensorflow.python.framework.func_graph.UnknownArgument object at 0x7f225d651250>, 139788544433888), {}).\n"
          ]
        },
        {
          "name": "stderr",
          "output_type": "stream",
          "text": [
            "INFO:tensorflow:Unsupported signature for serialization: ((TensorSpec(shape=(512,), dtype=tf.float32, name='gradient'), <tensorflow.python.framework.func_graph.UnknownArgument object at 0x7f225d651250>, 139788544433888), {}).\n"
          ]
        },
        {
          "name": "stdout",
          "output_type": "stream",
          "text": [
            "INFO:tensorflow:Unsupported signature for serialization: ((TensorSpec(shape=(512, 512), dtype=tf.float32, name='gradient'), <tensorflow.python.framework.func_graph.UnknownArgument object at 0x7f225d663160>, 139788544596688), {}).\n"
          ]
        },
        {
          "name": "stderr",
          "output_type": "stream",
          "text": [
            "INFO:tensorflow:Unsupported signature for serialization: ((TensorSpec(shape=(512, 512), dtype=tf.float32, name='gradient'), <tensorflow.python.framework.func_graph.UnknownArgument object at 0x7f225d663160>, 139788544596688), {}).\n"
          ]
        },
        {
          "name": "stdout",
          "output_type": "stream",
          "text": [
            "INFO:tensorflow:Unsupported signature for serialization: ((TensorSpec(shape=(512,), dtype=tf.float32, name='gradient'), <tensorflow.python.framework.func_graph.UnknownArgument object at 0x7f225d6770d0>, 139788544593968), {}).\n"
          ]
        },
        {
          "name": "stderr",
          "output_type": "stream",
          "text": [
            "INFO:tensorflow:Unsupported signature for serialization: ((TensorSpec(shape=(512,), dtype=tf.float32, name='gradient'), <tensorflow.python.framework.func_graph.UnknownArgument object at 0x7f225d6770d0>, 139788544593968), {}).\n"
          ]
        },
        {
          "name": "stdout",
          "output_type": "stream",
          "text": [
            "INFO:tensorflow:Unsupported signature for serialization: ((TensorSpec(shape=(512, 512), dtype=tf.float32, name='gradient'), <tensorflow.python.framework.func_graph.UnknownArgument object at 0x7f225d677f10>, 139788544680624), {}).\n"
          ]
        },
        {
          "name": "stderr",
          "output_type": "stream",
          "text": [
            "INFO:tensorflow:Unsupported signature for serialization: ((TensorSpec(shape=(512, 512), dtype=tf.float32, name='gradient'), <tensorflow.python.framework.func_graph.UnknownArgument object at 0x7f225d677f10>, 139788544680624), {}).\n"
          ]
        },
        {
          "name": "stdout",
          "output_type": "stream",
          "text": [
            "INFO:tensorflow:Unsupported signature for serialization: ((TensorSpec(shape=(512,), dtype=tf.float32, name='gradient'), <tensorflow.python.framework.func_graph.UnknownArgument object at 0x7f225d607eb0>, 139788544680864), {}).\n"
          ]
        },
        {
          "name": "stderr",
          "output_type": "stream",
          "text": [
            "INFO:tensorflow:Unsupported signature for serialization: ((TensorSpec(shape=(512,), dtype=tf.float32, name='gradient'), <tensorflow.python.framework.func_graph.UnknownArgument object at 0x7f225d607eb0>, 139788544680864), {}).\n"
          ]
        },
        {
          "name": "stdout",
          "output_type": "stream",
          "text": [
            "INFO:tensorflow:Unsupported signature for serialization: ((TensorSpec(shape=(512, 512), dtype=tf.float32, name='gradient'), <tensorflow.python.framework.func_graph.UnknownArgument object at 0x7f225d61cdc0>, 139788544328768), {}).\n"
          ]
        },
        {
          "name": "stderr",
          "output_type": "stream",
          "text": [
            "INFO:tensorflow:Unsupported signature for serialization: ((TensorSpec(shape=(512, 512), dtype=tf.float32, name='gradient'), <tensorflow.python.framework.func_graph.UnknownArgument object at 0x7f225d61cdc0>, 139788544328768), {}).\n"
          ]
        },
        {
          "name": "stdout",
          "output_type": "stream",
          "text": [
            "INFO:tensorflow:Unsupported signature for serialization: ((TensorSpec(shape=(512,), dtype=tf.float32, name='gradient'), <tensorflow.python.framework.func_graph.UnknownArgument object at 0x7f225d62fd30>, 139788544328688), {}).\n"
          ]
        },
        {
          "name": "stderr",
          "output_type": "stream",
          "text": [
            "INFO:tensorflow:Unsupported signature for serialization: ((TensorSpec(shape=(512,), dtype=tf.float32, name='gradient'), <tensorflow.python.framework.func_graph.UnknownArgument object at 0x7f225d62fd30>, 139788544328688), {}).\n"
          ]
        },
        {
          "name": "stdout",
          "output_type": "stream",
          "text": [
            "INFO:tensorflow:Unsupported signature for serialization: ((TensorSpec(shape=(512, 512), dtype=tf.float32, name='gradient'), <tensorflow.python.framework.func_graph.UnknownArgument object at 0x7f225d5c3c40>, 139788544681264), {}).\n"
          ]
        },
        {
          "name": "stderr",
          "output_type": "stream",
          "text": [
            "INFO:tensorflow:Unsupported signature for serialization: ((TensorSpec(shape=(512, 512), dtype=tf.float32, name='gradient'), <tensorflow.python.framework.func_graph.UnknownArgument object at 0x7f225d5c3c40>, 139788544681264), {}).\n"
          ]
        },
        {
          "name": "stdout",
          "output_type": "stream",
          "text": [
            "INFO:tensorflow:Unsupported signature for serialization: ((TensorSpec(shape=(512,), dtype=tf.float32, name='gradient'), <tensorflow.python.framework.func_graph.UnknownArgument object at 0x7f225d5d6bb0>, 139788544681184), {}).\n"
          ]
        },
        {
          "name": "stderr",
          "output_type": "stream",
          "text": [
            "INFO:tensorflow:Unsupported signature for serialization: ((TensorSpec(shape=(512,), dtype=tf.float32, name='gradient'), <tensorflow.python.framework.func_graph.UnknownArgument object at 0x7f225d5d6bb0>, 139788544681184), {}).\n"
          ]
        },
        {
          "name": "stdout",
          "output_type": "stream",
          "text": [
            "INFO:tensorflow:Unsupported signature for serialization: ((TensorSpec(shape=(512, 4), dtype=tf.float32, name='gradient'), <tensorflow.python.framework.func_graph.UnknownArgument object at 0x7f225d5e8ac0>, 139788544330688), {}).\n"
          ]
        },
        {
          "name": "stderr",
          "output_type": "stream",
          "text": [
            "INFO:tensorflow:Unsupported signature for serialization: ((TensorSpec(shape=(512, 4), dtype=tf.float32, name='gradient'), <tensorflow.python.framework.func_graph.UnknownArgument object at 0x7f225d5e8ac0>, 139788544330688), {}).\n"
          ]
        },
        {
          "name": "stdout",
          "output_type": "stream",
          "text": [
            "INFO:tensorflow:Unsupported signature for serialization: ((TensorSpec(shape=(4,), dtype=tf.float32, name='gradient'), <tensorflow.python.framework.func_graph.UnknownArgument object at 0x7f225d57ea30>, 139788544330368), {}).\n"
          ]
        },
        {
          "name": "stderr",
          "output_type": "stream",
          "text": [
            "INFO:tensorflow:Unsupported signature for serialization: ((TensorSpec(shape=(4,), dtype=tf.float32, name='gradient'), <tensorflow.python.framework.func_graph.UnknownArgument object at 0x7f225d57ea30>, 139788544330368), {}).\n"
          ]
        },
        {
          "name": "stdout",
          "output_type": "stream",
          "text": [
            "INFO:tensorflow:Unsupported signature for serialization: ((TensorSpec(shape=(23, 4196), dtype=tf.float32, name='gradient'), <tensorflow.python.framework.func_graph.UnknownArgument object at 0x7f225d6f9640>, 139788544170064), {}).\n"
          ]
        },
        {
          "name": "stderr",
          "output_type": "stream",
          "text": [
            "INFO:tensorflow:Unsupported signature for serialization: ((TensorSpec(shape=(23, 4196), dtype=tf.float32, name='gradient'), <tensorflow.python.framework.func_graph.UnknownArgument object at 0x7f225d6f9640>, 139788544170064), {}).\n"
          ]
        },
        {
          "name": "stdout",
          "output_type": "stream",
          "text": [
            "INFO:tensorflow:Unsupported signature for serialization: ((TensorSpec(shape=(4196,), dtype=tf.float32, name='gradient'), <tensorflow.python.framework.func_graph.UnknownArgument object at 0x7f225d683bb0>, 139788544168864), {}).\n"
          ]
        },
        {
          "name": "stderr",
          "output_type": "stream",
          "text": [
            "INFO:tensorflow:Unsupported signature for serialization: ((TensorSpec(shape=(4196,), dtype=tf.float32, name='gradient'), <tensorflow.python.framework.func_graph.UnknownArgument object at 0x7f225d683bb0>, 139788544168864), {}).\n"
          ]
        },
        {
          "name": "stdout",
          "output_type": "stream",
          "text": [
            "INFO:tensorflow:Unsupported signature for serialization: ((TensorSpec(shape=(4196, 512), dtype=tf.float32, name='gradient'), <tensorflow.python.framework.func_graph.UnknownArgument object at 0x7f225d692b20>, 139788544596528), {}).\n"
          ]
        },
        {
          "name": "stderr",
          "output_type": "stream",
          "text": [
            "INFO:tensorflow:Unsupported signature for serialization: ((TensorSpec(shape=(4196, 512), dtype=tf.float32, name='gradient'), <tensorflow.python.framework.func_graph.UnknownArgument object at 0x7f225d692b20>, 139788544596528), {}).\n"
          ]
        },
        {
          "name": "stdout",
          "output_type": "stream",
          "text": [
            "INFO:tensorflow:Unsupported signature for serialization: ((TensorSpec(shape=(512,), dtype=tf.float32, name='gradient'), <tensorflow.python.framework.func_graph.UnknownArgument object at 0x7f225d6aaaf0>, 139788544595488), {}).\n"
          ]
        },
        {
          "name": "stderr",
          "output_type": "stream",
          "text": [
            "INFO:tensorflow:Unsupported signature for serialization: ((TensorSpec(shape=(512,), dtype=tf.float32, name='gradient'), <tensorflow.python.framework.func_graph.UnknownArgument object at 0x7f225d6aaaf0>, 139788544595488), {}).\n"
          ]
        },
        {
          "name": "stdout",
          "output_type": "stream",
          "text": [
            "INFO:tensorflow:Unsupported signature for serialization: ((TensorSpec(shape=(512, 512), dtype=tf.float32, name='gradient'), <tensorflow.python.framework.func_graph.UnknownArgument object at 0x7f225d6b7430>, 139788544433568), {}).\n"
          ]
        },
        {
          "name": "stderr",
          "output_type": "stream",
          "text": [
            "INFO:tensorflow:Unsupported signature for serialization: ((TensorSpec(shape=(512, 512), dtype=tf.float32, name='gradient'), <tensorflow.python.framework.func_graph.UnknownArgument object at 0x7f225d6b7430>, 139788544433568), {}).\n"
          ]
        },
        {
          "name": "stdout",
          "output_type": "stream",
          "text": [
            "INFO:tensorflow:Unsupported signature for serialization: ((TensorSpec(shape=(512,), dtype=tf.float32, name='gradient'), <tensorflow.python.framework.func_graph.UnknownArgument object at 0x7f225d651250>, 139788544433888), {}).\n"
          ]
        },
        {
          "name": "stderr",
          "output_type": "stream",
          "text": [
            "INFO:tensorflow:Unsupported signature for serialization: ((TensorSpec(shape=(512,), dtype=tf.float32, name='gradient'), <tensorflow.python.framework.func_graph.UnknownArgument object at 0x7f225d651250>, 139788544433888), {}).\n"
          ]
        },
        {
          "name": "stdout",
          "output_type": "stream",
          "text": [
            "INFO:tensorflow:Unsupported signature for serialization: ((TensorSpec(shape=(512, 512), dtype=tf.float32, name='gradient'), <tensorflow.python.framework.func_graph.UnknownArgument object at 0x7f225d663160>, 139788544596688), {}).\n"
          ]
        },
        {
          "name": "stderr",
          "output_type": "stream",
          "text": [
            "INFO:tensorflow:Unsupported signature for serialization: ((TensorSpec(shape=(512, 512), dtype=tf.float32, name='gradient'), <tensorflow.python.framework.func_graph.UnknownArgument object at 0x7f225d663160>, 139788544596688), {}).\n"
          ]
        },
        {
          "name": "stdout",
          "output_type": "stream",
          "text": [
            "INFO:tensorflow:Unsupported signature for serialization: ((TensorSpec(shape=(512,), dtype=tf.float32, name='gradient'), <tensorflow.python.framework.func_graph.UnknownArgument object at 0x7f225d6770d0>, 139788544593968), {}).\n"
          ]
        },
        {
          "name": "stderr",
          "output_type": "stream",
          "text": [
            "INFO:tensorflow:Unsupported signature for serialization: ((TensorSpec(shape=(512,), dtype=tf.float32, name='gradient'), <tensorflow.python.framework.func_graph.UnknownArgument object at 0x7f225d6770d0>, 139788544593968), {}).\n"
          ]
        },
        {
          "name": "stdout",
          "output_type": "stream",
          "text": [
            "INFO:tensorflow:Unsupported signature for serialization: ((TensorSpec(shape=(512, 512), dtype=tf.float32, name='gradient'), <tensorflow.python.framework.func_graph.UnknownArgument object at 0x7f225d677f10>, 139788544680624), {}).\n"
          ]
        },
        {
          "name": "stderr",
          "output_type": "stream",
          "text": [
            "INFO:tensorflow:Unsupported signature for serialization: ((TensorSpec(shape=(512, 512), dtype=tf.float32, name='gradient'), <tensorflow.python.framework.func_graph.UnknownArgument object at 0x7f225d677f10>, 139788544680624), {}).\n"
          ]
        },
        {
          "name": "stdout",
          "output_type": "stream",
          "text": [
            "INFO:tensorflow:Unsupported signature for serialization: ((TensorSpec(shape=(512,), dtype=tf.float32, name='gradient'), <tensorflow.python.framework.func_graph.UnknownArgument object at 0x7f225d607eb0>, 139788544680864), {}).\n"
          ]
        },
        {
          "name": "stderr",
          "output_type": "stream",
          "text": [
            "INFO:tensorflow:Unsupported signature for serialization: ((TensorSpec(shape=(512,), dtype=tf.float32, name='gradient'), <tensorflow.python.framework.func_graph.UnknownArgument object at 0x7f225d607eb0>, 139788544680864), {}).\n"
          ]
        },
        {
          "name": "stdout",
          "output_type": "stream",
          "text": [
            "INFO:tensorflow:Unsupported signature for serialization: ((TensorSpec(shape=(512, 512), dtype=tf.float32, name='gradient'), <tensorflow.python.framework.func_graph.UnknownArgument object at 0x7f225d61cdc0>, 139788544328768), {}).\n"
          ]
        },
        {
          "name": "stderr",
          "output_type": "stream",
          "text": [
            "INFO:tensorflow:Unsupported signature for serialization: ((TensorSpec(shape=(512, 512), dtype=tf.float32, name='gradient'), <tensorflow.python.framework.func_graph.UnknownArgument object at 0x7f225d61cdc0>, 139788544328768), {}).\n"
          ]
        },
        {
          "name": "stdout",
          "output_type": "stream",
          "text": [
            "INFO:tensorflow:Unsupported signature for serialization: ((TensorSpec(shape=(512,), dtype=tf.float32, name='gradient'), <tensorflow.python.framework.func_graph.UnknownArgument object at 0x7f225d62fd30>, 139788544328688), {}).\n"
          ]
        },
        {
          "name": "stderr",
          "output_type": "stream",
          "text": [
            "INFO:tensorflow:Unsupported signature for serialization: ((TensorSpec(shape=(512,), dtype=tf.float32, name='gradient'), <tensorflow.python.framework.func_graph.UnknownArgument object at 0x7f225d62fd30>, 139788544328688), {}).\n"
          ]
        },
        {
          "name": "stdout",
          "output_type": "stream",
          "text": [
            "INFO:tensorflow:Unsupported signature for serialization: ((TensorSpec(shape=(512, 512), dtype=tf.float32, name='gradient'), <tensorflow.python.framework.func_graph.UnknownArgument object at 0x7f225d5c3c40>, 139788544681264), {}).\n"
          ]
        },
        {
          "name": "stderr",
          "output_type": "stream",
          "text": [
            "INFO:tensorflow:Unsupported signature for serialization: ((TensorSpec(shape=(512, 512), dtype=tf.float32, name='gradient'), <tensorflow.python.framework.func_graph.UnknownArgument object at 0x7f225d5c3c40>, 139788544681264), {}).\n"
          ]
        },
        {
          "name": "stdout",
          "output_type": "stream",
          "text": [
            "INFO:tensorflow:Unsupported signature for serialization: ((TensorSpec(shape=(512,), dtype=tf.float32, name='gradient'), <tensorflow.python.framework.func_graph.UnknownArgument object at 0x7f225d5d6bb0>, 139788544681184), {}).\n"
          ]
        },
        {
          "name": "stderr",
          "output_type": "stream",
          "text": [
            "INFO:tensorflow:Unsupported signature for serialization: ((TensorSpec(shape=(512,), dtype=tf.float32, name='gradient'), <tensorflow.python.framework.func_graph.UnknownArgument object at 0x7f225d5d6bb0>, 139788544681184), {}).\n"
          ]
        },
        {
          "name": "stdout",
          "output_type": "stream",
          "text": [
            "INFO:tensorflow:Unsupported signature for serialization: ((TensorSpec(shape=(512, 4), dtype=tf.float32, name='gradient'), <tensorflow.python.framework.func_graph.UnknownArgument object at 0x7f225d5e8ac0>, 139788544330688), {}).\n"
          ]
        },
        {
          "name": "stderr",
          "output_type": "stream",
          "text": [
            "INFO:tensorflow:Unsupported signature for serialization: ((TensorSpec(shape=(512, 4), dtype=tf.float32, name='gradient'), <tensorflow.python.framework.func_graph.UnknownArgument object at 0x7f225d5e8ac0>, 139788544330688), {}).\n"
          ]
        },
        {
          "name": "stdout",
          "output_type": "stream",
          "text": [
            "INFO:tensorflow:Unsupported signature for serialization: ((TensorSpec(shape=(4,), dtype=tf.float32, name='gradient'), <tensorflow.python.framework.func_graph.UnknownArgument object at 0x7f225d57ea30>, 139788544330368), {}).\n"
          ]
        },
        {
          "name": "stderr",
          "output_type": "stream",
          "text": [
            "INFO:tensorflow:Unsupported signature for serialization: ((TensorSpec(shape=(4,), dtype=tf.float32, name='gradient'), <tensorflow.python.framework.func_graph.UnknownArgument object at 0x7f225d57ea30>, 139788544330368), {}).\n"
          ]
        },
        {
          "name": "stdout",
          "output_type": "stream",
          "text": [
            "INFO:tensorflow:Assets written to: models/DNN/attempt_02/modelData/assets\n"
          ]
        },
        {
          "name": "stderr",
          "output_type": "stream",
          "text": [
            "INFO:tensorflow:Assets written to: models/DNN/attempt_02/modelData/assets\n"
          ]
        },
        {
          "name": "stdout",
          "output_type": "stream",
          "text": [
            "INFO:tensorflow:Unsupported signature for serialization: ((TensorSpec(shape=(23, 4196), dtype=tf.float32, name='gradient'), <tensorflow.python.framework.func_graph.UnknownArgument object at 0x7f22501ad610>, 139788544170064), {}).\n"
          ]
        },
        {
          "name": "stderr",
          "output_type": "stream",
          "text": [
            "INFO:tensorflow:Unsupported signature for serialization: ((TensorSpec(shape=(23, 4196), dtype=tf.float32, name='gradient'), <tensorflow.python.framework.func_graph.UnknownArgument object at 0x7f22501ad610>, 139788544170064), {}).\n"
          ]
        },
        {
          "name": "stdout",
          "output_type": "stream",
          "text": [
            "INFO:tensorflow:Unsupported signature for serialization: ((TensorSpec(shape=(4196,), dtype=tf.float32, name='gradient'), <tensorflow.python.framework.func_graph.UnknownArgument object at 0x7f22501b6b80>, 139788544168864), {}).\n"
          ]
        },
        {
          "name": "stderr",
          "output_type": "stream",
          "text": [
            "INFO:tensorflow:Unsupported signature for serialization: ((TensorSpec(shape=(4196,), dtype=tf.float32, name='gradient'), <tensorflow.python.framework.func_graph.UnknownArgument object at 0x7f22501b6b80>, 139788544168864), {}).\n"
          ]
        },
        {
          "name": "stdout",
          "output_type": "stream",
          "text": [
            "INFO:tensorflow:Unsupported signature for serialization: ((TensorSpec(shape=(4196, 512), dtype=tf.float32, name='gradient'), <tensorflow.python.framework.func_graph.UnknownArgument object at 0x7f2250146af0>, 139788544596528), {}).\n"
          ]
        },
        {
          "name": "stderr",
          "output_type": "stream",
          "text": [
            "INFO:tensorflow:Unsupported signature for serialization: ((TensorSpec(shape=(4196, 512), dtype=tf.float32, name='gradient'), <tensorflow.python.framework.func_graph.UnknownArgument object at 0x7f2250146af0>, 139788544596528), {}).\n"
          ]
        },
        {
          "name": "stdout",
          "output_type": "stream",
          "text": [
            "INFO:tensorflow:Unsupported signature for serialization: ((TensorSpec(shape=(512,), dtype=tf.float32, name='gradient'), <tensorflow.python.framework.func_graph.UnknownArgument object at 0x7f225015aac0>, 139788544595488), {}).\n"
          ]
        },
        {
          "name": "stderr",
          "output_type": "stream",
          "text": [
            "INFO:tensorflow:Unsupported signature for serialization: ((TensorSpec(shape=(512,), dtype=tf.float32, name='gradient'), <tensorflow.python.framework.func_graph.UnknownArgument object at 0x7f225015aac0>, 139788544595488), {}).\n"
          ]
        },
        {
          "name": "stdout",
          "output_type": "stream",
          "text": [
            "INFO:tensorflow:Unsupported signature for serialization: ((TensorSpec(shape=(512, 512), dtype=tf.float32, name='gradient'), <tensorflow.python.framework.func_graph.UnknownArgument object at 0x7f225016ca30>, 139788544433568), {}).\n"
          ]
        },
        {
          "name": "stderr",
          "output_type": "stream",
          "text": [
            "INFO:tensorflow:Unsupported signature for serialization: ((TensorSpec(shape=(512, 512), dtype=tf.float32, name='gradient'), <tensorflow.python.framework.func_graph.UnknownArgument object at 0x7f225016ca30>, 139788544433568), {}).\n"
          ]
        },
        {
          "name": "stdout",
          "output_type": "stream",
          "text": [
            "INFO:tensorflow:Unsupported signature for serialization: ((TensorSpec(shape=(512,), dtype=tf.float32, name='gradient'), <tensorflow.python.framework.func_graph.UnknownArgument object at 0x7f2250101070>, 139788544433888), {}).\n"
          ]
        },
        {
          "name": "stderr",
          "output_type": "stream",
          "text": [
            "INFO:tensorflow:Unsupported signature for serialization: ((TensorSpec(shape=(512,), dtype=tf.float32, name='gradient'), <tensorflow.python.framework.func_graph.UnknownArgument object at 0x7f2250101070>, 139788544433888), {}).\n"
          ]
        },
        {
          "name": "stdout",
          "output_type": "stream",
          "text": [
            "INFO:tensorflow:Unsupported signature for serialization: ((TensorSpec(shape=(512, 512), dtype=tf.float32, name='gradient'), <tensorflow.python.framework.func_graph.UnknownArgument object at 0x7f2250118130>, 139788544596688), {}).\n"
          ]
        },
        {
          "name": "stderr",
          "output_type": "stream",
          "text": [
            "INFO:tensorflow:Unsupported signature for serialization: ((TensorSpec(shape=(512, 512), dtype=tf.float32, name='gradient'), <tensorflow.python.framework.func_graph.UnknownArgument object at 0x7f2250118130>, 139788544596688), {}).\n"
          ]
        },
        {
          "name": "stdout",
          "output_type": "stream",
          "text": [
            "INFO:tensorflow:Unsupported signature for serialization: ((TensorSpec(shape=(512,), dtype=tf.float32, name='gradient'), <tensorflow.python.framework.func_graph.UnknownArgument object at 0x7f225012a0a0>, 139788544593968), {}).\n"
          ]
        },
        {
          "name": "stderr",
          "output_type": "stream",
          "text": [
            "INFO:tensorflow:Unsupported signature for serialization: ((TensorSpec(shape=(512,), dtype=tf.float32, name='gradient'), <tensorflow.python.framework.func_graph.UnknownArgument object at 0x7f225012a0a0>, 139788544593968), {}).\n"
          ]
        },
        {
          "name": "stdout",
          "output_type": "stream",
          "text": [
            "INFO:tensorflow:Unsupported signature for serialization: ((TensorSpec(shape=(512, 512), dtype=tf.float32, name='gradient'), <tensorflow.python.framework.func_graph.UnknownArgument object at 0x7f225012aee0>, 139788544680624), {}).\n"
          ]
        },
        {
          "name": "stderr",
          "output_type": "stream",
          "text": [
            "INFO:tensorflow:Unsupported signature for serialization: ((TensorSpec(shape=(512, 512), dtype=tf.float32, name='gradient'), <tensorflow.python.framework.func_graph.UnknownArgument object at 0x7f225012aee0>, 139788544680624), {}).\n"
          ]
        },
        {
          "name": "stdout",
          "output_type": "stream",
          "text": [
            "INFO:tensorflow:Unsupported signature for serialization: ((TensorSpec(shape=(512,), dtype=tf.float32, name='gradient'), <tensorflow.python.framework.func_graph.UnknownArgument object at 0x7f22500bde80>, 139788544680864), {}).\n"
          ]
        },
        {
          "name": "stderr",
          "output_type": "stream",
          "text": [
            "INFO:tensorflow:Unsupported signature for serialization: ((TensorSpec(shape=(512,), dtype=tf.float32, name='gradient'), <tensorflow.python.framework.func_graph.UnknownArgument object at 0x7f22500bde80>, 139788544680864), {}).\n"
          ]
        },
        {
          "name": "stdout",
          "output_type": "stream",
          "text": [
            "INFO:tensorflow:Unsupported signature for serialization: ((TensorSpec(shape=(512, 512), dtype=tf.float32, name='gradient'), <tensorflow.python.framework.func_graph.UnknownArgument object at 0x7f22500d0d90>, 139788544328768), {}).\n"
          ]
        },
        {
          "name": "stderr",
          "output_type": "stream",
          "text": [
            "INFO:tensorflow:Unsupported signature for serialization: ((TensorSpec(shape=(512, 512), dtype=tf.float32, name='gradient'), <tensorflow.python.framework.func_graph.UnknownArgument object at 0x7f22500d0d90>, 139788544328768), {}).\n"
          ]
        },
        {
          "name": "stdout",
          "output_type": "stream",
          "text": [
            "INFO:tensorflow:Unsupported signature for serialization: ((TensorSpec(shape=(512,), dtype=tf.float32, name='gradient'), <tensorflow.python.framework.func_graph.UnknownArgument object at 0x7f22500e2d00>, 139788544328688), {}).\n"
          ]
        },
        {
          "name": "stderr",
          "output_type": "stream",
          "text": [
            "INFO:tensorflow:Unsupported signature for serialization: ((TensorSpec(shape=(512,), dtype=tf.float32, name='gradient'), <tensorflow.python.framework.func_graph.UnknownArgument object at 0x7f22500e2d00>, 139788544328688), {}).\n"
          ]
        },
        {
          "name": "stdout",
          "output_type": "stream",
          "text": [
            "INFO:tensorflow:Unsupported signature for serialization: ((TensorSpec(shape=(512, 512), dtype=tf.float32, name='gradient'), <tensorflow.python.framework.func_graph.UnknownArgument object at 0x7f22500f5c10>, 139788544681264), {}).\n"
          ]
        },
        {
          "name": "stderr",
          "output_type": "stream",
          "text": [
            "INFO:tensorflow:Unsupported signature for serialization: ((TensorSpec(shape=(512, 512), dtype=tf.float32, name='gradient'), <tensorflow.python.framework.func_graph.UnknownArgument object at 0x7f22500f5c10>, 139788544681264), {}).\n"
          ]
        },
        {
          "name": "stdout",
          "output_type": "stream",
          "text": [
            "INFO:tensorflow:Unsupported signature for serialization: ((TensorSpec(shape=(512,), dtype=tf.float32, name='gradient'), <tensorflow.python.framework.func_graph.UnknownArgument object at 0x7f2250088b80>, 139788544681184), {}).\n"
          ]
        },
        {
          "name": "stderr",
          "output_type": "stream",
          "text": [
            "INFO:tensorflow:Unsupported signature for serialization: ((TensorSpec(shape=(512,), dtype=tf.float32, name='gradient'), <tensorflow.python.framework.func_graph.UnknownArgument object at 0x7f2250088b80>, 139788544681184), {}).\n"
          ]
        },
        {
          "name": "stdout",
          "output_type": "stream",
          "text": [
            "INFO:tensorflow:Unsupported signature for serialization: ((TensorSpec(shape=(512, 4), dtype=tf.float32, name='gradient'), <tensorflow.python.framework.func_graph.UnknownArgument object at 0x7f225009ca90>, 139788544330688), {}).\n"
          ]
        },
        {
          "name": "stderr",
          "output_type": "stream",
          "text": [
            "INFO:tensorflow:Unsupported signature for serialization: ((TensorSpec(shape=(512, 4), dtype=tf.float32, name='gradient'), <tensorflow.python.framework.func_graph.UnknownArgument object at 0x7f225009ca90>, 139788544330688), {}).\n"
          ]
        },
        {
          "name": "stdout",
          "output_type": "stream",
          "text": [
            "INFO:tensorflow:Unsupported signature for serialization: ((TensorSpec(shape=(4,), dtype=tf.float32, name='gradient'), <tensorflow.python.framework.func_graph.UnknownArgument object at 0x7f22500aea00>, 139788544330368), {}).\n"
          ]
        },
        {
          "name": "stderr",
          "output_type": "stream",
          "text": [
            "INFO:tensorflow:Unsupported signature for serialization: ((TensorSpec(shape=(4,), dtype=tf.float32, name='gradient'), <tensorflow.python.framework.func_graph.UnknownArgument object at 0x7f22500aea00>, 139788544330368), {}).\n"
          ]
        },
        {
          "name": "stdout",
          "output_type": "stream",
          "text": [
            "INFO:tensorflow:Unsupported signature for serialization: ((TensorSpec(shape=(23, 4196), dtype=tf.float32, name='gradient'), <tensorflow.python.framework.func_graph.UnknownArgument object at 0x7f22501ad610>, 139788544170064), {}).\n"
          ]
        },
        {
          "name": "stderr",
          "output_type": "stream",
          "text": [
            "INFO:tensorflow:Unsupported signature for serialization: ((TensorSpec(shape=(23, 4196), dtype=tf.float32, name='gradient'), <tensorflow.python.framework.func_graph.UnknownArgument object at 0x7f22501ad610>, 139788544170064), {}).\n"
          ]
        },
        {
          "name": "stdout",
          "output_type": "stream",
          "text": [
            "INFO:tensorflow:Unsupported signature for serialization: ((TensorSpec(shape=(4196,), dtype=tf.float32, name='gradient'), <tensorflow.python.framework.func_graph.UnknownArgument object at 0x7f22501b6b80>, 139788544168864), {}).\n"
          ]
        },
        {
          "name": "stderr",
          "output_type": "stream",
          "text": [
            "INFO:tensorflow:Unsupported signature for serialization: ((TensorSpec(shape=(4196,), dtype=tf.float32, name='gradient'), <tensorflow.python.framework.func_graph.UnknownArgument object at 0x7f22501b6b80>, 139788544168864), {}).\n"
          ]
        },
        {
          "name": "stdout",
          "output_type": "stream",
          "text": [
            "INFO:tensorflow:Unsupported signature for serialization: ((TensorSpec(shape=(4196, 512), dtype=tf.float32, name='gradient'), <tensorflow.python.framework.func_graph.UnknownArgument object at 0x7f2250146af0>, 139788544596528), {}).\n"
          ]
        },
        {
          "name": "stderr",
          "output_type": "stream",
          "text": [
            "INFO:tensorflow:Unsupported signature for serialization: ((TensorSpec(shape=(4196, 512), dtype=tf.float32, name='gradient'), <tensorflow.python.framework.func_graph.UnknownArgument object at 0x7f2250146af0>, 139788544596528), {}).\n"
          ]
        },
        {
          "name": "stdout",
          "output_type": "stream",
          "text": [
            "INFO:tensorflow:Unsupported signature for serialization: ((TensorSpec(shape=(512,), dtype=tf.float32, name='gradient'), <tensorflow.python.framework.func_graph.UnknownArgument object at 0x7f225015aac0>, 139788544595488), {}).\n"
          ]
        },
        {
          "name": "stderr",
          "output_type": "stream",
          "text": [
            "INFO:tensorflow:Unsupported signature for serialization: ((TensorSpec(shape=(512,), dtype=tf.float32, name='gradient'), <tensorflow.python.framework.func_graph.UnknownArgument object at 0x7f225015aac0>, 139788544595488), {}).\n"
          ]
        },
        {
          "name": "stdout",
          "output_type": "stream",
          "text": [
            "INFO:tensorflow:Unsupported signature for serialization: ((TensorSpec(shape=(512, 512), dtype=tf.float32, name='gradient'), <tensorflow.python.framework.func_graph.UnknownArgument object at 0x7f225016ca30>, 139788544433568), {}).\n"
          ]
        },
        {
          "name": "stderr",
          "output_type": "stream",
          "text": [
            "INFO:tensorflow:Unsupported signature for serialization: ((TensorSpec(shape=(512, 512), dtype=tf.float32, name='gradient'), <tensorflow.python.framework.func_graph.UnknownArgument object at 0x7f225016ca30>, 139788544433568), {}).\n"
          ]
        },
        {
          "name": "stdout",
          "output_type": "stream",
          "text": [
            "INFO:tensorflow:Unsupported signature for serialization: ((TensorSpec(shape=(512,), dtype=tf.float32, name='gradient'), <tensorflow.python.framework.func_graph.UnknownArgument object at 0x7f2250101070>, 139788544433888), {}).\n"
          ]
        },
        {
          "name": "stderr",
          "output_type": "stream",
          "text": [
            "INFO:tensorflow:Unsupported signature for serialization: ((TensorSpec(shape=(512,), dtype=tf.float32, name='gradient'), <tensorflow.python.framework.func_graph.UnknownArgument object at 0x7f2250101070>, 139788544433888), {}).\n"
          ]
        },
        {
          "name": "stdout",
          "output_type": "stream",
          "text": [
            "INFO:tensorflow:Unsupported signature for serialization: ((TensorSpec(shape=(512, 512), dtype=tf.float32, name='gradient'), <tensorflow.python.framework.func_graph.UnknownArgument object at 0x7f2250118130>, 139788544596688), {}).\n"
          ]
        },
        {
          "name": "stderr",
          "output_type": "stream",
          "text": [
            "INFO:tensorflow:Unsupported signature for serialization: ((TensorSpec(shape=(512, 512), dtype=tf.float32, name='gradient'), <tensorflow.python.framework.func_graph.UnknownArgument object at 0x7f2250118130>, 139788544596688), {}).\n"
          ]
        },
        {
          "name": "stdout",
          "output_type": "stream",
          "text": [
            "INFO:tensorflow:Unsupported signature for serialization: ((TensorSpec(shape=(512,), dtype=tf.float32, name='gradient'), <tensorflow.python.framework.func_graph.UnknownArgument object at 0x7f225012a0a0>, 139788544593968), {}).\n"
          ]
        },
        {
          "name": "stderr",
          "output_type": "stream",
          "text": [
            "INFO:tensorflow:Unsupported signature for serialization: ((TensorSpec(shape=(512,), dtype=tf.float32, name='gradient'), <tensorflow.python.framework.func_graph.UnknownArgument object at 0x7f225012a0a0>, 139788544593968), {}).\n"
          ]
        },
        {
          "name": "stdout",
          "output_type": "stream",
          "text": [
            "INFO:tensorflow:Unsupported signature for serialization: ((TensorSpec(shape=(512, 512), dtype=tf.float32, name='gradient'), <tensorflow.python.framework.func_graph.UnknownArgument object at 0x7f225012aee0>, 139788544680624), {}).\n"
          ]
        },
        {
          "name": "stderr",
          "output_type": "stream",
          "text": [
            "INFO:tensorflow:Unsupported signature for serialization: ((TensorSpec(shape=(512, 512), dtype=tf.float32, name='gradient'), <tensorflow.python.framework.func_graph.UnknownArgument object at 0x7f225012aee0>, 139788544680624), {}).\n"
          ]
        },
        {
          "name": "stdout",
          "output_type": "stream",
          "text": [
            "INFO:tensorflow:Unsupported signature for serialization: ((TensorSpec(shape=(512,), dtype=tf.float32, name='gradient'), <tensorflow.python.framework.func_graph.UnknownArgument object at 0x7f22500bde80>, 139788544680864), {}).\n"
          ]
        },
        {
          "name": "stderr",
          "output_type": "stream",
          "text": [
            "INFO:tensorflow:Unsupported signature for serialization: ((TensorSpec(shape=(512,), dtype=tf.float32, name='gradient'), <tensorflow.python.framework.func_graph.UnknownArgument object at 0x7f22500bde80>, 139788544680864), {}).\n"
          ]
        },
        {
          "name": "stdout",
          "output_type": "stream",
          "text": [
            "INFO:tensorflow:Unsupported signature for serialization: ((TensorSpec(shape=(512, 512), dtype=tf.float32, name='gradient'), <tensorflow.python.framework.func_graph.UnknownArgument object at 0x7f22500d0d90>, 139788544328768), {}).\n"
          ]
        },
        {
          "name": "stderr",
          "output_type": "stream",
          "text": [
            "INFO:tensorflow:Unsupported signature for serialization: ((TensorSpec(shape=(512, 512), dtype=tf.float32, name='gradient'), <tensorflow.python.framework.func_graph.UnknownArgument object at 0x7f22500d0d90>, 139788544328768), {}).\n"
          ]
        },
        {
          "name": "stdout",
          "output_type": "stream",
          "text": [
            "INFO:tensorflow:Unsupported signature for serialization: ((TensorSpec(shape=(512,), dtype=tf.float32, name='gradient'), <tensorflow.python.framework.func_graph.UnknownArgument object at 0x7f22500e2d00>, 139788544328688), {}).\n"
          ]
        },
        {
          "name": "stderr",
          "output_type": "stream",
          "text": [
            "INFO:tensorflow:Unsupported signature for serialization: ((TensorSpec(shape=(512,), dtype=tf.float32, name='gradient'), <tensorflow.python.framework.func_graph.UnknownArgument object at 0x7f22500e2d00>, 139788544328688), {}).\n"
          ]
        },
        {
          "name": "stdout",
          "output_type": "stream",
          "text": [
            "INFO:tensorflow:Unsupported signature for serialization: ((TensorSpec(shape=(512, 512), dtype=tf.float32, name='gradient'), <tensorflow.python.framework.func_graph.UnknownArgument object at 0x7f22500f5c10>, 139788544681264), {}).\n"
          ]
        },
        {
          "name": "stderr",
          "output_type": "stream",
          "text": [
            "INFO:tensorflow:Unsupported signature for serialization: ((TensorSpec(shape=(512, 512), dtype=tf.float32, name='gradient'), <tensorflow.python.framework.func_graph.UnknownArgument object at 0x7f22500f5c10>, 139788544681264), {}).\n"
          ]
        },
        {
          "name": "stdout",
          "output_type": "stream",
          "text": [
            "INFO:tensorflow:Unsupported signature for serialization: ((TensorSpec(shape=(512,), dtype=tf.float32, name='gradient'), <tensorflow.python.framework.func_graph.UnknownArgument object at 0x7f2250088b80>, 139788544681184), {}).\n"
          ]
        },
        {
          "name": "stderr",
          "output_type": "stream",
          "text": [
            "INFO:tensorflow:Unsupported signature for serialization: ((TensorSpec(shape=(512,), dtype=tf.float32, name='gradient'), <tensorflow.python.framework.func_graph.UnknownArgument object at 0x7f2250088b80>, 139788544681184), {}).\n"
          ]
        },
        {
          "name": "stdout",
          "output_type": "stream",
          "text": [
            "INFO:tensorflow:Unsupported signature for serialization: ((TensorSpec(shape=(512, 4), dtype=tf.float32, name='gradient'), <tensorflow.python.framework.func_graph.UnknownArgument object at 0x7f225009ca90>, 139788544330688), {}).\n"
          ]
        },
        {
          "name": "stderr",
          "output_type": "stream",
          "text": [
            "INFO:tensorflow:Unsupported signature for serialization: ((TensorSpec(shape=(512, 4), dtype=tf.float32, name='gradient'), <tensorflow.python.framework.func_graph.UnknownArgument object at 0x7f225009ca90>, 139788544330688), {}).\n"
          ]
        },
        {
          "name": "stdout",
          "output_type": "stream",
          "text": [
            "INFO:tensorflow:Unsupported signature for serialization: ((TensorSpec(shape=(4,), dtype=tf.float32, name='gradient'), <tensorflow.python.framework.func_graph.UnknownArgument object at 0x7f22500aea00>, 139788544330368), {}).\n"
          ]
        },
        {
          "name": "stderr",
          "output_type": "stream",
          "text": [
            "INFO:tensorflow:Unsupported signature for serialization: ((TensorSpec(shape=(4,), dtype=tf.float32, name='gradient'), <tensorflow.python.framework.func_graph.UnknownArgument object at 0x7f22500aea00>, 139788544330368), {}).\n"
          ]
        },
        {
          "name": "stdout",
          "output_type": "stream",
          "text": [
            "INFO:tensorflow:Assets written to: models/DNN/attempt_03/modelData/assets\n"
          ]
        },
        {
          "name": "stderr",
          "output_type": "stream",
          "text": [
            "INFO:tensorflow:Assets written to: models/DNN/attempt_03/modelData/assets\n"
          ]
        },
        {
          "name": "stdout",
          "output_type": "stream",
          "text": [
            "INFO:tensorflow:Unsupported signature for serialization: ((TensorSpec(shape=(23, 4196), dtype=tf.float32, name='gradient'), <tensorflow.python.framework.func_graph.UnknownArgument object at 0x7f222c7235e0>, 139788544170064), {}).\n"
          ]
        },
        {
          "name": "stderr",
          "output_type": "stream",
          "text": [
            "INFO:tensorflow:Unsupported signature for serialization: ((TensorSpec(shape=(23, 4196), dtype=tf.float32, name='gradient'), <tensorflow.python.framework.func_graph.UnknownArgument object at 0x7f222c7235e0>, 139788544170064), {}).\n"
          ]
        },
        {
          "name": "stdout",
          "output_type": "stream",
          "text": [
            "INFO:tensorflow:Unsupported signature for serialization: ((TensorSpec(shape=(4196,), dtype=tf.float32, name='gradient'), <tensorflow.python.framework.func_graph.UnknownArgument object at 0x7f222c72db50>, 139788544168864), {}).\n"
          ]
        },
        {
          "name": "stderr",
          "output_type": "stream",
          "text": [
            "INFO:tensorflow:Unsupported signature for serialization: ((TensorSpec(shape=(4196,), dtype=tf.float32, name='gradient'), <tensorflow.python.framework.func_graph.UnknownArgument object at 0x7f222c72db50>, 139788544168864), {}).\n"
          ]
        },
        {
          "name": "stdout",
          "output_type": "stream",
          "text": [
            "INFO:tensorflow:Unsupported signature for serialization: ((TensorSpec(shape=(4196, 512), dtype=tf.float32, name='gradient'), <tensorflow.python.framework.func_graph.UnknownArgument object at 0x7f222c6bcac0>, 139788544596528), {}).\n"
          ]
        },
        {
          "name": "stderr",
          "output_type": "stream",
          "text": [
            "INFO:tensorflow:Unsupported signature for serialization: ((TensorSpec(shape=(4196, 512), dtype=tf.float32, name='gradient'), <tensorflow.python.framework.func_graph.UnknownArgument object at 0x7f222c6bcac0>, 139788544596528), {}).\n"
          ]
        },
        {
          "name": "stdout",
          "output_type": "stream",
          "text": [
            "INFO:tensorflow:Unsupported signature for serialization: ((TensorSpec(shape=(512,), dtype=tf.float32, name='gradient'), <tensorflow.python.framework.func_graph.UnknownArgument object at 0x7f222c6d2a90>, 139788544595488), {}).\n"
          ]
        },
        {
          "name": "stderr",
          "output_type": "stream",
          "text": [
            "INFO:tensorflow:Unsupported signature for serialization: ((TensorSpec(shape=(512,), dtype=tf.float32, name='gradient'), <tensorflow.python.framework.func_graph.UnknownArgument object at 0x7f222c6d2a90>, 139788544595488), {}).\n"
          ]
        },
        {
          "name": "stdout",
          "output_type": "stream",
          "text": [
            "INFO:tensorflow:Unsupported signature for serialization: ((TensorSpec(shape=(512, 512), dtype=tf.float32, name='gradient'), <tensorflow.python.framework.func_graph.UnknownArgument object at 0x7f222c6e2a00>, 139788544433568), {}).\n"
          ]
        },
        {
          "name": "stderr",
          "output_type": "stream",
          "text": [
            "INFO:tensorflow:Unsupported signature for serialization: ((TensorSpec(shape=(512, 512), dtype=tf.float32, name='gradient'), <tensorflow.python.framework.func_graph.UnknownArgument object at 0x7f222c6e2a00>, 139788544433568), {}).\n"
          ]
        },
        {
          "name": "stdout",
          "output_type": "stream",
          "text": [
            "INFO:tensorflow:Unsupported signature for serialization: ((TensorSpec(shape=(512,), dtype=tf.float32, name='gradient'), <tensorflow.python.framework.func_graph.UnknownArgument object at 0x7f222c67a040>, 139788544433888), {}).\n"
          ]
        },
        {
          "name": "stderr",
          "output_type": "stream",
          "text": [
            "INFO:tensorflow:Unsupported signature for serialization: ((TensorSpec(shape=(512,), dtype=tf.float32, name='gradient'), <tensorflow.python.framework.func_graph.UnknownArgument object at 0x7f222c67a040>, 139788544433888), {}).\n"
          ]
        },
        {
          "name": "stdout",
          "output_type": "stream",
          "text": [
            "INFO:tensorflow:Unsupported signature for serialization: ((TensorSpec(shape=(512, 512), dtype=tf.float32, name='gradient'), <tensorflow.python.framework.func_graph.UnknownArgument object at 0x7f222c68e100>, 139788544596688), {}).\n"
          ]
        },
        {
          "name": "stderr",
          "output_type": "stream",
          "text": [
            "INFO:tensorflow:Unsupported signature for serialization: ((TensorSpec(shape=(512, 512), dtype=tf.float32, name='gradient'), <tensorflow.python.framework.func_graph.UnknownArgument object at 0x7f222c68e100>, 139788544596688), {}).\n"
          ]
        },
        {
          "name": "stdout",
          "output_type": "stream",
          "text": [
            "INFO:tensorflow:Unsupported signature for serialization: ((TensorSpec(shape=(512,), dtype=tf.float32, name='gradient'), <tensorflow.python.framework.func_graph.UnknownArgument object at 0x7f222c6a0070>, 139788544593968), {}).\n"
          ]
        },
        {
          "name": "stderr",
          "output_type": "stream",
          "text": [
            "INFO:tensorflow:Unsupported signature for serialization: ((TensorSpec(shape=(512,), dtype=tf.float32, name='gradient'), <tensorflow.python.framework.func_graph.UnknownArgument object at 0x7f222c6a0070>, 139788544593968), {}).\n"
          ]
        },
        {
          "name": "stdout",
          "output_type": "stream",
          "text": [
            "INFO:tensorflow:Unsupported signature for serialization: ((TensorSpec(shape=(512, 512), dtype=tf.float32, name='gradient'), <tensorflow.python.framework.func_graph.UnknownArgument object at 0x7f222c6a0f40>, 139788544680624), {}).\n"
          ]
        },
        {
          "name": "stderr",
          "output_type": "stream",
          "text": [
            "INFO:tensorflow:Unsupported signature for serialization: ((TensorSpec(shape=(512, 512), dtype=tf.float32, name='gradient'), <tensorflow.python.framework.func_graph.UnknownArgument object at 0x7f222c6a0f40>, 139788544680624), {}).\n"
          ]
        },
        {
          "name": "stdout",
          "output_type": "stream",
          "text": [
            "INFO:tensorflow:Unsupported signature for serialization: ((TensorSpec(shape=(512,), dtype=tf.float32, name='gradient'), <tensorflow.python.framework.func_graph.UnknownArgument object at 0x7f222c6b2e50>, 139788544680864), {}).\n"
          ]
        },
        {
          "name": "stderr",
          "output_type": "stream",
          "text": [
            "INFO:tensorflow:Unsupported signature for serialization: ((TensorSpec(shape=(512,), dtype=tf.float32, name='gradient'), <tensorflow.python.framework.func_graph.UnknownArgument object at 0x7f222c6b2e50>, 139788544680864), {}).\n"
          ]
        },
        {
          "name": "stdout",
          "output_type": "stream",
          "text": [
            "INFO:tensorflow:Unsupported signature for serialization: ((TensorSpec(shape=(512, 512), dtype=tf.float32, name='gradient'), <tensorflow.python.framework.func_graph.UnknownArgument object at 0x7f222c647d60>, 139788544328768), {}).\n"
          ]
        },
        {
          "name": "stderr",
          "output_type": "stream",
          "text": [
            "INFO:tensorflow:Unsupported signature for serialization: ((TensorSpec(shape=(512, 512), dtype=tf.float32, name='gradient'), <tensorflow.python.framework.func_graph.UnknownArgument object at 0x7f222c647d60>, 139788544328768), {}).\n"
          ]
        },
        {
          "name": "stdout",
          "output_type": "stream",
          "text": [
            "INFO:tensorflow:Unsupported signature for serialization: ((TensorSpec(shape=(512,), dtype=tf.float32, name='gradient'), <tensorflow.python.framework.func_graph.UnknownArgument object at 0x7f222c65acd0>, 139788544328688), {}).\n"
          ]
        },
        {
          "name": "stderr",
          "output_type": "stream",
          "text": [
            "INFO:tensorflow:Unsupported signature for serialization: ((TensorSpec(shape=(512,), dtype=tf.float32, name='gradient'), <tensorflow.python.framework.func_graph.UnknownArgument object at 0x7f222c65acd0>, 139788544328688), {}).\n"
          ]
        },
        {
          "name": "stdout",
          "output_type": "stream",
          "text": [
            "INFO:tensorflow:Unsupported signature for serialization: ((TensorSpec(shape=(512, 512), dtype=tf.float32, name='gradient'), <tensorflow.python.framework.func_graph.UnknownArgument object at 0x7f222c66ebe0>, 139788544681264), {}).\n"
          ]
        },
        {
          "name": "stderr",
          "output_type": "stream",
          "text": [
            "INFO:tensorflow:Unsupported signature for serialization: ((TensorSpec(shape=(512, 512), dtype=tf.float32, name='gradient'), <tensorflow.python.framework.func_graph.UnknownArgument object at 0x7f222c66ebe0>, 139788544681264), {}).\n"
          ]
        },
        {
          "name": "stdout",
          "output_type": "stream",
          "text": [
            "INFO:tensorflow:Unsupported signature for serialization: ((TensorSpec(shape=(512,), dtype=tf.float32, name='gradient'), <tensorflow.python.framework.func_graph.UnknownArgument object at 0x7f222c601b50>, 139788544681184), {}).\n"
          ]
        },
        {
          "name": "stderr",
          "output_type": "stream",
          "text": [
            "INFO:tensorflow:Unsupported signature for serialization: ((TensorSpec(shape=(512,), dtype=tf.float32, name='gradient'), <tensorflow.python.framework.func_graph.UnknownArgument object at 0x7f222c601b50>, 139788544681184), {}).\n"
          ]
        },
        {
          "name": "stdout",
          "output_type": "stream",
          "text": [
            "INFO:tensorflow:Unsupported signature for serialization: ((TensorSpec(shape=(512, 4), dtype=tf.float32, name='gradient'), <tensorflow.python.framework.func_graph.UnknownArgument object at 0x7f222c612a60>, 139788544330688), {}).\n"
          ]
        },
        {
          "name": "stderr",
          "output_type": "stream",
          "text": [
            "INFO:tensorflow:Unsupported signature for serialization: ((TensorSpec(shape=(512, 4), dtype=tf.float32, name='gradient'), <tensorflow.python.framework.func_graph.UnknownArgument object at 0x7f222c612a60>, 139788544330688), {}).\n"
          ]
        },
        {
          "name": "stdout",
          "output_type": "stream",
          "text": [
            "INFO:tensorflow:Unsupported signature for serialization: ((TensorSpec(shape=(4,), dtype=tf.float32, name='gradient'), <tensorflow.python.framework.func_graph.UnknownArgument object at 0x7f222c62a9d0>, 139788544330368), {}).\n"
          ]
        },
        {
          "name": "stderr",
          "output_type": "stream",
          "text": [
            "INFO:tensorflow:Unsupported signature for serialization: ((TensorSpec(shape=(4,), dtype=tf.float32, name='gradient'), <tensorflow.python.framework.func_graph.UnknownArgument object at 0x7f222c62a9d0>, 139788544330368), {}).\n"
          ]
        },
        {
          "name": "stdout",
          "output_type": "stream",
          "text": [
            "INFO:tensorflow:Unsupported signature for serialization: ((TensorSpec(shape=(23, 4196), dtype=tf.float32, name='gradient'), <tensorflow.python.framework.func_graph.UnknownArgument object at 0x7f222c7235e0>, 139788544170064), {}).\n"
          ]
        },
        {
          "name": "stderr",
          "output_type": "stream",
          "text": [
            "INFO:tensorflow:Unsupported signature for serialization: ((TensorSpec(shape=(23, 4196), dtype=tf.float32, name='gradient'), <tensorflow.python.framework.func_graph.UnknownArgument object at 0x7f222c7235e0>, 139788544170064), {}).\n"
          ]
        },
        {
          "name": "stdout",
          "output_type": "stream",
          "text": [
            "INFO:tensorflow:Unsupported signature for serialization: ((TensorSpec(shape=(4196,), dtype=tf.float32, name='gradient'), <tensorflow.python.framework.func_graph.UnknownArgument object at 0x7f222c72db50>, 139788544168864), {}).\n"
          ]
        },
        {
          "name": "stderr",
          "output_type": "stream",
          "text": [
            "INFO:tensorflow:Unsupported signature for serialization: ((TensorSpec(shape=(4196,), dtype=tf.float32, name='gradient'), <tensorflow.python.framework.func_graph.UnknownArgument object at 0x7f222c72db50>, 139788544168864), {}).\n"
          ]
        },
        {
          "name": "stdout",
          "output_type": "stream",
          "text": [
            "INFO:tensorflow:Unsupported signature for serialization: ((TensorSpec(shape=(4196, 512), dtype=tf.float32, name='gradient'), <tensorflow.python.framework.func_graph.UnknownArgument object at 0x7f222c6bcac0>, 139788544596528), {}).\n"
          ]
        },
        {
          "name": "stderr",
          "output_type": "stream",
          "text": [
            "INFO:tensorflow:Unsupported signature for serialization: ((TensorSpec(shape=(4196, 512), dtype=tf.float32, name='gradient'), <tensorflow.python.framework.func_graph.UnknownArgument object at 0x7f222c6bcac0>, 139788544596528), {}).\n"
          ]
        },
        {
          "name": "stdout",
          "output_type": "stream",
          "text": [
            "INFO:tensorflow:Unsupported signature for serialization: ((TensorSpec(shape=(512,), dtype=tf.float32, name='gradient'), <tensorflow.python.framework.func_graph.UnknownArgument object at 0x7f222c6d2a90>, 139788544595488), {}).\n"
          ]
        },
        {
          "name": "stderr",
          "output_type": "stream",
          "text": [
            "INFO:tensorflow:Unsupported signature for serialization: ((TensorSpec(shape=(512,), dtype=tf.float32, name='gradient'), <tensorflow.python.framework.func_graph.UnknownArgument object at 0x7f222c6d2a90>, 139788544595488), {}).\n"
          ]
        },
        {
          "name": "stdout",
          "output_type": "stream",
          "text": [
            "INFO:tensorflow:Unsupported signature for serialization: ((TensorSpec(shape=(512, 512), dtype=tf.float32, name='gradient'), <tensorflow.python.framework.func_graph.UnknownArgument object at 0x7f222c6e2a00>, 139788544433568), {}).\n"
          ]
        },
        {
          "name": "stderr",
          "output_type": "stream",
          "text": [
            "INFO:tensorflow:Unsupported signature for serialization: ((TensorSpec(shape=(512, 512), dtype=tf.float32, name='gradient'), <tensorflow.python.framework.func_graph.UnknownArgument object at 0x7f222c6e2a00>, 139788544433568), {}).\n"
          ]
        },
        {
          "name": "stdout",
          "output_type": "stream",
          "text": [
            "INFO:tensorflow:Unsupported signature for serialization: ((TensorSpec(shape=(512,), dtype=tf.float32, name='gradient'), <tensorflow.python.framework.func_graph.UnknownArgument object at 0x7f222c67a040>, 139788544433888), {}).\n"
          ]
        },
        {
          "name": "stderr",
          "output_type": "stream",
          "text": [
            "INFO:tensorflow:Unsupported signature for serialization: ((TensorSpec(shape=(512,), dtype=tf.float32, name='gradient'), <tensorflow.python.framework.func_graph.UnknownArgument object at 0x7f222c67a040>, 139788544433888), {}).\n"
          ]
        },
        {
          "name": "stdout",
          "output_type": "stream",
          "text": [
            "INFO:tensorflow:Unsupported signature for serialization: ((TensorSpec(shape=(512, 512), dtype=tf.float32, name='gradient'), <tensorflow.python.framework.func_graph.UnknownArgument object at 0x7f222c68e100>, 139788544596688), {}).\n"
          ]
        },
        {
          "name": "stderr",
          "output_type": "stream",
          "text": [
            "INFO:tensorflow:Unsupported signature for serialization: ((TensorSpec(shape=(512, 512), dtype=tf.float32, name='gradient'), <tensorflow.python.framework.func_graph.UnknownArgument object at 0x7f222c68e100>, 139788544596688), {}).\n"
          ]
        },
        {
          "name": "stdout",
          "output_type": "stream",
          "text": [
            "INFO:tensorflow:Unsupported signature for serialization: ((TensorSpec(shape=(512,), dtype=tf.float32, name='gradient'), <tensorflow.python.framework.func_graph.UnknownArgument object at 0x7f222c6a0070>, 139788544593968), {}).\n"
          ]
        },
        {
          "name": "stderr",
          "output_type": "stream",
          "text": [
            "INFO:tensorflow:Unsupported signature for serialization: ((TensorSpec(shape=(512,), dtype=tf.float32, name='gradient'), <tensorflow.python.framework.func_graph.UnknownArgument object at 0x7f222c6a0070>, 139788544593968), {}).\n"
          ]
        },
        {
          "name": "stdout",
          "output_type": "stream",
          "text": [
            "INFO:tensorflow:Unsupported signature for serialization: ((TensorSpec(shape=(512, 512), dtype=tf.float32, name='gradient'), <tensorflow.python.framework.func_graph.UnknownArgument object at 0x7f222c6a0f40>, 139788544680624), {}).\n"
          ]
        },
        {
          "name": "stderr",
          "output_type": "stream",
          "text": [
            "INFO:tensorflow:Unsupported signature for serialization: ((TensorSpec(shape=(512, 512), dtype=tf.float32, name='gradient'), <tensorflow.python.framework.func_graph.UnknownArgument object at 0x7f222c6a0f40>, 139788544680624), {}).\n"
          ]
        },
        {
          "name": "stdout",
          "output_type": "stream",
          "text": [
            "INFO:tensorflow:Unsupported signature for serialization: ((TensorSpec(shape=(512,), dtype=tf.float32, name='gradient'), <tensorflow.python.framework.func_graph.UnknownArgument object at 0x7f222c6b2e50>, 139788544680864), {}).\n"
          ]
        },
        {
          "name": "stderr",
          "output_type": "stream",
          "text": [
            "INFO:tensorflow:Unsupported signature for serialization: ((TensorSpec(shape=(512,), dtype=tf.float32, name='gradient'), <tensorflow.python.framework.func_graph.UnknownArgument object at 0x7f222c6b2e50>, 139788544680864), {}).\n"
          ]
        },
        {
          "name": "stdout",
          "output_type": "stream",
          "text": [
            "INFO:tensorflow:Unsupported signature for serialization: ((TensorSpec(shape=(512, 512), dtype=tf.float32, name='gradient'), <tensorflow.python.framework.func_graph.UnknownArgument object at 0x7f222c647d60>, 139788544328768), {}).\n"
          ]
        },
        {
          "name": "stderr",
          "output_type": "stream",
          "text": [
            "INFO:tensorflow:Unsupported signature for serialization: ((TensorSpec(shape=(512, 512), dtype=tf.float32, name='gradient'), <tensorflow.python.framework.func_graph.UnknownArgument object at 0x7f222c647d60>, 139788544328768), {}).\n"
          ]
        },
        {
          "name": "stdout",
          "output_type": "stream",
          "text": [
            "INFO:tensorflow:Unsupported signature for serialization: ((TensorSpec(shape=(512,), dtype=tf.float32, name='gradient'), <tensorflow.python.framework.func_graph.UnknownArgument object at 0x7f222c65acd0>, 139788544328688), {}).\n"
          ]
        },
        {
          "name": "stderr",
          "output_type": "stream",
          "text": [
            "INFO:tensorflow:Unsupported signature for serialization: ((TensorSpec(shape=(512,), dtype=tf.float32, name='gradient'), <tensorflow.python.framework.func_graph.UnknownArgument object at 0x7f222c65acd0>, 139788544328688), {}).\n"
          ]
        },
        {
          "name": "stdout",
          "output_type": "stream",
          "text": [
            "INFO:tensorflow:Unsupported signature for serialization: ((TensorSpec(shape=(512, 512), dtype=tf.float32, name='gradient'), <tensorflow.python.framework.func_graph.UnknownArgument object at 0x7f222c66ebe0>, 139788544681264), {}).\n"
          ]
        },
        {
          "name": "stderr",
          "output_type": "stream",
          "text": [
            "INFO:tensorflow:Unsupported signature for serialization: ((TensorSpec(shape=(512, 512), dtype=tf.float32, name='gradient'), <tensorflow.python.framework.func_graph.UnknownArgument object at 0x7f222c66ebe0>, 139788544681264), {}).\n"
          ]
        },
        {
          "name": "stdout",
          "output_type": "stream",
          "text": [
            "INFO:tensorflow:Unsupported signature for serialization: ((TensorSpec(shape=(512,), dtype=tf.float32, name='gradient'), <tensorflow.python.framework.func_graph.UnknownArgument object at 0x7f222c601b50>, 139788544681184), {}).\n"
          ]
        },
        {
          "name": "stderr",
          "output_type": "stream",
          "text": [
            "INFO:tensorflow:Unsupported signature for serialization: ((TensorSpec(shape=(512,), dtype=tf.float32, name='gradient'), <tensorflow.python.framework.func_graph.UnknownArgument object at 0x7f222c601b50>, 139788544681184), {}).\n"
          ]
        },
        {
          "name": "stdout",
          "output_type": "stream",
          "text": [
            "INFO:tensorflow:Unsupported signature for serialization: ((TensorSpec(shape=(512, 4), dtype=tf.float32, name='gradient'), <tensorflow.python.framework.func_graph.UnknownArgument object at 0x7f222c612a60>, 139788544330688), {}).\n"
          ]
        },
        {
          "name": "stderr",
          "output_type": "stream",
          "text": [
            "INFO:tensorflow:Unsupported signature for serialization: ((TensorSpec(shape=(512, 4), dtype=tf.float32, name='gradient'), <tensorflow.python.framework.func_graph.UnknownArgument object at 0x7f222c612a60>, 139788544330688), {}).\n"
          ]
        },
        {
          "name": "stdout",
          "output_type": "stream",
          "text": [
            "INFO:tensorflow:Unsupported signature for serialization: ((TensorSpec(shape=(4,), dtype=tf.float32, name='gradient'), <tensorflow.python.framework.func_graph.UnknownArgument object at 0x7f222c62a9d0>, 139788544330368), {}).\n"
          ]
        },
        {
          "name": "stderr",
          "output_type": "stream",
          "text": [
            "INFO:tensorflow:Unsupported signature for serialization: ((TensorSpec(shape=(4,), dtype=tf.float32, name='gradient'), <tensorflow.python.framework.func_graph.UnknownArgument object at 0x7f222c62a9d0>, 139788544330368), {}).\n"
          ]
        },
        {
          "name": "stdout",
          "output_type": "stream",
          "text": [
            "INFO:tensorflow:Assets written to: models/DNN/attempt_04/modelData/assets\n"
          ]
        },
        {
          "name": "stderr",
          "output_type": "stream",
          "text": [
            "INFO:tensorflow:Assets written to: models/DNN/attempt_04/modelData/assets\n"
          ]
        },
        {
          "name": "stdout",
          "output_type": "stream",
          "text": [
            "INFO:tensorflow:Unsupported signature for serialization: ((TensorSpec(shape=(23, 4196), dtype=tf.float32, name='gradient'), <tensorflow.python.framework.func_graph.UnknownArgument object at 0x7f22244da5b0>, 139788544170064), {}).\n"
          ]
        },
        {
          "name": "stderr",
          "output_type": "stream",
          "text": [
            "INFO:tensorflow:Unsupported signature for serialization: ((TensorSpec(shape=(23, 4196), dtype=tf.float32, name='gradient'), <tensorflow.python.framework.func_graph.UnknownArgument object at 0x7f22244da5b0>, 139788544170064), {}).\n"
          ]
        },
        {
          "name": "stdout",
          "output_type": "stream",
          "text": [
            "INFO:tensorflow:Unsupported signature for serialization: ((TensorSpec(shape=(4196,), dtype=tf.float32, name='gradient'), <tensorflow.python.framework.func_graph.UnknownArgument object at 0x7f22244e5b20>, 139788544168864), {}).\n"
          ]
        },
        {
          "name": "stderr",
          "output_type": "stream",
          "text": [
            "INFO:tensorflow:Unsupported signature for serialization: ((TensorSpec(shape=(4196,), dtype=tf.float32, name='gradient'), <tensorflow.python.framework.func_graph.UnknownArgument object at 0x7f22244e5b20>, 139788544168864), {}).\n"
          ]
        },
        {
          "name": "stdout",
          "output_type": "stream",
          "text": [
            "INFO:tensorflow:Unsupported signature for serialization: ((TensorSpec(shape=(4196, 512), dtype=tf.float32, name='gradient'), <tensorflow.python.framework.func_graph.UnknownArgument object at 0x7f22244f6a90>, 139788544596528), {}).\n"
          ]
        },
        {
          "name": "stderr",
          "output_type": "stream",
          "text": [
            "INFO:tensorflow:Unsupported signature for serialization: ((TensorSpec(shape=(4196, 512), dtype=tf.float32, name='gradient'), <tensorflow.python.framework.func_graph.UnknownArgument object at 0x7f22244f6a90>, 139788544596528), {}).\n"
          ]
        },
        {
          "name": "stdout",
          "output_type": "stream",
          "text": [
            "INFO:tensorflow:Unsupported signature for serialization: ((TensorSpec(shape=(512,), dtype=tf.float32, name='gradient'), <tensorflow.python.framework.func_graph.UnknownArgument object at 0x7f222448aa60>, 139788544595488), {}).\n"
          ]
        },
        {
          "name": "stderr",
          "output_type": "stream",
          "text": [
            "INFO:tensorflow:Unsupported signature for serialization: ((TensorSpec(shape=(512,), dtype=tf.float32, name='gradient'), <tensorflow.python.framework.func_graph.UnknownArgument object at 0x7f222448aa60>, 139788544595488), {}).\n"
          ]
        },
        {
          "name": "stdout",
          "output_type": "stream",
          "text": [
            "INFO:tensorflow:Unsupported signature for serialization: ((TensorSpec(shape=(512, 512), dtype=tf.float32, name='gradient'), <tensorflow.python.framework.func_graph.UnknownArgument object at 0x7f222449f9d0>, 139788544433568), {}).\n"
          ]
        },
        {
          "name": "stderr",
          "output_type": "stream",
          "text": [
            "INFO:tensorflow:Unsupported signature for serialization: ((TensorSpec(shape=(512, 512), dtype=tf.float32, name='gradient'), <tensorflow.python.framework.func_graph.UnknownArgument object at 0x7f222449f9d0>, 139788544433568), {}).\n"
          ]
        },
        {
          "name": "stdout",
          "output_type": "stream",
          "text": [
            "INFO:tensorflow:Unsupported signature for serialization: ((TensorSpec(shape=(512,), dtype=tf.float32, name='gradient'), <tensorflow.python.framework.func_graph.UnknownArgument object at 0x7f22244b5130>, 139788544433888), {}).\n"
          ]
        },
        {
          "name": "stderr",
          "output_type": "stream",
          "text": [
            "INFO:tensorflow:Unsupported signature for serialization: ((TensorSpec(shape=(512,), dtype=tf.float32, name='gradient'), <tensorflow.python.framework.func_graph.UnknownArgument object at 0x7f22244b5130>, 139788544433888), {}).\n"
          ]
        },
        {
          "name": "stdout",
          "output_type": "stream",
          "text": [
            "INFO:tensorflow:Unsupported signature for serialization: ((TensorSpec(shape=(512, 512), dtype=tf.float32, name='gradient'), <tensorflow.python.framework.func_graph.UnknownArgument object at 0x7f22244490d0>, 139788544596688), {}).\n"
          ]
        },
        {
          "name": "stderr",
          "output_type": "stream",
          "text": [
            "INFO:tensorflow:Unsupported signature for serialization: ((TensorSpec(shape=(512, 512), dtype=tf.float32, name='gradient'), <tensorflow.python.framework.func_graph.UnknownArgument object at 0x7f22244490d0>, 139788544596688), {}).\n"
          ]
        },
        {
          "name": "stdout",
          "output_type": "stream",
          "text": [
            "INFO:tensorflow:Unsupported signature for serialization: ((TensorSpec(shape=(512,), dtype=tf.float32, name='gradient'), <tensorflow.python.framework.func_graph.UnknownArgument object at 0x7f222445a040>, 139788544593968), {}).\n"
          ]
        },
        {
          "name": "stderr",
          "output_type": "stream",
          "text": [
            "INFO:tensorflow:Unsupported signature for serialization: ((TensorSpec(shape=(512,), dtype=tf.float32, name='gradient'), <tensorflow.python.framework.func_graph.UnknownArgument object at 0x7f222445a040>, 139788544593968), {}).\n"
          ]
        },
        {
          "name": "stdout",
          "output_type": "stream",
          "text": [
            "INFO:tensorflow:Unsupported signature for serialization: ((TensorSpec(shape=(512, 512), dtype=tf.float32, name='gradient'), <tensorflow.python.framework.func_graph.UnknownArgument object at 0x7f222445af10>, 139788544680624), {}).\n"
          ]
        },
        {
          "name": "stderr",
          "output_type": "stream",
          "text": [
            "INFO:tensorflow:Unsupported signature for serialization: ((TensorSpec(shape=(512, 512), dtype=tf.float32, name='gradient'), <tensorflow.python.framework.func_graph.UnknownArgument object at 0x7f222445af10>, 139788544680624), {}).\n"
          ]
        },
        {
          "name": "stdout",
          "output_type": "stream",
          "text": [
            "INFO:tensorflow:Unsupported signature for serialization: ((TensorSpec(shape=(512,), dtype=tf.float32, name='gradient'), <tensorflow.python.framework.func_graph.UnknownArgument object at 0x7f222446de20>, 139788544680864), {}).\n"
          ]
        },
        {
          "name": "stderr",
          "output_type": "stream",
          "text": [
            "INFO:tensorflow:Unsupported signature for serialization: ((TensorSpec(shape=(512,), dtype=tf.float32, name='gradient'), <tensorflow.python.framework.func_graph.UnknownArgument object at 0x7f222446de20>, 139788544680864), {}).\n"
          ]
        },
        {
          "name": "stdout",
          "output_type": "stream",
          "text": [
            "INFO:tensorflow:Unsupported signature for serialization: ((TensorSpec(shape=(512, 512), dtype=tf.float32, name='gradient'), <tensorflow.python.framework.func_graph.UnknownArgument object at 0x7f2224400d30>, 139788544328768), {}).\n"
          ]
        },
        {
          "name": "stderr",
          "output_type": "stream",
          "text": [
            "INFO:tensorflow:Unsupported signature for serialization: ((TensorSpec(shape=(512, 512), dtype=tf.float32, name='gradient'), <tensorflow.python.framework.func_graph.UnknownArgument object at 0x7f2224400d30>, 139788544328768), {}).\n"
          ]
        },
        {
          "name": "stdout",
          "output_type": "stream",
          "text": [
            "INFO:tensorflow:Unsupported signature for serialization: ((TensorSpec(shape=(512,), dtype=tf.float32, name='gradient'), <tensorflow.python.framework.func_graph.UnknownArgument object at 0x7f2224413ca0>, 139788544328688), {}).\n"
          ]
        },
        {
          "name": "stderr",
          "output_type": "stream",
          "text": [
            "INFO:tensorflow:Unsupported signature for serialization: ((TensorSpec(shape=(512,), dtype=tf.float32, name='gradient'), <tensorflow.python.framework.func_graph.UnknownArgument object at 0x7f2224413ca0>, 139788544328688), {}).\n"
          ]
        },
        {
          "name": "stdout",
          "output_type": "stream",
          "text": [
            "INFO:tensorflow:Unsupported signature for serialization: ((TensorSpec(shape=(512, 512), dtype=tf.float32, name='gradient'), <tensorflow.python.framework.func_graph.UnknownArgument object at 0x7f2224427bb0>, 139788544681264), {}).\n"
          ]
        },
        {
          "name": "stderr",
          "output_type": "stream",
          "text": [
            "INFO:tensorflow:Unsupported signature for serialization: ((TensorSpec(shape=(512, 512), dtype=tf.float32, name='gradient'), <tensorflow.python.framework.func_graph.UnknownArgument object at 0x7f2224427bb0>, 139788544681264), {}).\n"
          ]
        },
        {
          "name": "stdout",
          "output_type": "stream",
          "text": [
            "INFO:tensorflow:Unsupported signature for serialization: ((TensorSpec(shape=(512,), dtype=tf.float32, name='gradient'), <tensorflow.python.framework.func_graph.UnknownArgument object at 0x7f2224438b20>, 139788544681184), {}).\n"
          ]
        },
        {
          "name": "stderr",
          "output_type": "stream",
          "text": [
            "INFO:tensorflow:Unsupported signature for serialization: ((TensorSpec(shape=(512,), dtype=tf.float32, name='gradient'), <tensorflow.python.framework.func_graph.UnknownArgument object at 0x7f2224438b20>, 139788544681184), {}).\n"
          ]
        },
        {
          "name": "stdout",
          "output_type": "stream",
          "text": [
            "INFO:tensorflow:Unsupported signature for serialization: ((TensorSpec(shape=(512, 4), dtype=tf.float32, name='gradient'), <tensorflow.python.framework.func_graph.UnknownArgument object at 0x7f22243cda30>, 139788544330688), {}).\n"
          ]
        },
        {
          "name": "stderr",
          "output_type": "stream",
          "text": [
            "INFO:tensorflow:Unsupported signature for serialization: ((TensorSpec(shape=(512, 4), dtype=tf.float32, name='gradient'), <tensorflow.python.framework.func_graph.UnknownArgument object at 0x7f22243cda30>, 139788544330688), {}).\n"
          ]
        },
        {
          "name": "stdout",
          "output_type": "stream",
          "text": [
            "INFO:tensorflow:Unsupported signature for serialization: ((TensorSpec(shape=(4,), dtype=tf.float32, name='gradient'), <tensorflow.python.framework.func_graph.UnknownArgument object at 0x7f22243e29a0>, 139788544330368), {}).\n"
          ]
        },
        {
          "name": "stderr",
          "output_type": "stream",
          "text": [
            "INFO:tensorflow:Unsupported signature for serialization: ((TensorSpec(shape=(4,), dtype=tf.float32, name='gradient'), <tensorflow.python.framework.func_graph.UnknownArgument object at 0x7f22243e29a0>, 139788544330368), {}).\n"
          ]
        },
        {
          "name": "stdout",
          "output_type": "stream",
          "text": [
            "INFO:tensorflow:Unsupported signature for serialization: ((TensorSpec(shape=(23, 4196), dtype=tf.float32, name='gradient'), <tensorflow.python.framework.func_graph.UnknownArgument object at 0x7f22244da5b0>, 139788544170064), {}).\n"
          ]
        },
        {
          "name": "stderr",
          "output_type": "stream",
          "text": [
            "INFO:tensorflow:Unsupported signature for serialization: ((TensorSpec(shape=(23, 4196), dtype=tf.float32, name='gradient'), <tensorflow.python.framework.func_graph.UnknownArgument object at 0x7f22244da5b0>, 139788544170064), {}).\n"
          ]
        },
        {
          "name": "stdout",
          "output_type": "stream",
          "text": [
            "INFO:tensorflow:Unsupported signature for serialization: ((TensorSpec(shape=(4196,), dtype=tf.float32, name='gradient'), <tensorflow.python.framework.func_graph.UnknownArgument object at 0x7f22244e5b20>, 139788544168864), {}).\n"
          ]
        },
        {
          "name": "stderr",
          "output_type": "stream",
          "text": [
            "INFO:tensorflow:Unsupported signature for serialization: ((TensorSpec(shape=(4196,), dtype=tf.float32, name='gradient'), <tensorflow.python.framework.func_graph.UnknownArgument object at 0x7f22244e5b20>, 139788544168864), {}).\n"
          ]
        },
        {
          "name": "stdout",
          "output_type": "stream",
          "text": [
            "INFO:tensorflow:Unsupported signature for serialization: ((TensorSpec(shape=(4196, 512), dtype=tf.float32, name='gradient'), <tensorflow.python.framework.func_graph.UnknownArgument object at 0x7f22244f6a90>, 139788544596528), {}).\n"
          ]
        },
        {
          "name": "stderr",
          "output_type": "stream",
          "text": [
            "INFO:tensorflow:Unsupported signature for serialization: ((TensorSpec(shape=(4196, 512), dtype=tf.float32, name='gradient'), <tensorflow.python.framework.func_graph.UnknownArgument object at 0x7f22244f6a90>, 139788544596528), {}).\n"
          ]
        },
        {
          "name": "stdout",
          "output_type": "stream",
          "text": [
            "INFO:tensorflow:Unsupported signature for serialization: ((TensorSpec(shape=(512,), dtype=tf.float32, name='gradient'), <tensorflow.python.framework.func_graph.UnknownArgument object at 0x7f222448aa60>, 139788544595488), {}).\n"
          ]
        },
        {
          "name": "stderr",
          "output_type": "stream",
          "text": [
            "INFO:tensorflow:Unsupported signature for serialization: ((TensorSpec(shape=(512,), dtype=tf.float32, name='gradient'), <tensorflow.python.framework.func_graph.UnknownArgument object at 0x7f222448aa60>, 139788544595488), {}).\n"
          ]
        },
        {
          "name": "stdout",
          "output_type": "stream",
          "text": [
            "INFO:tensorflow:Unsupported signature for serialization: ((TensorSpec(shape=(512, 512), dtype=tf.float32, name='gradient'), <tensorflow.python.framework.func_graph.UnknownArgument object at 0x7f222449f9d0>, 139788544433568), {}).\n"
          ]
        },
        {
          "name": "stderr",
          "output_type": "stream",
          "text": [
            "INFO:tensorflow:Unsupported signature for serialization: ((TensorSpec(shape=(512, 512), dtype=tf.float32, name='gradient'), <tensorflow.python.framework.func_graph.UnknownArgument object at 0x7f222449f9d0>, 139788544433568), {}).\n"
          ]
        },
        {
          "name": "stdout",
          "output_type": "stream",
          "text": [
            "INFO:tensorflow:Unsupported signature for serialization: ((TensorSpec(shape=(512,), dtype=tf.float32, name='gradient'), <tensorflow.python.framework.func_graph.UnknownArgument object at 0x7f22244b5130>, 139788544433888), {}).\n"
          ]
        },
        {
          "name": "stderr",
          "output_type": "stream",
          "text": [
            "INFO:tensorflow:Unsupported signature for serialization: ((TensorSpec(shape=(512,), dtype=tf.float32, name='gradient'), <tensorflow.python.framework.func_graph.UnknownArgument object at 0x7f22244b5130>, 139788544433888), {}).\n"
          ]
        },
        {
          "name": "stdout",
          "output_type": "stream",
          "text": [
            "INFO:tensorflow:Unsupported signature for serialization: ((TensorSpec(shape=(512, 512), dtype=tf.float32, name='gradient'), <tensorflow.python.framework.func_graph.UnknownArgument object at 0x7f22244490d0>, 139788544596688), {}).\n"
          ]
        },
        {
          "name": "stderr",
          "output_type": "stream",
          "text": [
            "INFO:tensorflow:Unsupported signature for serialization: ((TensorSpec(shape=(512, 512), dtype=tf.float32, name='gradient'), <tensorflow.python.framework.func_graph.UnknownArgument object at 0x7f22244490d0>, 139788544596688), {}).\n"
          ]
        },
        {
          "name": "stdout",
          "output_type": "stream",
          "text": [
            "INFO:tensorflow:Unsupported signature for serialization: ((TensorSpec(shape=(512,), dtype=tf.float32, name='gradient'), <tensorflow.python.framework.func_graph.UnknownArgument object at 0x7f222445a040>, 139788544593968), {}).\n"
          ]
        },
        {
          "name": "stderr",
          "output_type": "stream",
          "text": [
            "INFO:tensorflow:Unsupported signature for serialization: ((TensorSpec(shape=(512,), dtype=tf.float32, name='gradient'), <tensorflow.python.framework.func_graph.UnknownArgument object at 0x7f222445a040>, 139788544593968), {}).\n"
          ]
        },
        {
          "name": "stdout",
          "output_type": "stream",
          "text": [
            "INFO:tensorflow:Unsupported signature for serialization: ((TensorSpec(shape=(512, 512), dtype=tf.float32, name='gradient'), <tensorflow.python.framework.func_graph.UnknownArgument object at 0x7f222445af10>, 139788544680624), {}).\n"
          ]
        },
        {
          "name": "stderr",
          "output_type": "stream",
          "text": [
            "INFO:tensorflow:Unsupported signature for serialization: ((TensorSpec(shape=(512, 512), dtype=tf.float32, name='gradient'), <tensorflow.python.framework.func_graph.UnknownArgument object at 0x7f222445af10>, 139788544680624), {}).\n"
          ]
        },
        {
          "name": "stdout",
          "output_type": "stream",
          "text": [
            "INFO:tensorflow:Unsupported signature for serialization: ((TensorSpec(shape=(512,), dtype=tf.float32, name='gradient'), <tensorflow.python.framework.func_graph.UnknownArgument object at 0x7f222446de20>, 139788544680864), {}).\n"
          ]
        },
        {
          "name": "stderr",
          "output_type": "stream",
          "text": [
            "INFO:tensorflow:Unsupported signature for serialization: ((TensorSpec(shape=(512,), dtype=tf.float32, name='gradient'), <tensorflow.python.framework.func_graph.UnknownArgument object at 0x7f222446de20>, 139788544680864), {}).\n"
          ]
        },
        {
          "name": "stdout",
          "output_type": "stream",
          "text": [
            "INFO:tensorflow:Unsupported signature for serialization: ((TensorSpec(shape=(512, 512), dtype=tf.float32, name='gradient'), <tensorflow.python.framework.func_graph.UnknownArgument object at 0x7f2224400d30>, 139788544328768), {}).\n"
          ]
        },
        {
          "name": "stderr",
          "output_type": "stream",
          "text": [
            "INFO:tensorflow:Unsupported signature for serialization: ((TensorSpec(shape=(512, 512), dtype=tf.float32, name='gradient'), <tensorflow.python.framework.func_graph.UnknownArgument object at 0x7f2224400d30>, 139788544328768), {}).\n"
          ]
        },
        {
          "name": "stdout",
          "output_type": "stream",
          "text": [
            "INFO:tensorflow:Unsupported signature for serialization: ((TensorSpec(shape=(512,), dtype=tf.float32, name='gradient'), <tensorflow.python.framework.func_graph.UnknownArgument object at 0x7f2224413ca0>, 139788544328688), {}).\n"
          ]
        },
        {
          "name": "stderr",
          "output_type": "stream",
          "text": [
            "INFO:tensorflow:Unsupported signature for serialization: ((TensorSpec(shape=(512,), dtype=tf.float32, name='gradient'), <tensorflow.python.framework.func_graph.UnknownArgument object at 0x7f2224413ca0>, 139788544328688), {}).\n"
          ]
        },
        {
          "name": "stdout",
          "output_type": "stream",
          "text": [
            "INFO:tensorflow:Unsupported signature for serialization: ((TensorSpec(shape=(512, 512), dtype=tf.float32, name='gradient'), <tensorflow.python.framework.func_graph.UnknownArgument object at 0x7f2224427bb0>, 139788544681264), {}).\n"
          ]
        },
        {
          "name": "stderr",
          "output_type": "stream",
          "text": [
            "INFO:tensorflow:Unsupported signature for serialization: ((TensorSpec(shape=(512, 512), dtype=tf.float32, name='gradient'), <tensorflow.python.framework.func_graph.UnknownArgument object at 0x7f2224427bb0>, 139788544681264), {}).\n"
          ]
        },
        {
          "name": "stdout",
          "output_type": "stream",
          "text": [
            "INFO:tensorflow:Unsupported signature for serialization: ((TensorSpec(shape=(512,), dtype=tf.float32, name='gradient'), <tensorflow.python.framework.func_graph.UnknownArgument object at 0x7f2224438b20>, 139788544681184), {}).\n"
          ]
        },
        {
          "name": "stderr",
          "output_type": "stream",
          "text": [
            "INFO:tensorflow:Unsupported signature for serialization: ((TensorSpec(shape=(512,), dtype=tf.float32, name='gradient'), <tensorflow.python.framework.func_graph.UnknownArgument object at 0x7f2224438b20>, 139788544681184), {}).\n"
          ]
        },
        {
          "name": "stdout",
          "output_type": "stream",
          "text": [
            "INFO:tensorflow:Unsupported signature for serialization: ((TensorSpec(shape=(512, 4), dtype=tf.float32, name='gradient'), <tensorflow.python.framework.func_graph.UnknownArgument object at 0x7f22243cda30>, 139788544330688), {}).\n"
          ]
        },
        {
          "name": "stderr",
          "output_type": "stream",
          "text": [
            "INFO:tensorflow:Unsupported signature for serialization: ((TensorSpec(shape=(512, 4), dtype=tf.float32, name='gradient'), <tensorflow.python.framework.func_graph.UnknownArgument object at 0x7f22243cda30>, 139788544330688), {}).\n"
          ]
        },
        {
          "name": "stdout",
          "output_type": "stream",
          "text": [
            "INFO:tensorflow:Unsupported signature for serialization: ((TensorSpec(shape=(4,), dtype=tf.float32, name='gradient'), <tensorflow.python.framework.func_graph.UnknownArgument object at 0x7f22243e29a0>, 139788544330368), {}).\n"
          ]
        },
        {
          "name": "stderr",
          "output_type": "stream",
          "text": [
            "INFO:tensorflow:Unsupported signature for serialization: ((TensorSpec(shape=(4,), dtype=tf.float32, name='gradient'), <tensorflow.python.framework.func_graph.UnknownArgument object at 0x7f22243e29a0>, 139788544330368), {}).\n"
          ]
        },
        {
          "name": "stdout",
          "output_type": "stream",
          "text": [
            "INFO:tensorflow:Assets written to: models/DNN/attempt_05/modelData/assets\n"
          ]
        },
        {
          "name": "stderr",
          "output_type": "stream",
          "text": [
            "INFO:tensorflow:Assets written to: models/DNN/attempt_05/modelData/assets\n"
          ]
        },
        {
          "name": "stdout",
          "output_type": "stream",
          "text": [
            "INFO:tensorflow:Unsupported signature for serialization: ((TensorSpec(shape=(23, 4196), dtype=tf.float32, name='gradient'), <tensorflow.python.framework.func_graph.UnknownArgument object at 0x7f22042935b0>, 139788544170064), {}).\n"
          ]
        },
        {
          "name": "stderr",
          "output_type": "stream",
          "text": [
            "INFO:tensorflow:Unsupported signature for serialization: ((TensorSpec(shape=(23, 4196), dtype=tf.float32, name='gradient'), <tensorflow.python.framework.func_graph.UnknownArgument object at 0x7f22042935b0>, 139788544170064), {}).\n"
          ]
        },
        {
          "name": "stdout",
          "output_type": "stream",
          "text": [
            "INFO:tensorflow:Unsupported signature for serialization: ((TensorSpec(shape=(4196,), dtype=tf.float32, name='gradient'), <tensorflow.python.framework.func_graph.UnknownArgument object at 0x7f220429db20>, 139788544168864), {}).\n"
          ]
        },
        {
          "name": "stderr",
          "output_type": "stream",
          "text": [
            "INFO:tensorflow:Unsupported signature for serialization: ((TensorSpec(shape=(4196,), dtype=tf.float32, name='gradient'), <tensorflow.python.framework.func_graph.UnknownArgument object at 0x7f220429db20>, 139788544168864), {}).\n"
          ]
        },
        {
          "name": "stdout",
          "output_type": "stream",
          "text": [
            "INFO:tensorflow:Unsupported signature for serialization: ((TensorSpec(shape=(4196, 512), dtype=tf.float32, name='gradient'), <tensorflow.python.framework.func_graph.UnknownArgument object at 0x7f22042aea90>, 139788544596528), {}).\n"
          ]
        },
        {
          "name": "stderr",
          "output_type": "stream",
          "text": [
            "INFO:tensorflow:Unsupported signature for serialization: ((TensorSpec(shape=(4196, 512), dtype=tf.float32, name='gradient'), <tensorflow.python.framework.func_graph.UnknownArgument object at 0x7f22042aea90>, 139788544596528), {}).\n"
          ]
        },
        {
          "name": "stdout",
          "output_type": "stream",
          "text": [
            "INFO:tensorflow:Unsupported signature for serialization: ((TensorSpec(shape=(512,), dtype=tf.float32, name='gradient'), <tensorflow.python.framework.func_graph.UnknownArgument object at 0x7f2204243a60>, 139788544595488), {}).\n"
          ]
        },
        {
          "name": "stderr",
          "output_type": "stream",
          "text": [
            "INFO:tensorflow:Unsupported signature for serialization: ((TensorSpec(shape=(512,), dtype=tf.float32, name='gradient'), <tensorflow.python.framework.func_graph.UnknownArgument object at 0x7f2204243a60>, 139788544595488), {}).\n"
          ]
        },
        {
          "name": "stdout",
          "output_type": "stream",
          "text": [
            "INFO:tensorflow:Unsupported signature for serialization: ((TensorSpec(shape=(512, 512), dtype=tf.float32, name='gradient'), <tensorflow.python.framework.func_graph.UnknownArgument object at 0x7f22042579d0>, 139788544433568), {}).\n"
          ]
        },
        {
          "name": "stderr",
          "output_type": "stream",
          "text": [
            "INFO:tensorflow:Unsupported signature for serialization: ((TensorSpec(shape=(512, 512), dtype=tf.float32, name='gradient'), <tensorflow.python.framework.func_graph.UnknownArgument object at 0x7f22042579d0>, 139788544433568), {}).\n"
          ]
        },
        {
          "name": "stdout",
          "output_type": "stream",
          "text": [
            "INFO:tensorflow:Unsupported signature for serialization: ((TensorSpec(shape=(512,), dtype=tf.float32, name='gradient'), <tensorflow.python.framework.func_graph.UnknownArgument object at 0x7f220426a130>, 139788544433888), {}).\n"
          ]
        },
        {
          "name": "stderr",
          "output_type": "stream",
          "text": [
            "INFO:tensorflow:Unsupported signature for serialization: ((TensorSpec(shape=(512,), dtype=tf.float32, name='gradient'), <tensorflow.python.framework.func_graph.UnknownArgument object at 0x7f220426a130>, 139788544433888), {}).\n"
          ]
        },
        {
          "name": "stdout",
          "output_type": "stream",
          "text": [
            "INFO:tensorflow:Unsupported signature for serialization: ((TensorSpec(shape=(512, 512), dtype=tf.float32, name='gradient'), <tensorflow.python.framework.func_graph.UnknownArgument object at 0x7f22042000d0>, 139788544596688), {}).\n"
          ]
        },
        {
          "name": "stderr",
          "output_type": "stream",
          "text": [
            "INFO:tensorflow:Unsupported signature for serialization: ((TensorSpec(shape=(512, 512), dtype=tf.float32, name='gradient'), <tensorflow.python.framework.func_graph.UnknownArgument object at 0x7f22042000d0>, 139788544596688), {}).\n"
          ]
        },
        {
          "name": "stdout",
          "output_type": "stream",
          "text": [
            "INFO:tensorflow:Unsupported signature for serialization: ((TensorSpec(shape=(512,), dtype=tf.float32, name='gradient'), <tensorflow.python.framework.func_graph.UnknownArgument object at 0x7f2204212040>, 139788544593968), {}).\n"
          ]
        },
        {
          "name": "stderr",
          "output_type": "stream",
          "text": [
            "INFO:tensorflow:Unsupported signature for serialization: ((TensorSpec(shape=(512,), dtype=tf.float32, name='gradient'), <tensorflow.python.framework.func_graph.UnknownArgument object at 0x7f2204212040>, 139788544593968), {}).\n"
          ]
        },
        {
          "name": "stdout",
          "output_type": "stream",
          "text": [
            "INFO:tensorflow:Unsupported signature for serialization: ((TensorSpec(shape=(512, 512), dtype=tf.float32, name='gradient'), <tensorflow.python.framework.func_graph.UnknownArgument object at 0x7f2204212f10>, 139788544680624), {}).\n"
          ]
        },
        {
          "name": "stderr",
          "output_type": "stream",
          "text": [
            "INFO:tensorflow:Unsupported signature for serialization: ((TensorSpec(shape=(512, 512), dtype=tf.float32, name='gradient'), <tensorflow.python.framework.func_graph.UnknownArgument object at 0x7f2204212f10>, 139788544680624), {}).\n"
          ]
        },
        {
          "name": "stdout",
          "output_type": "stream",
          "text": [
            "INFO:tensorflow:Unsupported signature for serialization: ((TensorSpec(shape=(512,), dtype=tf.float32, name='gradient'), <tensorflow.python.framework.func_graph.UnknownArgument object at 0x7f2204225e20>, 139788544680864), {}).\n"
          ]
        },
        {
          "name": "stderr",
          "output_type": "stream",
          "text": [
            "INFO:tensorflow:Unsupported signature for serialization: ((TensorSpec(shape=(512,), dtype=tf.float32, name='gradient'), <tensorflow.python.framework.func_graph.UnknownArgument object at 0x7f2204225e20>, 139788544680864), {}).\n"
          ]
        },
        {
          "name": "stdout",
          "output_type": "stream",
          "text": [
            "INFO:tensorflow:Unsupported signature for serialization: ((TensorSpec(shape=(512, 512), dtype=tf.float32, name='gradient'), <tensorflow.python.framework.func_graph.UnknownArgument object at 0x7f2204238d30>, 139788544328768), {}).\n"
          ]
        },
        {
          "name": "stderr",
          "output_type": "stream",
          "text": [
            "INFO:tensorflow:Unsupported signature for serialization: ((TensorSpec(shape=(512, 512), dtype=tf.float32, name='gradient'), <tensorflow.python.framework.func_graph.UnknownArgument object at 0x7f2204238d30>, 139788544328768), {}).\n"
          ]
        },
        {
          "name": "stdout",
          "output_type": "stream",
          "text": [
            "INFO:tensorflow:Unsupported signature for serialization: ((TensorSpec(shape=(512,), dtype=tf.float32, name='gradient'), <tensorflow.python.framework.func_graph.UnknownArgument object at 0x7f22041cbca0>, 139788544328688), {}).\n"
          ]
        },
        {
          "name": "stderr",
          "output_type": "stream",
          "text": [
            "INFO:tensorflow:Unsupported signature for serialization: ((TensorSpec(shape=(512,), dtype=tf.float32, name='gradient'), <tensorflow.python.framework.func_graph.UnknownArgument object at 0x7f22041cbca0>, 139788544328688), {}).\n"
          ]
        },
        {
          "name": "stdout",
          "output_type": "stream",
          "text": [
            "INFO:tensorflow:Unsupported signature for serialization: ((TensorSpec(shape=(512, 512), dtype=tf.float32, name='gradient'), <tensorflow.python.framework.func_graph.UnknownArgument object at 0x7f22041e0bb0>, 139788544681264), {}).\n"
          ]
        },
        {
          "name": "stderr",
          "output_type": "stream",
          "text": [
            "INFO:tensorflow:Unsupported signature for serialization: ((TensorSpec(shape=(512, 512), dtype=tf.float32, name='gradient'), <tensorflow.python.framework.func_graph.UnknownArgument object at 0x7f22041e0bb0>, 139788544681264), {}).\n"
          ]
        },
        {
          "name": "stdout",
          "output_type": "stream",
          "text": [
            "INFO:tensorflow:Unsupported signature for serialization: ((TensorSpec(shape=(512,), dtype=tf.float32, name='gradient'), <tensorflow.python.framework.func_graph.UnknownArgument object at 0x7f22041f0b20>, 139788544681184), {}).\n"
          ]
        },
        {
          "name": "stderr",
          "output_type": "stream",
          "text": [
            "INFO:tensorflow:Unsupported signature for serialization: ((TensorSpec(shape=(512,), dtype=tf.float32, name='gradient'), <tensorflow.python.framework.func_graph.UnknownArgument object at 0x7f22041f0b20>, 139788544681184), {}).\n"
          ]
        },
        {
          "name": "stdout",
          "output_type": "stream",
          "text": [
            "INFO:tensorflow:Unsupported signature for serialization: ((TensorSpec(shape=(512, 4), dtype=tf.float32, name='gradient'), <tensorflow.python.framework.func_graph.UnknownArgument object at 0x7f2204184a30>, 139788544330688), {}).\n"
          ]
        },
        {
          "name": "stderr",
          "output_type": "stream",
          "text": [
            "INFO:tensorflow:Unsupported signature for serialization: ((TensorSpec(shape=(512, 4), dtype=tf.float32, name='gradient'), <tensorflow.python.framework.func_graph.UnknownArgument object at 0x7f2204184a30>, 139788544330688), {}).\n"
          ]
        },
        {
          "name": "stdout",
          "output_type": "stream",
          "text": [
            "INFO:tensorflow:Unsupported signature for serialization: ((TensorSpec(shape=(4,), dtype=tf.float32, name='gradient'), <tensorflow.python.framework.func_graph.UnknownArgument object at 0x7f220419c9a0>, 139788544330368), {}).\n"
          ]
        },
        {
          "name": "stderr",
          "output_type": "stream",
          "text": [
            "INFO:tensorflow:Unsupported signature for serialization: ((TensorSpec(shape=(4,), dtype=tf.float32, name='gradient'), <tensorflow.python.framework.func_graph.UnknownArgument object at 0x7f220419c9a0>, 139788544330368), {}).\n"
          ]
        },
        {
          "name": "stdout",
          "output_type": "stream",
          "text": [
            "INFO:tensorflow:Unsupported signature for serialization: ((TensorSpec(shape=(23, 4196), dtype=tf.float32, name='gradient'), <tensorflow.python.framework.func_graph.UnknownArgument object at 0x7f22042935b0>, 139788544170064), {}).\n"
          ]
        },
        {
          "name": "stderr",
          "output_type": "stream",
          "text": [
            "INFO:tensorflow:Unsupported signature for serialization: ((TensorSpec(shape=(23, 4196), dtype=tf.float32, name='gradient'), <tensorflow.python.framework.func_graph.UnknownArgument object at 0x7f22042935b0>, 139788544170064), {}).\n"
          ]
        },
        {
          "name": "stdout",
          "output_type": "stream",
          "text": [
            "INFO:tensorflow:Unsupported signature for serialization: ((TensorSpec(shape=(4196,), dtype=tf.float32, name='gradient'), <tensorflow.python.framework.func_graph.UnknownArgument object at 0x7f220429db20>, 139788544168864), {}).\n"
          ]
        },
        {
          "name": "stderr",
          "output_type": "stream",
          "text": [
            "INFO:tensorflow:Unsupported signature for serialization: ((TensorSpec(shape=(4196,), dtype=tf.float32, name='gradient'), <tensorflow.python.framework.func_graph.UnknownArgument object at 0x7f220429db20>, 139788544168864), {}).\n"
          ]
        },
        {
          "name": "stdout",
          "output_type": "stream",
          "text": [
            "INFO:tensorflow:Unsupported signature for serialization: ((TensorSpec(shape=(4196, 512), dtype=tf.float32, name='gradient'), <tensorflow.python.framework.func_graph.UnknownArgument object at 0x7f22042aea90>, 139788544596528), {}).\n"
          ]
        },
        {
          "name": "stderr",
          "output_type": "stream",
          "text": [
            "INFO:tensorflow:Unsupported signature for serialization: ((TensorSpec(shape=(4196, 512), dtype=tf.float32, name='gradient'), <tensorflow.python.framework.func_graph.UnknownArgument object at 0x7f22042aea90>, 139788544596528), {}).\n"
          ]
        },
        {
          "name": "stdout",
          "output_type": "stream",
          "text": [
            "INFO:tensorflow:Unsupported signature for serialization: ((TensorSpec(shape=(512,), dtype=tf.float32, name='gradient'), <tensorflow.python.framework.func_graph.UnknownArgument object at 0x7f2204243a60>, 139788544595488), {}).\n"
          ]
        },
        {
          "name": "stderr",
          "output_type": "stream",
          "text": [
            "INFO:tensorflow:Unsupported signature for serialization: ((TensorSpec(shape=(512,), dtype=tf.float32, name='gradient'), <tensorflow.python.framework.func_graph.UnknownArgument object at 0x7f2204243a60>, 139788544595488), {}).\n"
          ]
        },
        {
          "name": "stdout",
          "output_type": "stream",
          "text": [
            "INFO:tensorflow:Unsupported signature for serialization: ((TensorSpec(shape=(512, 512), dtype=tf.float32, name='gradient'), <tensorflow.python.framework.func_graph.UnknownArgument object at 0x7f22042579d0>, 139788544433568), {}).\n"
          ]
        },
        {
          "name": "stderr",
          "output_type": "stream",
          "text": [
            "INFO:tensorflow:Unsupported signature for serialization: ((TensorSpec(shape=(512, 512), dtype=tf.float32, name='gradient'), <tensorflow.python.framework.func_graph.UnknownArgument object at 0x7f22042579d0>, 139788544433568), {}).\n"
          ]
        },
        {
          "name": "stdout",
          "output_type": "stream",
          "text": [
            "INFO:tensorflow:Unsupported signature for serialization: ((TensorSpec(shape=(512,), dtype=tf.float32, name='gradient'), <tensorflow.python.framework.func_graph.UnknownArgument object at 0x7f220426a130>, 139788544433888), {}).\n"
          ]
        },
        {
          "name": "stderr",
          "output_type": "stream",
          "text": [
            "INFO:tensorflow:Unsupported signature for serialization: ((TensorSpec(shape=(512,), dtype=tf.float32, name='gradient'), <tensorflow.python.framework.func_graph.UnknownArgument object at 0x7f220426a130>, 139788544433888), {}).\n"
          ]
        },
        {
          "name": "stdout",
          "output_type": "stream",
          "text": [
            "INFO:tensorflow:Unsupported signature for serialization: ((TensorSpec(shape=(512, 512), dtype=tf.float32, name='gradient'), <tensorflow.python.framework.func_graph.UnknownArgument object at 0x7f22042000d0>, 139788544596688), {}).\n"
          ]
        },
        {
          "name": "stderr",
          "output_type": "stream",
          "text": [
            "INFO:tensorflow:Unsupported signature for serialization: ((TensorSpec(shape=(512, 512), dtype=tf.float32, name='gradient'), <tensorflow.python.framework.func_graph.UnknownArgument object at 0x7f22042000d0>, 139788544596688), {}).\n"
          ]
        },
        {
          "name": "stdout",
          "output_type": "stream",
          "text": [
            "INFO:tensorflow:Unsupported signature for serialization: ((TensorSpec(shape=(512,), dtype=tf.float32, name='gradient'), <tensorflow.python.framework.func_graph.UnknownArgument object at 0x7f2204212040>, 139788544593968), {}).\n"
          ]
        },
        {
          "name": "stderr",
          "output_type": "stream",
          "text": [
            "INFO:tensorflow:Unsupported signature for serialization: ((TensorSpec(shape=(512,), dtype=tf.float32, name='gradient'), <tensorflow.python.framework.func_graph.UnknownArgument object at 0x7f2204212040>, 139788544593968), {}).\n"
          ]
        },
        {
          "name": "stdout",
          "output_type": "stream",
          "text": [
            "INFO:tensorflow:Unsupported signature for serialization: ((TensorSpec(shape=(512, 512), dtype=tf.float32, name='gradient'), <tensorflow.python.framework.func_graph.UnknownArgument object at 0x7f2204212f10>, 139788544680624), {}).\n"
          ]
        },
        {
          "name": "stderr",
          "output_type": "stream",
          "text": [
            "INFO:tensorflow:Unsupported signature for serialization: ((TensorSpec(shape=(512, 512), dtype=tf.float32, name='gradient'), <tensorflow.python.framework.func_graph.UnknownArgument object at 0x7f2204212f10>, 139788544680624), {}).\n"
          ]
        },
        {
          "name": "stdout",
          "output_type": "stream",
          "text": [
            "INFO:tensorflow:Unsupported signature for serialization: ((TensorSpec(shape=(512,), dtype=tf.float32, name='gradient'), <tensorflow.python.framework.func_graph.UnknownArgument object at 0x7f2204225e20>, 139788544680864), {}).\n"
          ]
        },
        {
          "name": "stderr",
          "output_type": "stream",
          "text": [
            "INFO:tensorflow:Unsupported signature for serialization: ((TensorSpec(shape=(512,), dtype=tf.float32, name='gradient'), <tensorflow.python.framework.func_graph.UnknownArgument object at 0x7f2204225e20>, 139788544680864), {}).\n"
          ]
        },
        {
          "name": "stdout",
          "output_type": "stream",
          "text": [
            "INFO:tensorflow:Unsupported signature for serialization: ((TensorSpec(shape=(512, 512), dtype=tf.float32, name='gradient'), <tensorflow.python.framework.func_graph.UnknownArgument object at 0x7f2204238d30>, 139788544328768), {}).\n"
          ]
        },
        {
          "name": "stderr",
          "output_type": "stream",
          "text": [
            "INFO:tensorflow:Unsupported signature for serialization: ((TensorSpec(shape=(512, 512), dtype=tf.float32, name='gradient'), <tensorflow.python.framework.func_graph.UnknownArgument object at 0x7f2204238d30>, 139788544328768), {}).\n"
          ]
        },
        {
          "name": "stdout",
          "output_type": "stream",
          "text": [
            "INFO:tensorflow:Unsupported signature for serialization: ((TensorSpec(shape=(512,), dtype=tf.float32, name='gradient'), <tensorflow.python.framework.func_graph.UnknownArgument object at 0x7f22041cbca0>, 139788544328688), {}).\n"
          ]
        },
        {
          "name": "stderr",
          "output_type": "stream",
          "text": [
            "INFO:tensorflow:Unsupported signature for serialization: ((TensorSpec(shape=(512,), dtype=tf.float32, name='gradient'), <tensorflow.python.framework.func_graph.UnknownArgument object at 0x7f22041cbca0>, 139788544328688), {}).\n"
          ]
        },
        {
          "name": "stdout",
          "output_type": "stream",
          "text": [
            "INFO:tensorflow:Unsupported signature for serialization: ((TensorSpec(shape=(512, 512), dtype=tf.float32, name='gradient'), <tensorflow.python.framework.func_graph.UnknownArgument object at 0x7f22041e0bb0>, 139788544681264), {}).\n"
          ]
        },
        {
          "name": "stderr",
          "output_type": "stream",
          "text": [
            "INFO:tensorflow:Unsupported signature for serialization: ((TensorSpec(shape=(512, 512), dtype=tf.float32, name='gradient'), <tensorflow.python.framework.func_graph.UnknownArgument object at 0x7f22041e0bb0>, 139788544681264), {}).\n"
          ]
        },
        {
          "name": "stdout",
          "output_type": "stream",
          "text": [
            "INFO:tensorflow:Unsupported signature for serialization: ((TensorSpec(shape=(512,), dtype=tf.float32, name='gradient'), <tensorflow.python.framework.func_graph.UnknownArgument object at 0x7f22041f0b20>, 139788544681184), {}).\n"
          ]
        },
        {
          "name": "stderr",
          "output_type": "stream",
          "text": [
            "INFO:tensorflow:Unsupported signature for serialization: ((TensorSpec(shape=(512,), dtype=tf.float32, name='gradient'), <tensorflow.python.framework.func_graph.UnknownArgument object at 0x7f22041f0b20>, 139788544681184), {}).\n"
          ]
        },
        {
          "name": "stdout",
          "output_type": "stream",
          "text": [
            "INFO:tensorflow:Unsupported signature for serialization: ((TensorSpec(shape=(512, 4), dtype=tf.float32, name='gradient'), <tensorflow.python.framework.func_graph.UnknownArgument object at 0x7f2204184a30>, 139788544330688), {}).\n"
          ]
        },
        {
          "name": "stderr",
          "output_type": "stream",
          "text": [
            "INFO:tensorflow:Unsupported signature for serialization: ((TensorSpec(shape=(512, 4), dtype=tf.float32, name='gradient'), <tensorflow.python.framework.func_graph.UnknownArgument object at 0x7f2204184a30>, 139788544330688), {}).\n"
          ]
        },
        {
          "name": "stdout",
          "output_type": "stream",
          "text": [
            "INFO:tensorflow:Unsupported signature for serialization: ((TensorSpec(shape=(4,), dtype=tf.float32, name='gradient'), <tensorflow.python.framework.func_graph.UnknownArgument object at 0x7f220419c9a0>, 139788544330368), {}).\n"
          ]
        },
        {
          "name": "stderr",
          "output_type": "stream",
          "text": [
            "INFO:tensorflow:Unsupported signature for serialization: ((TensorSpec(shape=(4,), dtype=tf.float32, name='gradient'), <tensorflow.python.framework.func_graph.UnknownArgument object at 0x7f220419c9a0>, 139788544330368), {}).\n"
          ]
        },
        {
          "name": "stdout",
          "output_type": "stream",
          "text": [
            "INFO:tensorflow:Assets written to: models/DNN/attempt_06/modelData/assets\n"
          ]
        },
        {
          "name": "stderr",
          "output_type": "stream",
          "text": [
            "INFO:tensorflow:Assets written to: models/DNN/attempt_06/modelData/assets\n"
          ]
        },
        {
          "name": "stdout",
          "output_type": "stream",
          "text": [
            "INFO:tensorflow:Unsupported signature for serialization: ((TensorSpec(shape=(23, 4196), dtype=tf.float32, name='gradient'), <tensorflow.python.framework.func_graph.UnknownArgument object at 0x7f21b420a5e0>, 139788544170064), {}).\n"
          ]
        },
        {
          "name": "stderr",
          "output_type": "stream",
          "text": [
            "INFO:tensorflow:Unsupported signature for serialization: ((TensorSpec(shape=(23, 4196), dtype=tf.float32, name='gradient'), <tensorflow.python.framework.func_graph.UnknownArgument object at 0x7f21b420a5e0>, 139788544170064), {}).\n"
          ]
        },
        {
          "name": "stdout",
          "output_type": "stream",
          "text": [
            "INFO:tensorflow:Unsupported signature for serialization: ((TensorSpec(shape=(4196,), dtype=tf.float32, name='gradient'), <tensorflow.python.framework.func_graph.UnknownArgument object at 0x7f21b4214b50>, 139788544168864), {}).\n"
          ]
        },
        {
          "name": "stderr",
          "output_type": "stream",
          "text": [
            "INFO:tensorflow:Unsupported signature for serialization: ((TensorSpec(shape=(4196,), dtype=tf.float32, name='gradient'), <tensorflow.python.framework.func_graph.UnknownArgument object at 0x7f21b4214b50>, 139788544168864), {}).\n"
          ]
        },
        {
          "name": "stdout",
          "output_type": "stream",
          "text": [
            "INFO:tensorflow:Unsupported signature for serialization: ((TensorSpec(shape=(4196, 512), dtype=tf.float32, name='gradient'), <tensorflow.python.framework.func_graph.UnknownArgument object at 0x7f21b4224ac0>, 139788544596528), {}).\n"
          ]
        },
        {
          "name": "stderr",
          "output_type": "stream",
          "text": [
            "INFO:tensorflow:Unsupported signature for serialization: ((TensorSpec(shape=(4196, 512), dtype=tf.float32, name='gradient'), <tensorflow.python.framework.func_graph.UnknownArgument object at 0x7f21b4224ac0>, 139788544596528), {}).\n"
          ]
        },
        {
          "name": "stdout",
          "output_type": "stream",
          "text": [
            "INFO:tensorflow:Unsupported signature for serialization: ((TensorSpec(shape=(512,), dtype=tf.float32, name='gradient'), <tensorflow.python.framework.func_graph.UnknownArgument object at 0x7f21b41baa90>, 139788544595488), {}).\n"
          ]
        },
        {
          "name": "stderr",
          "output_type": "stream",
          "text": [
            "INFO:tensorflow:Unsupported signature for serialization: ((TensorSpec(shape=(512,), dtype=tf.float32, name='gradient'), <tensorflow.python.framework.func_graph.UnknownArgument object at 0x7f21b41baa90>, 139788544595488), {}).\n"
          ]
        },
        {
          "name": "stdout",
          "output_type": "stream",
          "text": [
            "INFO:tensorflow:Unsupported signature for serialization: ((TensorSpec(shape=(512, 512), dtype=tf.float32, name='gradient'), <tensorflow.python.framework.func_graph.UnknownArgument object at 0x7f21b41d1a30>, 139788544433568), {}).\n"
          ]
        },
        {
          "name": "stderr",
          "output_type": "stream",
          "text": [
            "INFO:tensorflow:Unsupported signature for serialization: ((TensorSpec(shape=(512, 512), dtype=tf.float32, name='gradient'), <tensorflow.python.framework.func_graph.UnknownArgument object at 0x7f21b41d1a30>, 139788544433568), {}).\n"
          ]
        },
        {
          "name": "stdout",
          "output_type": "stream",
          "text": [
            "INFO:tensorflow:Unsupported signature for serialization: ((TensorSpec(shape=(512,), dtype=tf.float32, name='gradient'), <tensorflow.python.framework.func_graph.UnknownArgument object at 0x7f21b41df130>, 139788544433888), {}).\n"
          ]
        },
        {
          "name": "stderr",
          "output_type": "stream",
          "text": [
            "INFO:tensorflow:Unsupported signature for serialization: ((TensorSpec(shape=(512,), dtype=tf.float32, name='gradient'), <tensorflow.python.framework.func_graph.UnknownArgument object at 0x7f21b41df130>, 139788544433888), {}).\n"
          ]
        },
        {
          "name": "stdout",
          "output_type": "stream",
          "text": [
            "INFO:tensorflow:Unsupported signature for serialization: ((TensorSpec(shape=(512, 512), dtype=tf.float32, name='gradient'), <tensorflow.python.framework.func_graph.UnknownArgument object at 0x7f21b41f6130>, 139788544596688), {}).\n"
          ]
        },
        {
          "name": "stderr",
          "output_type": "stream",
          "text": [
            "INFO:tensorflow:Unsupported signature for serialization: ((TensorSpec(shape=(512, 512), dtype=tf.float32, name='gradient'), <tensorflow.python.framework.func_graph.UnknownArgument object at 0x7f21b41f6130>, 139788544596688), {}).\n"
          ]
        },
        {
          "name": "stdout",
          "output_type": "stream",
          "text": [
            "INFO:tensorflow:Unsupported signature for serialization: ((TensorSpec(shape=(512,), dtype=tf.float32, name='gradient'), <tensorflow.python.framework.func_graph.UnknownArgument object at 0x7f21b41880a0>, 139788544593968), {}).\n"
          ]
        },
        {
          "name": "stderr",
          "output_type": "stream",
          "text": [
            "INFO:tensorflow:Unsupported signature for serialization: ((TensorSpec(shape=(512,), dtype=tf.float32, name='gradient'), <tensorflow.python.framework.func_graph.UnknownArgument object at 0x7f21b41880a0>, 139788544593968), {}).\n"
          ]
        },
        {
          "name": "stdout",
          "output_type": "stream",
          "text": [
            "INFO:tensorflow:Unsupported signature for serialization: ((TensorSpec(shape=(512, 512), dtype=tf.float32, name='gradient'), <tensorflow.python.framework.func_graph.UnknownArgument object at 0x7f21b4188f70>, 139788544680624), {}).\n"
          ]
        },
        {
          "name": "stderr",
          "output_type": "stream",
          "text": [
            "INFO:tensorflow:Unsupported signature for serialization: ((TensorSpec(shape=(512, 512), dtype=tf.float32, name='gradient'), <tensorflow.python.framework.func_graph.UnknownArgument object at 0x7f21b4188f70>, 139788544680624), {}).\n"
          ]
        },
        {
          "name": "stdout",
          "output_type": "stream",
          "text": [
            "INFO:tensorflow:Unsupported signature for serialization: ((TensorSpec(shape=(512,), dtype=tf.float32, name='gradient'), <tensorflow.python.framework.func_graph.UnknownArgument object at 0x7f21b419aee0>, 139788544680864), {}).\n"
          ]
        },
        {
          "name": "stderr",
          "output_type": "stream",
          "text": [
            "INFO:tensorflow:Unsupported signature for serialization: ((TensorSpec(shape=(512,), dtype=tf.float32, name='gradient'), <tensorflow.python.framework.func_graph.UnknownArgument object at 0x7f21b419aee0>, 139788544680864), {}).\n"
          ]
        },
        {
          "name": "stdout",
          "output_type": "stream",
          "text": [
            "INFO:tensorflow:Unsupported signature for serialization: ((TensorSpec(shape=(512, 512), dtype=tf.float32, name='gradient'), <tensorflow.python.framework.func_graph.UnknownArgument object at 0x7f21b41afd60>, 139788544328768), {}).\n"
          ]
        },
        {
          "name": "stderr",
          "output_type": "stream",
          "text": [
            "INFO:tensorflow:Unsupported signature for serialization: ((TensorSpec(shape=(512, 512), dtype=tf.float32, name='gradient'), <tensorflow.python.framework.func_graph.UnknownArgument object at 0x7f21b41afd60>, 139788544328768), {}).\n"
          ]
        },
        {
          "name": "stdout",
          "output_type": "stream",
          "text": [
            "INFO:tensorflow:Unsupported signature for serialization: ((TensorSpec(shape=(512,), dtype=tf.float32, name='gradient'), <tensorflow.python.framework.func_graph.UnknownArgument object at 0x7f21b4141d00>, 139788544328688), {}).\n"
          ]
        },
        {
          "name": "stderr",
          "output_type": "stream",
          "text": [
            "INFO:tensorflow:Unsupported signature for serialization: ((TensorSpec(shape=(512,), dtype=tf.float32, name='gradient'), <tensorflow.python.framework.func_graph.UnknownArgument object at 0x7f21b4141d00>, 139788544328688), {}).\n"
          ]
        },
        {
          "name": "stdout",
          "output_type": "stream",
          "text": [
            "INFO:tensorflow:Unsupported signature for serialization: ((TensorSpec(shape=(512, 512), dtype=tf.float32, name='gradient'), <tensorflow.python.framework.func_graph.UnknownArgument object at 0x7f21b4155c10>, 139788544681264), {}).\n"
          ]
        },
        {
          "name": "stderr",
          "output_type": "stream",
          "text": [
            "INFO:tensorflow:Unsupported signature for serialization: ((TensorSpec(shape=(512, 512), dtype=tf.float32, name='gradient'), <tensorflow.python.framework.func_graph.UnknownArgument object at 0x7f21b4155c10>, 139788544681264), {}).\n"
          ]
        },
        {
          "name": "stdout",
          "output_type": "stream",
          "text": [
            "INFO:tensorflow:Unsupported signature for serialization: ((TensorSpec(shape=(512,), dtype=tf.float32, name='gradient'), <tensorflow.python.framework.func_graph.UnknownArgument object at 0x7f21b4168b80>, 139788544681184), {}).\n"
          ]
        },
        {
          "name": "stderr",
          "output_type": "stream",
          "text": [
            "INFO:tensorflow:Unsupported signature for serialization: ((TensorSpec(shape=(512,), dtype=tf.float32, name='gradient'), <tensorflow.python.framework.func_graph.UnknownArgument object at 0x7f21b4168b80>, 139788544681184), {}).\n"
          ]
        },
        {
          "name": "stdout",
          "output_type": "stream",
          "text": [
            "INFO:tensorflow:Unsupported signature for serialization: ((TensorSpec(shape=(512, 4), dtype=tf.float32, name='gradient'), <tensorflow.python.framework.func_graph.UnknownArgument object at 0x7f21b40fca90>, 139788544330688), {}).\n"
          ]
        },
        {
          "name": "stderr",
          "output_type": "stream",
          "text": [
            "INFO:tensorflow:Unsupported signature for serialization: ((TensorSpec(shape=(512, 4), dtype=tf.float32, name='gradient'), <tensorflow.python.framework.func_graph.UnknownArgument object at 0x7f21b40fca90>, 139788544330688), {}).\n"
          ]
        },
        {
          "name": "stdout",
          "output_type": "stream",
          "text": [
            "INFO:tensorflow:Unsupported signature for serialization: ((TensorSpec(shape=(4,), dtype=tf.float32, name='gradient'), <tensorflow.python.framework.func_graph.UnknownArgument object at 0x7f21b4111a00>, 139788544330368), {}).\n"
          ]
        },
        {
          "name": "stderr",
          "output_type": "stream",
          "text": [
            "INFO:tensorflow:Unsupported signature for serialization: ((TensorSpec(shape=(4,), dtype=tf.float32, name='gradient'), <tensorflow.python.framework.func_graph.UnknownArgument object at 0x7f21b4111a00>, 139788544330368), {}).\n"
          ]
        },
        {
          "name": "stdout",
          "output_type": "stream",
          "text": [
            "INFO:tensorflow:Unsupported signature for serialization: ((TensorSpec(shape=(23, 4196), dtype=tf.float32, name='gradient'), <tensorflow.python.framework.func_graph.UnknownArgument object at 0x7f21b420a5e0>, 139788544170064), {}).\n"
          ]
        },
        {
          "name": "stderr",
          "output_type": "stream",
          "text": [
            "INFO:tensorflow:Unsupported signature for serialization: ((TensorSpec(shape=(23, 4196), dtype=tf.float32, name='gradient'), <tensorflow.python.framework.func_graph.UnknownArgument object at 0x7f21b420a5e0>, 139788544170064), {}).\n"
          ]
        },
        {
          "name": "stdout",
          "output_type": "stream",
          "text": [
            "INFO:tensorflow:Unsupported signature for serialization: ((TensorSpec(shape=(4196,), dtype=tf.float32, name='gradient'), <tensorflow.python.framework.func_graph.UnknownArgument object at 0x7f21b4214b50>, 139788544168864), {}).\n"
          ]
        },
        {
          "name": "stderr",
          "output_type": "stream",
          "text": [
            "INFO:tensorflow:Unsupported signature for serialization: ((TensorSpec(shape=(4196,), dtype=tf.float32, name='gradient'), <tensorflow.python.framework.func_graph.UnknownArgument object at 0x7f21b4214b50>, 139788544168864), {}).\n"
          ]
        },
        {
          "name": "stdout",
          "output_type": "stream",
          "text": [
            "INFO:tensorflow:Unsupported signature for serialization: ((TensorSpec(shape=(4196, 512), dtype=tf.float32, name='gradient'), <tensorflow.python.framework.func_graph.UnknownArgument object at 0x7f21b4224ac0>, 139788544596528), {}).\n"
          ]
        },
        {
          "name": "stderr",
          "output_type": "stream",
          "text": [
            "INFO:tensorflow:Unsupported signature for serialization: ((TensorSpec(shape=(4196, 512), dtype=tf.float32, name='gradient'), <tensorflow.python.framework.func_graph.UnknownArgument object at 0x7f21b4224ac0>, 139788544596528), {}).\n"
          ]
        },
        {
          "name": "stdout",
          "output_type": "stream",
          "text": [
            "INFO:tensorflow:Unsupported signature for serialization: ((TensorSpec(shape=(512,), dtype=tf.float32, name='gradient'), <tensorflow.python.framework.func_graph.UnknownArgument object at 0x7f21b41baa90>, 139788544595488), {}).\n"
          ]
        },
        {
          "name": "stderr",
          "output_type": "stream",
          "text": [
            "INFO:tensorflow:Unsupported signature for serialization: ((TensorSpec(shape=(512,), dtype=tf.float32, name='gradient'), <tensorflow.python.framework.func_graph.UnknownArgument object at 0x7f21b41baa90>, 139788544595488), {}).\n"
          ]
        },
        {
          "name": "stdout",
          "output_type": "stream",
          "text": [
            "INFO:tensorflow:Unsupported signature for serialization: ((TensorSpec(shape=(512, 512), dtype=tf.float32, name='gradient'), <tensorflow.python.framework.func_graph.UnknownArgument object at 0x7f21b41d1a30>, 139788544433568), {}).\n"
          ]
        },
        {
          "name": "stderr",
          "output_type": "stream",
          "text": [
            "INFO:tensorflow:Unsupported signature for serialization: ((TensorSpec(shape=(512, 512), dtype=tf.float32, name='gradient'), <tensorflow.python.framework.func_graph.UnknownArgument object at 0x7f21b41d1a30>, 139788544433568), {}).\n"
          ]
        },
        {
          "name": "stdout",
          "output_type": "stream",
          "text": [
            "INFO:tensorflow:Unsupported signature for serialization: ((TensorSpec(shape=(512,), dtype=tf.float32, name='gradient'), <tensorflow.python.framework.func_graph.UnknownArgument object at 0x7f21b41df130>, 139788544433888), {}).\n"
          ]
        },
        {
          "name": "stderr",
          "output_type": "stream",
          "text": [
            "INFO:tensorflow:Unsupported signature for serialization: ((TensorSpec(shape=(512,), dtype=tf.float32, name='gradient'), <tensorflow.python.framework.func_graph.UnknownArgument object at 0x7f21b41df130>, 139788544433888), {}).\n"
          ]
        },
        {
          "name": "stdout",
          "output_type": "stream",
          "text": [
            "INFO:tensorflow:Unsupported signature for serialization: ((TensorSpec(shape=(512, 512), dtype=tf.float32, name='gradient'), <tensorflow.python.framework.func_graph.UnknownArgument object at 0x7f21b41f6130>, 139788544596688), {}).\n"
          ]
        },
        {
          "name": "stderr",
          "output_type": "stream",
          "text": [
            "INFO:tensorflow:Unsupported signature for serialization: ((TensorSpec(shape=(512, 512), dtype=tf.float32, name='gradient'), <tensorflow.python.framework.func_graph.UnknownArgument object at 0x7f21b41f6130>, 139788544596688), {}).\n"
          ]
        },
        {
          "name": "stdout",
          "output_type": "stream",
          "text": [
            "INFO:tensorflow:Unsupported signature for serialization: ((TensorSpec(shape=(512,), dtype=tf.float32, name='gradient'), <tensorflow.python.framework.func_graph.UnknownArgument object at 0x7f21b41880a0>, 139788544593968), {}).\n"
          ]
        },
        {
          "name": "stderr",
          "output_type": "stream",
          "text": [
            "INFO:tensorflow:Unsupported signature for serialization: ((TensorSpec(shape=(512,), dtype=tf.float32, name='gradient'), <tensorflow.python.framework.func_graph.UnknownArgument object at 0x7f21b41880a0>, 139788544593968), {}).\n"
          ]
        },
        {
          "name": "stdout",
          "output_type": "stream",
          "text": [
            "INFO:tensorflow:Unsupported signature for serialization: ((TensorSpec(shape=(512, 512), dtype=tf.float32, name='gradient'), <tensorflow.python.framework.func_graph.UnknownArgument object at 0x7f21b4188f70>, 139788544680624), {}).\n"
          ]
        },
        {
          "name": "stderr",
          "output_type": "stream",
          "text": [
            "INFO:tensorflow:Unsupported signature for serialization: ((TensorSpec(shape=(512, 512), dtype=tf.float32, name='gradient'), <tensorflow.python.framework.func_graph.UnknownArgument object at 0x7f21b4188f70>, 139788544680624), {}).\n"
          ]
        },
        {
          "name": "stdout",
          "output_type": "stream",
          "text": [
            "INFO:tensorflow:Unsupported signature for serialization: ((TensorSpec(shape=(512,), dtype=tf.float32, name='gradient'), <tensorflow.python.framework.func_graph.UnknownArgument object at 0x7f21b419aee0>, 139788544680864), {}).\n"
          ]
        },
        {
          "name": "stderr",
          "output_type": "stream",
          "text": [
            "INFO:tensorflow:Unsupported signature for serialization: ((TensorSpec(shape=(512,), dtype=tf.float32, name='gradient'), <tensorflow.python.framework.func_graph.UnknownArgument object at 0x7f21b419aee0>, 139788544680864), {}).\n"
          ]
        },
        {
          "name": "stdout",
          "output_type": "stream",
          "text": [
            "INFO:tensorflow:Unsupported signature for serialization: ((TensorSpec(shape=(512, 512), dtype=tf.float32, name='gradient'), <tensorflow.python.framework.func_graph.UnknownArgument object at 0x7f21b41afd60>, 139788544328768), {}).\n"
          ]
        },
        {
          "name": "stderr",
          "output_type": "stream",
          "text": [
            "INFO:tensorflow:Unsupported signature for serialization: ((TensorSpec(shape=(512, 512), dtype=tf.float32, name='gradient'), <tensorflow.python.framework.func_graph.UnknownArgument object at 0x7f21b41afd60>, 139788544328768), {}).\n"
          ]
        },
        {
          "name": "stdout",
          "output_type": "stream",
          "text": [
            "INFO:tensorflow:Unsupported signature for serialization: ((TensorSpec(shape=(512,), dtype=tf.float32, name='gradient'), <tensorflow.python.framework.func_graph.UnknownArgument object at 0x7f21b4141d00>, 139788544328688), {}).\n"
          ]
        },
        {
          "name": "stderr",
          "output_type": "stream",
          "text": [
            "INFO:tensorflow:Unsupported signature for serialization: ((TensorSpec(shape=(512,), dtype=tf.float32, name='gradient'), <tensorflow.python.framework.func_graph.UnknownArgument object at 0x7f21b4141d00>, 139788544328688), {}).\n"
          ]
        },
        {
          "name": "stdout",
          "output_type": "stream",
          "text": [
            "INFO:tensorflow:Unsupported signature for serialization: ((TensorSpec(shape=(512, 512), dtype=tf.float32, name='gradient'), <tensorflow.python.framework.func_graph.UnknownArgument object at 0x7f21b4155c10>, 139788544681264), {}).\n"
          ]
        },
        {
          "name": "stderr",
          "output_type": "stream",
          "text": [
            "INFO:tensorflow:Unsupported signature for serialization: ((TensorSpec(shape=(512, 512), dtype=tf.float32, name='gradient'), <tensorflow.python.framework.func_graph.UnknownArgument object at 0x7f21b4155c10>, 139788544681264), {}).\n"
          ]
        },
        {
          "name": "stdout",
          "output_type": "stream",
          "text": [
            "INFO:tensorflow:Unsupported signature for serialization: ((TensorSpec(shape=(512,), dtype=tf.float32, name='gradient'), <tensorflow.python.framework.func_graph.UnknownArgument object at 0x7f21b4168b80>, 139788544681184), {}).\n"
          ]
        },
        {
          "name": "stderr",
          "output_type": "stream",
          "text": [
            "INFO:tensorflow:Unsupported signature for serialization: ((TensorSpec(shape=(512,), dtype=tf.float32, name='gradient'), <tensorflow.python.framework.func_graph.UnknownArgument object at 0x7f21b4168b80>, 139788544681184), {}).\n"
          ]
        },
        {
          "name": "stdout",
          "output_type": "stream",
          "text": [
            "INFO:tensorflow:Unsupported signature for serialization: ((TensorSpec(shape=(512, 4), dtype=tf.float32, name='gradient'), <tensorflow.python.framework.func_graph.UnknownArgument object at 0x7f21b40fca90>, 139788544330688), {}).\n"
          ]
        },
        {
          "name": "stderr",
          "output_type": "stream",
          "text": [
            "INFO:tensorflow:Unsupported signature for serialization: ((TensorSpec(shape=(512, 4), dtype=tf.float32, name='gradient'), <tensorflow.python.framework.func_graph.UnknownArgument object at 0x7f21b40fca90>, 139788544330688), {}).\n"
          ]
        },
        {
          "name": "stdout",
          "output_type": "stream",
          "text": [
            "INFO:tensorflow:Unsupported signature for serialization: ((TensorSpec(shape=(4,), dtype=tf.float32, name='gradient'), <tensorflow.python.framework.func_graph.UnknownArgument object at 0x7f21b4111a00>, 139788544330368), {}).\n"
          ]
        },
        {
          "name": "stderr",
          "output_type": "stream",
          "text": [
            "INFO:tensorflow:Unsupported signature for serialization: ((TensorSpec(shape=(4,), dtype=tf.float32, name='gradient'), <tensorflow.python.framework.func_graph.UnknownArgument object at 0x7f21b4111a00>, 139788544330368), {}).\n"
          ]
        },
        {
          "name": "stdout",
          "output_type": "stream",
          "text": [
            "INFO:tensorflow:Assets written to: models/DNN/attempt_07/modelData/assets\n"
          ]
        },
        {
          "name": "stderr",
          "output_type": "stream",
          "text": [
            "INFO:tensorflow:Assets written to: models/DNN/attempt_07/modelData/assets\n"
          ]
        },
        {
          "name": "stdout",
          "output_type": "stream",
          "text": [
            "INFO:tensorflow:Unsupported signature for serialization: ((TensorSpec(shape=(23, 4196), dtype=tf.float32, name='gradient'), <tensorflow.python.framework.func_graph.UnknownArgument object at 0x7f2184e84640>, 139788544170064), {}).\n"
          ]
        },
        {
          "name": "stderr",
          "output_type": "stream",
          "text": [
            "INFO:tensorflow:Unsupported signature for serialization: ((TensorSpec(shape=(23, 4196), dtype=tf.float32, name='gradient'), <tensorflow.python.framework.func_graph.UnknownArgument object at 0x7f2184e84640>, 139788544170064), {}).\n"
          ]
        },
        {
          "name": "stdout",
          "output_type": "stream",
          "text": [
            "INFO:tensorflow:Unsupported signature for serialization: ((TensorSpec(shape=(4196,), dtype=tf.float32, name='gradient'), <tensorflow.python.framework.func_graph.UnknownArgument object at 0x7f2184e8dbb0>, 139788544168864), {}).\n"
          ]
        },
        {
          "name": "stderr",
          "output_type": "stream",
          "text": [
            "INFO:tensorflow:Unsupported signature for serialization: ((TensorSpec(shape=(4196,), dtype=tf.float32, name='gradient'), <tensorflow.python.framework.func_graph.UnknownArgument object at 0x7f2184e8dbb0>, 139788544168864), {}).\n"
          ]
        },
        {
          "name": "stdout",
          "output_type": "stream",
          "text": [
            "INFO:tensorflow:Unsupported signature for serialization: ((TensorSpec(shape=(4196, 512), dtype=tf.float32, name='gradient'), <tensorflow.python.framework.func_graph.UnknownArgument object at 0x7f2184e9db20>, 139788544596528), {}).\n"
          ]
        },
        {
          "name": "stderr",
          "output_type": "stream",
          "text": [
            "INFO:tensorflow:Unsupported signature for serialization: ((TensorSpec(shape=(4196, 512), dtype=tf.float32, name='gradient'), <tensorflow.python.framework.func_graph.UnknownArgument object at 0x7f2184e9db20>, 139788544596528), {}).\n"
          ]
        },
        {
          "name": "stdout",
          "output_type": "stream",
          "text": [
            "INFO:tensorflow:Unsupported signature for serialization: ((TensorSpec(shape=(512,), dtype=tf.float32, name='gradient'), <tensorflow.python.framework.func_graph.UnknownArgument object at 0x7f2184eb3af0>, 139788544595488), {}).\n"
          ]
        },
        {
          "name": "stderr",
          "output_type": "stream",
          "text": [
            "INFO:tensorflow:Unsupported signature for serialization: ((TensorSpec(shape=(512,), dtype=tf.float32, name='gradient'), <tensorflow.python.framework.func_graph.UnknownArgument object at 0x7f2184eb3af0>, 139788544595488), {}).\n"
          ]
        },
        {
          "name": "stdout",
          "output_type": "stream",
          "text": [
            "INFO:tensorflow:Unsupported signature for serialization: ((TensorSpec(shape=(512, 512), dtype=tf.float32, name='gradient'), <tensorflow.python.framework.func_graph.UnknownArgument object at 0x7f2184e46a60>, 139788544433568), {}).\n"
          ]
        },
        {
          "name": "stderr",
          "output_type": "stream",
          "text": [
            "INFO:tensorflow:Unsupported signature for serialization: ((TensorSpec(shape=(512, 512), dtype=tf.float32, name='gradient'), <tensorflow.python.framework.func_graph.UnknownArgument object at 0x7f2184e46a60>, 139788544433568), {}).\n"
          ]
        },
        {
          "name": "stdout",
          "output_type": "stream",
          "text": [
            "INFO:tensorflow:Unsupported signature for serialization: ((TensorSpec(shape=(512,), dtype=tf.float32, name='gradient'), <tensorflow.python.framework.func_graph.UnknownArgument object at 0x7f2184e5a220>, 139788544433888), {}).\n"
          ]
        },
        {
          "name": "stderr",
          "output_type": "stream",
          "text": [
            "INFO:tensorflow:Unsupported signature for serialization: ((TensorSpec(shape=(512,), dtype=tf.float32, name='gradient'), <tensorflow.python.framework.func_graph.UnknownArgument object at 0x7f2184e5a220>, 139788544433888), {}).\n"
          ]
        },
        {
          "name": "stdout",
          "output_type": "stream",
          "text": [
            "INFO:tensorflow:Unsupported signature for serialization: ((TensorSpec(shape=(512, 512), dtype=tf.float32, name='gradient'), <tensorflow.python.framework.func_graph.UnknownArgument object at 0x7f230ea872e0>, 139788544596688), {}).\n"
          ]
        },
        {
          "name": "stderr",
          "output_type": "stream",
          "text": [
            "INFO:tensorflow:Unsupported signature for serialization: ((TensorSpec(shape=(512, 512), dtype=tf.float32, name='gradient'), <tensorflow.python.framework.func_graph.UnknownArgument object at 0x7f230ea872e0>, 139788544596688), {}).\n"
          ]
        },
        {
          "name": "stdout",
          "output_type": "stream",
          "text": [
            "INFO:tensorflow:Unsupported signature for serialization: ((TensorSpec(shape=(512,), dtype=tf.float32, name='gradient'), <tensorflow.python.framework.func_graph.UnknownArgument object at 0x7f230e7c2d90>, 139788544593968), {}).\n"
          ]
        },
        {
          "name": "stderr",
          "output_type": "stream",
          "text": [
            "INFO:tensorflow:Unsupported signature for serialization: ((TensorSpec(shape=(512,), dtype=tf.float32, name='gradient'), <tensorflow.python.framework.func_graph.UnknownArgument object at 0x7f230e7c2d90>, 139788544593968), {}).\n"
          ]
        },
        {
          "name": "stdout",
          "output_type": "stream",
          "text": [
            "INFO:tensorflow:Unsupported signature for serialization: ((TensorSpec(shape=(512, 512), dtype=tf.float32, name='gradient'), <tensorflow.python.framework.func_graph.UnknownArgument object at 0x7f230e87a280>, 139788544680624), {}).\n"
          ]
        },
        {
          "name": "stderr",
          "output_type": "stream",
          "text": [
            "INFO:tensorflow:Unsupported signature for serialization: ((TensorSpec(shape=(512, 512), dtype=tf.float32, name='gradient'), <tensorflow.python.framework.func_graph.UnknownArgument object at 0x7f230e87a280>, 139788544680624), {}).\n"
          ]
        },
        {
          "name": "stdout",
          "output_type": "stream",
          "text": [
            "INFO:tensorflow:Unsupported signature for serialization: ((TensorSpec(shape=(512,), dtype=tf.float32, name='gradient'), <tensorflow.python.framework.func_graph.UnknownArgument object at 0x7f230e580340>, 139788544680864), {}).\n"
          ]
        },
        {
          "name": "stderr",
          "output_type": "stream",
          "text": [
            "INFO:tensorflow:Unsupported signature for serialization: ((TensorSpec(shape=(512,), dtype=tf.float32, name='gradient'), <tensorflow.python.framework.func_graph.UnknownArgument object at 0x7f230e580340>, 139788544680864), {}).\n"
          ]
        },
        {
          "name": "stdout",
          "output_type": "stream",
          "text": [
            "INFO:tensorflow:Unsupported signature for serialization: ((TensorSpec(shape=(512, 512), dtype=tf.float32, name='gradient'), <tensorflow.python.framework.func_graph.UnknownArgument object at 0x7f230eae95e0>, 139788544328768), {}).\n"
          ]
        },
        {
          "name": "stderr",
          "output_type": "stream",
          "text": [
            "INFO:tensorflow:Unsupported signature for serialization: ((TensorSpec(shape=(512, 512), dtype=tf.float32, name='gradient'), <tensorflow.python.framework.func_graph.UnknownArgument object at 0x7f230eae95e0>, 139788544328768), {}).\n"
          ]
        },
        {
          "name": "stdout",
          "output_type": "stream",
          "text": [
            "INFO:tensorflow:Unsupported signature for serialization: ((TensorSpec(shape=(512,), dtype=tf.float32, name='gradient'), <tensorflow.python.framework.func_graph.UnknownArgument object at 0x7f230e80f640>, 139788544328688), {}).\n"
          ]
        },
        {
          "name": "stderr",
          "output_type": "stream",
          "text": [
            "INFO:tensorflow:Unsupported signature for serialization: ((TensorSpec(shape=(512,), dtype=tf.float32, name='gradient'), <tensorflow.python.framework.func_graph.UnknownArgument object at 0x7f230e80f640>, 139788544328688), {}).\n"
          ]
        },
        {
          "name": "stdout",
          "output_type": "stream",
          "text": [
            "INFO:tensorflow:Unsupported signature for serialization: ((TensorSpec(shape=(512, 512), dtype=tf.float32, name='gradient'), <tensorflow.python.framework.func_graph.UnknownArgument object at 0x7f21847c2cd0>, 139788544681264), {}).\n"
          ]
        },
        {
          "name": "stderr",
          "output_type": "stream",
          "text": [
            "INFO:tensorflow:Unsupported signature for serialization: ((TensorSpec(shape=(512, 512), dtype=tf.float32, name='gradient'), <tensorflow.python.framework.func_graph.UnknownArgument object at 0x7f21847c2cd0>, 139788544681264), {}).\n"
          ]
        },
        {
          "name": "stdout",
          "output_type": "stream",
          "text": [
            "INFO:tensorflow:Unsupported signature for serialization: ((TensorSpec(shape=(512,), dtype=tf.float32, name='gradient'), <tensorflow.python.framework.func_graph.UnknownArgument object at 0x7f21b42f6a00>, 139788544681184), {}).\n"
          ]
        },
        {
          "name": "stderr",
          "output_type": "stream",
          "text": [
            "INFO:tensorflow:Unsupported signature for serialization: ((TensorSpec(shape=(512,), dtype=tf.float32, name='gradient'), <tensorflow.python.framework.func_graph.UnknownArgument object at 0x7f21b42f6a00>, 139788544681184), {}).\n"
          ]
        },
        {
          "name": "stdout",
          "output_type": "stream",
          "text": [
            "INFO:tensorflow:Unsupported signature for serialization: ((TensorSpec(shape=(512, 4), dtype=tf.float32, name='gradient'), <tensorflow.python.framework.func_graph.UnknownArgument object at 0x7f21b435ddc0>, 139788544330688), {}).\n"
          ]
        },
        {
          "name": "stderr",
          "output_type": "stream",
          "text": [
            "INFO:tensorflow:Unsupported signature for serialization: ((TensorSpec(shape=(512, 4), dtype=tf.float32, name='gradient'), <tensorflow.python.framework.func_graph.UnknownArgument object at 0x7f21b435ddc0>, 139788544330688), {}).\n"
          ]
        },
        {
          "name": "stdout",
          "output_type": "stream",
          "text": [
            "INFO:tensorflow:Unsupported signature for serialization: ((TensorSpec(shape=(4,), dtype=tf.float32, name='gradient'), <tensorflow.python.framework.func_graph.UnknownArgument object at 0x7f220408cbb0>, 139788544330368), {}).\n"
          ]
        },
        {
          "name": "stderr",
          "output_type": "stream",
          "text": [
            "INFO:tensorflow:Unsupported signature for serialization: ((TensorSpec(shape=(4,), dtype=tf.float32, name='gradient'), <tensorflow.python.framework.func_graph.UnknownArgument object at 0x7f220408cbb0>, 139788544330368), {}).\n"
          ]
        },
        {
          "name": "stdout",
          "output_type": "stream",
          "text": [
            "INFO:tensorflow:Unsupported signature for serialization: ((TensorSpec(shape=(23, 4196), dtype=tf.float32, name='gradient'), <tensorflow.python.framework.func_graph.UnknownArgument object at 0x7f2184e84640>, 139788544170064), {}).\n"
          ]
        },
        {
          "name": "stderr",
          "output_type": "stream",
          "text": [
            "INFO:tensorflow:Unsupported signature for serialization: ((TensorSpec(shape=(23, 4196), dtype=tf.float32, name='gradient'), <tensorflow.python.framework.func_graph.UnknownArgument object at 0x7f2184e84640>, 139788544170064), {}).\n"
          ]
        },
        {
          "name": "stdout",
          "output_type": "stream",
          "text": [
            "INFO:tensorflow:Unsupported signature for serialization: ((TensorSpec(shape=(4196,), dtype=tf.float32, name='gradient'), <tensorflow.python.framework.func_graph.UnknownArgument object at 0x7f2184e8dbb0>, 139788544168864), {}).\n"
          ]
        },
        {
          "name": "stderr",
          "output_type": "stream",
          "text": [
            "INFO:tensorflow:Unsupported signature for serialization: ((TensorSpec(shape=(4196,), dtype=tf.float32, name='gradient'), <tensorflow.python.framework.func_graph.UnknownArgument object at 0x7f2184e8dbb0>, 139788544168864), {}).\n"
          ]
        },
        {
          "name": "stdout",
          "output_type": "stream",
          "text": [
            "INFO:tensorflow:Unsupported signature for serialization: ((TensorSpec(shape=(4196, 512), dtype=tf.float32, name='gradient'), <tensorflow.python.framework.func_graph.UnknownArgument object at 0x7f2184e9db20>, 139788544596528), {}).\n"
          ]
        },
        {
          "name": "stderr",
          "output_type": "stream",
          "text": [
            "INFO:tensorflow:Unsupported signature for serialization: ((TensorSpec(shape=(4196, 512), dtype=tf.float32, name='gradient'), <tensorflow.python.framework.func_graph.UnknownArgument object at 0x7f2184e9db20>, 139788544596528), {}).\n"
          ]
        },
        {
          "name": "stdout",
          "output_type": "stream",
          "text": [
            "INFO:tensorflow:Unsupported signature for serialization: ((TensorSpec(shape=(512,), dtype=tf.float32, name='gradient'), <tensorflow.python.framework.func_graph.UnknownArgument object at 0x7f2184eb3af0>, 139788544595488), {}).\n"
          ]
        },
        {
          "name": "stderr",
          "output_type": "stream",
          "text": [
            "INFO:tensorflow:Unsupported signature for serialization: ((TensorSpec(shape=(512,), dtype=tf.float32, name='gradient'), <tensorflow.python.framework.func_graph.UnknownArgument object at 0x7f2184eb3af0>, 139788544595488), {}).\n"
          ]
        },
        {
          "name": "stdout",
          "output_type": "stream",
          "text": [
            "INFO:tensorflow:Unsupported signature for serialization: ((TensorSpec(shape=(512, 512), dtype=tf.float32, name='gradient'), <tensorflow.python.framework.func_graph.UnknownArgument object at 0x7f2184e46a60>, 139788544433568), {}).\n"
          ]
        },
        {
          "name": "stderr",
          "output_type": "stream",
          "text": [
            "INFO:tensorflow:Unsupported signature for serialization: ((TensorSpec(shape=(512, 512), dtype=tf.float32, name='gradient'), <tensorflow.python.framework.func_graph.UnknownArgument object at 0x7f2184e46a60>, 139788544433568), {}).\n"
          ]
        },
        {
          "name": "stdout",
          "output_type": "stream",
          "text": [
            "INFO:tensorflow:Unsupported signature for serialization: ((TensorSpec(shape=(512,), dtype=tf.float32, name='gradient'), <tensorflow.python.framework.func_graph.UnknownArgument object at 0x7f2184e5a220>, 139788544433888), {}).\n"
          ]
        },
        {
          "name": "stderr",
          "output_type": "stream",
          "text": [
            "INFO:tensorflow:Unsupported signature for serialization: ((TensorSpec(shape=(512,), dtype=tf.float32, name='gradient'), <tensorflow.python.framework.func_graph.UnknownArgument object at 0x7f2184e5a220>, 139788544433888), {}).\n"
          ]
        },
        {
          "name": "stdout",
          "output_type": "stream",
          "text": [
            "INFO:tensorflow:Unsupported signature for serialization: ((TensorSpec(shape=(512, 512), dtype=tf.float32, name='gradient'), <tensorflow.python.framework.func_graph.UnknownArgument object at 0x7f230ea872e0>, 139788544596688), {}).\n"
          ]
        },
        {
          "name": "stderr",
          "output_type": "stream",
          "text": [
            "INFO:tensorflow:Unsupported signature for serialization: ((TensorSpec(shape=(512, 512), dtype=tf.float32, name='gradient'), <tensorflow.python.framework.func_graph.UnknownArgument object at 0x7f230ea872e0>, 139788544596688), {}).\n"
          ]
        },
        {
          "name": "stdout",
          "output_type": "stream",
          "text": [
            "INFO:tensorflow:Unsupported signature for serialization: ((TensorSpec(shape=(512,), dtype=tf.float32, name='gradient'), <tensorflow.python.framework.func_graph.UnknownArgument object at 0x7f230e7c2d90>, 139788544593968), {}).\n"
          ]
        },
        {
          "name": "stderr",
          "output_type": "stream",
          "text": [
            "INFO:tensorflow:Unsupported signature for serialization: ((TensorSpec(shape=(512,), dtype=tf.float32, name='gradient'), <tensorflow.python.framework.func_graph.UnknownArgument object at 0x7f230e7c2d90>, 139788544593968), {}).\n"
          ]
        },
        {
          "name": "stdout",
          "output_type": "stream",
          "text": [
            "INFO:tensorflow:Unsupported signature for serialization: ((TensorSpec(shape=(512, 512), dtype=tf.float32, name='gradient'), <tensorflow.python.framework.func_graph.UnknownArgument object at 0x7f230e87a280>, 139788544680624), {}).\n"
          ]
        },
        {
          "name": "stderr",
          "output_type": "stream",
          "text": [
            "INFO:tensorflow:Unsupported signature for serialization: ((TensorSpec(shape=(512, 512), dtype=tf.float32, name='gradient'), <tensorflow.python.framework.func_graph.UnknownArgument object at 0x7f230e87a280>, 139788544680624), {}).\n"
          ]
        },
        {
          "name": "stdout",
          "output_type": "stream",
          "text": [
            "INFO:tensorflow:Unsupported signature for serialization: ((TensorSpec(shape=(512,), dtype=tf.float32, name='gradient'), <tensorflow.python.framework.func_graph.UnknownArgument object at 0x7f230e580340>, 139788544680864), {}).\n"
          ]
        },
        {
          "name": "stderr",
          "output_type": "stream",
          "text": [
            "INFO:tensorflow:Unsupported signature for serialization: ((TensorSpec(shape=(512,), dtype=tf.float32, name='gradient'), <tensorflow.python.framework.func_graph.UnknownArgument object at 0x7f230e580340>, 139788544680864), {}).\n"
          ]
        },
        {
          "name": "stdout",
          "output_type": "stream",
          "text": [
            "INFO:tensorflow:Unsupported signature for serialization: ((TensorSpec(shape=(512, 512), dtype=tf.float32, name='gradient'), <tensorflow.python.framework.func_graph.UnknownArgument object at 0x7f230eae95e0>, 139788544328768), {}).\n"
          ]
        },
        {
          "name": "stderr",
          "output_type": "stream",
          "text": [
            "INFO:tensorflow:Unsupported signature for serialization: ((TensorSpec(shape=(512, 512), dtype=tf.float32, name='gradient'), <tensorflow.python.framework.func_graph.UnknownArgument object at 0x7f230eae95e0>, 139788544328768), {}).\n"
          ]
        },
        {
          "name": "stdout",
          "output_type": "stream",
          "text": [
            "INFO:tensorflow:Unsupported signature for serialization: ((TensorSpec(shape=(512,), dtype=tf.float32, name='gradient'), <tensorflow.python.framework.func_graph.UnknownArgument object at 0x7f230e80f640>, 139788544328688), {}).\n"
          ]
        },
        {
          "name": "stderr",
          "output_type": "stream",
          "text": [
            "INFO:tensorflow:Unsupported signature for serialization: ((TensorSpec(shape=(512,), dtype=tf.float32, name='gradient'), <tensorflow.python.framework.func_graph.UnknownArgument object at 0x7f230e80f640>, 139788544328688), {}).\n"
          ]
        },
        {
          "name": "stdout",
          "output_type": "stream",
          "text": [
            "INFO:tensorflow:Unsupported signature for serialization: ((TensorSpec(shape=(512, 512), dtype=tf.float32, name='gradient'), <tensorflow.python.framework.func_graph.UnknownArgument object at 0x7f21847c2cd0>, 139788544681264), {}).\n"
          ]
        },
        {
          "name": "stderr",
          "output_type": "stream",
          "text": [
            "INFO:tensorflow:Unsupported signature for serialization: ((TensorSpec(shape=(512, 512), dtype=tf.float32, name='gradient'), <tensorflow.python.framework.func_graph.UnknownArgument object at 0x7f21847c2cd0>, 139788544681264), {}).\n"
          ]
        },
        {
          "name": "stdout",
          "output_type": "stream",
          "text": [
            "INFO:tensorflow:Unsupported signature for serialization: ((TensorSpec(shape=(512,), dtype=tf.float32, name='gradient'), <tensorflow.python.framework.func_graph.UnknownArgument object at 0x7f21b42f6a00>, 139788544681184), {}).\n"
          ]
        },
        {
          "name": "stderr",
          "output_type": "stream",
          "text": [
            "INFO:tensorflow:Unsupported signature for serialization: ((TensorSpec(shape=(512,), dtype=tf.float32, name='gradient'), <tensorflow.python.framework.func_graph.UnknownArgument object at 0x7f21b42f6a00>, 139788544681184), {}).\n"
          ]
        },
        {
          "name": "stdout",
          "output_type": "stream",
          "text": [
            "INFO:tensorflow:Unsupported signature for serialization: ((TensorSpec(shape=(512, 4), dtype=tf.float32, name='gradient'), <tensorflow.python.framework.func_graph.UnknownArgument object at 0x7f21b435ddc0>, 139788544330688), {}).\n"
          ]
        },
        {
          "name": "stderr",
          "output_type": "stream",
          "text": [
            "INFO:tensorflow:Unsupported signature for serialization: ((TensorSpec(shape=(512, 4), dtype=tf.float32, name='gradient'), <tensorflow.python.framework.func_graph.UnknownArgument object at 0x7f21b435ddc0>, 139788544330688), {}).\n"
          ]
        },
        {
          "name": "stdout",
          "output_type": "stream",
          "text": [
            "INFO:tensorflow:Unsupported signature for serialization: ((TensorSpec(shape=(4,), dtype=tf.float32, name='gradient'), <tensorflow.python.framework.func_graph.UnknownArgument object at 0x7f220408cbb0>, 139788544330368), {}).\n"
          ]
        },
        {
          "name": "stderr",
          "output_type": "stream",
          "text": [
            "INFO:tensorflow:Unsupported signature for serialization: ((TensorSpec(shape=(4,), dtype=tf.float32, name='gradient'), <tensorflow.python.framework.func_graph.UnknownArgument object at 0x7f220408cbb0>, 139788544330368), {}).\n"
          ]
        },
        {
          "name": "stdout",
          "output_type": "stream",
          "text": [
            "INFO:tensorflow:Assets written to: models/DNN/attempt_08/modelData/assets\n"
          ]
        },
        {
          "name": "stderr",
          "output_type": "stream",
          "text": [
            "INFO:tensorflow:Assets written to: models/DNN/attempt_08/modelData/assets\n"
          ]
        },
        {
          "name": "stdout",
          "output_type": "stream",
          "text": [
            "INFO:tensorflow:Unsupported signature for serialization: ((TensorSpec(shape=(23, 4196), dtype=tf.float32, name='gradient'), <tensorflow.python.framework.func_graph.UnknownArgument object at 0x7f250656d8e0>, 139788544170064), {}).\n"
          ]
        },
        {
          "name": "stderr",
          "output_type": "stream",
          "text": [
            "INFO:tensorflow:Unsupported signature for serialization: ((TensorSpec(shape=(23, 4196), dtype=tf.float32, name='gradient'), <tensorflow.python.framework.func_graph.UnknownArgument object at 0x7f250656d8e0>, 139788544170064), {}).\n"
          ]
        },
        {
          "name": "stdout",
          "output_type": "stream",
          "text": [
            "INFO:tensorflow:Unsupported signature for serialization: ((TensorSpec(shape=(4196,), dtype=tf.float32, name='gradient'), <tensorflow.python.framework.func_graph.UnknownArgument object at 0x7f230ef02e20>, 139788544168864), {}).\n"
          ]
        },
        {
          "name": "stderr",
          "output_type": "stream",
          "text": [
            "INFO:tensorflow:Unsupported signature for serialization: ((TensorSpec(shape=(4196,), dtype=tf.float32, name='gradient'), <tensorflow.python.framework.func_graph.UnknownArgument object at 0x7f230ef02e20>, 139788544168864), {}).\n"
          ]
        },
        {
          "name": "stdout",
          "output_type": "stream",
          "text": [
            "INFO:tensorflow:Unsupported signature for serialization: ((TensorSpec(shape=(4196, 512), dtype=tf.float32, name='gradient'), <tensorflow.python.framework.func_graph.UnknownArgument object at 0x7f22782af5e0>, 139788544596528), {}).\n"
          ]
        },
        {
          "name": "stderr",
          "output_type": "stream",
          "text": [
            "INFO:tensorflow:Unsupported signature for serialization: ((TensorSpec(shape=(4196, 512), dtype=tf.float32, name='gradient'), <tensorflow.python.framework.func_graph.UnknownArgument object at 0x7f22782af5e0>, 139788544596528), {}).\n"
          ]
        },
        {
          "name": "stdout",
          "output_type": "stream",
          "text": [
            "INFO:tensorflow:Unsupported signature for serialization: ((TensorSpec(shape=(512,), dtype=tf.float32, name='gradient'), <tensorflow.python.framework.func_graph.UnknownArgument object at 0x7f230ef94730>, 139788544595488), {}).\n"
          ]
        },
        {
          "name": "stderr",
          "output_type": "stream",
          "text": [
            "INFO:tensorflow:Unsupported signature for serialization: ((TensorSpec(shape=(512,), dtype=tf.float32, name='gradient'), <tensorflow.python.framework.func_graph.UnknownArgument object at 0x7f230ef94730>, 139788544595488), {}).\n"
          ]
        },
        {
          "name": "stdout",
          "output_type": "stream",
          "text": [
            "INFO:tensorflow:Unsupported signature for serialization: ((TensorSpec(shape=(512, 512), dtype=tf.float32, name='gradient'), <tensorflow.python.framework.func_graph.UnknownArgument object at 0x7f2506702dc0>, 139788544433568), {}).\n"
          ]
        },
        {
          "name": "stderr",
          "output_type": "stream",
          "text": [
            "INFO:tensorflow:Unsupported signature for serialization: ((TensorSpec(shape=(512, 512), dtype=tf.float32, name='gradient'), <tensorflow.python.framework.func_graph.UnknownArgument object at 0x7f2506702dc0>, 139788544433568), {}).\n"
          ]
        },
        {
          "name": "stdout",
          "output_type": "stream",
          "text": [
            "INFO:tensorflow:Unsupported signature for serialization: ((TensorSpec(shape=(512,), dtype=tf.float32, name='gradient'), <tensorflow.python.framework.func_graph.UnknownArgument object at 0x7f24fe24cd30>, 139788544433888), {}).\n"
          ]
        },
        {
          "name": "stderr",
          "output_type": "stream",
          "text": [
            "INFO:tensorflow:Unsupported signature for serialization: ((TensorSpec(shape=(512,), dtype=tf.float32, name='gradient'), <tensorflow.python.framework.func_graph.UnknownArgument object at 0x7f24fe24cd30>, 139788544433888), {}).\n"
          ]
        },
        {
          "name": "stdout",
          "output_type": "stream",
          "text": [
            "INFO:tensorflow:Unsupported signature for serialization: ((TensorSpec(shape=(512, 512), dtype=tf.float32, name='gradient'), <tensorflow.python.framework.func_graph.UnknownArgument object at 0x7f230cfb1100>, 139788544596688), {}).\n"
          ]
        },
        {
          "name": "stderr",
          "output_type": "stream",
          "text": [
            "INFO:tensorflow:Unsupported signature for serialization: ((TensorSpec(shape=(512, 512), dtype=tf.float32, name='gradient'), <tensorflow.python.framework.func_graph.UnknownArgument object at 0x7f230cfb1100>, 139788544596688), {}).\n"
          ]
        },
        {
          "name": "stdout",
          "output_type": "stream",
          "text": [
            "INFO:tensorflow:Unsupported signature for serialization: ((TensorSpec(shape=(512,), dtype=tf.float32, name='gradient'), <tensorflow.python.framework.func_graph.UnknownArgument object at 0x7f25001c17f0>, 139788544593968), {}).\n"
          ]
        },
        {
          "name": "stderr",
          "output_type": "stream",
          "text": [
            "INFO:tensorflow:Unsupported signature for serialization: ((TensorSpec(shape=(512,), dtype=tf.float32, name='gradient'), <tensorflow.python.framework.func_graph.UnknownArgument object at 0x7f25001c17f0>, 139788544593968), {}).\n"
          ]
        },
        {
          "name": "stdout",
          "output_type": "stream",
          "text": [
            "INFO:tensorflow:Unsupported signature for serialization: ((TensorSpec(shape=(512, 512), dtype=tf.float32, name='gradient'), <tensorflow.python.framework.func_graph.UnknownArgument object at 0x7f230d773e50>, 139788544680624), {}).\n"
          ]
        },
        {
          "name": "stderr",
          "output_type": "stream",
          "text": [
            "INFO:tensorflow:Unsupported signature for serialization: ((TensorSpec(shape=(512, 512), dtype=tf.float32, name='gradient'), <tensorflow.python.framework.func_graph.UnknownArgument object at 0x7f230d773e50>, 139788544680624), {}).\n"
          ]
        },
        {
          "name": "stdout",
          "output_type": "stream",
          "text": [
            "INFO:tensorflow:Unsupported signature for serialization: ((TensorSpec(shape=(512,), dtype=tf.float32, name='gradient'), <tensorflow.python.framework.func_graph.UnknownArgument object at 0x7f22e0648520>, 139788544680864), {}).\n"
          ]
        },
        {
          "name": "stderr",
          "output_type": "stream",
          "text": [
            "INFO:tensorflow:Unsupported signature for serialization: ((TensorSpec(shape=(512,), dtype=tf.float32, name='gradient'), <tensorflow.python.framework.func_graph.UnknownArgument object at 0x7f22e0648520>, 139788544680864), {}).\n"
          ]
        },
        {
          "name": "stdout",
          "output_type": "stream",
          "text": [
            "INFO:tensorflow:Unsupported signature for serialization: ((TensorSpec(shape=(512, 512), dtype=tf.float32, name='gradient'), <tensorflow.python.framework.func_graph.UnknownArgument object at 0x7f22e06bdb80>, 139788544328768), {}).\n"
          ]
        },
        {
          "name": "stderr",
          "output_type": "stream",
          "text": [
            "INFO:tensorflow:Unsupported signature for serialization: ((TensorSpec(shape=(512, 512), dtype=tf.float32, name='gradient'), <tensorflow.python.framework.func_graph.UnknownArgument object at 0x7f22e06bdb80>, 139788544328768), {}).\n"
          ]
        },
        {
          "name": "stdout",
          "output_type": "stream",
          "text": [
            "INFO:tensorflow:Unsupported signature for serialization: ((TensorSpec(shape=(512,), dtype=tf.float32, name='gradient'), <tensorflow.python.framework.func_graph.UnknownArgument object at 0x7f230dbfd3d0>, 139788544328688), {}).\n"
          ]
        },
        {
          "name": "stderr",
          "output_type": "stream",
          "text": [
            "INFO:tensorflow:Unsupported signature for serialization: ((TensorSpec(shape=(512,), dtype=tf.float32, name='gradient'), <tensorflow.python.framework.func_graph.UnknownArgument object at 0x7f230dbfd3d0>, 139788544328688), {}).\n"
          ]
        },
        {
          "name": "stdout",
          "output_type": "stream",
          "text": [
            "INFO:tensorflow:Unsupported signature for serialization: ((TensorSpec(shape=(512, 512), dtype=tf.float32, name='gradient'), <tensorflow.python.framework.func_graph.UnknownArgument object at 0x7f230dc7c3d0>, 139788544681264), {}).\n"
          ]
        },
        {
          "name": "stderr",
          "output_type": "stream",
          "text": [
            "INFO:tensorflow:Unsupported signature for serialization: ((TensorSpec(shape=(512, 512), dtype=tf.float32, name='gradient'), <tensorflow.python.framework.func_graph.UnknownArgument object at 0x7f230dc7c3d0>, 139788544681264), {}).\n"
          ]
        },
        {
          "name": "stdout",
          "output_type": "stream",
          "text": [
            "INFO:tensorflow:Unsupported signature for serialization: ((TensorSpec(shape=(512,), dtype=tf.float32, name='gradient'), <tensorflow.python.framework.func_graph.UnknownArgument object at 0x7f230dcee4c0>, 139788544681184), {}).\n"
          ]
        },
        {
          "name": "stderr",
          "output_type": "stream",
          "text": [
            "INFO:tensorflow:Unsupported signature for serialization: ((TensorSpec(shape=(512,), dtype=tf.float32, name='gradient'), <tensorflow.python.framework.func_graph.UnknownArgument object at 0x7f230dcee4c0>, 139788544681184), {}).\n"
          ]
        },
        {
          "name": "stdout",
          "output_type": "stream",
          "text": [
            "INFO:tensorflow:Unsupported signature for serialization: ((TensorSpec(shape=(512, 4), dtype=tf.float32, name='gradient'), <tensorflow.python.framework.func_graph.UnknownArgument object at 0x7f230dce81c0>, 139788544330688), {}).\n"
          ]
        },
        {
          "name": "stderr",
          "output_type": "stream",
          "text": [
            "INFO:tensorflow:Unsupported signature for serialization: ((TensorSpec(shape=(512, 4), dtype=tf.float32, name='gradient'), <tensorflow.python.framework.func_graph.UnknownArgument object at 0x7f230dce81c0>, 139788544330688), {}).\n"
          ]
        },
        {
          "name": "stdout",
          "output_type": "stream",
          "text": [
            "INFO:tensorflow:Unsupported signature for serialization: ((TensorSpec(shape=(4,), dtype=tf.float32, name='gradient'), <tensorflow.python.framework.func_graph.UnknownArgument object at 0x7f230dce4700>, 139788544330368), {}).\n"
          ]
        },
        {
          "name": "stderr",
          "output_type": "stream",
          "text": [
            "INFO:tensorflow:Unsupported signature for serialization: ((TensorSpec(shape=(4,), dtype=tf.float32, name='gradient'), <tensorflow.python.framework.func_graph.UnknownArgument object at 0x7f230dce4700>, 139788544330368), {}).\n"
          ]
        },
        {
          "name": "stdout",
          "output_type": "stream",
          "text": [
            "INFO:tensorflow:Unsupported signature for serialization: ((TensorSpec(shape=(23, 4196), dtype=tf.float32, name='gradient'), <tensorflow.python.framework.func_graph.UnknownArgument object at 0x7f250656d8e0>, 139788544170064), {}).\n"
          ]
        },
        {
          "name": "stderr",
          "output_type": "stream",
          "text": [
            "INFO:tensorflow:Unsupported signature for serialization: ((TensorSpec(shape=(23, 4196), dtype=tf.float32, name='gradient'), <tensorflow.python.framework.func_graph.UnknownArgument object at 0x7f250656d8e0>, 139788544170064), {}).\n"
          ]
        },
        {
          "name": "stdout",
          "output_type": "stream",
          "text": [
            "INFO:tensorflow:Unsupported signature for serialization: ((TensorSpec(shape=(4196,), dtype=tf.float32, name='gradient'), <tensorflow.python.framework.func_graph.UnknownArgument object at 0x7f230ef02e20>, 139788544168864), {}).\n"
          ]
        },
        {
          "name": "stderr",
          "output_type": "stream",
          "text": [
            "INFO:tensorflow:Unsupported signature for serialization: ((TensorSpec(shape=(4196,), dtype=tf.float32, name='gradient'), <tensorflow.python.framework.func_graph.UnknownArgument object at 0x7f230ef02e20>, 139788544168864), {}).\n"
          ]
        },
        {
          "name": "stdout",
          "output_type": "stream",
          "text": [
            "INFO:tensorflow:Unsupported signature for serialization: ((TensorSpec(shape=(4196, 512), dtype=tf.float32, name='gradient'), <tensorflow.python.framework.func_graph.UnknownArgument object at 0x7f22782af5e0>, 139788544596528), {}).\n"
          ]
        },
        {
          "name": "stderr",
          "output_type": "stream",
          "text": [
            "INFO:tensorflow:Unsupported signature for serialization: ((TensorSpec(shape=(4196, 512), dtype=tf.float32, name='gradient'), <tensorflow.python.framework.func_graph.UnknownArgument object at 0x7f22782af5e0>, 139788544596528), {}).\n"
          ]
        },
        {
          "name": "stdout",
          "output_type": "stream",
          "text": [
            "INFO:tensorflow:Unsupported signature for serialization: ((TensorSpec(shape=(512,), dtype=tf.float32, name='gradient'), <tensorflow.python.framework.func_graph.UnknownArgument object at 0x7f230ef94730>, 139788544595488), {}).\n"
          ]
        },
        {
          "name": "stderr",
          "output_type": "stream",
          "text": [
            "INFO:tensorflow:Unsupported signature for serialization: ((TensorSpec(shape=(512,), dtype=tf.float32, name='gradient'), <tensorflow.python.framework.func_graph.UnknownArgument object at 0x7f230ef94730>, 139788544595488), {}).\n"
          ]
        },
        {
          "name": "stdout",
          "output_type": "stream",
          "text": [
            "INFO:tensorflow:Unsupported signature for serialization: ((TensorSpec(shape=(512, 512), dtype=tf.float32, name='gradient'), <tensorflow.python.framework.func_graph.UnknownArgument object at 0x7f2506702dc0>, 139788544433568), {}).\n"
          ]
        },
        {
          "name": "stderr",
          "output_type": "stream",
          "text": [
            "INFO:tensorflow:Unsupported signature for serialization: ((TensorSpec(shape=(512, 512), dtype=tf.float32, name='gradient'), <tensorflow.python.framework.func_graph.UnknownArgument object at 0x7f2506702dc0>, 139788544433568), {}).\n"
          ]
        },
        {
          "name": "stdout",
          "output_type": "stream",
          "text": [
            "INFO:tensorflow:Unsupported signature for serialization: ((TensorSpec(shape=(512,), dtype=tf.float32, name='gradient'), <tensorflow.python.framework.func_graph.UnknownArgument object at 0x7f24fe24cd30>, 139788544433888), {}).\n"
          ]
        },
        {
          "name": "stderr",
          "output_type": "stream",
          "text": [
            "INFO:tensorflow:Unsupported signature for serialization: ((TensorSpec(shape=(512,), dtype=tf.float32, name='gradient'), <tensorflow.python.framework.func_graph.UnknownArgument object at 0x7f24fe24cd30>, 139788544433888), {}).\n"
          ]
        },
        {
          "name": "stdout",
          "output_type": "stream",
          "text": [
            "INFO:tensorflow:Unsupported signature for serialization: ((TensorSpec(shape=(512, 512), dtype=tf.float32, name='gradient'), <tensorflow.python.framework.func_graph.UnknownArgument object at 0x7f230cfb1100>, 139788544596688), {}).\n"
          ]
        },
        {
          "name": "stderr",
          "output_type": "stream",
          "text": [
            "INFO:tensorflow:Unsupported signature for serialization: ((TensorSpec(shape=(512, 512), dtype=tf.float32, name='gradient'), <tensorflow.python.framework.func_graph.UnknownArgument object at 0x7f230cfb1100>, 139788544596688), {}).\n"
          ]
        },
        {
          "name": "stdout",
          "output_type": "stream",
          "text": [
            "INFO:tensorflow:Unsupported signature for serialization: ((TensorSpec(shape=(512,), dtype=tf.float32, name='gradient'), <tensorflow.python.framework.func_graph.UnknownArgument object at 0x7f25001c17f0>, 139788544593968), {}).\n"
          ]
        },
        {
          "name": "stderr",
          "output_type": "stream",
          "text": [
            "INFO:tensorflow:Unsupported signature for serialization: ((TensorSpec(shape=(512,), dtype=tf.float32, name='gradient'), <tensorflow.python.framework.func_graph.UnknownArgument object at 0x7f25001c17f0>, 139788544593968), {}).\n"
          ]
        },
        {
          "name": "stdout",
          "output_type": "stream",
          "text": [
            "INFO:tensorflow:Unsupported signature for serialization: ((TensorSpec(shape=(512, 512), dtype=tf.float32, name='gradient'), <tensorflow.python.framework.func_graph.UnknownArgument object at 0x7f230d773e50>, 139788544680624), {}).\n"
          ]
        },
        {
          "name": "stderr",
          "output_type": "stream",
          "text": [
            "INFO:tensorflow:Unsupported signature for serialization: ((TensorSpec(shape=(512, 512), dtype=tf.float32, name='gradient'), <tensorflow.python.framework.func_graph.UnknownArgument object at 0x7f230d773e50>, 139788544680624), {}).\n"
          ]
        },
        {
          "name": "stdout",
          "output_type": "stream",
          "text": [
            "INFO:tensorflow:Unsupported signature for serialization: ((TensorSpec(shape=(512,), dtype=tf.float32, name='gradient'), <tensorflow.python.framework.func_graph.UnknownArgument object at 0x7f22e0648520>, 139788544680864), {}).\n"
          ]
        },
        {
          "name": "stderr",
          "output_type": "stream",
          "text": [
            "INFO:tensorflow:Unsupported signature for serialization: ((TensorSpec(shape=(512,), dtype=tf.float32, name='gradient'), <tensorflow.python.framework.func_graph.UnknownArgument object at 0x7f22e0648520>, 139788544680864), {}).\n"
          ]
        },
        {
          "name": "stdout",
          "output_type": "stream",
          "text": [
            "INFO:tensorflow:Unsupported signature for serialization: ((TensorSpec(shape=(512, 512), dtype=tf.float32, name='gradient'), <tensorflow.python.framework.func_graph.UnknownArgument object at 0x7f22e06bdb80>, 139788544328768), {}).\n"
          ]
        },
        {
          "name": "stderr",
          "output_type": "stream",
          "text": [
            "INFO:tensorflow:Unsupported signature for serialization: ((TensorSpec(shape=(512, 512), dtype=tf.float32, name='gradient'), <tensorflow.python.framework.func_graph.UnknownArgument object at 0x7f22e06bdb80>, 139788544328768), {}).\n"
          ]
        },
        {
          "name": "stdout",
          "output_type": "stream",
          "text": [
            "INFO:tensorflow:Unsupported signature for serialization: ((TensorSpec(shape=(512,), dtype=tf.float32, name='gradient'), <tensorflow.python.framework.func_graph.UnknownArgument object at 0x7f230dbfd3d0>, 139788544328688), {}).\n"
          ]
        },
        {
          "name": "stderr",
          "output_type": "stream",
          "text": [
            "INFO:tensorflow:Unsupported signature for serialization: ((TensorSpec(shape=(512,), dtype=tf.float32, name='gradient'), <tensorflow.python.framework.func_graph.UnknownArgument object at 0x7f230dbfd3d0>, 139788544328688), {}).\n"
          ]
        },
        {
          "name": "stdout",
          "output_type": "stream",
          "text": [
            "INFO:tensorflow:Unsupported signature for serialization: ((TensorSpec(shape=(512, 512), dtype=tf.float32, name='gradient'), <tensorflow.python.framework.func_graph.UnknownArgument object at 0x7f230dc7c3d0>, 139788544681264), {}).\n"
          ]
        },
        {
          "name": "stderr",
          "output_type": "stream",
          "text": [
            "INFO:tensorflow:Unsupported signature for serialization: ((TensorSpec(shape=(512, 512), dtype=tf.float32, name='gradient'), <tensorflow.python.framework.func_graph.UnknownArgument object at 0x7f230dc7c3d0>, 139788544681264), {}).\n"
          ]
        },
        {
          "name": "stdout",
          "output_type": "stream",
          "text": [
            "INFO:tensorflow:Unsupported signature for serialization: ((TensorSpec(shape=(512,), dtype=tf.float32, name='gradient'), <tensorflow.python.framework.func_graph.UnknownArgument object at 0x7f230dcee4c0>, 139788544681184), {}).\n"
          ]
        },
        {
          "name": "stderr",
          "output_type": "stream",
          "text": [
            "INFO:tensorflow:Unsupported signature for serialization: ((TensorSpec(shape=(512,), dtype=tf.float32, name='gradient'), <tensorflow.python.framework.func_graph.UnknownArgument object at 0x7f230dcee4c0>, 139788544681184), {}).\n"
          ]
        },
        {
          "name": "stdout",
          "output_type": "stream",
          "text": [
            "INFO:tensorflow:Unsupported signature for serialization: ((TensorSpec(shape=(512, 4), dtype=tf.float32, name='gradient'), <tensorflow.python.framework.func_graph.UnknownArgument object at 0x7f230dce81c0>, 139788544330688), {}).\n"
          ]
        },
        {
          "name": "stderr",
          "output_type": "stream",
          "text": [
            "INFO:tensorflow:Unsupported signature for serialization: ((TensorSpec(shape=(512, 4), dtype=tf.float32, name='gradient'), <tensorflow.python.framework.func_graph.UnknownArgument object at 0x7f230dce81c0>, 139788544330688), {}).\n"
          ]
        },
        {
          "name": "stdout",
          "output_type": "stream",
          "text": [
            "INFO:tensorflow:Unsupported signature for serialization: ((TensorSpec(shape=(4,), dtype=tf.float32, name='gradient'), <tensorflow.python.framework.func_graph.UnknownArgument object at 0x7f230dce4700>, 139788544330368), {}).\n"
          ]
        },
        {
          "name": "stderr",
          "output_type": "stream",
          "text": [
            "INFO:tensorflow:Unsupported signature for serialization: ((TensorSpec(shape=(4,), dtype=tf.float32, name='gradient'), <tensorflow.python.framework.func_graph.UnknownArgument object at 0x7f230dce4700>, 139788544330368), {}).\n"
          ]
        },
        {
          "name": "stdout",
          "output_type": "stream",
          "text": [
            "INFO:tensorflow:Assets written to: models/DNN/attempt_09/modelData/assets\n"
          ]
        },
        {
          "name": "stderr",
          "output_type": "stream",
          "text": [
            "INFO:tensorflow:Assets written to: models/DNN/attempt_09/modelData/assets\n"
          ]
        },
        {
          "name": "stdout",
          "output_type": "stream",
          "text": [
            "INFO:tensorflow:Unsupported signature for serialization: ((TensorSpec(shape=(23, 4196), dtype=tf.float32, name='gradient'), <tensorflow.python.framework.func_graph.UnknownArgument object at 0x7f225d776070>, 139788544170064), {}).\n"
          ]
        },
        {
          "name": "stderr",
          "output_type": "stream",
          "text": [
            "INFO:tensorflow:Unsupported signature for serialization: ((TensorSpec(shape=(23, 4196), dtype=tf.float32, name='gradient'), <tensorflow.python.framework.func_graph.UnknownArgument object at 0x7f225d776070>, 139788544170064), {}).\n"
          ]
        },
        {
          "name": "stdout",
          "output_type": "stream",
          "text": [
            "INFO:tensorflow:Unsupported signature for serialization: ((TensorSpec(shape=(4196,), dtype=tf.float32, name='gradient'), <tensorflow.python.framework.func_graph.UnknownArgument object at 0x7f227806e3d0>, 139788544168864), {}).\n"
          ]
        },
        {
          "name": "stderr",
          "output_type": "stream",
          "text": [
            "INFO:tensorflow:Unsupported signature for serialization: ((TensorSpec(shape=(4196,), dtype=tf.float32, name='gradient'), <tensorflow.python.framework.func_graph.UnknownArgument object at 0x7f227806e3d0>, 139788544168864), {}).\n"
          ]
        },
        {
          "name": "stdout",
          "output_type": "stream",
          "text": [
            "INFO:tensorflow:Unsupported signature for serialization: ((TensorSpec(shape=(4196, 512), dtype=tf.float32, name='gradient'), <tensorflow.python.framework.func_graph.UnknownArgument object at 0x7f230e85aaf0>, 139788544596528), {}).\n"
          ]
        },
        {
          "name": "stderr",
          "output_type": "stream",
          "text": [
            "INFO:tensorflow:Unsupported signature for serialization: ((TensorSpec(shape=(4196, 512), dtype=tf.float32, name='gradient'), <tensorflow.python.framework.func_graph.UnknownArgument object at 0x7f230e85aaf0>, 139788544596528), {}).\n"
          ]
        },
        {
          "name": "stdout",
          "output_type": "stream",
          "text": [
            "INFO:tensorflow:Unsupported signature for serialization: ((TensorSpec(shape=(512,), dtype=tf.float32, name='gradient'), <tensorflow.python.framework.func_graph.UnknownArgument object at 0x7f230e8638b0>, 139788544595488), {}).\n"
          ]
        },
        {
          "name": "stderr",
          "output_type": "stream",
          "text": [
            "INFO:tensorflow:Unsupported signature for serialization: ((TensorSpec(shape=(512,), dtype=tf.float32, name='gradient'), <tensorflow.python.framework.func_graph.UnknownArgument object at 0x7f230e8638b0>, 139788544595488), {}).\n"
          ]
        },
        {
          "name": "stdout",
          "output_type": "stream",
          "text": [
            "INFO:tensorflow:Unsupported signature for serialization: ((TensorSpec(shape=(512, 512), dtype=tf.float32, name='gradient'), <tensorflow.python.framework.func_graph.UnknownArgument object at 0x7f230e868430>, 139788544433568), {}).\n"
          ]
        },
        {
          "name": "stderr",
          "output_type": "stream",
          "text": [
            "INFO:tensorflow:Unsupported signature for serialization: ((TensorSpec(shape=(512, 512), dtype=tf.float32, name='gradient'), <tensorflow.python.framework.func_graph.UnknownArgument object at 0x7f230e868430>, 139788544433568), {}).\n"
          ]
        },
        {
          "name": "stdout",
          "output_type": "stream",
          "text": [
            "INFO:tensorflow:Unsupported signature for serialization: ((TensorSpec(shape=(512,), dtype=tf.float32, name='gradient'), <tensorflow.python.framework.func_graph.UnknownArgument object at 0x7f230df19760>, 139788544433888), {}).\n"
          ]
        },
        {
          "name": "stderr",
          "output_type": "stream",
          "text": [
            "INFO:tensorflow:Unsupported signature for serialization: ((TensorSpec(shape=(512,), dtype=tf.float32, name='gradient'), <tensorflow.python.framework.func_graph.UnknownArgument object at 0x7f230df19760>, 139788544433888), {}).\n"
          ]
        },
        {
          "name": "stdout",
          "output_type": "stream",
          "text": [
            "INFO:tensorflow:Unsupported signature for serialization: ((TensorSpec(shape=(512, 512), dtype=tf.float32, name='gradient'), <tensorflow.python.framework.func_graph.UnknownArgument object at 0x7f230ef09a00>, 139788544596688), {}).\n"
          ]
        },
        {
          "name": "stderr",
          "output_type": "stream",
          "text": [
            "INFO:tensorflow:Unsupported signature for serialization: ((TensorSpec(shape=(512, 512), dtype=tf.float32, name='gradient'), <tensorflow.python.framework.func_graph.UnknownArgument object at 0x7f230ef09a00>, 139788544596688), {}).\n"
          ]
        },
        {
          "name": "stdout",
          "output_type": "stream",
          "text": [
            "INFO:tensorflow:Unsupported signature for serialization: ((TensorSpec(shape=(512,), dtype=tf.float32, name='gradient'), <tensorflow.python.framework.func_graph.UnknownArgument object at 0x7f230df30370>, 139788544593968), {}).\n"
          ]
        },
        {
          "name": "stderr",
          "output_type": "stream",
          "text": [
            "INFO:tensorflow:Unsupported signature for serialization: ((TensorSpec(shape=(512,), dtype=tf.float32, name='gradient'), <tensorflow.python.framework.func_graph.UnknownArgument object at 0x7f230df30370>, 139788544593968), {}).\n"
          ]
        },
        {
          "name": "stdout",
          "output_type": "stream",
          "text": [
            "INFO:tensorflow:Unsupported signature for serialization: ((TensorSpec(shape=(512, 512), dtype=tf.float32, name='gradient'), <tensorflow.python.framework.func_graph.UnknownArgument object at 0x7f230df22a90>, 139788544680624), {}).\n"
          ]
        },
        {
          "name": "stderr",
          "output_type": "stream",
          "text": [
            "INFO:tensorflow:Unsupported signature for serialization: ((TensorSpec(shape=(512, 512), dtype=tf.float32, name='gradient'), <tensorflow.python.framework.func_graph.UnknownArgument object at 0x7f230df22a90>, 139788544680624), {}).\n"
          ]
        },
        {
          "name": "stdout",
          "output_type": "stream",
          "text": [
            "INFO:tensorflow:Unsupported signature for serialization: ((TensorSpec(shape=(512,), dtype=tf.float32, name='gradient'), <tensorflow.python.framework.func_graph.UnknownArgument object at 0x7f230de34130>, 139788544680864), {}).\n"
          ]
        },
        {
          "name": "stderr",
          "output_type": "stream",
          "text": [
            "INFO:tensorflow:Unsupported signature for serialization: ((TensorSpec(shape=(512,), dtype=tf.float32, name='gradient'), <tensorflow.python.framework.func_graph.UnknownArgument object at 0x7f230de34130>, 139788544680864), {}).\n"
          ]
        },
        {
          "name": "stdout",
          "output_type": "stream",
          "text": [
            "INFO:tensorflow:Unsupported signature for serialization: ((TensorSpec(shape=(512, 512), dtype=tf.float32, name='gradient'), <tensorflow.python.framework.func_graph.UnknownArgument object at 0x7f230de17760>, 139788544328768), {}).\n"
          ]
        },
        {
          "name": "stderr",
          "output_type": "stream",
          "text": [
            "INFO:tensorflow:Unsupported signature for serialization: ((TensorSpec(shape=(512, 512), dtype=tf.float32, name='gradient'), <tensorflow.python.framework.func_graph.UnknownArgument object at 0x7f230de17760>, 139788544328768), {}).\n"
          ]
        },
        {
          "name": "stdout",
          "output_type": "stream",
          "text": [
            "INFO:tensorflow:Unsupported signature for serialization: ((TensorSpec(shape=(512,), dtype=tf.float32, name='gradient'), <tensorflow.python.framework.func_graph.UnknownArgument object at 0x7f230ddfc640>, 139788544328688), {}).\n"
          ]
        },
        {
          "name": "stderr",
          "output_type": "stream",
          "text": [
            "INFO:tensorflow:Unsupported signature for serialization: ((TensorSpec(shape=(512,), dtype=tf.float32, name='gradient'), <tensorflow.python.framework.func_graph.UnknownArgument object at 0x7f230ddfc640>, 139788544328688), {}).\n"
          ]
        },
        {
          "name": "stdout",
          "output_type": "stream",
          "text": [
            "INFO:tensorflow:Unsupported signature for serialization: ((TensorSpec(shape=(512, 512), dtype=tf.float32, name='gradient'), <tensorflow.python.framework.func_graph.UnknownArgument object at 0x7f218495f400>, 139788544681264), {}).\n"
          ]
        },
        {
          "name": "stderr",
          "output_type": "stream",
          "text": [
            "INFO:tensorflow:Unsupported signature for serialization: ((TensorSpec(shape=(512, 512), dtype=tf.float32, name='gradient'), <tensorflow.python.framework.func_graph.UnknownArgument object at 0x7f218495f400>, 139788544681264), {}).\n"
          ]
        },
        {
          "name": "stdout",
          "output_type": "stream",
          "text": [
            "INFO:tensorflow:Unsupported signature for serialization: ((TensorSpec(shape=(512,), dtype=tf.float32, name='gradient'), <tensorflow.python.framework.func_graph.UnknownArgument object at 0x7f2184971370>, 139788544681184), {}).\n"
          ]
        },
        {
          "name": "stderr",
          "output_type": "stream",
          "text": [
            "INFO:tensorflow:Unsupported signature for serialization: ((TensorSpec(shape=(512,), dtype=tf.float32, name='gradient'), <tensorflow.python.framework.func_graph.UnknownArgument object at 0x7f2184971370>, 139788544681184), {}).\n"
          ]
        },
        {
          "name": "stdout",
          "output_type": "stream",
          "text": [
            "INFO:tensorflow:Unsupported signature for serialization: ((TensorSpec(shape=(512, 4), dtype=tf.float32, name='gradient'), <tensorflow.python.framework.func_graph.UnknownArgument object at 0x7f2184905280>, 139788544330688), {}).\n"
          ]
        },
        {
          "name": "stderr",
          "output_type": "stream",
          "text": [
            "INFO:tensorflow:Unsupported signature for serialization: ((TensorSpec(shape=(512, 4), dtype=tf.float32, name='gradient'), <tensorflow.python.framework.func_graph.UnknownArgument object at 0x7f2184905280>, 139788544330688), {}).\n"
          ]
        },
        {
          "name": "stdout",
          "output_type": "stream",
          "text": [
            "INFO:tensorflow:Unsupported signature for serialization: ((TensorSpec(shape=(4,), dtype=tf.float32, name='gradient'), <tensorflow.python.framework.func_graph.UnknownArgument object at 0x7f218491e1f0>, 139788544330368), {}).\n"
          ]
        },
        {
          "name": "stderr",
          "output_type": "stream",
          "text": [
            "INFO:tensorflow:Unsupported signature for serialization: ((TensorSpec(shape=(4,), dtype=tf.float32, name='gradient'), <tensorflow.python.framework.func_graph.UnknownArgument object at 0x7f218491e1f0>, 139788544330368), {}).\n"
          ]
        },
        {
          "name": "stdout",
          "output_type": "stream",
          "text": [
            "INFO:tensorflow:Unsupported signature for serialization: ((TensorSpec(shape=(23, 4196), dtype=tf.float32, name='gradient'), <tensorflow.python.framework.func_graph.UnknownArgument object at 0x7f225d776070>, 139788544170064), {}).\n"
          ]
        },
        {
          "name": "stderr",
          "output_type": "stream",
          "text": [
            "INFO:tensorflow:Unsupported signature for serialization: ((TensorSpec(shape=(23, 4196), dtype=tf.float32, name='gradient'), <tensorflow.python.framework.func_graph.UnknownArgument object at 0x7f225d776070>, 139788544170064), {}).\n"
          ]
        },
        {
          "name": "stdout",
          "output_type": "stream",
          "text": [
            "INFO:tensorflow:Unsupported signature for serialization: ((TensorSpec(shape=(4196,), dtype=tf.float32, name='gradient'), <tensorflow.python.framework.func_graph.UnknownArgument object at 0x7f227806e3d0>, 139788544168864), {}).\n"
          ]
        },
        {
          "name": "stderr",
          "output_type": "stream",
          "text": [
            "INFO:tensorflow:Unsupported signature for serialization: ((TensorSpec(shape=(4196,), dtype=tf.float32, name='gradient'), <tensorflow.python.framework.func_graph.UnknownArgument object at 0x7f227806e3d0>, 139788544168864), {}).\n"
          ]
        },
        {
          "name": "stdout",
          "output_type": "stream",
          "text": [
            "INFO:tensorflow:Unsupported signature for serialization: ((TensorSpec(shape=(4196, 512), dtype=tf.float32, name='gradient'), <tensorflow.python.framework.func_graph.UnknownArgument object at 0x7f230e85aaf0>, 139788544596528), {}).\n"
          ]
        },
        {
          "name": "stderr",
          "output_type": "stream",
          "text": [
            "INFO:tensorflow:Unsupported signature for serialization: ((TensorSpec(shape=(4196, 512), dtype=tf.float32, name='gradient'), <tensorflow.python.framework.func_graph.UnknownArgument object at 0x7f230e85aaf0>, 139788544596528), {}).\n"
          ]
        },
        {
          "name": "stdout",
          "output_type": "stream",
          "text": [
            "INFO:tensorflow:Unsupported signature for serialization: ((TensorSpec(shape=(512,), dtype=tf.float32, name='gradient'), <tensorflow.python.framework.func_graph.UnknownArgument object at 0x7f230e8638b0>, 139788544595488), {}).\n"
          ]
        },
        {
          "name": "stderr",
          "output_type": "stream",
          "text": [
            "INFO:tensorflow:Unsupported signature for serialization: ((TensorSpec(shape=(512,), dtype=tf.float32, name='gradient'), <tensorflow.python.framework.func_graph.UnknownArgument object at 0x7f230e8638b0>, 139788544595488), {}).\n"
          ]
        },
        {
          "name": "stdout",
          "output_type": "stream",
          "text": [
            "INFO:tensorflow:Unsupported signature for serialization: ((TensorSpec(shape=(512, 512), dtype=tf.float32, name='gradient'), <tensorflow.python.framework.func_graph.UnknownArgument object at 0x7f230e868430>, 139788544433568), {}).\n"
          ]
        },
        {
          "name": "stderr",
          "output_type": "stream",
          "text": [
            "INFO:tensorflow:Unsupported signature for serialization: ((TensorSpec(shape=(512, 512), dtype=tf.float32, name='gradient'), <tensorflow.python.framework.func_graph.UnknownArgument object at 0x7f230e868430>, 139788544433568), {}).\n"
          ]
        },
        {
          "name": "stdout",
          "output_type": "stream",
          "text": [
            "INFO:tensorflow:Unsupported signature for serialization: ((TensorSpec(shape=(512,), dtype=tf.float32, name='gradient'), <tensorflow.python.framework.func_graph.UnknownArgument object at 0x7f230df19760>, 139788544433888), {}).\n"
          ]
        },
        {
          "name": "stderr",
          "output_type": "stream",
          "text": [
            "INFO:tensorflow:Unsupported signature for serialization: ((TensorSpec(shape=(512,), dtype=tf.float32, name='gradient'), <tensorflow.python.framework.func_graph.UnknownArgument object at 0x7f230df19760>, 139788544433888), {}).\n"
          ]
        },
        {
          "name": "stdout",
          "output_type": "stream",
          "text": [
            "INFO:tensorflow:Unsupported signature for serialization: ((TensorSpec(shape=(512, 512), dtype=tf.float32, name='gradient'), <tensorflow.python.framework.func_graph.UnknownArgument object at 0x7f230ef09a00>, 139788544596688), {}).\n"
          ]
        },
        {
          "name": "stderr",
          "output_type": "stream",
          "text": [
            "INFO:tensorflow:Unsupported signature for serialization: ((TensorSpec(shape=(512, 512), dtype=tf.float32, name='gradient'), <tensorflow.python.framework.func_graph.UnknownArgument object at 0x7f230ef09a00>, 139788544596688), {}).\n"
          ]
        },
        {
          "name": "stdout",
          "output_type": "stream",
          "text": [
            "INFO:tensorflow:Unsupported signature for serialization: ((TensorSpec(shape=(512,), dtype=tf.float32, name='gradient'), <tensorflow.python.framework.func_graph.UnknownArgument object at 0x7f230df30370>, 139788544593968), {}).\n"
          ]
        },
        {
          "name": "stderr",
          "output_type": "stream",
          "text": [
            "INFO:tensorflow:Unsupported signature for serialization: ((TensorSpec(shape=(512,), dtype=tf.float32, name='gradient'), <tensorflow.python.framework.func_graph.UnknownArgument object at 0x7f230df30370>, 139788544593968), {}).\n"
          ]
        },
        {
          "name": "stdout",
          "output_type": "stream",
          "text": [
            "INFO:tensorflow:Unsupported signature for serialization: ((TensorSpec(shape=(512, 512), dtype=tf.float32, name='gradient'), <tensorflow.python.framework.func_graph.UnknownArgument object at 0x7f230df22a90>, 139788544680624), {}).\n"
          ]
        },
        {
          "name": "stderr",
          "output_type": "stream",
          "text": [
            "INFO:tensorflow:Unsupported signature for serialization: ((TensorSpec(shape=(512, 512), dtype=tf.float32, name='gradient'), <tensorflow.python.framework.func_graph.UnknownArgument object at 0x7f230df22a90>, 139788544680624), {}).\n"
          ]
        },
        {
          "name": "stdout",
          "output_type": "stream",
          "text": [
            "INFO:tensorflow:Unsupported signature for serialization: ((TensorSpec(shape=(512,), dtype=tf.float32, name='gradient'), <tensorflow.python.framework.func_graph.UnknownArgument object at 0x7f230de34130>, 139788544680864), {}).\n"
          ]
        },
        {
          "name": "stderr",
          "output_type": "stream",
          "text": [
            "INFO:tensorflow:Unsupported signature for serialization: ((TensorSpec(shape=(512,), dtype=tf.float32, name='gradient'), <tensorflow.python.framework.func_graph.UnknownArgument object at 0x7f230de34130>, 139788544680864), {}).\n"
          ]
        },
        {
          "name": "stdout",
          "output_type": "stream",
          "text": [
            "INFO:tensorflow:Unsupported signature for serialization: ((TensorSpec(shape=(512, 512), dtype=tf.float32, name='gradient'), <tensorflow.python.framework.func_graph.UnknownArgument object at 0x7f230de17760>, 139788544328768), {}).\n"
          ]
        },
        {
          "name": "stderr",
          "output_type": "stream",
          "text": [
            "INFO:tensorflow:Unsupported signature for serialization: ((TensorSpec(shape=(512, 512), dtype=tf.float32, name='gradient'), <tensorflow.python.framework.func_graph.UnknownArgument object at 0x7f230de17760>, 139788544328768), {}).\n"
          ]
        },
        {
          "name": "stdout",
          "output_type": "stream",
          "text": [
            "INFO:tensorflow:Unsupported signature for serialization: ((TensorSpec(shape=(512,), dtype=tf.float32, name='gradient'), <tensorflow.python.framework.func_graph.UnknownArgument object at 0x7f230ddfc640>, 139788544328688), {}).\n"
          ]
        },
        {
          "name": "stderr",
          "output_type": "stream",
          "text": [
            "INFO:tensorflow:Unsupported signature for serialization: ((TensorSpec(shape=(512,), dtype=tf.float32, name='gradient'), <tensorflow.python.framework.func_graph.UnknownArgument object at 0x7f230ddfc640>, 139788544328688), {}).\n"
          ]
        },
        {
          "name": "stdout",
          "output_type": "stream",
          "text": [
            "INFO:tensorflow:Unsupported signature for serialization: ((TensorSpec(shape=(512, 512), dtype=tf.float32, name='gradient'), <tensorflow.python.framework.func_graph.UnknownArgument object at 0x7f218495f400>, 139788544681264), {}).\n"
          ]
        },
        {
          "name": "stderr",
          "output_type": "stream",
          "text": [
            "INFO:tensorflow:Unsupported signature for serialization: ((TensorSpec(shape=(512, 512), dtype=tf.float32, name='gradient'), <tensorflow.python.framework.func_graph.UnknownArgument object at 0x7f218495f400>, 139788544681264), {}).\n"
          ]
        },
        {
          "name": "stdout",
          "output_type": "stream",
          "text": [
            "INFO:tensorflow:Unsupported signature for serialization: ((TensorSpec(shape=(512,), dtype=tf.float32, name='gradient'), <tensorflow.python.framework.func_graph.UnknownArgument object at 0x7f2184971370>, 139788544681184), {}).\n"
          ]
        },
        {
          "name": "stderr",
          "output_type": "stream",
          "text": [
            "INFO:tensorflow:Unsupported signature for serialization: ((TensorSpec(shape=(512,), dtype=tf.float32, name='gradient'), <tensorflow.python.framework.func_graph.UnknownArgument object at 0x7f2184971370>, 139788544681184), {}).\n"
          ]
        },
        {
          "name": "stdout",
          "output_type": "stream",
          "text": [
            "INFO:tensorflow:Unsupported signature for serialization: ((TensorSpec(shape=(512, 4), dtype=tf.float32, name='gradient'), <tensorflow.python.framework.func_graph.UnknownArgument object at 0x7f2184905280>, 139788544330688), {}).\n"
          ]
        },
        {
          "name": "stderr",
          "output_type": "stream",
          "text": [
            "INFO:tensorflow:Unsupported signature for serialization: ((TensorSpec(shape=(512, 4), dtype=tf.float32, name='gradient'), <tensorflow.python.framework.func_graph.UnknownArgument object at 0x7f2184905280>, 139788544330688), {}).\n"
          ]
        },
        {
          "name": "stdout",
          "output_type": "stream",
          "text": [
            "INFO:tensorflow:Unsupported signature for serialization: ((TensorSpec(shape=(4,), dtype=tf.float32, name='gradient'), <tensorflow.python.framework.func_graph.UnknownArgument object at 0x7f218491e1f0>, 139788544330368), {}).\n"
          ]
        },
        {
          "name": "stderr",
          "output_type": "stream",
          "text": [
            "INFO:tensorflow:Unsupported signature for serialization: ((TensorSpec(shape=(4,), dtype=tf.float32, name='gradient'), <tensorflow.python.framework.func_graph.UnknownArgument object at 0x7f218491e1f0>, 139788544330368), {}).\n"
          ]
        },
        {
          "name": "stdout",
          "output_type": "stream",
          "text": [
            "INFO:tensorflow:Assets written to: models/DNN/attempt_10/modelData/assets\n"
          ]
        },
        {
          "name": "stderr",
          "output_type": "stream",
          "text": [
            "INFO:tensorflow:Assets written to: models/DNN/attempt_10/modelData/assets\n"
          ]
        },
        {
          "name": "stdout",
          "output_type": "stream",
          "text": [
            "INFO:tensorflow:Assets written to: models/form_LSTM/attempt_01/modelData/assets\n"
          ]
        },
        {
          "name": "stderr",
          "output_type": "stream",
          "text": [
            "INFO:tensorflow:Assets written to: models/form_LSTM/attempt_01/modelData/assets\n"
          ]
        },
        {
          "name": "stdout",
          "output_type": "stream",
          "text": [
            "INFO:tensorflow:Assets written to: models/form_LSTM/attempt_02/modelData/assets\n"
          ]
        },
        {
          "name": "stderr",
          "output_type": "stream",
          "text": [
            "INFO:tensorflow:Assets written to: models/form_LSTM/attempt_02/modelData/assets\n"
          ]
        },
        {
          "name": "stdout",
          "output_type": "stream",
          "text": [
            "INFO:tensorflow:Assets written to: models/form_LSTM/attempt_03/modelData/assets\n"
          ]
        },
        {
          "name": "stderr",
          "output_type": "stream",
          "text": [
            "INFO:tensorflow:Assets written to: models/form_LSTM/attempt_03/modelData/assets\n"
          ]
        },
        {
          "name": "stdout",
          "output_type": "stream",
          "text": [
            "INFO:tensorflow:Assets written to: models/form_LSTM/attempt_04/modelData/assets\n"
          ]
        },
        {
          "name": "stderr",
          "output_type": "stream",
          "text": [
            "INFO:tensorflow:Assets written to: models/form_LSTM/attempt_04/modelData/assets\n"
          ]
        },
        {
          "name": "stdout",
          "output_type": "stream",
          "text": [
            "INFO:tensorflow:Assets written to: models/form_LSTM/attempt_05/modelData/assets\n"
          ]
        },
        {
          "name": "stderr",
          "output_type": "stream",
          "text": [
            "INFO:tensorflow:Assets written to: models/form_LSTM/attempt_05/modelData/assets\n"
          ]
        },
        {
          "name": "stdout",
          "output_type": "stream",
          "text": [
            "INFO:tensorflow:Assets written to: models/form_LSTM/attempt_06/modelData/assets\n"
          ]
        },
        {
          "name": "stderr",
          "output_type": "stream",
          "text": [
            "INFO:tensorflow:Assets written to: models/form_LSTM/attempt_06/modelData/assets\n"
          ]
        },
        {
          "name": "stdout",
          "output_type": "stream",
          "text": [
            "INFO:tensorflow:Assets written to: models/form_LSTM/attempt_07/modelData/assets\n"
          ]
        },
        {
          "name": "stderr",
          "output_type": "stream",
          "text": [
            "INFO:tensorflow:Assets written to: models/form_LSTM/attempt_07/modelData/assets\n"
          ]
        },
        {
          "name": "stdout",
          "output_type": "stream",
          "text": [
            "INFO:tensorflow:Assets written to: models/form_LSTM/attempt_08/modelData/assets\n"
          ]
        },
        {
          "name": "stderr",
          "output_type": "stream",
          "text": [
            "INFO:tensorflow:Assets written to: models/form_LSTM/attempt_08/modelData/assets\n"
          ]
        },
        {
          "name": "stdout",
          "output_type": "stream",
          "text": [
            "INFO:tensorflow:Assets written to: models/form_LSTM/attempt_09/modelData/assets\n"
          ]
        },
        {
          "name": "stderr",
          "output_type": "stream",
          "text": [
            "INFO:tensorflow:Assets written to: models/form_LSTM/attempt_09/modelData/assets\n"
          ]
        },
        {
          "name": "stdout",
          "output_type": "stream",
          "text": [
            "INFO:tensorflow:Assets written to: models/form_LSTM/attempt_10/modelData/assets\n"
          ]
        },
        {
          "name": "stderr",
          "output_type": "stream",
          "text": [
            "INFO:tensorflow:Assets written to: models/form_LSTM/attempt_10/modelData/assets\n"
          ]
        },
        {
          "name": "stdout",
          "output_type": "stream",
          "text": [
            "INFO:tensorflow:Assets written to: models/H_LSTM/attempt_01/modelData/assets\n"
          ]
        },
        {
          "name": "stderr",
          "output_type": "stream",
          "text": [
            "INFO:tensorflow:Assets written to: models/H_LSTM/attempt_01/modelData/assets\n"
          ]
        },
        {
          "name": "stdout",
          "output_type": "stream",
          "text": [
            "INFO:tensorflow:Assets written to: models/H_LSTM/attempt_02/modelData/assets\n"
          ]
        },
        {
          "name": "stderr",
          "output_type": "stream",
          "text": [
            "INFO:tensorflow:Assets written to: models/H_LSTM/attempt_02/modelData/assets\n"
          ]
        },
        {
          "name": "stdout",
          "output_type": "stream",
          "text": [
            "INFO:tensorflow:Assets written to: models/H_LSTM/attempt_03/modelData/assets\n"
          ]
        },
        {
          "name": "stderr",
          "output_type": "stream",
          "text": [
            "INFO:tensorflow:Assets written to: models/H_LSTM/attempt_03/modelData/assets\n"
          ]
        },
        {
          "name": "stdout",
          "output_type": "stream",
          "text": [
            "INFO:tensorflow:Assets written to: models/H_LSTM/attempt_04/modelData/assets\n"
          ]
        },
        {
          "name": "stderr",
          "output_type": "stream",
          "text": [
            "INFO:tensorflow:Assets written to: models/H_LSTM/attempt_04/modelData/assets\n"
          ]
        },
        {
          "name": "stdout",
          "output_type": "stream",
          "text": [
            "INFO:tensorflow:Assets written to: models/H_LSTM/attempt_05/modelData/assets\n"
          ]
        },
        {
          "name": "stderr",
          "output_type": "stream",
          "text": [
            "INFO:tensorflow:Assets written to: models/H_LSTM/attempt_05/modelData/assets\n"
          ]
        },
        {
          "name": "stdout",
          "output_type": "stream",
          "text": [
            "INFO:tensorflow:Assets written to: models/H_LSTM/attempt_06/modelData/assets\n"
          ]
        },
        {
          "name": "stderr",
          "output_type": "stream",
          "text": [
            "INFO:tensorflow:Assets written to: models/H_LSTM/attempt_06/modelData/assets\n"
          ]
        },
        {
          "name": "stdout",
          "output_type": "stream",
          "text": [
            "INFO:tensorflow:Assets written to: models/H_LSTM/attempt_07/modelData/assets\n"
          ]
        },
        {
          "name": "stderr",
          "output_type": "stream",
          "text": [
            "INFO:tensorflow:Assets written to: models/H_LSTM/attempt_07/modelData/assets\n"
          ]
        },
        {
          "name": "stdout",
          "output_type": "stream",
          "text": [
            "INFO:tensorflow:Assets written to: models/H_LSTM/attempt_08/modelData/assets\n"
          ]
        },
        {
          "name": "stderr",
          "output_type": "stream",
          "text": [
            "INFO:tensorflow:Assets written to: models/H_LSTM/attempt_08/modelData/assets\n"
          ]
        },
        {
          "name": "stdout",
          "output_type": "stream",
          "text": [
            "INFO:tensorflow:Assets written to: models/H_LSTM/attempt_09/modelData/assets\n"
          ]
        },
        {
          "name": "stderr",
          "output_type": "stream",
          "text": [
            "INFO:tensorflow:Assets written to: models/H_LSTM/attempt_09/modelData/assets\n"
          ]
        },
        {
          "name": "stdout",
          "output_type": "stream",
          "text": [
            "INFO:tensorflow:Assets written to: models/H_LSTM/attempt_10/modelData/assets\n"
          ]
        },
        {
          "name": "stderr",
          "output_type": "stream",
          "text": [
            "INFO:tensorflow:Assets written to: models/H_LSTM/attempt_10/modelData/assets\n"
          ]
        }
      ],
      "source": [
        "for name, models in [[\"DNN\",DNN_models], [\"form_LSTM\",RNN_models], [\"H_LSTM\",payload_models]]:\n",
        "    os.makedirs(os.path.join(\"models\", name), exist_ok=True)\n",
        "    for idx, model in enumerate(models):\n",
        "        idx += 1\n",
        "        os.makedirs(os.path.join(\"models\", name, f\"attempt_{str(idx).zfill(2)}\"), exist_ok=True)\n",
        "        model.save(os.path.join(\"models\", name, f\"attempt_{str(idx).zfill(2)}\", \"modelData\"))\n",
        "        # RNN_model.save(\"http_data_RNN.model\")\n",
        "        # zipFile(\"http_data_RNN.model\")"
      ]
    }
  ],
  "metadata": {
    "accelerator": "GPU",
    "colab": {
      "gpuType": "A100",
      "machine_shape": "hm",
      "provenance": []
    },
    "kernelspec": {
      "display_name": "Python 3 (ipykernel)",
      "language": "python",
      "name": "python3"
    },
    "language_info": {
      "codemirror_mode": {
        "name": "ipython",
        "version": 3
      },
      "file_extension": ".py",
      "mimetype": "text/x-python",
      "name": "python",
      "nbconvert_exporter": "python",
      "pygments_lexer": "ipython3",
      "version": "3.8.10"
    },
    "orig_nbformat": 4
  },
  "nbformat": 4,
  "nbformat_minor": 0
}
