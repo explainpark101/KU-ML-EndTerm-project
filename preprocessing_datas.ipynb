{
 "cells": [
  {
   "cell_type": "code",
   "execution_count": 12,
   "metadata": {},
   "outputs": [],
   "source": [
    "import pandas as pd\n",
    "import numpy as np"
   ]
  },
  {
   "cell_type": "code",
   "execution_count": 13,
   "metadata": {},
   "outputs": [
    {
     "name": "stderr",
     "output_type": "stream",
     "text": [
      "C:\\Users\\ParkJaehyung\\AppData\\Local\\Temp\\ipykernel_11628\\1384700295.py:2: DtypeWarning: Columns (3,6) have mixed types. Specify dtype option on import or set low_memory=False.\n",
      "  Password_Attack = pd.read_csv(\"Password_attack.csv\")\n"
     ]
    },
    {
     "name": "stdout",
     "output_type": "stream",
     "text": [
      "Password_Attack loaded!\n",
      "SQL_injection loaded!\n",
      "XSS_attack loaded!\n",
      "Uploading_attack loaded!\n"
     ]
    }
   ],
   "source": [
    "# \n",
    "Password_Attack = pd.read_csv(\"Password_attack.csv\")\n",
    "print(\"Password_Attack loaded!\")\n",
    "SQL_injection = pd.read_csv(\"SQL_injection_attack.csv\")\n",
    "print(\"SQL_injection loaded!\")\n",
    "XSS_attack = pd.read_csv(\"XSS_attack.csv\")\n",
    "print(\"XSS_attack loaded!\")\n",
    "Uploading_attack = pd.read_csv(\"Uploading_attack.csv\")\n",
    "print(\"Uploading_attack loaded!\")"
   ]
  },
  {
   "cell_type": "code",
   "execution_count": 25,
   "metadata": {},
   "outputs": [],
   "source": [
    "common_columns = []\n",
    "uncommon_columns = []\n",
    "for col in set([*SQL_injection.columns, *XSS_attack.columns, *Uploading_attack.columns, *Password_Attack.columns]):\n",
    "    if col in SQL_injection.columns and col in XSS_attack.columns and col in Uploading_attack.columns and col in Password_Attack.columns:\n",
    "        common_columns.append(col)\n",
    "    else: \n",
    "        uncommon_columns.append(col)"
   ]
  },
  {
   "cell_type": "code",
   "execution_count": 26,
   "metadata": {},
   "outputs": [
    {
     "data": {
      "text/plain": [
       "[]"
      ]
     },
     "execution_count": 26,
     "metadata": {},
     "output_type": "execute_result"
    }
   ],
   "source": [
    "uncommon_columns"
   ]
  },
  {
   "cell_type": "code",
   "execution_count": 27,
   "metadata": {},
   "outputs": [
    {
     "data": {
      "text/plain": [
       "['tcp.connection.syn',\n",
       " 'dns.qry.name.len',\n",
       " 'http.request.uri.query',\n",
       " 'ip.src_host',\n",
       " 'dns.retransmit_request',\n",
       " 'mqtt.msgtype',\n",
       " 'frame.time',\n",
       " 'tcp.flags.ack',\n",
       " 'mqtt.topic_len',\n",
       " 'icmp.seq_le',\n",
       " 'arp.hw.size',\n",
       " 'mqtt.msg',\n",
       " 'dns.qry.qu',\n",
       " 'icmp.unused',\n",
       " 'http.tls_port',\n",
       " 'dns.retransmit_request_in',\n",
       " 'tcp.srcport',\n",
       " 'mqtt.len',\n",
       " 'tcp.checksum',\n",
       " 'Attack_label',\n",
       " 'mqtt.proto_len',\n",
       " 'http.response',\n",
       " 'Attack_type',\n",
       " 'tcp.flags',\n",
       " 'dns.qry.name',\n",
       " 'dns.retransmission',\n",
       " 'arp.dst.proto_ipv4',\n",
       " 'arp.src.proto_ipv4',\n",
       " 'tcp.connection.rst',\n",
       " 'mbtcp.len',\n",
       " 'mqtt.ver',\n",
       " 'tcp.len',\n",
       " 'ip.dst_host',\n",
       " 'udp.port',\n",
       " 'mqtt.conack.flags',\n",
       " 'http.file_data',\n",
       " 'mqtt.msg_decoded_as',\n",
       " 'mbtcp.unit_id',\n",
       " 'tcp.ack_raw',\n",
       " 'icmp.transmit_timestamp',\n",
       " 'tcp.options',\n",
       " 'mqtt.protoname',\n",
       " 'mqtt.conflags',\n",
       " 'mqtt.topic',\n",
       " 'tcp.payload',\n",
       " 'arp.opcode',\n",
       " 'icmp.checksum',\n",
       " 'dns.qry.type',\n",
       " 'tcp.connection.synack',\n",
       " 'http.request.version',\n",
       " 'mqtt.conflag.cleansess',\n",
       " 'udp.time_delta',\n",
       " 'tcp.ack',\n",
       " 'tcp.dstport',\n",
       " 'http.request.method',\n",
       " 'udp.stream',\n",
       " 'mbtcp.trans_id',\n",
       " 'tcp.seq',\n",
       " 'http.request.full_uri',\n",
       " 'http.content_length',\n",
       " 'http.referer',\n",
       " 'mqtt.hdrflags',\n",
       " 'tcp.connection.fin']"
      ]
     },
     "execution_count": 27,
     "metadata": {},
     "output_type": "execute_result"
    }
   ],
   "source": [
    "common_columns"
   ]
  },
  {
   "cell_type": "code",
   "execution_count": 66,
   "metadata": {},
   "outputs": [
    {
     "data": {
      "text/plain": [
       "True"
      ]
     },
     "execution_count": 66,
     "metadata": {},
     "output_type": "execute_result"
    }
   ],
   "source": [
    "pd.concat([SQL_injection[\"tcp.connection.syn\"], XSS_attack[\"tcp.connection.syn\"]]).unique().shape[0] > 1"
   ]
  },
  {
   "cell_type": "code",
   "execution_count": 67,
   "metadata": {},
   "outputs": [],
   "source": [
    "cols = list(Password_Attack.columns)\n",
    "unused = []\n",
    "for col in common_columns:\n",
    "    series = pd.concat([SQL_injection[col], XSS_attack[col], Uploading_attack[col], Password_Attack[col]])\n",
    "    unique_datas = series.unique()\n",
    "    if unique_datas.shape[0] <= 1:\n",
    "        cols.remove(col)\n",
    "        unused.append(col)"
   ]
  },
  {
   "cell_type": "code",
   "execution_count": 68,
   "metadata": {},
   "outputs": [
    {
     "data": {
      "text/plain": [
       "(['frame.time',\n",
       "  'ip.src_host',\n",
       "  'ip.dst_host',\n",
       "  'arp.dst.proto_ipv4',\n",
       "  'arp.opcode',\n",
       "  'arp.hw.size',\n",
       "  'arp.src.proto_ipv4',\n",
       "  'http.file_data',\n",
       "  'http.content_length',\n",
       "  'http.request.uri.query',\n",
       "  'http.request.method',\n",
       "  'http.referer',\n",
       "  'http.request.full_uri',\n",
       "  'http.request.version',\n",
       "  'http.response',\n",
       "  'tcp.ack',\n",
       "  'tcp.ack_raw',\n",
       "  'tcp.checksum',\n",
       "  'tcp.connection.fin',\n",
       "  'tcp.connection.rst',\n",
       "  'tcp.connection.syn',\n",
       "  'tcp.connection.synack',\n",
       "  'tcp.dstport',\n",
       "  'tcp.flags',\n",
       "  'tcp.flags.ack',\n",
       "  'tcp.len',\n",
       "  'tcp.options',\n",
       "  'tcp.payload',\n",
       "  'tcp.seq',\n",
       "  'tcp.srcport',\n",
       "  'Attack_type'],\n",
       " ['dns.qry.name.len',\n",
       "  'dns.retransmit_request',\n",
       "  'mqtt.msgtype',\n",
       "  'mqtt.topic_len',\n",
       "  'icmp.seq_le',\n",
       "  'mqtt.msg',\n",
       "  'dns.qry.qu',\n",
       "  'icmp.unused',\n",
       "  'http.tls_port',\n",
       "  'dns.retransmit_request_in',\n",
       "  'mqtt.len',\n",
       "  'Attack_label',\n",
       "  'mqtt.proto_len',\n",
       "  'dns.qry.name',\n",
       "  'dns.retransmission',\n",
       "  'mbtcp.len',\n",
       "  'mqtt.ver',\n",
       "  'udp.port',\n",
       "  'mqtt.conack.flags',\n",
       "  'mqtt.msg_decoded_as',\n",
       "  'mbtcp.unit_id',\n",
       "  'icmp.transmit_timestamp',\n",
       "  'mqtt.protoname',\n",
       "  'mqtt.conflags',\n",
       "  'mqtt.topic',\n",
       "  'icmp.checksum',\n",
       "  'dns.qry.type',\n",
       "  'mqtt.conflag.cleansess',\n",
       "  'udp.time_delta',\n",
       "  'udp.stream',\n",
       "  'mbtcp.trans_id',\n",
       "  'mqtt.hdrflags'])"
      ]
     },
     "execution_count": 68,
     "metadata": {},
     "output_type": "execute_result"
    }
   ],
   "source": [
    "cols, unused\n"
   ]
  },
  {
   "cell_type": "code",
   "execution_count": 69,
   "metadata": {},
   "outputs": [],
   "source": [
    "import json\n",
    "with open(\"column_data.txt\", \"w\") as f:\n",
    "    f.write(json.dumps({\"Used_Columns\":cols, \"Unused_Columns\":unused}, indent=4))\n",
    "    # f.write(\"Used Columns\\n\")\n",
    "    # f.write(\",\".join(cols)+\"\\n\")\n",
    "    # f.write(\"Unused Columns\\n\")\n",
    "    # f.write(\",\".join(unused)+\"\\n\")"
   ]
  },
  {
   "cell_type": "code",
   "execution_count": 70,
   "metadata": {},
   "outputs": [],
   "source": [
    "concat_datas = pd.DataFrame({col:pd.concat([SQL_injection[col], XSS_attack[col], Uploading_attack[col], Password_Attack[col]]) for col in cols})"
   ]
  },
  {
   "cell_type": "code",
   "execution_count": 86,
   "metadata": {},
   "outputs": [],
   "source": [
    "processed_data = concat_datas"
   ]
  },
  {
   "cell_type": "code",
   "execution_count": 97,
   "metadata": {},
   "outputs": [],
   "source": [
    "with open(\"unique_values.txt\", \"w\") as f:\n",
    "    for col in cols:\n",
    "        count = processed_data[col].unique().shape[0]\n",
    "        unique_cols = list(processed_data[col].unique() if count < 10 else processed_data[col].unique()\n",
    "        f.write(f\"{col=} | count={count} \\n\\t\\tunique vals =  {unique_cols}\\n\\n\")"
   ]
  },
  {
   "cell_type": "code",
   "execution_count": 85,
   "metadata": {},
   "outputs": [
    {
     "data": {
      "text/plain": [
       "array(['0', 'GET', 'TRACE', 'POST'], dtype=object)"
      ]
     },
     "execution_count": 85,
     "metadata": {},
     "output_type": "execute_result"
    }
   ],
   "source": [
    "## removed the data of No-Method \n",
    "# temp = processed_data.loc[processed_data[\"http.request.method\"] != '0']\n",
    "processed_data[\"http.request.method\"].unique()"
   ]
  },
  {
   "cell_type": "code",
   "execution_count": 88,
   "metadata": {},
   "outputs": [
    {
     "data": {
      "text/plain": [
       "array(['192.168.0.1', '192.168.0.128', '0', '192.168.0.170',\n",
       "       '192.168.0.152', 0], dtype=object)"
      ]
     },
     "execution_count": 88,
     "metadata": {},
     "output_type": "execute_result"
    }
   ],
   "source": [
    "processed_data[\"arp.dst.proto_ipv4\"].unique()"
   ]
  },
  {
   "cell_type": "code",
   "execution_count": 87,
   "metadata": {},
   "outputs": [],
   "source": [
    "processed_data.to_csv(\"Concat_Processed_Data.csv\", sep=\",\")"
   ]
  },
  {
   "cell_type": "code",
   "execution_count": null,
   "metadata": {},
   "outputs": [],
   "source": []
  }
 ],
 "metadata": {
  "kernelspec": {
   "display_name": "Python 3 (ipykernel)",
   "language": "python",
   "name": "python3"
  },
  "language_info": {
   "codemirror_mode": {
    "name": "ipython",
    "version": 3
   },
   "file_extension": ".py",
   "mimetype": "text/x-python",
   "name": "python",
   "nbconvert_exporter": "python",
   "pygments_lexer": "ipython3",
   "version": "3.11.0"
  }
 },
 "nbformat": 4,
 "nbformat_minor": 2
}
